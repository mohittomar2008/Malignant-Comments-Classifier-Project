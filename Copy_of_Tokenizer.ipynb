{
 "cells": [
  {
   "cell_type": "markdown",
   "id": "05b40582",
   "metadata": {
    "colab_type": "text",
    "id": "view-in-github"
   },
   "source": [
    "<a href=\"https://colab.research.google.com/github/mohittomar2008/Malignant-Comments-Classifier-Project/blob/main/Copy_of_Tokenizer.ipynb\" target=\"_parent\"><img src=\"https://colab.research.google.com/assets/colab-badge.svg\" alt=\"Open In Colab\"/></a>"
   ]
  },
  {
   "cell_type": "code",
   "execution_count": 2,
   "id": "39f54c39",
   "metadata": {
    "colab": {
     "base_uri": "https://localhost:8080/"
    },
    "id": "39f54c39",
    "outputId": "3ac77451-73e5-4da1-cdda-3beede59fe8f"
   },
   "outputs": [
    {
     "name": "stdout",
     "output_type": "stream",
     "text": [
      "Looking in indexes: https://pypi.org/simple, https://us-python.pkg.dev/colab-wheels/public/simple/\n",
      "Requirement already satisfied: nltk in /usr/local/lib/python3.7/dist-packages (3.7)\n",
      "Requirement already satisfied: regex>=2021.8.3 in /usr/local/lib/python3.7/dist-packages (from nltk) (2022.6.2)\n",
      "Requirement already satisfied: tqdm in /usr/local/lib/python3.7/dist-packages (from nltk) (4.64.0)\n",
      "Requirement already satisfied: joblib in /usr/local/lib/python3.7/dist-packages (from nltk) (1.1.0)\n",
      "Requirement already satisfied: click in /usr/local/lib/python3.7/dist-packages (from nltk) (7.1.2)\n"
     ]
    }
   ],
   "source": [
    "!pip install nltk"
   ]
  },
  {
   "cell_type": "code",
   "execution_count": 3,
   "id": "bc165e46",
   "metadata": {
    "colab": {
     "base_uri": "https://localhost:8080/"
    },
    "id": "bc165e46",
    "outputId": "ff551a22-413e-49a5-c519-46e60fe71ff3"
   },
   "outputs": [
    {
     "name": "stderr",
     "output_type": "stream",
     "text": [
      "[nltk_data] Downloading package punkt to /root/nltk_data...\n",
      "[nltk_data]   Unzipping tokenizers/punkt.zip.\n"
     ]
    },
    {
     "data": {
      "text/plain": [
       "True"
      ]
     },
     "execution_count": 3,
     "metadata": {},
     "output_type": "execute_result"
    }
   ],
   "source": [
    "import nltk\n",
    "nltk.download('punkt')"
   ]
  },
  {
   "cell_type": "code",
   "execution_count": 4,
   "id": "1c3d2b2f",
   "metadata": {
    "id": "1c3d2b2f"
   },
   "outputs": [],
   "source": [
    "import nltk\n",
    "\n",
    "from nltk.tokenize import word_tokenize,sent_tokenize,TweetTokenizer, RegexpTokenizer\n"
   ]
  },
  {
   "cell_type": "markdown",
   "id": "1164a28d",
   "metadata": {
    "id": "1164a28d"
   },
   "source": [
    "## Word Tokenizer     split sentence into words"
   ]
  },
  {
   "cell_type": "code",
   "execution_count": 5,
   "id": "a5b5da74",
   "metadata": {
    "id": "a5b5da74"
   },
   "outputs": [],
   "source": [
    "words=word_tokenize(\"Tendulkar took up cricket at the age of eleven\")"
   ]
  },
  {
   "cell_type": "code",
   "execution_count": 6,
   "id": "89c824d6",
   "metadata": {
    "colab": {
     "base_uri": "https://localhost:8080/"
    },
    "id": "89c824d6",
    "outputId": "cf264b38-768b-4bc3-aa3b-6559b45047ef"
   },
   "outputs": [
    {
     "data": {
      "text/plain": [
       "['Tendulkar', 'took', 'up', 'cricket', 'at', 'the', 'age', 'of', 'eleven']"
      ]
     },
     "execution_count": 6,
     "metadata": {},
     "output_type": "execute_result"
    }
   ],
   "source": [
    "words"
   ]
  },
  {
   "cell_type": "code",
   "execution_count": 6,
   "id": "2281355c",
   "metadata": {
    "id": "2281355c"
   },
   "outputs": [],
   "source": []
  },
  {
   "cell_type": "markdown",
   "id": "c2daada4",
   "metadata": {
    "id": "c2daada4"
   },
   "source": [
    "## Sentence tokenizer    split corpus into sentence"
   ]
  },
  {
   "cell_type": "code",
   "execution_count": 7,
   "id": "00562f8c",
   "metadata": {
    "id": "00562f8c"
   },
   "outputs": [],
   "source": [
    "sentences=sent_tokenize(\"Tendulkar took up cricket at the age of eleven, made his Test match debut on 15 November 1989 against Pakistan in Karachi at the age of sixteen, and went on to represent Mumbai domestically and India internationally for close to twenty-four years. In 2002, halfway through his career, Wisden ranked him the second-greatest Test batsman of all time, behind Don Bradman, and the second-greatest ODI batsman of all time, behind Viv Richards.\")"
   ]
  },
  {
   "cell_type": "code",
   "execution_count": 8,
   "id": "6933cb3a",
   "metadata": {
    "colab": {
     "base_uri": "https://localhost:8080/"
    },
    "id": "6933cb3a",
    "outputId": "e7b70e6f-5c21-4c20-a6a3-ce0e81178099"
   },
   "outputs": [
    {
     "name": "stdout",
     "output_type": "stream",
     "text": [
      "['Tendulkar took up cricket at the age of eleven, made his Test match debut on 15 November 1989 against Pakistan in Karachi at the age of sixteen, and went on to represent Mumbai domestically and India internationally for close to twenty-four years.', 'In 2002, halfway through his career, Wisden ranked him the second-greatest Test batsman of all time, behind Don Bradman, and the second-greatest ODI batsman of all time, behind Viv Richards.']\n"
     ]
    }
   ],
   "source": [
    "print(sentences)"
   ]
  },
  {
   "cell_type": "code",
   "execution_count": 9,
   "id": "e6f57e9b",
   "metadata": {
    "id": "e6f57e9b"
   },
   "outputs": [],
   "source": [
    "words=[word_tokenize(sentence) for sentence in sentences]"
   ]
  },
  {
   "cell_type": "code",
   "execution_count": 10,
   "id": "14839b37",
   "metadata": {
    "colab": {
     "base_uri": "https://localhost:8080/"
    },
    "id": "14839b37",
    "outputId": "b4aa5f83-8800-436c-da87-ccd22f6c18b4"
   },
   "outputs": [
    {
     "name": "stdout",
     "output_type": "stream",
     "text": [
      "[['Tendulkar', 'took', 'up', 'cricket', 'at', 'the', 'age', 'of', 'eleven', ',', 'made', 'his', 'Test', 'match', 'debut', 'on', '15', 'November', '1989', 'against', 'Pakistan', 'in', 'Karachi', 'at', 'the', 'age', 'of', 'sixteen', ',', 'and', 'went', 'on', 'to', 'represent', 'Mumbai', 'domestically', 'and', 'India', 'internationally', 'for', 'close', 'to', 'twenty-four', 'years', '.'], ['In', '2002', ',', 'halfway', 'through', 'his', 'career', ',', 'Wisden', 'ranked', 'him', 'the', 'second-greatest', 'Test', 'batsman', 'of', 'all', 'time', ',', 'behind', 'Don', 'Bradman', ',', 'and', 'the', 'second-greatest', 'ODI', 'batsman', 'of', 'all', 'time', ',', 'behind', 'Viv', 'Richards', '.']]\n"
     ]
    }
   ],
   "source": [
    "print(words)"
   ]
  },
  {
   "cell_type": "markdown",
   "id": "15c6d7e0",
   "metadata": {
    "id": "15c6d7e0"
   },
   "source": [
    " ## Tweet tokenizer"
   ]
  },
  {
   "cell_type": "code",
   "execution_count": 11,
   "id": "5aa97be3",
   "metadata": {
    "colab": {
     "base_uri": "https://localhost:8080/"
    },
    "id": "5aa97be3",
    "outputId": "29170e3a-3632-4d3a-8ef4-360546e62af8"
   },
   "outputs": [
    {
     "data": {
      "text/plain": [
       "['Never',\n",
       " 'ask',\n",
       " 'a',\n",
       " 'girl',\n",
       " 'who',\n",
       " 'is',\n",
       " 'a',\n",
       " '#Twitter',\n",
       " 'addict',\n",
       " 'why',\n",
       " \"she's\",\n",
       " 'late',\n",
       " ':)']"
      ]
     },
     "execution_count": 11,
     "metadata": {},
     "output_type": "execute_result"
    }
   ],
   "source": [
    "twtokenizer= TweetTokenizer()  # its a class\n",
    "twtokenizer.tokenize(\"Never ask a girl who is a #Twitter addict why she's late :)\")"
   ]
  },
  {
   "cell_type": "code",
   "execution_count": 12,
   "id": "9d1d746c",
   "metadata": {
    "colab": {
     "base_uri": "https://localhost:8080/"
    },
    "id": "9d1d746c",
    "outputId": "2d1deb3f-1beb-44c5-d9f9-96d3bbf459ff"
   },
   "outputs": [
    {
     "data": {
      "text/plain": [
       "['Never',\n",
       " 'ask',\n",
       " 'a',\n",
       " 'girl',\n",
       " 'who',\n",
       " 'is',\n",
       " 'a',\n",
       " '#',\n",
       " 'Twitter',\n",
       " 'addict',\n",
       " 'why',\n",
       " 'she',\n",
       " \"'s\",\n",
       " 'late',\n",
       " ':',\n",
       " ')']"
      ]
     },
     "execution_count": 12,
     "metadata": {},
     "output_type": "execute_result"
    }
   ],
   "source": [
    "word_tokenize(\"Never ask a girl who is a #Twitter addict why she's late :)\")"
   ]
  },
  {
   "cell_type": "markdown",
   "id": "5aba147b",
   "metadata": {
    "id": "5aba147b"
   },
   "source": [
    "## Regular exp tokenizer"
   ]
  },
  {
   "cell_type": "code",
   "execution_count": 13,
   "id": "91eaade5",
   "metadata": {
    "id": "91eaade5"
   },
   "outputs": [],
   "source": [
    "rextoken=RegexpTokenizer('\\s+',gaps=True)"
   ]
  },
  {
   "cell_type": "code",
   "execution_count": 14,
   "id": "a951d5e8",
   "metadata": {
    "colab": {
     "base_uri": "https://localhost:8080/"
    },
    "id": "a951d5e8",
    "outputId": "824c7728-8cc6-4180-bba7-4e4077b835f3"
   },
   "outputs": [
    {
     "data": {
      "text/plain": [
       "['Tendulkar', 'took', 'up', 'cricket', 'at', 'the', 'age', 'of', 'eleven']"
      ]
     },
     "execution_count": 14,
     "metadata": {},
     "output_type": "execute_result"
    }
   ],
   "source": [
    "rextoken.tokenize(\"Tendulkar took up cricket at the age of eleven\")"
   ]
  },
  {
   "cell_type": "code",
   "execution_count": 14,
   "id": "0a106158",
   "metadata": {
    "id": "0a106158"
   },
   "outputs": [],
   "source": []
  },
  {
   "cell_type": "code",
   "execution_count": 14,
   "id": "78ad6e62",
   "metadata": {
    "id": "78ad6e62"
   },
   "outputs": [],
   "source": []
  },
  {
   "cell_type": "markdown",
   "id": "1cf136ee",
   "metadata": {
    "id": "1cf136ee"
   },
   "source": [
    "## Stemming and Lemmatization"
   ]
  },
  {
   "cell_type": "code",
   "execution_count": 15,
   "id": "c0a127ce",
   "metadata": {
    "id": "c0a127ce"
   },
   "outputs": [],
   "source": [
    "import nltk\n",
    "\n",
    "from nltk.stem.porter import PorterStemmer  # onr more stemm type, not much popular\n",
    "from nltk.stem import WordNetLemmatizer\n",
    "\n",
    "\n",
    "# both stem and lemmi ar class, first assign object of these class"
   ]
  },
  {
   "cell_type": "code",
   "execution_count": 16,
   "id": "55325bf2",
   "metadata": {
    "id": "55325bf2"
   },
   "outputs": [],
   "source": [
    "stemmer= PorterStemmer()\n",
    "wordnet_lemmitizer= WordNetLemmatizer()"
   ]
  },
  {
   "cell_type": "code",
   "execution_count": 17,
   "id": "73d9bad5",
   "metadata": {
    "colab": {
     "base_uri": "https://localhost:8080/",
     "height": 35
    },
    "id": "73d9bad5",
    "outputId": "1ffc780e-bf37-4ff2-b8b7-c5adca35fd26"
   },
   "outputs": [
    {
     "data": {
      "application/vnd.google.colaboratory.intrinsic+json": {
       "type": "string"
      },
      "text/plain": [
       "'bought'"
      ]
     },
     "execution_count": 17,
     "metadata": {},
     "output_type": "execute_result"
    }
   ],
   "source": [
    "stemmer.stem('bought')"
   ]
  },
  {
   "cell_type": "code",
   "execution_count": 18,
   "id": "f0fc0fc4",
   "metadata": {
    "colab": {
     "base_uri": "https://localhost:8080/"
    },
    "id": "f0fc0fc4",
    "outputId": "78c569d6-adec-4cf3-eb88-d7e054b6f0a9"
   },
   "outputs": [
    {
     "name": "stderr",
     "output_type": "stream",
     "text": [
      "[nltk_data] Downloading package wordnet to /root/nltk_data...\n",
      "[nltk_data] Downloading package omw-1.4 to /root/nltk_data...\n"
     ]
    },
    {
     "data": {
      "text/plain": [
       "True"
      ]
     },
     "execution_count": 18,
     "metadata": {},
     "output_type": "execute_result"
    }
   ],
   "source": [
    "import nltk\n",
    "nltk.download('wordnet')\n",
    "nltk.download('omw-1.4')"
   ]
  },
  {
   "cell_type": "code",
   "execution_count": 19,
   "id": "50873349",
   "metadata": {
    "colab": {
     "base_uri": "https://localhost:8080/",
     "height": 35
    },
    "id": "50873349",
    "outputId": "603707a3-4569-4235-9557-3c4236351dd2"
   },
   "outputs": [
    {
     "data": {
      "application/vnd.google.colaboratory.intrinsic+json": {
       "type": "string"
      },
      "text/plain": [
       "'buy'"
      ]
     },
     "execution_count": 19,
     "metadata": {},
     "output_type": "execute_result"
    }
   ],
   "source": [
    "wordnet_lemmitizer.lemmatize('bought',pos='v')"
   ]
  },
  {
   "cell_type": "code",
   "execution_count": 20,
   "id": "8e29586b",
   "metadata": {
    "colab": {
     "base_uri": "https://localhost:8080/",
     "height": 35
    },
    "id": "8e29586b",
    "outputId": "5b603f10-5069-4e82-d5d8-0a80a240bebe"
   },
   "outputs": [
    {
     "data": {
      "application/vnd.google.colaboratory.intrinsic+json": {
       "type": "string"
      },
      "text/plain": [
       "'aros'"
      ]
     },
     "execution_count": 20,
     "metadata": {},
     "output_type": "execute_result"
    }
   ],
   "source": [
    "stemmer.stem('arose')"
   ]
  },
  {
   "cell_type": "code",
   "execution_count": 21,
   "id": "94459f4d",
   "metadata": {
    "colab": {
     "base_uri": "https://localhost:8080/",
     "height": 35
    },
    "id": "94459f4d",
    "outputId": "d6e672cc-9bcd-4e74-ee0b-547047cad9ed"
   },
   "outputs": [
    {
     "data": {
      "application/vnd.google.colaboratory.intrinsic+json": {
       "type": "string"
      },
      "text/plain": [
       "'arise'"
      ]
     },
     "execution_count": 21,
     "metadata": {},
     "output_type": "execute_result"
    }
   ],
   "source": [
    "wordnet_lemmitizer.lemmatize('arose',pos='v')  # part od speech verb= v, noun='n'"
   ]
  },
  {
   "cell_type": "code",
   "execution_count": 22,
   "id": "0dc6e5fe",
   "metadata": {
    "colab": {
     "base_uri": "https://localhost:8080/",
     "height": 35
    },
    "id": "0dc6e5fe",
    "outputId": "c2ee8e53-357e-4719-aade-d5803432d0e1"
   },
   "outputs": [
    {
     "data": {
      "application/vnd.google.colaboratory.intrinsic+json": {
       "type": "string"
      },
      "text/plain": [
       "'foot'"
      ]
     },
     "execution_count": 22,
     "metadata": {},
     "output_type": "execute_result"
    }
   ],
   "source": [
    "wordnet_lemmitizer.lemmatize('feet',pos='n') "
   ]
  },
  {
   "cell_type": "markdown",
   "id": "290995c7",
   "metadata": {
    "id": "290995c7"
   },
   "source": [
    "# Krish Naik tutorrial"
   ]
  },
  {
   "cell_type": "code",
   "execution_count": 23,
   "id": "41e6dec0",
   "metadata": {
    "id": "41e6dec0"
   },
   "outputs": [],
   "source": [
    "paragraph=\"\"\"\n",
    "Narendra Damodardas Modi (Gujarati: [ˈnəɾendɾə dɑmodəɾˈdɑs ˈmodiː] (listen); born 17 September 1950)[a] is an Indian politician serving as the 14th and current prime minister of India since 2014. Modi was the chief minister of Gujarat from 2001 to 2014 and is the Member of Parliament from Varanasi. He is a member of the Bharatiya Janata Party (BJP) and of the Rashtriya Swayamsevak Sangh (RSS), a right-wing Hindu nationalist paramilitary volunteer organisation. He is the first prime minister to have been born after India's independence in 1947 and the second prime minister not belonging to the Indian National Congress to have won two consecutive majorities in the Lok Sabha, or the lower house of India's parliament. He is also the longest serving prime minister from a non-Congress party.\n",
    "\n",
    "Born and raised in Vadnagar, a small town in northeastern Gujarat, Modi completed his secondary education there. He was introduced to the RSS at age eight. He has drawn attention to having to work as a child in his father's tea stall on the Vadnagar railway station platform, a description that has not been reliably corroborated. At age 18, Modi was married to Jashodaben Chimanlal Modi, whom he abandoned soon after. He left his parental home where she had come to live. He first publicly acknowledged her as his wife more than four decades later when required to do so by Indian law, but has made no contact with her since. Modi has asserted he had travelled in northern India for two years after leaving his parental home, visiting a number of religious centres, but few details of his travels have emerged. Upon his return to Gujarat in 1971, he became a full-time worker for the RSS. After the state of emergency was declared by prime minister Indira Gandhi in 1975, Modi went into hiding. The RSS assigned him to the BJP in 1985 and he held several positions within the party hierarchy until 2001, rising to the rank of general secretary.[b]\"\"\""
   ]
  },
  {
   "cell_type": "code",
   "execution_count": 24,
   "id": "ef477ab7",
   "metadata": {
    "colab": {
     "base_uri": "https://localhost:8080/",
     "height": 122
    },
    "id": "ef477ab7",
    "outputId": "5d2d87d5-3258-484d-d69d-64d3bc9cd045"
   },
   "outputs": [
    {
     "data": {
      "application/vnd.google.colaboratory.intrinsic+json": {
       "type": "string"
      },
      "text/plain": [
       "\"\\nNarendra Damodardas Modi (Gujarati: [ˈnəɾendɾə dɑmodəɾˈdɑs ˈmodiː] (listen); born 17 September 1950)[a] is an Indian politician serving as the 14th and current prime minister of India since 2014. Modi was the chief minister of Gujarat from 2001 to 2014 and is the Member of Parliament from Varanasi. He is a member of the Bharatiya Janata Party (BJP) and of the Rashtriya Swayamsevak Sangh (RSS), a right-wing Hindu nationalist paramilitary volunteer organisation. He is the first prime minister to have been born after India's independence in 1947 and the second prime minister not belonging to the Indian National Congress to have won two consecutive majorities in the Lok Sabha, or the lower house of India's parliament. He is also the longest serving prime minister from a non-Congress party.\\n\\nBorn and raised in Vadnagar, a small town in northeastern Gujarat, Modi completed his secondary education there. He was introduced to the RSS at age eight. He has drawn attention to having to work as a child in his father's tea stall on the Vadnagar railway station platform, a description that has not been reliably corroborated. At age 18, Modi was married to Jashodaben Chimanlal Modi, whom he abandoned soon after. He left his parental home where she had come to live. He first publicly acknowledged her as his wife more than four decades later when required to do so by Indian law, but has made no contact with her since. Modi has asserted he had travelled in northern India for two years after leaving his parental home, visiting a number of religious centres, but few details of his travels have emerged. Upon his return to Gujarat in 1971, he became a full-time worker for the RSS. After the state of emergency was declared by prime minister Indira Gandhi in 1975, Modi went into hiding. The RSS assigned him to the BJP in 1985 and he held several positions within the party hierarchy until 2001, rising to the rank of general secretary.[b]\""
      ]
     },
     "execution_count": 24,
     "metadata": {},
     "output_type": "execute_result"
    }
   ],
   "source": [
    "paragraph"
   ]
  },
  {
   "cell_type": "code",
   "execution_count": 25,
   "id": "00df1c2d",
   "metadata": {
    "id": "00df1c2d"
   },
   "outputs": [],
   "source": [
    "import nltk\n",
    "from nltk.corpus import stopwords\n",
    "from nltk.stem import PorterStemmer\n",
    "from nltk.stem import WordNetLemmatizer"
   ]
  },
  {
   "cell_type": "code",
   "execution_count": 26,
   "id": "b47bf62f",
   "metadata": {
    "colab": {
     "base_uri": "https://localhost:8080/"
    },
    "id": "b47bf62f",
    "outputId": "09805ebd-25c2-45d0-d863-780a926d2038"
   },
   "outputs": [
    {
     "name": "stderr",
     "output_type": "stream",
     "text": [
      "[nltk_data] Downloading package punkt to /root/nltk_data...\n",
      "[nltk_data]   Package punkt is already up-to-date!\n"
     ]
    }
   ],
   "source": [
    "## Tokenization:  convert paragraph into sentences and focus on words\n",
    "\n",
    "nltk.download('punkt')\n",
    "sentences=nltk.sent_tokenize(paragraph)"
   ]
  },
  {
   "cell_type": "code",
   "execution_count": 27,
   "id": "77fcb3d7",
   "metadata": {
    "colab": {
     "base_uri": "https://localhost:8080/"
    },
    "id": "77fcb3d7",
    "outputId": "1272e13c-ee5c-455c-da5c-1b7ef9d62557"
   },
   "outputs": [
    {
     "name": "stdout",
     "output_type": "stream",
     "text": [
      "['\\nNarendra Damodardas Modi (Gujarati: [ˈnəɾendɾə dɑmodəɾˈdɑs ˈmodiː] (listen); born 17 September 1950)[a] is an Indian politician serving as the 14th and current prime minister of India since 2014.', 'Modi was the chief minister of Gujarat from 2001 to 2014 and is the Member of Parliament from Varanasi.', 'He is a member of the Bharatiya Janata Party (BJP) and of the Rashtriya Swayamsevak Sangh (RSS), a right-wing Hindu nationalist paramilitary volunteer organisation.', \"He is the first prime minister to have been born after India's independence in 1947 and the second prime minister not belonging to the Indian National Congress to have won two consecutive majorities in the Lok Sabha, or the lower house of India's parliament.\", 'He is also the longest serving prime minister from a non-Congress party.', 'Born and raised in Vadnagar, a small town in northeastern Gujarat, Modi completed his secondary education there.', 'He was introduced to the RSS at age eight.', \"He has drawn attention to having to work as a child in his father's tea stall on the Vadnagar railway station platform, a description that has not been reliably corroborated.\", 'At age 18, Modi was married to Jashodaben Chimanlal Modi, whom he abandoned soon after.', 'He left his parental home where she had come to live.', 'He first publicly acknowledged her as his wife more than four decades later when required to do so by Indian law, but has made no contact with her since.', 'Modi has asserted he had travelled in northern India for two years after leaving his parental home, visiting a number of religious centres, but few details of his travels have emerged.', 'Upon his return to Gujarat in 1971, he became a full-time worker for the RSS.', 'After the state of emergency was declared by prime minister Indira Gandhi in 1975, Modi went into hiding.', 'The RSS assigned him to the BJP in 1985 and he held several positions within the party hierarchy until 2001, rising to the rank of general secretary.', '[b]']\n"
     ]
    }
   ],
   "source": [
    "print(sentences)"
   ]
  },
  {
   "cell_type": "code",
   "execution_count": 28,
   "id": "00b8242f",
   "metadata": {
    "colab": {
     "base_uri": "https://localhost:8080/"
    },
    "id": "00b8242f",
    "outputId": "ac0127c2-7896-4441-c511-7287c3431dcf"
   },
   "outputs": [
    {
     "data": {
      "text/plain": [
       "16"
      ]
     },
     "execution_count": 28,
     "metadata": {},
     "output_type": "execute_result"
    }
   ],
   "source": [
    "len(sentences)"
   ]
  },
  {
   "cell_type": "code",
   "execution_count": 29,
   "id": "559e32d1",
   "metadata": {
    "id": "559e32d1"
   },
   "outputs": [],
   "source": [
    "# clean special character\n",
    "\n",
    "import re"
   ]
  },
  {
   "cell_type": "code",
   "execution_count": 30,
   "id": "c5909877",
   "metadata": {
    "id": "c5909877"
   },
   "outputs": [],
   "source": [
    "import re\n",
    "corpus=[]\n",
    "for i in range(len(sentences)):\n",
    "    review=re.sub('[^a-zA-Z]',' ',sentences[i])\n",
    "    review=review.lower()\n",
    "    corpus.append(review)"
   ]
  },
  {
   "cell_type": "code",
   "execution_count": 31,
   "id": "e98f92bc",
   "metadata": {
    "colab": {
     "base_uri": "https://localhost:8080/"
    },
    "id": "e98f92bc",
    "outputId": "068e1539-a938-4663-972d-dc96351609f4"
   },
   "outputs": [
    {
     "data": {
      "text/plain": [
       "[' narendra damodardas modi  gujarati    n  end   d mod   d s  modi    listen   born    september       a  is an indian politician serving as the   th and current prime minister of india since      ',\n",
       " 'modi was the chief minister of gujarat from      to      and is the member of parliament from varanasi ',\n",
       " 'he is a member of the bharatiya janata party  bjp  and of the rashtriya swayamsevak sangh  rss   a right wing hindu nationalist paramilitary volunteer organisation ',\n",
       " 'he is the first prime minister to have been born after india s independence in      and the second prime minister not belonging to the indian national congress to have won two consecutive majorities in the lok sabha  or the lower house of india s parliament ',\n",
       " 'he is also the longest serving prime minister from a non congress party ',\n",
       " 'born and raised in vadnagar  a small town in northeastern gujarat  modi completed his secondary education there ',\n",
       " 'he was introduced to the rss at age eight ',\n",
       " 'he has drawn attention to having to work as a child in his father s tea stall on the vadnagar railway station platform  a description that has not been reliably corroborated ',\n",
       " 'at age     modi was married to jashodaben chimanlal modi  whom he abandoned soon after ',\n",
       " 'he left his parental home where she had come to live ',\n",
       " 'he first publicly acknowledged her as his wife more than four decades later when required to do so by indian law  but has made no contact with her since ',\n",
       " 'modi has asserted he had travelled in northern india for two years after leaving his parental home  visiting a number of religious centres  but few details of his travels have emerged ',\n",
       " 'upon his return to gujarat in       he became a full time worker for the rss ',\n",
       " 'after the state of emergency was declared by prime minister indira gandhi in       modi went into hiding ',\n",
       " 'the rss assigned him to the bjp in      and he held several positions within the party hierarchy until       rising to the rank of general secretary ',\n",
       " ' b ']"
      ]
     },
     "execution_count": 31,
     "metadata": {},
     "output_type": "execute_result"
    }
   ],
   "source": [
    "corpus"
   ]
  },
  {
   "cell_type": "code",
   "execution_count": 32,
   "id": "dc708d26",
   "metadata": {
    "colab": {
     "base_uri": "https://localhost:8080/"
    },
    "id": "dc708d26",
    "outputId": "6468df68-b8e3-43ab-d732-14518b72b5c2"
   },
   "outputs": [
    {
     "name": "stderr",
     "output_type": "stream",
     "text": [
      "[nltk_data] Downloading package stopwords to /root/nltk_data...\n",
      "[nltk_data]   Unzipping corpora/stopwords.zip.\n"
     ]
    },
    {
     "data": {
      "text/plain": [
       "True"
      ]
     },
     "execution_count": 32,
     "metadata": {},
     "output_type": "execute_result"
    }
   ],
   "source": [
    "import nltk\n",
    "nltk.download('stopwords')\n"
   ]
  },
  {
   "cell_type": "code",
   "execution_count": 33,
   "id": "c02b2257",
   "metadata": {
    "colab": {
     "base_uri": "https://localhost:8080/"
    },
    "id": "c02b2257",
    "outputId": "29a63bf2-dba4-4272-d427-0dc5139ec3e3"
   },
   "outputs": [
    {
     "name": "stdout",
     "output_type": "stream",
     "text": [
      "narendra\n",
      "damodarda\n",
      "modi\n",
      "gujarati\n",
      "n\n",
      "end\n",
      "mod\n",
      "modi\n",
      "listen\n",
      "born\n",
      "septemb\n",
      "indian\n",
      "politician\n",
      "serv\n",
      "th\n",
      "current\n",
      "prime\n",
      "minist\n",
      "india\n",
      "sinc\n",
      "modi\n",
      "chief\n",
      "minist\n",
      "gujarat\n",
      "member\n",
      "parliament\n",
      "varanasi\n",
      "member\n",
      "bharatiya\n",
      "janata\n",
      "parti\n",
      "bjp\n",
      "rashtriya\n",
      "swayamsevak\n",
      "sangh\n",
      "rss\n",
      "right\n",
      "wing\n",
      "hindu\n",
      "nationalist\n",
      "paramilitari\n",
      "volunt\n",
      "organis\n",
      "first\n",
      "prime\n",
      "minist\n",
      "born\n",
      "india\n",
      "independ\n",
      "second\n",
      "prime\n",
      "minist\n",
      "belong\n",
      "indian\n",
      "nation\n",
      "congress\n",
      "two\n",
      "consecut\n",
      "major\n",
      "lok\n",
      "sabha\n",
      "lower\n",
      "hous\n",
      "india\n",
      "parliament\n",
      "also\n",
      "longest\n",
      "serv\n",
      "prime\n",
      "minist\n",
      "non\n",
      "congress\n",
      "parti\n",
      "born\n",
      "rais\n",
      "vadnagar\n",
      "small\n",
      "town\n",
      "northeastern\n",
      "gujarat\n",
      "modi\n",
      "complet\n",
      "secondari\n",
      "educ\n",
      "introduc\n",
      "rss\n",
      "age\n",
      "eight\n",
      "drawn\n",
      "attent\n",
      "work\n",
      "child\n",
      "father\n",
      "tea\n",
      "stall\n",
      "vadnagar\n",
      "railway\n",
      "station\n",
      "platform\n",
      "descript\n",
      "reliabl\n",
      "corrobor\n",
      "age\n",
      "modi\n",
      "marri\n",
      "jashodaben\n",
      "chimanl\n",
      "modi\n",
      "abandon\n",
      "soon\n",
      "left\n",
      "parent\n",
      "home\n",
      "come\n",
      "live\n",
      "first\n",
      "publicli\n",
      "acknowledg\n",
      "wife\n",
      "four\n",
      "decad\n",
      "later\n",
      "requir\n",
      "indian\n",
      "law\n",
      "made\n",
      "contact\n",
      "sinc\n",
      "modi\n",
      "assert\n",
      "travel\n",
      "northern\n",
      "india\n",
      "two\n",
      "year\n",
      "leav\n",
      "parent\n",
      "home\n",
      "visit\n",
      "number\n",
      "religi\n",
      "centr\n",
      "detail\n",
      "travel\n",
      "emerg\n",
      "upon\n",
      "return\n",
      "gujarat\n",
      "becam\n",
      "full\n",
      "time\n",
      "worker\n",
      "rss\n",
      "state\n",
      "emerg\n",
      "declar\n",
      "prime\n",
      "minist\n",
      "indira\n",
      "gandhi\n",
      "modi\n",
      "went\n",
      "hide\n",
      "rss\n",
      "assign\n",
      "bjp\n",
      "held\n",
      "sever\n",
      "posit\n",
      "within\n",
      "parti\n",
      "hierarchi\n",
      "rise\n",
      "rank\n",
      "gener\n",
      "secretari\n",
      "b\n"
     ]
    }
   ],
   "source": [
    "## Stemming\n",
    "\n",
    "for i in corpus:\n",
    "    words=nltk.word_tokenize(i)\n",
    "    for word in words:\n",
    "        if word not in set(stopwords.words('english')):\n",
    "            print(stemmer.stem(word))\n",
    "    "
   ]
  },
  {
   "cell_type": "code",
   "execution_count": 34,
   "id": "d336ff66",
   "metadata": {
    "colab": {
     "base_uri": "https://localhost:8080/"
    },
    "id": "d336ff66",
    "outputId": "cb161ca5-9bde-4c94-a169-ba3574cf19e4"
   },
   "outputs": [
    {
     "name": "stdout",
     "output_type": "stream",
     "text": [
      "narendra\n",
      "damodardas\n",
      "modi\n",
      "gujarati\n",
      "n\n",
      "end\n",
      "mod\n",
      "modi\n",
      "listen\n",
      "born\n",
      "september\n",
      "indian\n",
      "politician\n",
      "serving\n",
      "th\n",
      "current\n",
      "prime\n",
      "minister\n",
      "india\n",
      "since\n",
      "modi\n",
      "chief\n",
      "minister\n",
      "gujarat\n",
      "member\n",
      "parliament\n",
      "varanasi\n",
      "member\n",
      "bharatiya\n",
      "janata\n",
      "party\n",
      "bjp\n",
      "rashtriya\n",
      "swayamsevak\n",
      "sangh\n",
      "r\n",
      "right\n",
      "wing\n",
      "hindu\n",
      "nationalist\n",
      "paramilitary\n",
      "volunteer\n",
      "organisation\n",
      "first\n",
      "prime\n",
      "minister\n",
      "born\n",
      "india\n",
      "independence\n",
      "second\n",
      "prime\n",
      "minister\n",
      "belonging\n",
      "indian\n",
      "national\n",
      "congress\n",
      "two\n",
      "consecutive\n",
      "majority\n",
      "lok\n",
      "sabha\n",
      "lower\n",
      "house\n",
      "india\n",
      "parliament\n",
      "also\n",
      "longest\n",
      "serving\n",
      "prime\n",
      "minister\n",
      "non\n",
      "congress\n",
      "party\n",
      "born\n",
      "raised\n",
      "vadnagar\n",
      "small\n",
      "town\n",
      "northeastern\n",
      "gujarat\n",
      "modi\n",
      "completed\n",
      "secondary\n",
      "education\n",
      "introduced\n",
      "r\n",
      "age\n",
      "eight\n",
      "drawn\n",
      "attention\n",
      "work\n",
      "child\n",
      "father\n",
      "tea\n",
      "stall\n",
      "vadnagar\n",
      "railway\n",
      "station\n",
      "platform\n",
      "description\n",
      "reliably\n",
      "corroborated\n",
      "age\n",
      "modi\n",
      "married\n",
      "jashodaben\n",
      "chimanlal\n",
      "modi\n",
      "abandoned\n",
      "soon\n",
      "left\n",
      "parental\n",
      "home\n",
      "come\n",
      "live\n",
      "first\n",
      "publicly\n",
      "acknowledged\n",
      "wife\n",
      "four\n",
      "decade\n",
      "later\n",
      "required\n",
      "indian\n",
      "law\n",
      "made\n",
      "contact\n",
      "since\n",
      "modi\n",
      "asserted\n",
      "travelled\n",
      "northern\n",
      "india\n",
      "two\n",
      "year\n",
      "leaving\n",
      "parental\n",
      "home\n",
      "visiting\n",
      "number\n",
      "religious\n",
      "centre\n",
      "detail\n",
      "travel\n",
      "emerged\n",
      "upon\n",
      "return\n",
      "gujarat\n",
      "became\n",
      "full\n",
      "time\n",
      "worker\n",
      "r\n",
      "state\n",
      "emergency\n",
      "declared\n",
      "prime\n",
      "minister\n",
      "indira\n",
      "gandhi\n",
      "modi\n",
      "went\n",
      "hiding\n",
      "r\n",
      "assigned\n",
      "bjp\n",
      "held\n",
      "several\n",
      "position\n",
      "within\n",
      "party\n",
      "hierarchy\n",
      "rising\n",
      "rank\n",
      "general\n",
      "secretary\n",
      "b\n"
     ]
    }
   ],
   "source": [
    "## Lemmitization\n",
    "\n",
    "for i in corpus:\n",
    "    words=nltk.word_tokenize(i)\n",
    "    for word in words:\n",
    "        if word not in set(stopwords.words('english')):\n",
    "            print(wordnet_lemmitizer.lemmatize(word))\n",
    "        "
   ]
  },
  {
   "cell_type": "code",
   "execution_count": 35,
   "id": "c598a476",
   "metadata": {
    "id": "c598a476"
   },
   "outputs": [],
   "source": [
    "# Apply stopwords and lemmatize\n",
    "\n",
    "import re\n",
    "corpus=[]\n",
    "for i in range(len(sentences)):\n",
    "    review=re.sub('[^a-zA-Z]',' ',sentences[i])\n",
    "    review= review.lower()\n",
    "    review= review.split()\n",
    "    review=[wordnet_lemmitizer.lemmatize(word) for word in review if not word in set(stopwords.words('english'))]\n",
    "    review=' '.join(review)\n",
    "    corpus.append(review)"
   ]
  },
  {
   "cell_type": "markdown",
   "id": "96476e1d",
   "metadata": {
    "id": "96476e1d"
   },
   "source": [
    "## Bag of Words"
   ]
  },
  {
   "cell_type": "code",
   "execution_count": 36,
   "id": "ebc9b7ee",
   "metadata": {
    "id": "ebc9b7ee"
   },
   "outputs": [],
   "source": [
    "from sklearn.feature_extraction.text import CountVectorizer\n",
    "cv=CountVectorizer()"
   ]
  },
  {
   "cell_type": "code",
   "execution_count": 37,
   "id": "1ba5b8a2",
   "metadata": {
    "id": "1ba5b8a2"
   },
   "outputs": [],
   "source": [
    "X=cv.fit_transform(corpus)"
   ]
  },
  {
   "cell_type": "code",
   "execution_count": 38,
   "id": "834df2ac",
   "metadata": {
    "colab": {
     "base_uri": "https://localhost:8080/"
    },
    "id": "834df2ac",
    "outputId": "6d7467c4-2831-4a38-df11-2c77d125d6f2"
   },
   "outputs": [
    {
     "data": {
      "text/plain": [
       "{'abandoned': 0,\n",
       " 'acknowledged': 1,\n",
       " 'age': 2,\n",
       " 'also': 3,\n",
       " 'asserted': 4,\n",
       " 'assigned': 5,\n",
       " 'attention': 6,\n",
       " 'became': 7,\n",
       " 'belonging': 8,\n",
       " 'bharatiya': 9,\n",
       " 'bjp': 10,\n",
       " 'born': 11,\n",
       " 'centre': 12,\n",
       " 'chief': 13,\n",
       " 'child': 14,\n",
       " 'chimanlal': 15,\n",
       " 'come': 16,\n",
       " 'completed': 17,\n",
       " 'congress': 18,\n",
       " 'consecutive': 19,\n",
       " 'contact': 20,\n",
       " 'corroborated': 21,\n",
       " 'current': 22,\n",
       " 'damodardas': 23,\n",
       " 'decade': 24,\n",
       " 'declared': 25,\n",
       " 'description': 26,\n",
       " 'detail': 27,\n",
       " 'drawn': 28,\n",
       " 'education': 29,\n",
       " 'eight': 30,\n",
       " 'emerged': 31,\n",
       " 'emergency': 32,\n",
       " 'end': 33,\n",
       " 'father': 34,\n",
       " 'first': 35,\n",
       " 'four': 36,\n",
       " 'full': 37,\n",
       " 'gandhi': 38,\n",
       " 'general': 39,\n",
       " 'gujarat': 40,\n",
       " 'gujarati': 41,\n",
       " 'held': 42,\n",
       " 'hiding': 43,\n",
       " 'hierarchy': 44,\n",
       " 'hindu': 45,\n",
       " 'home': 46,\n",
       " 'house': 47,\n",
       " 'independence': 48,\n",
       " 'india': 49,\n",
       " 'indian': 50,\n",
       " 'indira': 51,\n",
       " 'introduced': 52,\n",
       " 'janata': 53,\n",
       " 'jashodaben': 54,\n",
       " 'later': 55,\n",
       " 'law': 56,\n",
       " 'leaving': 57,\n",
       " 'left': 58,\n",
       " 'listen': 59,\n",
       " 'live': 60,\n",
       " 'lok': 61,\n",
       " 'longest': 62,\n",
       " 'lower': 63,\n",
       " 'made': 64,\n",
       " 'majority': 65,\n",
       " 'married': 66,\n",
       " 'member': 67,\n",
       " 'minister': 68,\n",
       " 'mod': 69,\n",
       " 'modi': 70,\n",
       " 'narendra': 71,\n",
       " 'national': 72,\n",
       " 'nationalist': 73,\n",
       " 'non': 74,\n",
       " 'northeastern': 75,\n",
       " 'northern': 76,\n",
       " 'number': 77,\n",
       " 'organisation': 78,\n",
       " 'paramilitary': 79,\n",
       " 'parental': 80,\n",
       " 'parliament': 81,\n",
       " 'party': 82,\n",
       " 'platform': 83,\n",
       " 'politician': 84,\n",
       " 'position': 85,\n",
       " 'prime': 86,\n",
       " 'publicly': 87,\n",
       " 'railway': 88,\n",
       " 'raised': 89,\n",
       " 'rank': 90,\n",
       " 'rashtriya': 91,\n",
       " 'reliably': 92,\n",
       " 'religious': 93,\n",
       " 'required': 94,\n",
       " 'return': 95,\n",
       " 'right': 96,\n",
       " 'rising': 97,\n",
       " 'sabha': 98,\n",
       " 'sangh': 99,\n",
       " 'second': 100,\n",
       " 'secondary': 101,\n",
       " 'secretary': 102,\n",
       " 'september': 103,\n",
       " 'serving': 104,\n",
       " 'several': 105,\n",
       " 'since': 106,\n",
       " 'small': 107,\n",
       " 'soon': 108,\n",
       " 'stall': 109,\n",
       " 'state': 110,\n",
       " 'station': 111,\n",
       " 'swayamsevak': 112,\n",
       " 'tea': 113,\n",
       " 'th': 114,\n",
       " 'time': 115,\n",
       " 'town': 116,\n",
       " 'travel': 117,\n",
       " 'travelled': 118,\n",
       " 'two': 119,\n",
       " 'upon': 120,\n",
       " 'vadnagar': 121,\n",
       " 'varanasi': 122,\n",
       " 'visiting': 123,\n",
       " 'volunteer': 124,\n",
       " 'went': 125,\n",
       " 'wife': 126,\n",
       " 'wing': 127,\n",
       " 'within': 128,\n",
       " 'work': 129,\n",
       " 'worker': 130,\n",
       " 'year': 131}"
      ]
     },
     "execution_count": 38,
     "metadata": {},
     "output_type": "execute_result"
    }
   ],
   "source": [
    "cv.vocabulary_"
   ]
  },
  {
   "cell_type": "code",
   "execution_count": 39,
   "id": "7b7bd087",
   "metadata": {
    "colab": {
     "base_uri": "https://localhost:8080/",
     "height": 35
    },
    "id": "7b7bd087",
    "outputId": "3fcb7c08-1059-4ca2-b3b4-5d326f8102a0"
   },
   "outputs": [
    {
     "data": {
      "application/vnd.google.colaboratory.intrinsic+json": {
       "type": "string"
      },
      "text/plain": [
       "'narendra damodardas modi gujarati n end mod modi listen born september indian politician serving th current prime minister india since'"
      ]
     },
     "execution_count": 39,
     "metadata": {},
     "output_type": "execute_result"
    }
   ],
   "source": [
    "corpus[0]"
   ]
  },
  {
   "cell_type": "code",
   "execution_count": 40,
   "id": "5cc35727",
   "metadata": {
    "colab": {
     "base_uri": "https://localhost:8080/"
    },
    "id": "5cc35727",
    "outputId": "c99297c9-c92a-4da4-e06f-a48eea5ddf82"
   },
   "outputs": [
    {
     "data": {
      "text/plain": [
       "array([[0, 0, 0, 0, 0, 0, 0, 0, 0, 0, 0, 1, 0, 0, 0, 0, 0, 0, 0, 0, 0, 0,\n",
       "        1, 1, 0, 0, 0, 0, 0, 0, 0, 0, 0, 1, 0, 0, 0, 0, 0, 0, 0, 1, 0, 0,\n",
       "        0, 0, 0, 0, 0, 1, 1, 0, 0, 0, 0, 0, 0, 0, 0, 1, 0, 0, 0, 0, 0, 0,\n",
       "        0, 0, 1, 1, 2, 1, 0, 0, 0, 0, 0, 0, 0, 0, 0, 0, 0, 0, 1, 0, 1, 0,\n",
       "        0, 0, 0, 0, 0, 0, 0, 0, 0, 0, 0, 0, 0, 0, 0, 1, 1, 0, 1, 0, 0, 0,\n",
       "        0, 0, 0, 0, 1, 0, 0, 0, 0, 0, 0, 0, 0, 0, 0, 0, 0, 0, 0, 0, 0, 0]])"
      ]
     },
     "execution_count": 40,
     "metadata": {},
     "output_type": "execute_result"
    }
   ],
   "source": [
    "X[0].toarray()"
   ]
  },
  {
   "cell_type": "code",
   "execution_count": 41,
   "id": "97c7f482",
   "metadata": {
    "id": "97c7f482"
   },
   "outputs": [],
   "source": [
    "# Bag of words (binary)\n",
    "\n",
    "from sklearn.feature_extraction.text import CountVectorizer\n",
    "cv=CountVectorizer(binary=True)"
   ]
  },
  {
   "cell_type": "code",
   "execution_count": 42,
   "id": "759274b5",
   "metadata": {
    "id": "759274b5"
   },
   "outputs": [],
   "source": [
    "# Bag of words with ngram"
   ]
  },
  {
   "cell_type": "code",
   "execution_count": 43,
   "id": "aebd29f4",
   "metadata": {
    "colab": {
     "base_uri": "https://localhost:8080/"
    },
    "id": "aebd29f4",
    "outputId": "b4259eed-3f63-4ad1-cd4f-ac2bb2fb5eb6"
   },
   "outputs": [
    {
     "data": {
      "text/plain": [
       "<16x141 sparse matrix of type '<class 'numpy.int64'>'\n",
       "\twith 141 stored elements in Compressed Sparse Row format>"
      ]
     },
     "execution_count": 43,
     "metadata": {},
     "output_type": "execute_result"
    }
   ],
   "source": [
    " from sklearn.feature_extraction.text import CountVectorizer\n",
    "cv=CountVectorizer(binary=True,ngram_range=(3,3))\n",
    "cv.fit_transform(corpus)"
   ]
  },
  {
   "cell_type": "code",
   "execution_count": 44,
   "id": "0b32a6ef",
   "metadata": {
    "colab": {
     "base_uri": "https://localhost:8080/"
    },
    "id": "0b32a6ef",
    "outputId": "8848a8e5-5b81-4afe-f1b9-36ca76330526"
   },
   "outputs": [
    {
     "data": {
      "text/plain": [
       "{'acknowledged wife four': 0,\n",
       " 'age modi married': 1,\n",
       " 'also longest serving': 2,\n",
       " 'asserted travelled northern': 3,\n",
       " 'assigned bjp held': 4,\n",
       " 'attention work child': 5,\n",
       " 'became full time': 6,\n",
       " 'belonging indian national': 7,\n",
       " 'bharatiya janata party': 8,\n",
       " 'bjp held several': 9,\n",
       " 'bjp rashtriya swayamsevak': 10,\n",
       " 'born india independence': 11,\n",
       " 'born raised vadnagar': 12,\n",
       " 'born september indian': 13,\n",
       " 'centre detail travel': 14,\n",
       " 'chief minister gujarat': 15,\n",
       " 'child father tea': 16,\n",
       " 'chimanlal modi abandoned': 17,\n",
       " 'completed secondary education': 18,\n",
       " 'congress two consecutive': 19,\n",
       " 'consecutive majority lok': 20,\n",
       " 'current prime minister': 21,\n",
       " 'damodardas modi gujarati': 22,\n",
       " 'decade later required': 23,\n",
       " 'declared prime minister': 24,\n",
       " 'description reliably corroborated': 25,\n",
       " 'detail travel emerged': 26,\n",
       " 'drawn attention work': 27,\n",
       " 'emergency declared prime': 28,\n",
       " 'end mod modi': 29,\n",
       " 'father tea stall': 30,\n",
       " 'first prime minister': 31,\n",
       " 'first publicly acknowledged': 32,\n",
       " 'four decade later': 33,\n",
       " 'full time worker': 34,\n",
       " 'gandhi modi went': 35,\n",
       " 'gujarat became full': 36,\n",
       " 'gujarat member parliament': 37,\n",
       " 'gujarat modi completed': 38,\n",
       " 'gujarati end mod': 39,\n",
       " 'held several position': 40,\n",
       " 'hierarchy rising rank': 41,\n",
       " 'hindu nationalist paramilitary': 42,\n",
       " 'home come live': 43,\n",
       " 'home visiting number': 44,\n",
       " 'house india parliament': 45,\n",
       " 'independence second prime': 46,\n",
       " 'india independence second': 47,\n",
       " 'india two year': 48,\n",
       " 'indian law made': 49,\n",
       " 'indian national congress': 50,\n",
       " 'indian politician serving': 51,\n",
       " 'indira gandhi modi': 52,\n",
       " 'introduced age eight': 53,\n",
       " 'janata party bjp': 54,\n",
       " 'jashodaben chimanlal modi': 55,\n",
       " 'later required indian': 56,\n",
       " 'law made contact': 57,\n",
       " 'leaving parental home': 58,\n",
       " 'left parental home': 59,\n",
       " 'listen born september': 60,\n",
       " 'lok sabha lower': 61,\n",
       " 'longest serving prime': 62,\n",
       " 'lower house india': 63,\n",
       " 'made contact since': 64,\n",
       " 'majority lok sabha': 65,\n",
       " 'married jashodaben chimanlal': 66,\n",
       " 'member bharatiya janata': 67,\n",
       " 'member parliament varanasi': 68,\n",
       " 'minister belonging indian': 69,\n",
       " 'minister born india': 70,\n",
       " 'minister gujarat member': 71,\n",
       " 'minister india since': 72,\n",
       " 'minister indira gandhi': 73,\n",
       " 'minister non congress': 74,\n",
       " 'mod modi listen': 75,\n",
       " 'modi abandoned soon': 76,\n",
       " 'modi asserted travelled': 77,\n",
       " 'modi chief minister': 78,\n",
       " 'modi completed secondary': 79,\n",
       " 'modi gujarati end': 80,\n",
       " 'modi listen born': 81,\n",
       " 'modi married jashodaben': 82,\n",
       " 'modi went hiding': 83,\n",
       " 'narendra damodardas modi': 84,\n",
       " 'national congress two': 85,\n",
       " 'nationalist paramilitary volunteer': 86,\n",
       " 'non congress party': 87,\n",
       " 'northeastern gujarat modi': 88,\n",
       " 'northern india two': 89,\n",
       " 'number religious centre': 90,\n",
       " 'paramilitary volunteer organisation': 91,\n",
       " 'parental home come': 92,\n",
       " 'parental home visiting': 93,\n",
       " 'party bjp rashtriya': 94,\n",
       " 'party hierarchy rising': 95,\n",
       " 'platform description reliably': 96,\n",
       " 'politician serving th': 97,\n",
       " 'position within party': 98,\n",
       " 'prime minister belonging': 99,\n",
       " 'prime minister born': 100,\n",
       " 'prime minister india': 101,\n",
       " 'prime minister indira': 102,\n",
       " 'prime minister non': 103,\n",
       " 'publicly acknowledged wife': 104,\n",
       " 'railway station platform': 105,\n",
       " 'raised vadnagar small': 106,\n",
       " 'rank general secretary': 107,\n",
       " 'rashtriya swayamsevak sangh': 108,\n",
       " 'religious centre detail': 109,\n",
       " 'required indian law': 110,\n",
       " 'return gujarat became': 111,\n",
       " 'right wing hindu': 112,\n",
       " 'rising rank general': 113,\n",
       " 'sabha lower house': 114,\n",
       " 'sangh right wing': 115,\n",
       " 'second prime minister': 116,\n",
       " 'september indian politician': 117,\n",
       " 'serving prime minister': 118,\n",
       " 'serving th current': 119,\n",
       " 'several position within': 120,\n",
       " 'small town northeastern': 121,\n",
       " 'stall vadnagar railway': 122,\n",
       " 'state emergency declared': 123,\n",
       " 'station platform description': 124,\n",
       " 'swayamsevak sangh right': 125,\n",
       " 'tea stall vadnagar': 126,\n",
       " 'th current prime': 127,\n",
       " 'town northeastern gujarat': 128,\n",
       " 'travelled northern india': 129,\n",
       " 'two consecutive majority': 130,\n",
       " 'two year leaving': 131,\n",
       " 'upon return gujarat': 132,\n",
       " 'vadnagar railway station': 133,\n",
       " 'vadnagar small town': 134,\n",
       " 'visiting number religious': 135,\n",
       " 'wife four decade': 136,\n",
       " 'wing hindu nationalist': 137,\n",
       " 'within party hierarchy': 138,\n",
       " 'work child father': 139,\n",
       " 'year leaving parental': 140}"
      ]
     },
     "execution_count": 44,
     "metadata": {},
     "output_type": "execute_result"
    }
   ],
   "source": [
    "cv.vocabulary_"
   ]
  },
  {
   "cell_type": "code",
   "execution_count": 45,
   "id": "a86fbaef",
   "metadata": {
    "id": "a86fbaef"
   },
   "outputs": [],
   "source": [
    "### TFIDF"
   ]
  },
  {
   "cell_type": "code",
   "execution_count": 46,
   "id": "02a7a3fd",
   "metadata": {
    "id": "02a7a3fd"
   },
   "outputs": [],
   "source": [
    "from sklearn.feature_extraction.text import TfidfVectorizer\n",
    "cv=TfidfVectorizer(ngram_range=(1,1), max_features=10)\n",
    "X=cv.fit_transform(corpus)"
   ]
  },
  {
   "cell_type": "code",
   "execution_count": 47,
   "id": "9ec4eae1",
   "metadata": {
    "colab": {
     "base_uri": "https://localhost:8080/",
     "height": 35
    },
    "id": "9ec4eae1",
    "outputId": "c2eb921c-272f-40e8-ba65-bc4fb9ff8e63"
   },
   "outputs": [
    {
     "data": {
      "application/vnd.google.colaboratory.intrinsic+json": {
       "type": "string"
      },
      "text/plain": [
       "'narendra damodardas modi gujarati n end mod modi listen born september indian politician serving th current prime minister india since'"
      ]
     },
     "execution_count": 47,
     "metadata": {},
     "output_type": "execute_result"
    }
   ],
   "source": [
    "corpus[0]"
   ]
  },
  {
   "cell_type": "code",
   "execution_count": 48,
   "id": "c415caba",
   "metadata": {
    "colab": {
     "base_uri": "https://localhost:8080/"
    },
    "id": "c415caba",
    "outputId": "3c36cc14-40b2-43e5-8b09-0d9c2a8a5dcb"
   },
   "outputs": [
    {
     "data": {
      "text/plain": [
       "array([[0.38064993, 0.        , 0.38064993, 0.38064993, 0.        ,\n",
       "        0.31757459, 0.5871889 , 0.        , 0.        , 0.34593707]])"
      ]
     },
     "execution_count": 48,
     "metadata": {},
     "output_type": "execute_result"
    }
   ],
   "source": [
    "X[0].toarray()"
   ]
  },
  {
   "cell_type": "markdown",
   "id": "96236577",
   "metadata": {
    "id": "96236577"
   },
   "source": []
  },
  {
   "cell_type": "code",
   "execution_count": 49,
   "id": "f75fe2b0",
   "metadata": {
    "id": "f75fe2b0"
   },
   "outputs": [],
   "source": []
  },
  {
   "cell_type": "markdown",
   "id": "NlWmeh2PNmMB",
   "metadata": {
    "id": "NlWmeh2PNmMB"
   },
   "source": [
    "**Word** **Embiddings**"
   ]
  },
  {
   "cell_type": "code",
   "execution_count": 50,
   "id": "2bLxKNFGNwO5",
   "metadata": {
    "colab": {
     "base_uri": "https://localhost:8080/"
    },
    "id": "2bLxKNFGNwO5",
    "outputId": "3f0019df-0a2d-4f8e-f054-ac8d405fc358"
   },
   "outputs": [
    {
     "name": "stdout",
     "output_type": "stream",
     "text": [
      "Looking in indexes: https://pypi.org/simple, https://us-python.pkg.dev/colab-wheels/public/simple/\n",
      "Requirement already satisfied: gensim in /usr/local/lib/python3.7/dist-packages (3.6.0)\n",
      "Requirement already satisfied: numpy>=1.11.3 in /usr/local/lib/python3.7/dist-packages (from gensim) (1.21.6)\n",
      "Requirement already satisfied: scipy>=0.18.1 in /usr/local/lib/python3.7/dist-packages (from gensim) (1.4.1)\n",
      "Requirement already satisfied: six>=1.5.0 in /usr/local/lib/python3.7/dist-packages (from gensim) (1.15.0)\n",
      "Requirement already satisfied: smart-open>=1.2.1 in /usr/local/lib/python3.7/dist-packages (from gensim) (5.2.1)\n"
     ]
    }
   ],
   "source": [
    "! pip install gensim"
   ]
  },
  {
   "cell_type": "code",
   "execution_count": 51,
   "id": "yCKKOBOkNvDh",
   "metadata": {
    "id": "yCKKOBOkNvDh"
   },
   "outputs": [],
   "source": [
    "import gensim\n"
   ]
  },
  {
   "cell_type": "code",
   "execution_count": 52,
   "id": "cdfc1aee",
   "metadata": {
    "id": "cdfc1aee"
   },
   "outputs": [],
   "source": [
    "from gensim.models import Word2Vec, KeyedVectors"
   ]
  },
  {
   "cell_type": "code",
   "execution_count": 4,
   "id": "3d55fd38",
   "metadata": {
    "id": "3d55fd38"
   },
   "outputs": [],
   "source": [
    "import gensim.downloader as api\n",
    "wv=api.load('word2vec-google-news-300')"
   ]
  },
  {
   "cell_type": "code",
   "execution_count": 5,
   "id": "kUnwvr6xSjSM",
   "metadata": {
    "colab": {
     "base_uri": "https://localhost:8080/"
    },
    "id": "kUnwvr6xSjSM",
    "outputId": "07358797-edae-49e6-ca29-cc971fe60d23"
   },
   "outputs": [
    {
     "data": {
      "text/plain": [
       "<gensim.models.keyedvectors.Word2VecKeyedVectors at 0x7f2c730b8950>"
      ]
     },
     "execution_count": 5,
     "metadata": {},
     "output_type": "execute_result"
    }
   ],
   "source": [
    "wv"
   ]
  },
  {
   "cell_type": "code",
   "execution_count": 6,
   "id": "7a6b983b",
   "metadata": {
    "colab": {
     "base_uri": "https://localhost:8080/"
    },
    "id": "7a6b983b",
    "outputId": "d2135356-3af2-4766-d99f-e1bd04da1cde"
   },
   "outputs": [
    {
     "data": {
      "text/plain": [
       "array([-1.67968750e-01, -5.85937500e-02,  1.10839844e-01,  8.74023438e-02,\n",
       "        1.71875000e-01, -2.98828125e-01, -3.47656250e-01, -2.11914062e-01,\n",
       "       -1.24511719e-02,  4.37500000e-01, -8.59375000e-02, -1.23535156e-01,\n",
       "        3.97949219e-02,  5.41992188e-02, -1.87500000e-01,  8.34960938e-02,\n",
       "       -9.47265625e-02,  6.10351562e-02, -1.46484375e-01,  2.71484375e-01,\n",
       "       -2.63671875e-01,  1.27929688e-01,  3.55468750e-01, -9.57031250e-02,\n",
       "       -2.05078125e-01,  1.01074219e-01, -2.21679688e-01,  3.28125000e-01,\n",
       "        1.40625000e-01,  1.05957031e-01,  2.68554688e-02, -3.22265625e-02,\n",
       "       -2.83203125e-01, -1.23901367e-02,  7.03125000e-02, -1.94335938e-01,\n",
       "        3.26171875e-01,  1.19140625e-01, -4.04296875e-01,  1.31835938e-01,\n",
       "       -8.74023438e-02, -3.00781250e-01,  3.14941406e-02,  3.02734375e-02,\n",
       "        1.54296875e-01,  4.74609375e-01,  2.56347656e-02, -1.74804688e-01,\n",
       "        2.61230469e-02, -1.54296875e-01, -2.07031250e-01, -1.66015625e-01,\n",
       "        1.46484375e-01, -2.94921875e-01,  1.99218750e-01,  5.32226562e-02,\n",
       "       -1.55639648e-02,  8.64257812e-02,  5.98144531e-02, -1.52343750e-01,\n",
       "        1.67968750e-01,  3.73046875e-01, -1.94335938e-01,  4.02343750e-01,\n",
       "        4.84375000e-01, -2.12890625e-01,  3.86718750e-01, -9.61914062e-02,\n",
       "       -5.71289062e-02,  1.95312500e-02,  1.34765625e-01,  2.28515625e-01,\n",
       "       -3.22265625e-01, -3.88183594e-02, -3.41796875e-01,  2.73437500e-01,\n",
       "        4.76562500e-01, -9.08203125e-02, -1.23901367e-02,  1.96289062e-01,\n",
       "       -2.59765625e-01, -1.20605469e-01,  3.39843750e-01, -1.11328125e-01,\n",
       "        1.12304688e-01,  2.59765625e-01, -1.67236328e-02,  1.98242188e-01,\n",
       "        1.08398438e-01,  2.36328125e-01, -3.61328125e-01, -8.20312500e-02,\n",
       "       -1.90429688e-01,  1.44531250e-01,  4.78515625e-01,  4.55856323e-04,\n",
       "       -2.23632812e-01,  3.28125000e-01,  3.06640625e-01, -1.64062500e-01,\n",
       "       -2.50000000e-01,  3.30078125e-01,  2.13867188e-01, -2.85156250e-01,\n",
       "        1.81640625e-01,  3.63281250e-01, -2.97546387e-03, -2.65625000e-01,\n",
       "        1.79687500e-01, -3.90625000e-02,  1.84570312e-01,  3.71093750e-02,\n",
       "       -6.03027344e-02, -2.34375000e-01, -4.46777344e-02,  6.22558594e-02,\n",
       "       -1.15966797e-02, -3.33984375e-01,  2.72216797e-02,  5.95703125e-02,\n",
       "       -3.71093750e-01,  1.29882812e-01, -1.02539062e-01,  2.67578125e-01,\n",
       "        5.55419922e-03,  2.40234375e-01, -8.00781250e-02,  5.39062500e-01,\n",
       "       -2.70996094e-02, -4.76562500e-01, -1.70898438e-01,  2.25830078e-02,\n",
       "        1.82617188e-01, -4.60937500e-01,  4.10156250e-02,  4.49218750e-02,\n",
       "        4.73632812e-02,  2.15820312e-01,  6.29882812e-02,  2.03125000e-01,\n",
       "        7.22656250e-02,  8.49609375e-02, -1.68945312e-01, -1.92871094e-02,\n",
       "        2.61718750e-01, -1.08886719e-01,  2.84423828e-02, -2.69531250e-01,\n",
       "        2.35595703e-02,  7.32421875e-02,  5.66406250e-02, -4.73632812e-02,\n",
       "        1.28906250e-01, -3.00781250e-01, -1.70898438e-01,  5.37109375e-02,\n",
       "        2.71484375e-01, -4.12109375e-01, -6.78710938e-02,  2.92968750e-01,\n",
       "       -4.31640625e-01,  4.51171875e-01,  3.32031250e-01, -1.95312500e-01,\n",
       "        1.51367188e-01, -7.71484375e-02,  3.19824219e-02, -2.35351562e-01,\n",
       "        4.02832031e-03,  1.37695312e-01,  2.00195312e-01, -3.55468750e-01,\n",
       "       -5.78125000e-01, -1.84570312e-01, -2.50000000e-01,  7.03125000e-02,\n",
       "       -2.87109375e-01,  2.69531250e-01, -3.20312500e-01, -1.80664062e-01,\n",
       "        2.25585938e-01, -3.80859375e-01,  3.39843750e-01, -3.06640625e-01,\n",
       "        8.34960938e-02, -2.45117188e-01,  2.85156250e-01, -2.89306641e-02,\n",
       "        2.79296875e-01,  3.51562500e-01, -4.57031250e-01,  8.78906250e-02,\n",
       "       -1.20605469e-01, -3.02734375e-01, -2.24609375e-02,  2.71484375e-01,\n",
       "        6.88476562e-02, -2.01171875e-01,  2.31445312e-01,  1.68457031e-02,\n",
       "       -4.06250000e-01,  2.17773438e-01,  1.96533203e-02, -1.34765625e-01,\n",
       "       -3.98437500e-01, -1.12792969e-01,  1.65039062e-01,  2.67578125e-01,\n",
       "        4.37500000e-01,  1.86523438e-01,  8.98437500e-02,  3.06640625e-01,\n",
       "        8.15429688e-02, -1.24511719e-02,  1.23535156e-01, -1.04003906e-01,\n",
       "        3.32031250e-01, -1.92382812e-01, -7.37304688e-02, -2.57812500e-01,\n",
       "       -1.08032227e-02, -2.09960938e-01,  2.69531250e-01,  1.01074219e-01,\n",
       "       -8.00781250e-02,  5.78613281e-02,  5.76171875e-02,  2.34375000e-01,\n",
       "       -6.07910156e-02, -1.21582031e-01,  1.32812500e-01, -5.54199219e-02,\n",
       "       -2.55859375e-01,  2.28271484e-02, -1.90429688e-01,  4.45312500e-01,\n",
       "        6.29882812e-02, -5.34057617e-03,  1.60156250e-01,  1.23046875e-01,\n",
       "       -8.88671875e-02, -1.18652344e-01,  9.52148438e-02,  1.15234375e-01,\n",
       "       -3.84765625e-01, -2.13867188e-01,  9.57031250e-02,  3.88671875e-01,\n",
       "       -1.15966797e-02, -5.74218750e-01,  3.63281250e-01,  2.26562500e-01,\n",
       "        1.53320312e-01, -2.41210938e-01,  9.27734375e-02,  4.12597656e-02,\n",
       "        1.25000000e-01,  4.98046875e-02, -2.27539062e-01, -1.00097656e-01,\n",
       "       -2.29492188e-01,  8.39843750e-02,  3.97949219e-02, -3.47656250e-01,\n",
       "       -2.65625000e-01,  3.65234375e-01,  1.64794922e-02,  2.01416016e-02,\n",
       "        1.53320312e-01,  4.32128906e-02, -3.06640625e-01,  2.22656250e-01,\n",
       "        2.02636719e-02,  3.88671875e-01, -1.04980469e-01,  2.03125000e-01,\n",
       "       -1.45507812e-01,  9.21630859e-03,  4.58984375e-02,  4.19921875e-01,\n",
       "       -2.26562500e-01,  8.05664062e-02, -2.46093750e-01,  2.03125000e-01,\n",
       "        1.90429688e-01, -2.67578125e-01,  1.08886719e-01, -1.47460938e-01,\n",
       "        1.83593750e-01,  8.64257812e-02,  3.22265625e-01, -3.24218750e-01,\n",
       "        9.66796875e-02,  6.98242188e-02, -5.35156250e-01, -8.51562500e-01,\n",
       "       -4.08203125e-01,  4.32128906e-02,  5.00000000e-01,  2.14843750e-01],\n",
       "      dtype=float32)"
      ]
     },
     "execution_count": 6,
     "metadata": {},
     "output_type": "execute_result"
    }
   ],
   "source": [
    "wv['KING']"
   ]
  },
  {
   "cell_type": "code",
   "execution_count": 8,
   "id": "c49ac2af",
   "metadata": {
    "colab": {
     "base_uri": "https://localhost:8080/"
    },
    "id": "c49ac2af",
    "outputId": "a003de38-9b27-4006-c6a7-f7008c099d60"
   },
   "outputs": [
    {
     "data": {
      "text/plain": [
       "[('cricketing', 0.8372225165367126),\n",
       " ('cricketers', 0.8165745735168457),\n",
       " ('Test_cricket', 0.8094818592071533),\n",
       " ('Twenty##_cricket', 0.8068488240242004),\n",
       " ('Twenty##', 0.7624266147613525),\n",
       " ('Cricket', 0.7541396617889404),\n",
       " ('cricketer', 0.7372579574584961),\n",
       " ('twenty##', 0.7316356897354126),\n",
       " ('T##_cricket', 0.7304614782333374),\n",
       " ('West_Indies_cricket', 0.698798656463623)]"
      ]
     },
     "execution_count": 8,
     "metadata": {},
     "output_type": "execute_result"
    }
   ],
   "source": [
    "wv.most_similar('cricket')"
   ]
  },
  {
   "cell_type": "code",
   "execution_count": 9,
   "id": "qv015GGHSUoE",
   "metadata": {
    "colab": {
     "base_uri": "https://localhost:8080/"
    },
    "id": "qv015GGHSUoE",
    "outputId": "5754c66b-546e-4cdf-d1b9-da03c7229dc4"
   },
   "outputs": [
    {
     "data": {
      "text/plain": [
       "[('cats', 0.8099379539489746),\n",
       " ('dog', 0.7609456777572632),\n",
       " ('kitten', 0.7464985251426697),\n",
       " ('feline', 0.7326233983039856),\n",
       " ('beagle', 0.7150583267211914),\n",
       " ('puppy', 0.7075453996658325),\n",
       " ('pup', 0.6934291124343872),\n",
       " ('pet', 0.6891531348228455),\n",
       " ('felines', 0.6755931377410889),\n",
       " ('chihuahua', 0.6709762215614319)]"
      ]
     },
     "execution_count": 9,
     "metadata": {},
     "output_type": "execute_result"
    }
   ],
   "source": [
    "wv.most_similar('cat')"
   ]
  },
  {
   "cell_type": "code",
   "execution_count": 10,
   "id": "LoSjaly5UAzF",
   "metadata": {
    "colab": {
     "base_uri": "https://localhost:8080/"
    },
    "id": "LoSjaly5UAzF",
    "outputId": "00ae6ac5-5491-426f-f421-cb2397d6b578"
   },
   "outputs": [
    {
     "data": {
      "text/plain": [
       "[('glad', 0.7408890128135681),\n",
       " ('pleased', 0.6632171273231506),\n",
       " ('ecstatic', 0.6626912355422974),\n",
       " ('overjoyed', 0.6599286794662476),\n",
       " ('thrilled', 0.6514049768447876),\n",
       " ('satisfied', 0.6437950134277344),\n",
       " ('proud', 0.636042058467865),\n",
       " ('delighted', 0.627237856388092),\n",
       " ('disappointed', 0.6269949674606323),\n",
       " ('excited', 0.6247666478157043)]"
      ]
     },
     "execution_count": 10,
     "metadata": {},
     "output_type": "execute_result"
    }
   ],
   "source": [
    "wv.most_similar('happy')"
   ]
  },
  {
   "cell_type": "code",
   "execution_count": 13,
   "id": "0n2-BkIdUD4F",
   "metadata": {
    "colab": {
     "base_uri": "https://localhost:8080/"
    },
    "id": "0n2-BkIdUD4F",
    "outputId": "2359e7ff-81a7-4802-c39e-920734324659"
   },
   "outputs": [
    {
     "data": {
      "text/plain": [
       "0.52397937"
      ]
     },
     "execution_count": 13,
     "metadata": {},
     "output_type": "execute_result"
    }
   ],
   "source": [
    "wv.similarity('king','royal')"
   ]
  },
  {
   "cell_type": "code",
   "execution_count": 15,
   "id": "w2a4KLdQUI5F",
   "metadata": {
    "colab": {
     "base_uri": "https://localhost:8080/"
    },
    "id": "w2a4KLdQUI5F",
    "outputId": "6ab98f64-bdce-4c19-b9f2-2869d4d0657c"
   },
   "outputs": [
    {
     "data": {
      "text/plain": [
       "array([ 0.5917969 , -0.00341797,  0.02716064, -0.05126953, -0.15454102,\n",
       "        0.1862793 ,  0.02685547, -0.07171631,  0.26171875,  0.26903534,\n",
       "       -0.09228516, -0.38085938, -0.38476562, -0.3696289 , -0.2401123 ,\n",
       "       -0.28051758,  0.05078125,  0.04989624,  0.08175659, -0.08203125,\n",
       "        0.16992188,  0.08161926,  0.19555664,  0.20703125,  0.31054688,\n",
       "       -0.15820312, -0.14746094,  0.14086914,  0.8486328 ,  0.10021973,\n",
       "        0.26417542,  0.22387695,  0.234375  ,  0.5662842 , -0.37841797,\n",
       "        0.23876953,  0.34716797,  0.01464844,  0.20800781,  0.36621094,\n",
       "        0.2331543 , -0.3696289 ,  0.44335938,  0.17889404,  0.5806885 ,\n",
       "       -0.06445312, -0.11181641,  0.07299805, -0.28515625, -0.06964111,\n",
       "       -0.54785156,  0.37402344, -0.20209503, -0.3519287 ,  0.02880859,\n",
       "        0.239151  , -0.2783203 , -0.10042381,  0.23876953, -0.04138184,\n",
       "        0.2890625 ,  0.79467773,  0.01568604,  0.14758301,  0.05175781,\n",
       "       -0.24609375, -0.08764648, -0.52246094, -0.20654297,  0.21655273,\n",
       "        0.27490234, -0.05322266, -0.42773438, -0.00439453, -0.20349121,\n",
       "        0.24365234, -0.04064941, -0.28979492,  0.1003418 , -0.36547852,\n",
       "        0.48120117,  0.12548828, -0.09814453, -0.3494873 ,  0.4946289 ,\n",
       "        0.171875  , -0.43017578, -0.04394531,  0.21728516, -0.10131836,\n",
       "        0.43066406,  0.16772461, -0.11535645, -0.1965332 , -0.05126953,\n",
       "        0.13778687, -0.4107666 ,  0.32495117, -0.06298828, -0.29541016,\n",
       "       -0.09765625,  0.01074219,  0.4165039 , -0.26708984,  0.02832031,\n",
       "       -0.09570312, -0.22888184,  0.11260033, -0.03833008, -0.26885986,\n",
       "        0.15795898,  0.22705078,  0.03283882, -0.3597412 ,  0.4065094 ,\n",
       "       -0.13806152, -0.19932556, -0.0559082 ,  0.07943726,  0.3930664 ,\n",
       "        0.59765625, -0.11889648, -0.421875  , -0.13916016, -0.15942383,\n",
       "       -0.22540283,  0.16455078, -0.2984619 , -0.06152344, -0.36450195,\n",
       "       -0.00488281,  0.33398438,  0.36083984,  0.11248779, -0.14746094,\n",
       "        0.07867432, -0.2121582 ,  0.26342773,  0.02783203,  0.6503906 ,\n",
       "        0.35205078,  0.08496094, -0.03125   ,  0.26428223,  0.33691406,\n",
       "       -0.21191406,  0.06738281, -0.35351562, -0.01171875,  0.27209473,\n",
       "       -0.1171875 ,  0.02099609, -0.2692871 ,  0.12646484, -0.5812988 ,\n",
       "       -0.04150391,  0.13305664,  0.0703125 ,  0.11816406, -0.06689453,\n",
       "       -0.20947266,  0.12994385,  0.6484375 , -0.3173828 , -0.16955566,\n",
       "       -0.08105469,  0.40405273, -0.30029297,  0.07803345,  0.2697754 ,\n",
       "       -0.05151367,  0.18237305,  0.17504883,  0.06054688, -0.22949219,\n",
       "        0.04418945, -0.1340332 ,  0.13586426, -0.10681152, -0.0637207 ,\n",
       "       -0.16088867,  0.24584961, -0.05578613, -0.20605469,  0.07614136,\n",
       "        0.13201904,  0.29736328,  0.16137695,  0.11450195, -0.09619141,\n",
       "       -0.09002686,  0.23046875, -0.12890625,  0.08868408, -0.02563477,\n",
       "       -0.13928223, -0.35003662, -0.27441406, -0.06054688, -0.41918945,\n",
       "       -0.03955078, -0.05834961, -0.10095215,  0.06103516,  0.14257812,\n",
       "       -0.14013672,  0.27929688,  0.2854004 ,  0.20581055, -0.1574707 ,\n",
       "       -0.00585938,  0.19030762, -0.1459961 , -0.30566406, -0.17578125,\n",
       "       -0.0769043 ,  0.01981354, -0.25341797, -0.375     ,  0.03887939,\n",
       "        0.23217773, -0.2265625 ,  0.21679688, -0.08886719,  0.25317383,\n",
       "        0.47180176,  0.15234375, -0.015625  ,  0.05517578,  0.10864258,\n",
       "       -0.24511719, -0.56396484, -0.27148438, -0.11700439,  0.13427734,\n",
       "        0.26831055, -0.03149414,  0.01039886, -0.06958008, -0.0760498 ,\n",
       "        0.06542969, -0.03894043, -0.18976593,  0.07666016,  0.03771973,\n",
       "       -0.16796875, -0.12158203, -0.13769531,  0.76782227, -0.27124023,\n",
       "       -0.02514648,  0.0222168 ,  0.10595703,  0.34960938,  0.2705078 ,\n",
       "        0.28759766, -0.6879883 , -0.11035156, -0.37939453, -0.21643066,\n",
       "        0.23730469,  0.30859375, -0.32617188, -0.04858398,  0.00830078,\n",
       "        0.09814453,  0.09521484, -0.01074219,  0.08178711, -0.02636719,\n",
       "       -0.14550781, -0.11730957,  0.17773438, -0.03137207, -0.3640747 ,\n",
       "        0.00268555, -0.18835449,  0.06494141, -0.6357422 , -0.09130859,\n",
       "        0.20996094,  0.04052734,  0.42822266,  0.41064453,  0.34350586,\n",
       "       -0.04223633,  0.05004883, -0.01550293,  0.03088379, -0.08569336,\n",
       "        0.0475769 , -0.37548828, -0.23632812, -0.12597656, -0.08251953,\n",
       "       -0.23175049, -0.5307617 , -0.43554688, -0.08886719,  0.21582031],\n",
       "      dtype=float32)"
      ]
     },
     "execution_count": 15,
     "metadata": {},
     "output_type": "execute_result"
    }
   ],
   "source": [
    "wv['king']-wv['women']+wv['man']"
   ]
  },
  {
   "cell_type": "code",
   "execution_count": null,
   "id": "L0fNm3FpUUUl",
   "metadata": {
    "id": "L0fNm3FpUUUl"
   },
   "outputs": [],
   "source": []
  },
  {
   "cell_type": "code",
   "execution_count": null,
   "id": "043c978e",
   "metadata": {},
   "outputs": [],
   "source": []
  },
  {
   "cell_type": "code",
   "execution_count": null,
   "id": "9a44bf7d",
   "metadata": {},
   "outputs": [],
   "source": []
  },
  {
   "cell_type": "markdown",
   "id": "15528ffb",
   "metadata": {},
   "source": [
    "# Regular Expression"
   ]
  },
  {
   "cell_type": "code",
   "execution_count": 1,
   "id": "d1740436",
   "metadata": {},
   "outputs": [],
   "source": [
    "import re"
   ]
  },
  {
   "cell_type": "code",
   "execution_count": 4,
   "id": "8bb3cb45",
   "metadata": {},
   "outputs": [],
   "source": [
    "text=\"\"\"Narendra Damodardas Modi (Gujarati: [ˈnəɾendɾə dɑmodəɾˈdɑs ˈmodiː] (listen); born 17 September 1950)[a] is an Indian politician serving as the 14th and current prime minister of India since 2014. Modi was the chief minister of Gujarat from 2001 to 2014 and is the Member of Parliament from Varanasi. He is a member of the Bharatiya Janata Party (BJP) and of the Rashtriya Swayamsevak Sangh (RSS), a right-wing Hindu nationalist paramilitary volunteer organisation. He is the first prime minister to have been born after India's independence in 1947 and the second prime minister not belonging to the Indian National Congress to have won two consecutive majorities in the Lok Sabha, or the lower house of India's parliament. He is also the longest serving prime minister from a non-Congress party.\n",
    "\n",
    "Born and raised in Vadnagar, a small town in northeastern Gujarat, Modi completed his secondary education there. He was introduced to the RSS at age eight. He has drawn attention to having to work as a child in his father's tea stall on the Vadnagar railway station platform, a description that has not been reliably corroborated. At age 18, Modi was married to Jashodaben Chimanlal Modi, whom he abandoned soon after. He left his parental home where she had come to live. He first publicly acknowledged her as his wife more than four decades later when required to do so by Indian law, but has made no contact with her since. Modi has asserted he had travelled in northern India for two years after leaving his parental home, visiting a number of religious centres, but few details of his travels have emerged. Upon his return to Gujarat in 1971, he became a full-time worker for the RSS. After the state of emergency was declared by prime minister Indira Gandhi in 1975, Modi went into hiding. The RSS assigned him to the BJP in 1985 and he held several positions within the party hierarchy until 2001, rising to the rank of general secretary.[b]\n",
    "\n",
    "Modi was appointed Chief Minister of Gujarat in 2001 due to Keshubhai Patel's failing health and poor public image following the earthquake in Bhuj. Modi was elected to the legislative assembly soon after. His administration has been considered complicit in the 2002 Gujarat riots in which 1044 people were killed, three-quarters of whom were Muslim,[c] or otherwise criticised for its management of the crisis. A Supreme Court of India–appointed Special Investigation Team found no evidence to initiate prosecution proceedings against Modi personally.[d] While his policies as chief minister—credited with encouraging economic growth—have received praise, his administration has been criticised for failing to significantly improve health, poverty and education indices in the state.[e]\n",
    "\n",
    "Modi led the BJP in the 2014 general election which gave the party a majority in the lower house of Indian parliament, the Lok Sabha, the first time for any single party since 1984. Modi's administration has tried to raise foreign direct investment in the Indian economy and reduced spending on healthcare and social welfare programmes. Modi has attempted to improve efficiency in the bureaucracy; he has centralised power by abolishing the Planning Commission. He began a high-profile sanitation campaign, controversially initiated a demonetisation of high-denomination banknotes and transformation of taxation regime, and weakened or abolished environmental and labour laws.\n",
    "\n",
    "Under Modi's tenure, India has experienced democratic backsliding.[12][13][f] Following his party's victory in the 2019 general election, his administration revoked the special status of Jammu and Kashmir, introduced the Citizenship Amendment Act and three controversial farm laws, which prompted widespread protests and sit-ins across the country, resulting in a formal repeal of the latter. Described as engineering a political realignment towards right-wing politics, Modi remains a figure of controversy domestically and internationally over his Hindu nationalist beliefs and his handling of the 2002 Gujarat riots, cited as evidence of an exclusionary social agenda.[g]\"\"\""
   ]
  },
  {
   "cell_type": "code",
   "execution_count": 5,
   "id": "793f4070",
   "metadata": {},
   "outputs": [
    {
     "data": {
      "text/plain": [
       "['Modi',\n",
       " 'Modi',\n",
       " 'Modi',\n",
       " 'Modi',\n",
       " 'Modi',\n",
       " 'Modi',\n",
       " 'Modi',\n",
       " 'Modi',\n",
       " 'Modi',\n",
       " 'Modi',\n",
       " 'Modi',\n",
       " 'Modi',\n",
       " 'Modi',\n",
       " 'Modi',\n",
       " 'Modi']"
      ]
     },
     "execution_count": 5,
     "metadata": {},
     "output_type": "execute_result"
    }
   ],
   "source": [
    "re.findall('Modi',text)"
   ]
  },
  {
   "cell_type": "code",
   "execution_count": 6,
   "id": "7b6b1b49",
   "metadata": {},
   "outputs": [],
   "source": [
    "def find_pattern(text, patterns):\n",
    "    if re.search(patterns, text):\n",
    "        return re.search(patterns,text)\n",
    "    else:\n",
    "        return \"Not FOund\"\n",
    "    "
   ]
  },
  {
   "cell_type": "code",
   "execution_count": 12,
   "id": "da48dec2",
   "metadata": {},
   "outputs": [
    {
     "data": {
      "text/plain": [
       "'Not FOund'"
      ]
     },
     "execution_count": 12,
     "metadata": {},
     "output_type": "execute_result"
    }
   ],
   "source": [
    "find_pattern(text,'Godi')\n"
   ]
  },
  {
   "cell_type": "code",
   "execution_count": null,
   "id": "daeded5d",
   "metadata": {},
   "outputs": [],
   "source": []
  }
 ],
 "metadata": {
  "colab": {
   "include_colab_link": true,
   "name": "Copy of Tokenizer.ipynb",
   "provenance": [],
   "toc_visible": true
  },
  "kernelspec": {
   "display_name": "Python 3",
   "language": "python",
   "name": "python3"
  },
  "language_info": {
   "codemirror_mode": {
    "name": "ipython",
    "version": 3
   },
   "file_extension": ".py",
   "mimetype": "text/x-python",
   "name": "python",
   "nbconvert_exporter": "python",
   "pygments_lexer": "ipython3",
   "version": "3.8.8"
  }
 },
 "nbformat": 4,
 "nbformat_minor": 5
}
