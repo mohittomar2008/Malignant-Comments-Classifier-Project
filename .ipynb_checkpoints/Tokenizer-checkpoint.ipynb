{
 "cells": [
  {
   "cell_type": "code",
   "execution_count": 32,
   "id": "39f54c39",
   "metadata": {},
   "outputs": [
    {
     "name": "stdout",
     "output_type": "stream",
     "text": [
      "Requirement already satisfied: nltk in c:\\users\\bank of america\\anaconda3\\lib\\site-packages (3.7)\n",
      "Requirement already satisfied: click in c:\\users\\bank of america\\anaconda3\\lib\\site-packages (from nltk) (8.0.4)\n",
      "Requirement already satisfied: regex>=2021.8.3 in c:\\users\\bank of america\\anaconda3\\lib\\site-packages (from nltk) (2022.3.15)\n",
      "Requirement already satisfied: tqdm in c:\\users\\bank of america\\anaconda3\\lib\\site-packages (from nltk) (4.64.0)\n",
      "Requirement already satisfied: joblib in c:\\users\\bank of america\\anaconda3\\lib\\site-packages (from nltk) (1.1.0)\n",
      "Requirement already satisfied: colorama in c:\\users\\bank of america\\anaconda3\\lib\\site-packages (from click->nltk) (0.4.4)\n"
     ]
    }
   ],
   "source": [
    "!pip install nltk"
   ]
  },
  {
   "cell_type": "code",
   "execution_count": 4,
   "id": "bc165e46",
   "metadata": {},
   "outputs": [
    {
     "name": "stderr",
     "output_type": "stream",
     "text": [
      "[nltk_data] Downloading package punkt to C:\\Users\\Bank of\n",
      "[nltk_data]     America\\AppData\\Roaming\\nltk_data...\n",
      "[nltk_data]   Unzipping tokenizers\\punkt.zip.\n"
     ]
    },
    {
     "data": {
      "text/plain": [
       "True"
      ]
     },
     "execution_count": 4,
     "metadata": {},
     "output_type": "execute_result"
    }
   ],
   "source": [
    "import nltk\n",
    "nltk.download('punkt')"
   ]
  },
  {
   "cell_type": "code",
   "execution_count": 19,
   "id": "1c3d2b2f",
   "metadata": {},
   "outputs": [],
   "source": [
    "import nltk\n",
    "\n",
    "from nltk.tokenize import word_tokenize,sent_tokenize,TweetTokenizer, RegexpTokenizer\n"
   ]
  },
  {
   "cell_type": "markdown",
   "id": "1164a28d",
   "metadata": {},
   "source": [
    "## Word Tokenizer     split sentence into words"
   ]
  },
  {
   "cell_type": "code",
   "execution_count": 7,
   "id": "a5b5da74",
   "metadata": {},
   "outputs": [],
   "source": [
    "words=word_tokenize(\"Tendulkar took up cricket at the age of eleven\")"
   ]
  },
  {
   "cell_type": "code",
   "execution_count": 8,
   "id": "89c824d6",
   "metadata": {},
   "outputs": [
    {
     "data": {
      "text/plain": [
       "['Tendulkar', 'took', 'up', 'cricket', 'at', 'the', 'age', 'of', 'eleven']"
      ]
     },
     "execution_count": 8,
     "metadata": {},
     "output_type": "execute_result"
    }
   ],
   "source": [
    "words"
   ]
  },
  {
   "cell_type": "code",
   "execution_count": null,
   "id": "2281355c",
   "metadata": {},
   "outputs": [],
   "source": []
  },
  {
   "cell_type": "markdown",
   "id": "c2daada4",
   "metadata": {},
   "source": [
    "## Sentence tokenizer    split corpus into sentence"
   ]
  },
  {
   "cell_type": "code",
   "execution_count": 11,
   "id": "00562f8c",
   "metadata": {},
   "outputs": [],
   "source": [
    "sentences=sent_tokenize(\"Tendulkar took up cricket at the age of eleven, made his Test match debut on 15 November 1989 against Pakistan in Karachi at the age of sixteen, and went on to represent Mumbai domestically and India internationally for close to twenty-four years. In 2002, halfway through his career, Wisden ranked him the second-greatest Test batsman of all time, behind Don Bradman, and the second-greatest ODI batsman of all time, behind Viv Richards.\")"
   ]
  },
  {
   "cell_type": "code",
   "execution_count": 12,
   "id": "6933cb3a",
   "metadata": {},
   "outputs": [
    {
     "name": "stdout",
     "output_type": "stream",
     "text": [
      "['Tendulkar took up cricket at the age of eleven, made his Test match debut on 15 November 1989 against Pakistan in Karachi at the age of sixteen, and went on to represent Mumbai domestically and India internationally for close to twenty-four years.', 'In 2002, halfway through his career, Wisden ranked him the second-greatest Test batsman of all time, behind Don Bradman, and the second-greatest ODI batsman of all time, behind Viv Richards.']\n"
     ]
    }
   ],
   "source": [
    "print(sentences)"
   ]
  },
  {
   "cell_type": "code",
   "execution_count": 13,
   "id": "e6f57e9b",
   "metadata": {},
   "outputs": [],
   "source": [
    "words=[word_tokenize(sentence) for sentence in sentences]"
   ]
  },
  {
   "cell_type": "code",
   "execution_count": 16,
   "id": "14839b37",
   "metadata": {},
   "outputs": [
    {
     "name": "stdout",
     "output_type": "stream",
     "text": [
      "[['Tendulkar', 'took', 'up', 'cricket', 'at', 'the', 'age', 'of', 'eleven', ',', 'made', 'his', 'Test', 'match', 'debut', 'on', '15', 'November', '1989', 'against', 'Pakistan', 'in', 'Karachi', 'at', 'the', 'age', 'of', 'sixteen', ',', 'and', 'went', 'on', 'to', 'represent', 'Mumbai', 'domestically', 'and', 'India', 'internationally', 'for', 'close', 'to', 'twenty-four', 'years', '.'], ['In', '2002', ',', 'halfway', 'through', 'his', 'career', ',', 'Wisden', 'ranked', 'him', 'the', 'second-greatest', 'Test', 'batsman', 'of', 'all', 'time', ',', 'behind', 'Don', 'Bradman', ',', 'and', 'the', 'second-greatest', 'ODI', 'batsman', 'of', 'all', 'time', ',', 'behind', 'Viv', 'Richards', '.']]\n"
     ]
    }
   ],
   "source": [
    "print(words)"
   ]
  },
  {
   "cell_type": "markdown",
   "id": "15c6d7e0",
   "metadata": {},
   "source": [
    " ## Tweet tokenizer"
   ]
  },
  {
   "cell_type": "code",
   "execution_count": 17,
   "id": "5aa97be3",
   "metadata": {},
   "outputs": [
    {
     "data": {
      "text/plain": [
       "['Never',\n",
       " 'ask',\n",
       " 'a',\n",
       " 'girl',\n",
       " 'who',\n",
       " 'is',\n",
       " 'a',\n",
       " '#Twitter',\n",
       " 'addict',\n",
       " 'why',\n",
       " \"she's\",\n",
       " 'late',\n",
       " ':)']"
      ]
     },
     "execution_count": 17,
     "metadata": {},
     "output_type": "execute_result"
    }
   ],
   "source": [
    "twtokenizer= TweetTokenizer()  # its a class\n",
    "twtokenizer.tokenize(\"Never ask a girl who is a #Twitter addict why she's late :)\")"
   ]
  },
  {
   "cell_type": "code",
   "execution_count": 18,
   "id": "9d1d746c",
   "metadata": {},
   "outputs": [
    {
     "data": {
      "text/plain": [
       "['Never',\n",
       " 'ask',\n",
       " 'a',\n",
       " 'girl',\n",
       " 'who',\n",
       " 'is',\n",
       " 'a',\n",
       " '#',\n",
       " 'Twitter',\n",
       " 'addict',\n",
       " 'why',\n",
       " 'she',\n",
       " \"'s\",\n",
       " 'late',\n",
       " ':',\n",
       " ')']"
      ]
     },
     "execution_count": 18,
     "metadata": {},
     "output_type": "execute_result"
    }
   ],
   "source": [
    "word_tokenize(\"Never ask a girl who is a #Twitter addict why she's late :)\")"
   ]
  },
  {
   "cell_type": "markdown",
   "id": "5aba147b",
   "metadata": {},
   "source": [
    "## Regular exp tokenizer"
   ]
  },
  {
   "cell_type": "code",
   "execution_count": 24,
   "id": "91eaade5",
   "metadata": {},
   "outputs": [],
   "source": [
    "rextoken=RegexpTokenizer('\\s+',gaps=True)"
   ]
  },
  {
   "cell_type": "code",
   "execution_count": 25,
   "id": "a951d5e8",
   "metadata": {},
   "outputs": [
    {
     "data": {
      "text/plain": [
       "['Tendulkar', 'took', 'up', 'cricket', 'at', 'the', 'age', 'of', 'eleven']"
      ]
     },
     "execution_count": 25,
     "metadata": {},
     "output_type": "execute_result"
    }
   ],
   "source": [
    "rextoken.tokenize(\"Tendulkar took up cricket at the age of eleven\")"
   ]
  },
  {
   "cell_type": "code",
   "execution_count": null,
   "id": "0a106158",
   "metadata": {},
   "outputs": [],
   "source": []
  },
  {
   "cell_type": "code",
   "execution_count": null,
   "id": "78ad6e62",
   "metadata": {},
   "outputs": [],
   "source": []
  },
  {
   "cell_type": "markdown",
   "id": "1cf136ee",
   "metadata": {},
   "source": [
    "## Stemming and Lemmatization"
   ]
  },
  {
   "cell_type": "code",
   "execution_count": 27,
   "id": "c0a127ce",
   "metadata": {},
   "outputs": [],
   "source": [
    "import nltk\n",
    "\n",
    "from nltk.stem.porter import PorterStemmer  # onr more stemm type, not much popular\n",
    "from nltk.stem import WordNetLemmatizer\n",
    "\n",
    "\n",
    "# both stem and lemmi ar class, first assign object of these class"
   ]
  },
  {
   "cell_type": "code",
   "execution_count": 28,
   "id": "55325bf2",
   "metadata": {},
   "outputs": [],
   "source": [
    "stemmer= PorterStemmer()\n",
    "wordnet_lemmitizer= WordNetLemmatizer()"
   ]
  },
  {
   "cell_type": "code",
   "execution_count": 29,
   "id": "73d9bad5",
   "metadata": {},
   "outputs": [
    {
     "data": {
      "text/plain": [
       "'bought'"
      ]
     },
     "execution_count": 29,
     "metadata": {},
     "output_type": "execute_result"
    }
   ],
   "source": [
    "stemmer.stem('bought')"
   ]
  },
  {
   "cell_type": "code",
   "execution_count": 37,
   "id": "f0fc0fc4",
   "metadata": {},
   "outputs": [
    {
     "name": "stderr",
     "output_type": "stream",
     "text": [
      "[nltk_data] Downloading package wordnet to C:\\Users\\Bank of\n",
      "[nltk_data]     America\\AppData\\Roaming\\nltk_data...\n",
      "[nltk_data]   Package wordnet is already up-to-date!\n",
      "[nltk_data] Downloading package omw-1.4 to C:\\Users\\Bank of\n",
      "[nltk_data]     America\\AppData\\Roaming\\nltk_data...\n"
     ]
    },
    {
     "data": {
      "text/plain": [
       "True"
      ]
     },
     "execution_count": 37,
     "metadata": {},
     "output_type": "execute_result"
    }
   ],
   "source": [
    "import nltk\n",
    "nltk.download('wordnet')\n",
    "nltk.download('omw-1.4')"
   ]
  },
  {
   "cell_type": "code",
   "execution_count": 40,
   "id": "50873349",
   "metadata": {},
   "outputs": [
    {
     "data": {
      "text/plain": [
       "'buy'"
      ]
     },
     "execution_count": 40,
     "metadata": {},
     "output_type": "execute_result"
    }
   ],
   "source": [
    "wordnet_lemmitizer.lemmatize('bought',pos='v')"
   ]
  },
  {
   "cell_type": "code",
   "execution_count": 41,
   "id": "8e29586b",
   "metadata": {},
   "outputs": [
    {
     "data": {
      "text/plain": [
       "'aros'"
      ]
     },
     "execution_count": 41,
     "metadata": {},
     "output_type": "execute_result"
    }
   ],
   "source": [
    "stemmer.stem('arose')"
   ]
  },
  {
   "cell_type": "code",
   "execution_count": 42,
   "id": "94459f4d",
   "metadata": {},
   "outputs": [
    {
     "data": {
      "text/plain": [
       "'arise'"
      ]
     },
     "execution_count": 42,
     "metadata": {},
     "output_type": "execute_result"
    }
   ],
   "source": [
    "wordnet_lemmitizer.lemmatize('arose',pos='v')  # part od speech verb= v, noun='n'"
   ]
  },
  {
   "cell_type": "code",
   "execution_count": 43,
   "id": "0dc6e5fe",
   "metadata": {},
   "outputs": [
    {
     "data": {
      "text/plain": [
       "'foot'"
      ]
     },
     "execution_count": 43,
     "metadata": {},
     "output_type": "execute_result"
    }
   ],
   "source": [
    "wordnet_lemmitizer.lemmatize('feet',pos='n') "
   ]
  },
  {
   "cell_type": "markdown",
   "id": "290995c7",
   "metadata": {},
   "source": [
    "# Krish Naik tutorrial"
   ]
  },
  {
   "cell_type": "code",
   "execution_count": 46,
   "id": "41e6dec0",
   "metadata": {},
   "outputs": [],
   "source": [
    "paragraph=\"\"\"\n",
    "Narendra Damodardas Modi (Gujarati: [ˈnəɾendɾə dɑmodəɾˈdɑs ˈmodiː] (listen); born 17 September 1950)[a] is an Indian politician serving as the 14th and current prime minister of India since 2014. Modi was the chief minister of Gujarat from 2001 to 2014 and is the Member of Parliament from Varanasi. He is a member of the Bharatiya Janata Party (BJP) and of the Rashtriya Swayamsevak Sangh (RSS), a right-wing Hindu nationalist paramilitary volunteer organisation. He is the first prime minister to have been born after India's independence in 1947 and the second prime minister not belonging to the Indian National Congress to have won two consecutive majorities in the Lok Sabha, or the lower house of India's parliament. He is also the longest serving prime minister from a non-Congress party.\n",
    "\n",
    "Born and raised in Vadnagar, a small town in northeastern Gujarat, Modi completed his secondary education there. He was introduced to the RSS at age eight. He has drawn attention to having to work as a child in his father's tea stall on the Vadnagar railway station platform, a description that has not been reliably corroborated. At age 18, Modi was married to Jashodaben Chimanlal Modi, whom he abandoned soon after. He left his parental home where she had come to live. He first publicly acknowledged her as his wife more than four decades later when required to do so by Indian law, but has made no contact with her since. Modi has asserted he had travelled in northern India for two years after leaving his parental home, visiting a number of religious centres, but few details of his travels have emerged. Upon his return to Gujarat in 1971, he became a full-time worker for the RSS. After the state of emergency was declared by prime minister Indira Gandhi in 1975, Modi went into hiding. The RSS assigned him to the BJP in 1985 and he held several positions within the party hierarchy until 2001, rising to the rank of general secretary.[b]\"\"\""
   ]
  },
  {
   "cell_type": "code",
   "execution_count": 47,
   "id": "ef477ab7",
   "metadata": {},
   "outputs": [
    {
     "data": {
      "text/plain": [
       "\"\\nNarendra Damodardas Modi (Gujarati: [ˈnəɾendɾə dɑmodəɾˈdɑs ˈmodiː] (listen); born 17 September 1950)[a] is an Indian politician serving as the 14th and current prime minister of India since 2014. Modi was the chief minister of Gujarat from 2001 to 2014 and is the Member of Parliament from Varanasi. He is a member of the Bharatiya Janata Party (BJP) and of the Rashtriya Swayamsevak Sangh (RSS), a right-wing Hindu nationalist paramilitary volunteer organisation. He is the first prime minister to have been born after India's independence in 1947 and the second prime minister not belonging to the Indian National Congress to have won two consecutive majorities in the Lok Sabha, or the lower house of India's parliament. He is also the longest serving prime minister from a non-Congress party.\\n\\nBorn and raised in Vadnagar, a small town in northeastern Gujarat, Modi completed his secondary education there. He was introduced to the RSS at age eight. He has drawn attention to having to work as a child in his father's tea stall on the Vadnagar railway station platform, a description that has not been reliably corroborated. At age 18, Modi was married to Jashodaben Chimanlal Modi, whom he abandoned soon after. He left his parental home where she had come to live. He first publicly acknowledged her as his wife more than four decades later when required to do so by Indian law, but has made no contact with her since. Modi has asserted he had travelled in northern India for two years after leaving his parental home, visiting a number of religious centres, but few details of his travels have emerged. Upon his return to Gujarat in 1971, he became a full-time worker for the RSS. After the state of emergency was declared by prime minister Indira Gandhi in 1975, Modi went into hiding. The RSS assigned him to the BJP in 1985 and he held several positions within the party hierarchy until 2001, rising to the rank of general secretary.[b]\""
      ]
     },
     "execution_count": 47,
     "metadata": {},
     "output_type": "execute_result"
    }
   ],
   "source": [
    "paragraph"
   ]
  },
  {
   "cell_type": "code",
   "execution_count": 48,
   "id": "00df1c2d",
   "metadata": {},
   "outputs": [],
   "source": [
    "import nltk\n",
    "from nltk.corpus import stopwords\n",
    "from nltk.stem import PorterStemmer\n",
    "from nltk.stem import WordNetLemmatizer"
   ]
  },
  {
   "cell_type": "code",
   "execution_count": 50,
   "id": "b47bf62f",
   "metadata": {},
   "outputs": [
    {
     "name": "stderr",
     "output_type": "stream",
     "text": [
      "[nltk_data] Downloading package punkt to C:\\Users\\Bank of\n",
      "[nltk_data]     America\\AppData\\Roaming\\nltk_data...\n",
      "[nltk_data]   Package punkt is already up-to-date!\n"
     ]
    }
   ],
   "source": [
    "## Tokenization:  convert paragraph into sentences and focus on words\n",
    "\n",
    "nltk.download('punkt')\n",
    "sentences=nltk.sent_tokenize(paragraph)"
   ]
  },
  {
   "cell_type": "code",
   "execution_count": 51,
   "id": "77fcb3d7",
   "metadata": {},
   "outputs": [
    {
     "name": "stdout",
     "output_type": "stream",
     "text": [
      "['\\nNarendra Damodardas Modi (Gujarati: [ˈnəɾendɾə dɑmodəɾˈdɑs ˈmodiː] (listen); born 17 September 1950)[a] is an Indian politician serving as the 14th and current prime minister of India since 2014.', 'Modi was the chief minister of Gujarat from 2001 to 2014 and is the Member of Parliament from Varanasi.', 'He is a member of the Bharatiya Janata Party (BJP) and of the Rashtriya Swayamsevak Sangh (RSS), a right-wing Hindu nationalist paramilitary volunteer organisation.', \"He is the first prime minister to have been born after India's independence in 1947 and the second prime minister not belonging to the Indian National Congress to have won two consecutive majorities in the Lok Sabha, or the lower house of India's parliament.\", 'He is also the longest serving prime minister from a non-Congress party.', 'Born and raised in Vadnagar, a small town in northeastern Gujarat, Modi completed his secondary education there.', 'He was introduced to the RSS at age eight.', \"He has drawn attention to having to work as a child in his father's tea stall on the Vadnagar railway station platform, a description that has not been reliably corroborated.\", 'At age 18, Modi was married to Jashodaben Chimanlal Modi, whom he abandoned soon after.', 'He left his parental home where she had come to live.', 'He first publicly acknowledged her as his wife more than four decades later when required to do so by Indian law, but has made no contact with her since.', 'Modi has asserted he had travelled in northern India for two years after leaving his parental home, visiting a number of religious centres, but few details of his travels have emerged.', 'Upon his return to Gujarat in 1971, he became a full-time worker for the RSS.', 'After the state of emergency was declared by prime minister Indira Gandhi in 1975, Modi went into hiding.', 'The RSS assigned him to the BJP in 1985 and he held several positions within the party hierarchy until 2001, rising to the rank of general secretary.', '[b]']\n"
     ]
    }
   ],
   "source": [
    "print(sentences)"
   ]
  },
  {
   "cell_type": "code",
   "execution_count": 53,
   "id": "00b8242f",
   "metadata": {},
   "outputs": [
    {
     "data": {
      "text/plain": [
       "16"
      ]
     },
     "execution_count": 53,
     "metadata": {},
     "output_type": "execute_result"
    }
   ],
   "source": [
    "len(sentences)"
   ]
  },
  {
   "cell_type": "code",
   "execution_count": 52,
   "id": "559e32d1",
   "metadata": {},
   "outputs": [],
   "source": [
    "# clean special character\n",
    "\n",
    "import re"
   ]
  },
  {
   "cell_type": "code",
   "execution_count": 67,
   "id": "c5909877",
   "metadata": {},
   "outputs": [],
   "source": [
    "import re\n",
    "corpus=[]\n",
    "for i in range(len(sentences)):\n",
    "    review=re.sub('[^a-zA-Z]',' ',sentences[i])\n",
    "    review=review.lower()\n",
    "    corpus.append(review)"
   ]
  },
  {
   "cell_type": "code",
   "execution_count": 68,
   "id": "e98f92bc",
   "metadata": {},
   "outputs": [
    {
     "data": {
      "text/plain": [
       "[' narendra damodardas modi  gujarati    n  end   d mod   d s  modi    listen   born    september       a  is an indian politician serving as the   th and current prime minister of india since      ',\n",
       " 'modi was the chief minister of gujarat from      to      and is the member of parliament from varanasi ',\n",
       " 'he is a member of the bharatiya janata party  bjp  and of the rashtriya swayamsevak sangh  rss   a right wing hindu nationalist paramilitary volunteer organisation ',\n",
       " 'he is the first prime minister to have been born after india s independence in      and the second prime minister not belonging to the indian national congress to have won two consecutive majorities in the lok sabha  or the lower house of india s parliament ',\n",
       " 'he is also the longest serving prime minister from a non congress party ',\n",
       " 'born and raised in vadnagar  a small town in northeastern gujarat  modi completed his secondary education there ',\n",
       " 'he was introduced to the rss at age eight ',\n",
       " 'he has drawn attention to having to work as a child in his father s tea stall on the vadnagar railway station platform  a description that has not been reliably corroborated ',\n",
       " 'at age     modi was married to jashodaben chimanlal modi  whom he abandoned soon after ',\n",
       " 'he left his parental home where she had come to live ',\n",
       " 'he first publicly acknowledged her as his wife more than four decades later when required to do so by indian law  but has made no contact with her since ',\n",
       " 'modi has asserted he had travelled in northern india for two years after leaving his parental home  visiting a number of religious centres  but few details of his travels have emerged ',\n",
       " 'upon his return to gujarat in       he became a full time worker for the rss ',\n",
       " 'after the state of emergency was declared by prime minister indira gandhi in       modi went into hiding ',\n",
       " 'the rss assigned him to the bjp in      and he held several positions within the party hierarchy until       rising to the rank of general secretary ',\n",
       " ' b ']"
      ]
     },
     "execution_count": 68,
     "metadata": {},
     "output_type": "execute_result"
    }
   ],
   "source": [
    "corpus"
   ]
  },
  {
   "cell_type": "code",
   "execution_count": 69,
   "id": "dc708d26",
   "metadata": {},
   "outputs": [
    {
     "name": "stderr",
     "output_type": "stream",
     "text": [
      "[nltk_data] Downloading package stopwords to C:\\Users\\Bank of\n",
      "[nltk_data]     America\\AppData\\Roaming\\nltk_data...\n",
      "[nltk_data]   Package stopwords is already up-to-date!\n"
     ]
    },
    {
     "data": {
      "text/plain": [
       "True"
      ]
     },
     "execution_count": 69,
     "metadata": {},
     "output_type": "execute_result"
    }
   ],
   "source": [
    "import nltk\n",
    "nltk.download('stopwords')\n"
   ]
  },
  {
   "cell_type": "code",
   "execution_count": 70,
   "id": "c02b2257",
   "metadata": {},
   "outputs": [
    {
     "name": "stdout",
     "output_type": "stream",
     "text": [
      "narendra\n",
      "damodarda\n",
      "modi\n",
      "gujarati\n",
      "n\n",
      "end\n",
      "mod\n",
      "modi\n",
      "listen\n",
      "born\n",
      "septemb\n",
      "indian\n",
      "politician\n",
      "serv\n",
      "th\n",
      "current\n",
      "prime\n",
      "minist\n",
      "india\n",
      "sinc\n",
      "modi\n",
      "chief\n",
      "minist\n",
      "gujarat\n",
      "member\n",
      "parliament\n",
      "varanasi\n",
      "member\n",
      "bharatiya\n",
      "janata\n",
      "parti\n",
      "bjp\n",
      "rashtriya\n",
      "swayamsevak\n",
      "sangh\n",
      "rss\n",
      "right\n",
      "wing\n",
      "hindu\n",
      "nationalist\n",
      "paramilitari\n",
      "volunt\n",
      "organis\n",
      "first\n",
      "prime\n",
      "minist\n",
      "born\n",
      "india\n",
      "independ\n",
      "second\n",
      "prime\n",
      "minist\n",
      "belong\n",
      "indian\n",
      "nation\n",
      "congress\n",
      "two\n",
      "consecut\n",
      "major\n",
      "lok\n",
      "sabha\n",
      "lower\n",
      "hous\n",
      "india\n",
      "parliament\n",
      "also\n",
      "longest\n",
      "serv\n",
      "prime\n",
      "minist\n",
      "non\n",
      "congress\n",
      "parti\n",
      "born\n",
      "rais\n",
      "vadnagar\n",
      "small\n",
      "town\n",
      "northeastern\n",
      "gujarat\n",
      "modi\n",
      "complet\n",
      "secondari\n",
      "educ\n",
      "introduc\n",
      "rss\n",
      "age\n",
      "eight\n",
      "drawn\n",
      "attent\n",
      "work\n",
      "child\n",
      "father\n",
      "tea\n",
      "stall\n",
      "vadnagar\n",
      "railway\n",
      "station\n",
      "platform\n",
      "descript\n",
      "reliabl\n",
      "corrobor\n",
      "age\n",
      "modi\n",
      "marri\n",
      "jashodaben\n",
      "chimanl\n",
      "modi\n",
      "abandon\n",
      "soon\n",
      "left\n",
      "parent\n",
      "home\n",
      "come\n",
      "live\n",
      "first\n",
      "publicli\n",
      "acknowledg\n",
      "wife\n",
      "four\n",
      "decad\n",
      "later\n",
      "requir\n",
      "indian\n",
      "law\n",
      "made\n",
      "contact\n",
      "sinc\n",
      "modi\n",
      "assert\n",
      "travel\n",
      "northern\n",
      "india\n",
      "two\n",
      "year\n",
      "leav\n",
      "parent\n",
      "home\n",
      "visit\n",
      "number\n",
      "religi\n",
      "centr\n",
      "detail\n",
      "travel\n",
      "emerg\n",
      "upon\n",
      "return\n",
      "gujarat\n",
      "becam\n",
      "full\n",
      "time\n",
      "worker\n",
      "rss\n",
      "state\n",
      "emerg\n",
      "declar\n",
      "prime\n",
      "minist\n",
      "indira\n",
      "gandhi\n",
      "modi\n",
      "went\n",
      "hide\n",
      "rss\n",
      "assign\n",
      "bjp\n",
      "held\n",
      "sever\n",
      "posit\n",
      "within\n",
      "parti\n",
      "hierarchi\n",
      "rise\n",
      "rank\n",
      "gener\n",
      "secretari\n",
      "b\n"
     ]
    }
   ],
   "source": [
    "## Stemming\n",
    "\n",
    "for i in corpus:\n",
    "    words=nltk.word_tokenize(i)\n",
    "    for word in words:\n",
    "        if word not in set(stopwords.words('english')):\n",
    "            print(stemmer.stem(word))\n",
    "    "
   ]
  },
  {
   "cell_type": "code",
   "execution_count": 71,
   "id": "d336ff66",
   "metadata": {},
   "outputs": [
    {
     "name": "stdout",
     "output_type": "stream",
     "text": [
      "narendra\n",
      "damodardas\n",
      "modi\n",
      "gujarati\n",
      "n\n",
      "end\n",
      "mod\n",
      "modi\n",
      "listen\n",
      "born\n",
      "september\n",
      "indian\n",
      "politician\n",
      "serving\n",
      "th\n",
      "current\n",
      "prime\n",
      "minister\n",
      "india\n",
      "since\n",
      "modi\n",
      "chief\n",
      "minister\n",
      "gujarat\n",
      "member\n",
      "parliament\n",
      "varanasi\n",
      "member\n",
      "bharatiya\n",
      "janata\n",
      "party\n",
      "bjp\n",
      "rashtriya\n",
      "swayamsevak\n",
      "sangh\n",
      "r\n",
      "right\n",
      "wing\n",
      "hindu\n",
      "nationalist\n",
      "paramilitary\n",
      "volunteer\n",
      "organisation\n",
      "first\n",
      "prime\n",
      "minister\n",
      "born\n",
      "india\n",
      "independence\n",
      "second\n",
      "prime\n",
      "minister\n",
      "belonging\n",
      "indian\n",
      "national\n",
      "congress\n",
      "two\n",
      "consecutive\n",
      "majority\n",
      "lok\n",
      "sabha\n",
      "lower\n",
      "house\n",
      "india\n",
      "parliament\n",
      "also\n",
      "longest\n",
      "serving\n",
      "prime\n",
      "minister\n",
      "non\n",
      "congress\n",
      "party\n",
      "born\n",
      "raised\n",
      "vadnagar\n",
      "small\n",
      "town\n",
      "northeastern\n",
      "gujarat\n",
      "modi\n",
      "completed\n",
      "secondary\n",
      "education\n",
      "introduced\n",
      "r\n",
      "age\n",
      "eight\n",
      "drawn\n",
      "attention\n",
      "work\n",
      "child\n",
      "father\n",
      "tea\n",
      "stall\n",
      "vadnagar\n",
      "railway\n",
      "station\n",
      "platform\n",
      "description\n",
      "reliably\n",
      "corroborated\n",
      "age\n",
      "modi\n",
      "married\n",
      "jashodaben\n",
      "chimanlal\n",
      "modi\n",
      "abandoned\n",
      "soon\n",
      "left\n",
      "parental\n",
      "home\n",
      "come\n",
      "live\n",
      "first\n",
      "publicly\n",
      "acknowledged\n",
      "wife\n",
      "four\n",
      "decade\n",
      "later\n",
      "required\n",
      "indian\n",
      "law\n",
      "made\n",
      "contact\n",
      "since\n",
      "modi\n",
      "asserted\n",
      "travelled\n",
      "northern\n",
      "india\n",
      "two\n",
      "year\n",
      "leaving\n",
      "parental\n",
      "home\n",
      "visiting\n",
      "number\n",
      "religious\n",
      "centre\n",
      "detail\n",
      "travel\n",
      "emerged\n",
      "upon\n",
      "return\n",
      "gujarat\n",
      "became\n",
      "full\n",
      "time\n",
      "worker\n",
      "r\n",
      "state\n",
      "emergency\n",
      "declared\n",
      "prime\n",
      "minister\n",
      "indira\n",
      "gandhi\n",
      "modi\n",
      "went\n",
      "hiding\n",
      "r\n",
      "assigned\n",
      "bjp\n",
      "held\n",
      "several\n",
      "position\n",
      "within\n",
      "party\n",
      "hierarchy\n",
      "rising\n",
      "rank\n",
      "general\n",
      "secretary\n",
      "b\n"
     ]
    }
   ],
   "source": [
    "## Lemmitization\n",
    "\n",
    "for i in corpus:\n",
    "    words=nltk.word_tokenize(i)\n",
    "    for word in words:\n",
    "        if word not in set(stopwords.words('english')):\n",
    "            print(wordnet_lemmitizer.lemmatize(word))\n",
    "        "
   ]
  },
  {
   "cell_type": "code",
   "execution_count": 81,
   "id": "c598a476",
   "metadata": {},
   "outputs": [],
   "source": [
    "# Apply stopwords and lemmatize\n",
    "\n",
    "import re\n",
    "corpus=[]\n",
    "for i in range(len(sentences)):\n",
    "    review=re.sub('[^a-zA-Z]',' ',sentences[i])\n",
    "    review= review.lower()\n",
    "    review= review.split()\n",
    "    review=[wordnet_lemmitizer.lemmatize(word) for word in review if not word in set(stopwords.words('english'))]\n",
    "    review=' '.join(review)\n",
    "    corpus.append(review)"
   ]
  },
  {
   "cell_type": "markdown",
   "id": "96476e1d",
   "metadata": {},
   "source": [
    "## Bag of Words"
   ]
  },
  {
   "cell_type": "code",
   "execution_count": 72,
   "id": "ebc9b7ee",
   "metadata": {},
   "outputs": [],
   "source": [
    "from sklearn.feature_extraction.text import CountVectorizer\n",
    "cv=CountVectorizer()"
   ]
  },
  {
   "cell_type": "code",
   "execution_count": 82,
   "id": "1ba5b8a2",
   "metadata": {},
   "outputs": [],
   "source": [
    "X=cv.fit_transform(corpus)"
   ]
  },
  {
   "cell_type": "code",
   "execution_count": 83,
   "id": "834df2ac",
   "metadata": {},
   "outputs": [
    {
     "data": {
      "text/plain": [
       "{'narendra': 71,\n",
       " 'damodardas': 23,\n",
       " 'modi': 70,\n",
       " 'gujarati': 41,\n",
       " 'end': 33,\n",
       " 'mod': 69,\n",
       " 'listen': 59,\n",
       " 'born': 11,\n",
       " 'september': 103,\n",
       " 'indian': 50,\n",
       " 'politician': 84,\n",
       " 'serving': 104,\n",
       " 'th': 114,\n",
       " 'current': 22,\n",
       " 'prime': 86,\n",
       " 'minister': 68,\n",
       " 'india': 49,\n",
       " 'since': 106,\n",
       " 'chief': 13,\n",
       " 'gujarat': 40,\n",
       " 'member': 67,\n",
       " 'parliament': 81,\n",
       " 'varanasi': 122,\n",
       " 'bharatiya': 9,\n",
       " 'janata': 53,\n",
       " 'party': 82,\n",
       " 'bjp': 10,\n",
       " 'rashtriya': 91,\n",
       " 'swayamsevak': 112,\n",
       " 'sangh': 99,\n",
       " 'right': 96,\n",
       " 'wing': 127,\n",
       " 'hindu': 45,\n",
       " 'nationalist': 73,\n",
       " 'paramilitary': 79,\n",
       " 'volunteer': 124,\n",
       " 'organisation': 78,\n",
       " 'first': 35,\n",
       " 'independence': 48,\n",
       " 'second': 100,\n",
       " 'belonging': 8,\n",
       " 'national': 72,\n",
       " 'congress': 18,\n",
       " 'two': 119,\n",
       " 'consecutive': 19,\n",
       " 'majority': 65,\n",
       " 'lok': 61,\n",
       " 'sabha': 98,\n",
       " 'lower': 63,\n",
       " 'house': 47,\n",
       " 'also': 3,\n",
       " 'longest': 62,\n",
       " 'non': 74,\n",
       " 'raised': 89,\n",
       " 'vadnagar': 121,\n",
       " 'small': 107,\n",
       " 'town': 116,\n",
       " 'northeastern': 75,\n",
       " 'completed': 17,\n",
       " 'secondary': 101,\n",
       " 'education': 29,\n",
       " 'introduced': 52,\n",
       " 'age': 2,\n",
       " 'eight': 30,\n",
       " 'drawn': 28,\n",
       " 'attention': 6,\n",
       " 'work': 129,\n",
       " 'child': 14,\n",
       " 'father': 34,\n",
       " 'tea': 113,\n",
       " 'stall': 109,\n",
       " 'railway': 88,\n",
       " 'station': 111,\n",
       " 'platform': 83,\n",
       " 'description': 26,\n",
       " 'reliably': 92,\n",
       " 'corroborated': 21,\n",
       " 'married': 66,\n",
       " 'jashodaben': 54,\n",
       " 'chimanlal': 15,\n",
       " 'abandoned': 0,\n",
       " 'soon': 108,\n",
       " 'left': 58,\n",
       " 'parental': 80,\n",
       " 'home': 46,\n",
       " 'come': 16,\n",
       " 'live': 60,\n",
       " 'publicly': 87,\n",
       " 'acknowledged': 1,\n",
       " 'wife': 126,\n",
       " 'four': 36,\n",
       " 'decade': 24,\n",
       " 'later': 55,\n",
       " 'required': 94,\n",
       " 'law': 56,\n",
       " 'made': 64,\n",
       " 'contact': 20,\n",
       " 'asserted': 4,\n",
       " 'travelled': 118,\n",
       " 'northern': 76,\n",
       " 'year': 131,\n",
       " 'leaving': 57,\n",
       " 'visiting': 123,\n",
       " 'number': 77,\n",
       " 'religious': 93,\n",
       " 'centre': 12,\n",
       " 'detail': 27,\n",
       " 'travel': 117,\n",
       " 'emerged': 31,\n",
       " 'upon': 120,\n",
       " 'return': 95,\n",
       " 'became': 7,\n",
       " 'full': 37,\n",
       " 'time': 115,\n",
       " 'worker': 130,\n",
       " 'state': 110,\n",
       " 'emergency': 32,\n",
       " 'declared': 25,\n",
       " 'indira': 51,\n",
       " 'gandhi': 38,\n",
       " 'went': 125,\n",
       " 'hiding': 43,\n",
       " 'assigned': 5,\n",
       " 'held': 42,\n",
       " 'several': 105,\n",
       " 'position': 85,\n",
       " 'within': 128,\n",
       " 'hierarchy': 44,\n",
       " 'rising': 97,\n",
       " 'rank': 90,\n",
       " 'general': 39,\n",
       " 'secretary': 102}"
      ]
     },
     "execution_count": 83,
     "metadata": {},
     "output_type": "execute_result"
    }
   ],
   "source": [
    "cv.vocabulary_"
   ]
  },
  {
   "cell_type": "code",
   "execution_count": 84,
   "id": "7b7bd087",
   "metadata": {},
   "outputs": [
    {
     "data": {
      "text/plain": [
       "'narendra damodardas modi gujarati n end mod modi listen born september indian politician serving th current prime minister india since'"
      ]
     },
     "execution_count": 84,
     "metadata": {},
     "output_type": "execute_result"
    }
   ],
   "source": [
    "corpus[0]"
   ]
  },
  {
   "cell_type": "code",
   "execution_count": 85,
   "id": "5cc35727",
   "metadata": {},
   "outputs": [
    {
     "data": {
      "text/plain": [
       "array([[0, 0, 0, 0, 0, 0, 0, 0, 0, 0, 0, 1, 0, 0, 0, 0, 0, 0, 0, 0, 0, 0,\n",
       "        1, 1, 0, 0, 0, 0, 0, 0, 0, 0, 0, 1, 0, 0, 0, 0, 0, 0, 0, 1, 0, 0,\n",
       "        0, 0, 0, 0, 0, 1, 1, 0, 0, 0, 0, 0, 0, 0, 0, 1, 0, 0, 0, 0, 0, 0,\n",
       "        0, 0, 1, 1, 1, 1, 0, 0, 0, 0, 0, 0, 0, 0, 0, 0, 0, 0, 1, 0, 1, 0,\n",
       "        0, 0, 0, 0, 0, 0, 0, 0, 0, 0, 0, 0, 0, 0, 0, 1, 1, 0, 1, 0, 0, 0,\n",
       "        0, 0, 0, 0, 1, 0, 0, 0, 0, 0, 0, 0, 0, 0, 0, 0, 0, 0, 0, 0, 0, 0]],\n",
       "      dtype=int64)"
      ]
     },
     "execution_count": 85,
     "metadata": {},
     "output_type": "execute_result"
    }
   ],
   "source": [
    "X[0].toarray()"
   ]
  },
  {
   "cell_type": "code",
   "execution_count": 86,
   "id": "97c7f482",
   "metadata": {},
   "outputs": [],
   "source": [
    "# Bag of words (binary)\n",
    "\n",
    "from sklearn.feature_extraction.text import CountVectorizer\n",
    "cv=CountVectorizer(binary=True)"
   ]
  },
  {
   "cell_type": "code",
   "execution_count": 87,
   "id": "759274b5",
   "metadata": {},
   "outputs": [],
   "source": [
    "# Bag of words with ngram"
   ]
  },
  {
   "cell_type": "code",
   "execution_count": 88,
   "id": "aebd29f4",
   "metadata": {},
   "outputs": [
    {
     "data": {
      "text/plain": [
       "<16x141 sparse matrix of type '<class 'numpy.int64'>'\n",
       "\twith 141 stored elements in Compressed Sparse Row format>"
      ]
     },
     "execution_count": 88,
     "metadata": {},
     "output_type": "execute_result"
    }
   ],
   "source": [
    " from sklearn.feature_extraction.text import CountVectorizer\n",
    "cv=CountVectorizer(binary=True,ngram_range=(3,3))\n",
    "cv.fit_transform(corpus)"
   ]
  },
  {
   "cell_type": "code",
   "execution_count": 89,
   "id": "0b32a6ef",
   "metadata": {},
   "outputs": [
    {
     "data": {
      "text/plain": [
       "{'narendra damodardas modi': 84,\n",
       " 'damodardas modi gujarati': 22,\n",
       " 'modi gujarati end': 80,\n",
       " 'gujarati end mod': 39,\n",
       " 'end mod modi': 29,\n",
       " 'mod modi listen': 75,\n",
       " 'modi listen born': 81,\n",
       " 'listen born september': 60,\n",
       " 'born september indian': 13,\n",
       " 'september indian politician': 117,\n",
       " 'indian politician serving': 51,\n",
       " 'politician serving th': 97,\n",
       " 'serving th current': 119,\n",
       " 'th current prime': 127,\n",
       " 'current prime minister': 21,\n",
       " 'prime minister india': 101,\n",
       " 'minister india since': 72,\n",
       " 'modi chief minister': 78,\n",
       " 'chief minister gujarat': 15,\n",
       " 'minister gujarat member': 71,\n",
       " 'gujarat member parliament': 37,\n",
       " 'member parliament varanasi': 68,\n",
       " 'member bharatiya janata': 67,\n",
       " 'bharatiya janata party': 8,\n",
       " 'janata party bjp': 54,\n",
       " 'party bjp rashtriya': 94,\n",
       " 'bjp rashtriya swayamsevak': 10,\n",
       " 'rashtriya swayamsevak sangh': 108,\n",
       " 'swayamsevak sangh right': 125,\n",
       " 'sangh right wing': 115,\n",
       " 'right wing hindu': 112,\n",
       " 'wing hindu nationalist': 137,\n",
       " 'hindu nationalist paramilitary': 42,\n",
       " 'nationalist paramilitary volunteer': 86,\n",
       " 'paramilitary volunteer organisation': 91,\n",
       " 'first prime minister': 31,\n",
       " 'prime minister born': 100,\n",
       " 'minister born india': 70,\n",
       " 'born india independence': 11,\n",
       " 'india independence second': 47,\n",
       " 'independence second prime': 46,\n",
       " 'second prime minister': 116,\n",
       " 'prime minister belonging': 99,\n",
       " 'minister belonging indian': 69,\n",
       " 'belonging indian national': 7,\n",
       " 'indian national congress': 50,\n",
       " 'national congress two': 85,\n",
       " 'congress two consecutive': 19,\n",
       " 'two consecutive majority': 130,\n",
       " 'consecutive majority lok': 20,\n",
       " 'majority lok sabha': 65,\n",
       " 'lok sabha lower': 61,\n",
       " 'sabha lower house': 114,\n",
       " 'lower house india': 63,\n",
       " 'house india parliament': 45,\n",
       " 'also longest serving': 2,\n",
       " 'longest serving prime': 62,\n",
       " 'serving prime minister': 118,\n",
       " 'prime minister non': 103,\n",
       " 'minister non congress': 74,\n",
       " 'non congress party': 87,\n",
       " 'born raised vadnagar': 12,\n",
       " 'raised vadnagar small': 106,\n",
       " 'vadnagar small town': 134,\n",
       " 'small town northeastern': 121,\n",
       " 'town northeastern gujarat': 128,\n",
       " 'northeastern gujarat modi': 88,\n",
       " 'gujarat modi completed': 38,\n",
       " 'modi completed secondary': 79,\n",
       " 'completed secondary education': 18,\n",
       " 'introduced age eight': 53,\n",
       " 'drawn attention work': 27,\n",
       " 'attention work child': 5,\n",
       " 'work child father': 139,\n",
       " 'child father tea': 16,\n",
       " 'father tea stall': 30,\n",
       " 'tea stall vadnagar': 126,\n",
       " 'stall vadnagar railway': 122,\n",
       " 'vadnagar railway station': 133,\n",
       " 'railway station platform': 105,\n",
       " 'station platform description': 124,\n",
       " 'platform description reliably': 96,\n",
       " 'description reliably corroborated': 25,\n",
       " 'age modi married': 1,\n",
       " 'modi married jashodaben': 82,\n",
       " 'married jashodaben chimanlal': 66,\n",
       " 'jashodaben chimanlal modi': 55,\n",
       " 'chimanlal modi abandoned': 17,\n",
       " 'modi abandoned soon': 76,\n",
       " 'left parental home': 59,\n",
       " 'parental home come': 92,\n",
       " 'home come live': 43,\n",
       " 'first publicly acknowledged': 32,\n",
       " 'publicly acknowledged wife': 104,\n",
       " 'acknowledged wife four': 0,\n",
       " 'wife four decade': 136,\n",
       " 'four decade later': 33,\n",
       " 'decade later required': 23,\n",
       " 'later required indian': 56,\n",
       " 'required indian law': 110,\n",
       " 'indian law made': 49,\n",
       " 'law made contact': 57,\n",
       " 'made contact since': 64,\n",
       " 'modi asserted travelled': 77,\n",
       " 'asserted travelled northern': 3,\n",
       " 'travelled northern india': 129,\n",
       " 'northern india two': 89,\n",
       " 'india two year': 48,\n",
       " 'two year leaving': 131,\n",
       " 'year leaving parental': 140,\n",
       " 'leaving parental home': 58,\n",
       " 'parental home visiting': 93,\n",
       " 'home visiting number': 44,\n",
       " 'visiting number religious': 135,\n",
       " 'number religious centre': 90,\n",
       " 'religious centre detail': 109,\n",
       " 'centre detail travel': 14,\n",
       " 'detail travel emerged': 26,\n",
       " 'upon return gujarat': 132,\n",
       " 'return gujarat became': 111,\n",
       " 'gujarat became full': 36,\n",
       " 'became full time': 6,\n",
       " 'full time worker': 34,\n",
       " 'state emergency declared': 123,\n",
       " 'emergency declared prime': 28,\n",
       " 'declared prime minister': 24,\n",
       " 'prime minister indira': 102,\n",
       " 'minister indira gandhi': 73,\n",
       " 'indira gandhi modi': 52,\n",
       " 'gandhi modi went': 35,\n",
       " 'modi went hiding': 83,\n",
       " 'assigned bjp held': 4,\n",
       " 'bjp held several': 9,\n",
       " 'held several position': 40,\n",
       " 'several position within': 120,\n",
       " 'position within party': 98,\n",
       " 'within party hierarchy': 138,\n",
       " 'party hierarchy rising': 95,\n",
       " 'hierarchy rising rank': 41,\n",
       " 'rising rank general': 113,\n",
       " 'rank general secretary': 107}"
      ]
     },
     "execution_count": 89,
     "metadata": {},
     "output_type": "execute_result"
    }
   ],
   "source": [
    "cv.vocabulary_"
   ]
  },
  {
   "cell_type": "code",
   "execution_count": 90,
   "id": "a86fbaef",
   "metadata": {},
   "outputs": [],
   "source": [
    "### TFIDF"
   ]
  },
  {
   "cell_type": "code",
   "execution_count": 103,
   "id": "02a7a3fd",
   "metadata": {},
   "outputs": [],
   "source": [
    "from sklearn.feature_extraction.text import TfidfVectorizer\n",
    "cv=TfidfVectorizer(ngram_range=(1,1), max_features=10)\n",
    "X=cv.fit_transform(corpus)"
   ]
  },
  {
   "cell_type": "code",
   "execution_count": 104,
   "id": "9ec4eae1",
   "metadata": {},
   "outputs": [
    {
     "data": {
      "text/plain": [
       "'narendra damodardas modi gujarati n end mod modi listen born september indian politician serving th current prime minister india since'"
      ]
     },
     "execution_count": 104,
     "metadata": {},
     "output_type": "execute_result"
    }
   ],
   "source": [
    "corpus[0]"
   ]
  },
  {
   "cell_type": "code",
   "execution_count": 105,
   "id": "c415caba",
   "metadata": {},
   "outputs": [
    {
     "data": {
      "text/plain": [
       "array([[0.38064993, 0.        , 0.38064993, 0.38064993, 0.        ,\n",
       "        0.31757459, 0.5871889 , 0.        , 0.        , 0.34593707]])"
      ]
     },
     "execution_count": 105,
     "metadata": {},
     "output_type": "execute_result"
    }
   ],
   "source": [
    "X[0].toarray()"
   ]
  },
  {
   "cell_type": "markdown",
   "id": "96236577",
   "metadata": {},
   "source": []
  },
  {
   "cell_type": "code",
   "execution_count": null,
   "id": "f75fe2b0",
   "metadata": {},
   "outputs": [],
   "source": []
  }
 ],
 "metadata": {
  "kernelspec": {
   "display_name": "Python 3",
   "language": "python",
   "name": "python3"
  },
  "language_info": {
   "codemirror_mode": {
    "name": "ipython",
    "version": 3
   },
   "file_extension": ".py",
   "mimetype": "text/x-python",
   "name": "python",
   "nbconvert_exporter": "python",
   "pygments_lexer": "ipython3",
   "version": "3.8.8"
  }
 },
 "nbformat": 4,
 "nbformat_minor": 5
}
