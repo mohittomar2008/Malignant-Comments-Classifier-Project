{
 "cells": [
  {
   "cell_type": "code",
   "execution_count": 1,
   "id": "80fd25c6",
   "metadata": {},
   "outputs": [],
   "source": [
    "## Import Required libraries\n",
    "\n",
    "import pandas as pd\n",
    "import numpy as np\n",
    "import seaborn as sns\n",
    "import matplotlib.pyplot as plt\n",
    "%matplotlib inline\n",
    "\n",
    "\n",
    "import nltk\n",
    "from nltk import word_tokenize,sent_tokenize,TweetTokenizer,RegexpTokenizer\n",
    "\n",
    "\n",
    "\n",
    "import warnings\n",
    "warnings.filterwarnings('ignore')"
   ]
  },
  {
   "cell_type": "code",
   "execution_count": 2,
   "id": "345e0cf0",
   "metadata": {},
   "outputs": [],
   "source": [
    "train=pd.read_csv('https://raw.githubusercontent.com/mohittomar2008/Malignant-Comments-Classifier-Project/main/train.csv')\n",
    "test=pd.read_csv(\"https://raw.githubusercontent.com/mohittomar2008/Malignant-Comments-Classifier-Project/main/test.csv\")"
   ]
  },
  {
   "cell_type": "code",
   "execution_count": 3,
   "id": "527ded99",
   "metadata": {},
   "outputs": [
    {
     "data": {
      "text/plain": [
       "((159571, 8), (153164, 2))"
      ]
     },
     "execution_count": 3,
     "metadata": {},
     "output_type": "execute_result"
    }
   ],
   "source": [
    "train.shape  , test.shape"
   ]
  },
  {
   "cell_type": "code",
   "execution_count": 4,
   "id": "8770d05d",
   "metadata": {},
   "outputs": [
    {
     "data": {
      "text/html": [
       "<div>\n",
       "<style scoped>\n",
       "    .dataframe tbody tr th:only-of-type {\n",
       "        vertical-align: middle;\n",
       "    }\n",
       "\n",
       "    .dataframe tbody tr th {\n",
       "        vertical-align: top;\n",
       "    }\n",
       "\n",
       "    .dataframe thead th {\n",
       "        text-align: right;\n",
       "    }\n",
       "</style>\n",
       "<table border=\"1\" class=\"dataframe\">\n",
       "  <thead>\n",
       "    <tr style=\"text-align: right;\">\n",
       "      <th></th>\n",
       "      <th>id</th>\n",
       "      <th>comment_text</th>\n",
       "      <th>malignant</th>\n",
       "      <th>highly_malignant</th>\n",
       "      <th>rude</th>\n",
       "      <th>threat</th>\n",
       "      <th>abuse</th>\n",
       "      <th>loathe</th>\n",
       "    </tr>\n",
       "  </thead>\n",
       "  <tbody>\n",
       "    <tr>\n",
       "      <th>0</th>\n",
       "      <td>0000997932d777bf</td>\n",
       "      <td>Explanation\\nWhy the edits made under my usern...</td>\n",
       "      <td>0</td>\n",
       "      <td>0</td>\n",
       "      <td>0</td>\n",
       "      <td>0</td>\n",
       "      <td>0</td>\n",
       "      <td>0</td>\n",
       "    </tr>\n",
       "    <tr>\n",
       "      <th>1</th>\n",
       "      <td>000103f0d9cfb60f</td>\n",
       "      <td>D'aww! He matches this background colour I'm s...</td>\n",
       "      <td>0</td>\n",
       "      <td>0</td>\n",
       "      <td>0</td>\n",
       "      <td>0</td>\n",
       "      <td>0</td>\n",
       "      <td>0</td>\n",
       "    </tr>\n",
       "    <tr>\n",
       "      <th>2</th>\n",
       "      <td>000113f07ec002fd</td>\n",
       "      <td>Hey man, I'm really not trying to edit war. It...</td>\n",
       "      <td>0</td>\n",
       "      <td>0</td>\n",
       "      <td>0</td>\n",
       "      <td>0</td>\n",
       "      <td>0</td>\n",
       "      <td>0</td>\n",
       "    </tr>\n",
       "    <tr>\n",
       "      <th>3</th>\n",
       "      <td>0001b41b1c6bb37e</td>\n",
       "      <td>\"\\nMore\\nI can't make any real suggestions on ...</td>\n",
       "      <td>0</td>\n",
       "      <td>0</td>\n",
       "      <td>0</td>\n",
       "      <td>0</td>\n",
       "      <td>0</td>\n",
       "      <td>0</td>\n",
       "    </tr>\n",
       "    <tr>\n",
       "      <th>4</th>\n",
       "      <td>0001d958c54c6e35</td>\n",
       "      <td>You, sir, are my hero. Any chance you remember...</td>\n",
       "      <td>0</td>\n",
       "      <td>0</td>\n",
       "      <td>0</td>\n",
       "      <td>0</td>\n",
       "      <td>0</td>\n",
       "      <td>0</td>\n",
       "    </tr>\n",
       "  </tbody>\n",
       "</table>\n",
       "</div>"
      ],
      "text/plain": [
       "                 id                                       comment_text  \\\n",
       "0  0000997932d777bf  Explanation\\nWhy the edits made under my usern...   \n",
       "1  000103f0d9cfb60f  D'aww! He matches this background colour I'm s...   \n",
       "2  000113f07ec002fd  Hey man, I'm really not trying to edit war. It...   \n",
       "3  0001b41b1c6bb37e  \"\\nMore\\nI can't make any real suggestions on ...   \n",
       "4  0001d958c54c6e35  You, sir, are my hero. Any chance you remember...   \n",
       "\n",
       "   malignant  highly_malignant  rude  threat  abuse  loathe  \n",
       "0          0                 0     0       0      0       0  \n",
       "1          0                 0     0       0      0       0  \n",
       "2          0                 0     0       0      0       0  \n",
       "3          0                 0     0       0      0       0  \n",
       "4          0                 0     0       0      0       0  "
      ]
     },
     "execution_count": 4,
     "metadata": {},
     "output_type": "execute_result"
    }
   ],
   "source": [
    "train.head()"
   ]
  },
  {
   "cell_type": "code",
   "execution_count": 5,
   "id": "3628db86",
   "metadata": {},
   "outputs": [
    {
     "data": {
      "text/html": [
       "<div>\n",
       "<style scoped>\n",
       "    .dataframe tbody tr th:only-of-type {\n",
       "        vertical-align: middle;\n",
       "    }\n",
       "\n",
       "    .dataframe tbody tr th {\n",
       "        vertical-align: top;\n",
       "    }\n",
       "\n",
       "    .dataframe thead th {\n",
       "        text-align: right;\n",
       "    }\n",
       "</style>\n",
       "<table border=\"1\" class=\"dataframe\">\n",
       "  <thead>\n",
       "    <tr style=\"text-align: right;\">\n",
       "      <th></th>\n",
       "      <th>id</th>\n",
       "      <th>comment_text</th>\n",
       "    </tr>\n",
       "  </thead>\n",
       "  <tbody>\n",
       "    <tr>\n",
       "      <th>0</th>\n",
       "      <td>00001cee341fdb12</td>\n",
       "      <td>Yo bitch Ja Rule is more succesful then you'll...</td>\n",
       "    </tr>\n",
       "    <tr>\n",
       "      <th>1</th>\n",
       "      <td>0000247867823ef7</td>\n",
       "      <td>== From RfC == \\n\\n The title is fine as it is...</td>\n",
       "    </tr>\n",
       "    <tr>\n",
       "      <th>2</th>\n",
       "      <td>00013b17ad220c46</td>\n",
       "      <td>\" \\n\\n == Sources == \\n\\n * Zawe Ashton on Lap...</td>\n",
       "    </tr>\n",
       "    <tr>\n",
       "      <th>3</th>\n",
       "      <td>00017563c3f7919a</td>\n",
       "      <td>:If you have a look back at the source, the in...</td>\n",
       "    </tr>\n",
       "    <tr>\n",
       "      <th>4</th>\n",
       "      <td>00017695ad8997eb</td>\n",
       "      <td>I don't anonymously edit articles at all.</td>\n",
       "    </tr>\n",
       "  </tbody>\n",
       "</table>\n",
       "</div>"
      ],
      "text/plain": [
       "                 id                                       comment_text\n",
       "0  00001cee341fdb12  Yo bitch Ja Rule is more succesful then you'll...\n",
       "1  0000247867823ef7  == From RfC == \\n\\n The title is fine as it is...\n",
       "2  00013b17ad220c46  \" \\n\\n == Sources == \\n\\n * Zawe Ashton on Lap...\n",
       "3  00017563c3f7919a  :If you have a look back at the source, the in...\n",
       "4  00017695ad8997eb          I don't anonymously edit articles at all."
      ]
     },
     "execution_count": 5,
     "metadata": {},
     "output_type": "execute_result"
    }
   ],
   "source": [
    "test.head()"
   ]
  },
  {
   "cell_type": "code",
   "execution_count": 6,
   "id": "b649361b",
   "metadata": {},
   "outputs": [
    {
     "data": {
      "text/plain": [
       "\"Explanation\\nWhy the edits made under my username Hardcore Metallica Fan were reverted? They weren't vandalisms, just closure on some GAs after I voted at New York Dolls FAC. And please don't remove the template from the talk page since I'm retired now.89.205.38.27\""
      ]
     },
     "execution_count": 6,
     "metadata": {},
     "output_type": "execute_result"
    }
   ],
   "source": [
    "train.iloc[0,1]"
   ]
  },
  {
   "cell_type": "code",
   "execution_count": 7,
   "id": "34112846",
   "metadata": {},
   "outputs": [
    {
     "name": "stdout",
     "output_type": "stream",
     "text": [
      "<class 'pandas.core.frame.DataFrame'>\n",
      "RangeIndex: 159571 entries, 0 to 159570\n",
      "Data columns (total 8 columns):\n",
      " #   Column            Non-Null Count   Dtype \n",
      "---  ------            --------------   ----- \n",
      " 0   id                159571 non-null  object\n",
      " 1   comment_text      159571 non-null  object\n",
      " 2   malignant         159571 non-null  int64 \n",
      " 3   highly_malignant  159571 non-null  int64 \n",
      " 4   rude              159571 non-null  int64 \n",
      " 5   threat            159571 non-null  int64 \n",
      " 6   abuse             159571 non-null  int64 \n",
      " 7   loathe            159571 non-null  int64 \n",
      "dtypes: int64(6), object(2)\n",
      "memory usage: 9.7+ MB\n"
     ]
    }
   ],
   "source": [
    "train.info()"
   ]
  },
  {
   "cell_type": "code",
   "execution_count": 8,
   "id": "b88454a8",
   "metadata": {},
   "outputs": [
    {
     "name": "stdout",
     "output_type": "stream",
     "text": [
      "<class 'pandas.core.frame.DataFrame'>\n",
      "RangeIndex: 153164 entries, 0 to 153163\n",
      "Data columns (total 2 columns):\n",
      " #   Column        Non-Null Count   Dtype \n",
      "---  ------        --------------   ----- \n",
      " 0   id            153164 non-null  object\n",
      " 1   comment_text  153164 non-null  object\n",
      "dtypes: object(2)\n",
      "memory usage: 2.3+ MB\n"
     ]
    }
   ],
   "source": [
    "test.info()"
   ]
  },
  {
   "cell_type": "code",
   "execution_count": 9,
   "id": "0bacd5db",
   "metadata": {},
   "outputs": [
    {
     "data": {
      "text/html": [
       "<div>\n",
       "<style scoped>\n",
       "    .dataframe tbody tr th:only-of-type {\n",
       "        vertical-align: middle;\n",
       "    }\n",
       "\n",
       "    .dataframe tbody tr th {\n",
       "        vertical-align: top;\n",
       "    }\n",
       "\n",
       "    .dataframe thead th {\n",
       "        text-align: right;\n",
       "    }\n",
       "</style>\n",
       "<table border=\"1\" class=\"dataframe\">\n",
       "  <thead>\n",
       "    <tr style=\"text-align: right;\">\n",
       "      <th></th>\n",
       "      <th>malignant</th>\n",
       "      <th>highly_malignant</th>\n",
       "      <th>rude</th>\n",
       "      <th>threat</th>\n",
       "      <th>abuse</th>\n",
       "      <th>loathe</th>\n",
       "    </tr>\n",
       "  </thead>\n",
       "  <tbody>\n",
       "    <tr>\n",
       "      <th>count</th>\n",
       "      <td>159571.000000</td>\n",
       "      <td>159571.000000</td>\n",
       "      <td>159571.000000</td>\n",
       "      <td>159571.000000</td>\n",
       "      <td>159571.000000</td>\n",
       "      <td>159571.000000</td>\n",
       "    </tr>\n",
       "    <tr>\n",
       "      <th>mean</th>\n",
       "      <td>0.095844</td>\n",
       "      <td>0.009996</td>\n",
       "      <td>0.052948</td>\n",
       "      <td>0.002996</td>\n",
       "      <td>0.049364</td>\n",
       "      <td>0.008805</td>\n",
       "    </tr>\n",
       "    <tr>\n",
       "      <th>std</th>\n",
       "      <td>0.294379</td>\n",
       "      <td>0.099477</td>\n",
       "      <td>0.223931</td>\n",
       "      <td>0.054650</td>\n",
       "      <td>0.216627</td>\n",
       "      <td>0.093420</td>\n",
       "    </tr>\n",
       "    <tr>\n",
       "      <th>min</th>\n",
       "      <td>0.000000</td>\n",
       "      <td>0.000000</td>\n",
       "      <td>0.000000</td>\n",
       "      <td>0.000000</td>\n",
       "      <td>0.000000</td>\n",
       "      <td>0.000000</td>\n",
       "    </tr>\n",
       "    <tr>\n",
       "      <th>25%</th>\n",
       "      <td>0.000000</td>\n",
       "      <td>0.000000</td>\n",
       "      <td>0.000000</td>\n",
       "      <td>0.000000</td>\n",
       "      <td>0.000000</td>\n",
       "      <td>0.000000</td>\n",
       "    </tr>\n",
       "    <tr>\n",
       "      <th>50%</th>\n",
       "      <td>0.000000</td>\n",
       "      <td>0.000000</td>\n",
       "      <td>0.000000</td>\n",
       "      <td>0.000000</td>\n",
       "      <td>0.000000</td>\n",
       "      <td>0.000000</td>\n",
       "    </tr>\n",
       "    <tr>\n",
       "      <th>75%</th>\n",
       "      <td>0.000000</td>\n",
       "      <td>0.000000</td>\n",
       "      <td>0.000000</td>\n",
       "      <td>0.000000</td>\n",
       "      <td>0.000000</td>\n",
       "      <td>0.000000</td>\n",
       "    </tr>\n",
       "    <tr>\n",
       "      <th>max</th>\n",
       "      <td>1.000000</td>\n",
       "      <td>1.000000</td>\n",
       "      <td>1.000000</td>\n",
       "      <td>1.000000</td>\n",
       "      <td>1.000000</td>\n",
       "      <td>1.000000</td>\n",
       "    </tr>\n",
       "  </tbody>\n",
       "</table>\n",
       "</div>"
      ],
      "text/plain": [
       "           malignant  highly_malignant           rude         threat  \\\n",
       "count  159571.000000     159571.000000  159571.000000  159571.000000   \n",
       "mean        0.095844          0.009996       0.052948       0.002996   \n",
       "std         0.294379          0.099477       0.223931       0.054650   \n",
       "min         0.000000          0.000000       0.000000       0.000000   \n",
       "25%         0.000000          0.000000       0.000000       0.000000   \n",
       "50%         0.000000          0.000000       0.000000       0.000000   \n",
       "75%         0.000000          0.000000       0.000000       0.000000   \n",
       "max         1.000000          1.000000       1.000000       1.000000   \n",
       "\n",
       "               abuse         loathe  \n",
       "count  159571.000000  159571.000000  \n",
       "mean        0.049364       0.008805  \n",
       "std         0.216627       0.093420  \n",
       "min         0.000000       0.000000  \n",
       "25%         0.000000       0.000000  \n",
       "50%         0.000000       0.000000  \n",
       "75%         0.000000       0.000000  \n",
       "max         1.000000       1.000000  "
      ]
     },
     "execution_count": 9,
     "metadata": {},
     "output_type": "execute_result"
    }
   ],
   "source": [
    "train.describe()"
   ]
  },
  {
   "cell_type": "code",
   "execution_count": 10,
   "id": "19c9703a",
   "metadata": {},
   "outputs": [
    {
     "data": {
      "text/html": [
       "<div>\n",
       "<style scoped>\n",
       "    .dataframe tbody tr th:only-of-type {\n",
       "        vertical-align: middle;\n",
       "    }\n",
       "\n",
       "    .dataframe tbody tr th {\n",
       "        vertical-align: top;\n",
       "    }\n",
       "\n",
       "    .dataframe thead th {\n",
       "        text-align: right;\n",
       "    }\n",
       "</style>\n",
       "<table border=\"1\" class=\"dataframe\">\n",
       "  <thead>\n",
       "    <tr style=\"text-align: right;\">\n",
       "      <th></th>\n",
       "      <th>id</th>\n",
       "      <th>comment_text</th>\n",
       "    </tr>\n",
       "  </thead>\n",
       "  <tbody>\n",
       "    <tr>\n",
       "      <th>count</th>\n",
       "      <td>153164</td>\n",
       "      <td>153164</td>\n",
       "    </tr>\n",
       "    <tr>\n",
       "      <th>unique</th>\n",
       "      <td>153164</td>\n",
       "      <td>153164</td>\n",
       "    </tr>\n",
       "    <tr>\n",
       "      <th>top</th>\n",
       "      <td>00001cee341fdb12</td>\n",
       "      <td>Yo bitch Ja Rule is more succesful then you'll...</td>\n",
       "    </tr>\n",
       "    <tr>\n",
       "      <th>freq</th>\n",
       "      <td>1</td>\n",
       "      <td>1</td>\n",
       "    </tr>\n",
       "  </tbody>\n",
       "</table>\n",
       "</div>"
      ],
      "text/plain": [
       "                      id                                       comment_text\n",
       "count             153164                                             153164\n",
       "unique            153164                                             153164\n",
       "top     00001cee341fdb12  Yo bitch Ja Rule is more succesful then you'll...\n",
       "freq                   1                                                  1"
      ]
     },
     "execution_count": 10,
     "metadata": {},
     "output_type": "execute_result"
    }
   ],
   "source": [
    "test.describe()"
   ]
  },
  {
   "cell_type": "code",
   "execution_count": 11,
   "id": "8e2fb783",
   "metadata": {},
   "outputs": [
    {
     "data": {
      "text/plain": [
       "id                  object\n",
       "comment_text        object\n",
       "malignant            int64\n",
       "highly_malignant     int64\n",
       "rude                 int64\n",
       "threat               int64\n",
       "abuse                int64\n",
       "loathe               int64\n",
       "dtype: object"
      ]
     },
     "execution_count": 11,
     "metadata": {},
     "output_type": "execute_result"
    }
   ],
   "source": [
    "train.dtypes"
   ]
  },
  {
   "cell_type": "code",
   "execution_count": 12,
   "id": "0b8fa777",
   "metadata": {},
   "outputs": [
    {
     "data": {
      "text/plain": [
       "id              object\n",
       "comment_text    object\n",
       "dtype: object"
      ]
     },
     "execution_count": 12,
     "metadata": {},
     "output_type": "execute_result"
    }
   ],
   "source": [
    "test.dtypes"
   ]
  },
  {
   "cell_type": "markdown",
   "id": "d4392341",
   "metadata": {},
   "source": [
    "### Null Values"
   ]
  },
  {
   "cell_type": "code",
   "execution_count": 13,
   "id": "b8f72b0d",
   "metadata": {},
   "outputs": [
    {
     "data": {
      "text/plain": [
       "id                  0\n",
       "comment_text        0\n",
       "malignant           0\n",
       "highly_malignant    0\n",
       "rude                0\n",
       "threat              0\n",
       "abuse               0\n",
       "loathe              0\n",
       "dtype: int64"
      ]
     },
     "execution_count": 13,
     "metadata": {},
     "output_type": "execute_result"
    }
   ],
   "source": [
    "train.isnull().sum()"
   ]
  },
  {
   "cell_type": "code",
   "execution_count": 14,
   "id": "6533a6ec",
   "metadata": {},
   "outputs": [
    {
     "data": {
      "text/plain": [
       "id              0\n",
       "comment_text    0\n",
       "dtype: int64"
      ]
     },
     "execution_count": 14,
     "metadata": {},
     "output_type": "execute_result"
    }
   ],
   "source": [
    "test.isnull().sum()"
   ]
  },
  {
   "cell_type": "code",
   "execution_count": 15,
   "id": "99f18f91",
   "metadata": {},
   "outputs": [
    {
     "data": {
      "text/plain": [
       "<AxesSubplot:>"
      ]
     },
     "execution_count": 15,
     "metadata": {},
     "output_type": "execute_result"
    },
    {
     "data": {
      "image/png": "[encoded data removed]",
      "text/plain": [
       "<Figure size 432x288 with 2 Axes>"
      ]
     },
     "metadata": {
      "needs_background": "light"
     },
     "output_type": "display_data"
    }
   ],
   "source": [
    "sns.heatmap(train.isnull())"
   ]
  },
  {
   "cell_type": "markdown",
   "id": "14c7edd8",
   "metadata": {},
   "source": [
    "## No Null vlaues present in train and test dataset"
   ]
  },
  {
   "cell_type": "markdown",
   "id": "65d61d69",
   "metadata": {},
   "source": [
    "### Do we have any correlation within data"
   ]
  },
  {
   "cell_type": "code",
   "execution_count": 16,
   "id": "674c5ac7",
   "metadata": {},
   "outputs": [
    {
     "data": {
      "text/plain": [
       "<AxesSubplot:>"
      ]
     },
     "execution_count": 16,
     "metadata": {},
     "output_type": "execute_result"
    },
    {
     "data": {
      "image/png": "[encoded data removed]",
      "text/plain": [
       "<Figure size 432x288 with 2 Axes>"
      ]
     },
     "metadata": {
      "needs_background": "light"
     },
     "output_type": "display_data"
    }
   ],
   "source": [
    "sns.heatmap(train.corr(),annot=True,linecolor='white')"
   ]
  },
  {
   "cell_type": "code",
   "execution_count": 17,
   "id": "cc1abe6b",
   "metadata": {},
   "outputs": [
    {
     "data": {
      "text/plain": [
       "malignant            2.745854\n",
       "highly_malignant     9.851722\n",
       "rude                 3.992817\n",
       "threat              18.189001\n",
       "abuse                4.160540\n",
       "loathe              10.515923\n",
       "dtype: float64"
      ]
     },
     "execution_count": 17,
     "metadata": {},
     "output_type": "execute_result"
    }
   ],
   "source": [
    "train.skew()"
   ]
  },
  {
   "cell_type": "code",
   "execution_count": 18,
   "id": "9d52552b",
   "metadata": {},
   "outputs": [
    {
     "data": {
      "text/html": [
       "<div>\n",
       "<style scoped>\n",
       "    .dataframe tbody tr th:only-of-type {\n",
       "        vertical-align: middle;\n",
       "    }\n",
       "\n",
       "    .dataframe tbody tr th {\n",
       "        vertical-align: top;\n",
       "    }\n",
       "\n",
       "    .dataframe thead th {\n",
       "        text-align: right;\n",
       "    }\n",
       "</style>\n",
       "<table border=\"1\" class=\"dataframe\">\n",
       "  <thead>\n",
       "    <tr style=\"text-align: right;\">\n",
       "      <th></th>\n",
       "      <th>id</th>\n",
       "      <th>comment_text</th>\n",
       "      <th>malignant</th>\n",
       "      <th>highly_malignant</th>\n",
       "      <th>rude</th>\n",
       "      <th>threat</th>\n",
       "      <th>abuse</th>\n",
       "      <th>loathe</th>\n",
       "    </tr>\n",
       "  </thead>\n",
       "  <tbody>\n",
       "    <tr>\n",
       "      <th>0</th>\n",
       "      <td>0000997932d777bf</td>\n",
       "      <td>Explanation\\nWhy the edits made under my usern...</td>\n",
       "      <td>0</td>\n",
       "      <td>0</td>\n",
       "      <td>0</td>\n",
       "      <td>0</td>\n",
       "      <td>0</td>\n",
       "      <td>0</td>\n",
       "    </tr>\n",
       "    <tr>\n",
       "      <th>1</th>\n",
       "      <td>000103f0d9cfb60f</td>\n",
       "      <td>D'aww! He matches this background colour I'm s...</td>\n",
       "      <td>0</td>\n",
       "      <td>0</td>\n",
       "      <td>0</td>\n",
       "      <td>0</td>\n",
       "      <td>0</td>\n",
       "      <td>0</td>\n",
       "    </tr>\n",
       "    <tr>\n",
       "      <th>2</th>\n",
       "      <td>000113f07ec002fd</td>\n",
       "      <td>Hey man, I'm really not trying to edit war. It...</td>\n",
       "      <td>0</td>\n",
       "      <td>0</td>\n",
       "      <td>0</td>\n",
       "      <td>0</td>\n",
       "      <td>0</td>\n",
       "      <td>0</td>\n",
       "    </tr>\n",
       "    <tr>\n",
       "      <th>3</th>\n",
       "      <td>0001b41b1c6bb37e</td>\n",
       "      <td>\"\\nMore\\nI can't make any real suggestions on ...</td>\n",
       "      <td>0</td>\n",
       "      <td>0</td>\n",
       "      <td>0</td>\n",
       "      <td>0</td>\n",
       "      <td>0</td>\n",
       "      <td>0</td>\n",
       "    </tr>\n",
       "    <tr>\n",
       "      <th>4</th>\n",
       "      <td>0001d958c54c6e35</td>\n",
       "      <td>You, sir, are my hero. Any chance you remember...</td>\n",
       "      <td>0</td>\n",
       "      <td>0</td>\n",
       "      <td>0</td>\n",
       "      <td>0</td>\n",
       "      <td>0</td>\n",
       "      <td>0</td>\n",
       "    </tr>\n",
       "  </tbody>\n",
       "</table>\n",
       "</div>"
      ],
      "text/plain": [
       "                 id                                       comment_text  \\\n",
       "0  0000997932d777bf  Explanation\\nWhy the edits made under my usern...   \n",
       "1  000103f0d9cfb60f  D'aww! He matches this background colour I'm s...   \n",
       "2  000113f07ec002fd  Hey man, I'm really not trying to edit war. It...   \n",
       "3  0001b41b1c6bb37e  \"\\nMore\\nI can't make any real suggestions on ...   \n",
       "4  0001d958c54c6e35  You, sir, are my hero. Any chance you remember...   \n",
       "\n",
       "   malignant  highly_malignant  rude  threat  abuse  loathe  \n",
       "0          0                 0     0       0      0       0  \n",
       "1          0                 0     0       0      0       0  \n",
       "2          0                 0     0       0      0       0  \n",
       "3          0                 0     0       0      0       0  \n",
       "4          0                 0     0       0      0       0  "
      ]
     },
     "execution_count": 18,
     "metadata": {},
     "output_type": "execute_result"
    }
   ],
   "source": [
    "train.head()"
   ]
  },
  {
   "cell_type": "code",
   "execution_count": 19,
   "id": "69d6c2b4",
   "metadata": {},
   "outputs": [],
   "source": [
    "## Lets jumple tha train dataset first\n",
    "\n",
    "train=train.reindex(np.random.permutation(train.index))"
   ]
  },
  {
   "cell_type": "code",
   "execution_count": 20,
   "id": "99109ce1",
   "metadata": {},
   "outputs": [
    {
     "data": {
      "text/plain": [
       "0    0.904156\n",
       "1    0.095844\n",
       "Name: malignant, dtype: float64"
      ]
     },
     "execution_count": 20,
     "metadata": {},
     "output_type": "execute_result"
    }
   ],
   "source": [
    "# Read the target features\n",
    "\n",
    "train['malignant'].value_counts(normalize=True)"
   ]
  },
  {
   "cell_type": "code",
   "execution_count": 21,
   "id": "8efd12eb",
   "metadata": {},
   "outputs": [
    {
     "name": "stdout",
     "output_type": "stream",
     "text": [
      "MALIGNANT\n",
      "0    0.904156\n",
      "1    0.095844\n",
      "Name: malignant, dtype: float64\n"
     ]
    },
    {
     "data": {
      "image/png": "[encoded data removed]",
      "text/plain": [
       "<Figure size 432x288 with 1 Axes>"
      ]
     },
     "metadata": {
      "needs_background": "light"
     },
     "output_type": "display_data"
    },
    {
     "name": "stdout",
     "output_type": "stream",
     "text": [
      "************************************************** \n",
      "\n",
      "**************************************************\n",
      "HIGHLY_MALIGNANT\n",
      "0    0.990004\n",
      "1    0.009996\n",
      "Name: highly_malignant, dtype: float64\n"
     ]
    },
    {
     "data": {
      "image/png": "[encoded data removed]",
      "text/plain": [
       "<Figure size 432x288 with 1 Axes>"
      ]
     },
     "metadata": {
      "needs_background": "light"
     },
     "output_type": "display_data"
    },
    {
     "name": "stdout",
     "output_type": "stream",
     "text": [
      "************************************************** \n",
      "\n",
      "**************************************************\n",
      "RUDE\n",
      "0    0.947052\n",
      "1    0.052948\n",
      "Name: rude, dtype: float64\n"
     ]
    },
    {
     "data": {
      "image/png": "[encoded data removed]",
      "text/plain": [
       "<Figure size 432x288 with 1 Axes>"
      ]
     },
     "metadata": {
      "needs_background": "light"
     },
     "output_type": "display_data"
    },
    {
     "name": "stdout",
     "output_type": "stream",
     "text": [
      "************************************************** \n",
      "\n",
      "**************************************************\n",
      "THREAT\n",
      "0    0.997004\n",
      "1    0.002996\n",
      "Name: threat, dtype: float64\n"
     ]
    },
    {
     "data": {
      "image/png": "[encoded data removed]",
      "text/plain": [
       "<Figure size 432x288 with 1 Axes>"
      ]
     },
     "metadata": {
      "needs_background": "light"
     },
     "output_type": "display_data"
    },
    {
     "name": "stdout",
     "output_type": "stream",
     "text": [
      "************************************************** \n",
      "\n",
      "**************************************************\n",
      "ABUSE\n",
      "0    0.950636\n",
      "1    0.049364\n",
      "Name: abuse, dtype: float64\n"
     ]
    },
    {
     "data": {
      "image/png": "[encoded data removed]",
      "text/plain": [
       "<Figure size 432x288 with 1 Axes>"
      ]
     },
     "metadata": {
      "needs_background": "light"
     },
     "output_type": "display_data"
    },
    {
     "name": "stdout",
     "output_type": "stream",
     "text": [
      "************************************************** \n",
      "\n",
      "**************************************************\n",
      "LOATHE\n",
      "0    0.991195\n",
      "1    0.008805\n",
      "Name: loathe, dtype: float64\n"
     ]
    },
    {
     "data": {
      "image/png": "[encoded data removed]",
      "text/plain": [
       "<Figure size 432x288 with 1 Axes>"
      ]
     },
     "metadata": {
      "needs_background": "light"
     },
     "output_type": "display_data"
    },
    {
     "name": "stdout",
     "output_type": "stream",
     "text": [
      "************************************************** \n",
      "\n",
      "**************************************************\n"
     ]
    }
   ],
   "source": [
    "column=['malignant','highly_malignant','rude','threat','abuse','loathe']\n",
    "\n",
    "for i in column:\n",
    "    print(i.upper())\n",
    "    print(train[i].value_counts(normalize=True))\n",
    "    sns.countplot(train[i])\n",
    "    plt.xlabel(i)\n",
    "    plt.show()\n",
    "    print('*'*50,'\\n')\n",
    "    print('*'*50)\n",
    "   "
   ]
  },
  {
   "cell_type": "code",
   "execution_count": 22,
   "id": "b2751832",
   "metadata": {},
   "outputs": [
    {
     "data": {
      "text/plain": [
       "15294"
      ]
     },
     "execution_count": 22,
     "metadata": {},
     "output_type": "execute_result"
    }
   ],
   "source": [
    "column=['malignant','highly_malignant','rude','threat','abuse','loathe']\n",
    "\n",
    "train['malignant'].sum()"
   ]
  },
  {
   "cell_type": "code",
   "execution_count": 23,
   "id": "76756467",
   "metadata": {},
   "outputs": [
    {
     "data": {
      "text/html": [
       "<div>\n",
       "<style scoped>\n",
       "    .dataframe tbody tr th:only-of-type {\n",
       "        vertical-align: middle;\n",
       "    }\n",
       "\n",
       "    .dataframe tbody tr th {\n",
       "        vertical-align: top;\n",
       "    }\n",
       "\n",
       "    .dataframe thead th {\n",
       "        text-align: right;\n",
       "    }\n",
       "</style>\n",
       "<table border=\"1\" class=\"dataframe\">\n",
       "  <thead>\n",
       "    <tr style=\"text-align: right;\">\n",
       "      <th></th>\n",
       "      <th>count</th>\n",
       "    </tr>\n",
       "  </thead>\n",
       "  <tbody>\n",
       "    <tr>\n",
       "      <th>malignant</th>\n",
       "      <td>15294</td>\n",
       "    </tr>\n",
       "    <tr>\n",
       "      <th>rude</th>\n",
       "      <td>8449</td>\n",
       "    </tr>\n",
       "    <tr>\n",
       "      <th>abuse</th>\n",
       "      <td>7877</td>\n",
       "    </tr>\n",
       "    <tr>\n",
       "      <th>highly_malignant</th>\n",
       "      <td>1595</td>\n",
       "    </tr>\n",
       "    <tr>\n",
       "      <th>loathe</th>\n",
       "      <td>1405</td>\n",
       "    </tr>\n",
       "    <tr>\n",
       "      <th>threat</th>\n",
       "      <td>478</td>\n",
       "    </tr>\n",
       "  </tbody>\n",
       "</table>\n",
       "</div>"
      ],
      "text/plain": [
       "                  count\n",
       "malignant         15294\n",
       "rude               8449\n",
       "abuse              7877\n",
       "highly_malignant   1595\n",
       "loathe             1405\n",
       "threat              478"
      ]
     },
     "execution_count": 23,
     "metadata": {},
     "output_type": "execute_result"
    }
   ],
   "source": [
    "column=['malignant','highly_malignant','rude','threat','abuse','loathe']\n",
    "\n",
    "train[column].sum().to_frame(name='count').sort_values(by='count', ascending=False)\n"
   ]
  },
  {
   "cell_type": "code",
   "execution_count": 24,
   "id": "64bd102b",
   "metadata": {},
   "outputs": [
    {
     "data": {
      "text/plain": [
       "<matplotlib.legend.Legend at 0x17304d11190>"
      ]
     },
     "execution_count": 24,
     "metadata": {},
     "output_type": "execute_result"
    },
    {
     "data": {
      "image/png": "[encoded data removed]",
      "text/plain": [
       "<Figure size 432x432 with 1 Axes>"
      ]
     },
     "metadata": {},
     "output_type": "display_data"
    }
   ],
   "source": [
    "train[column].sum().to_frame(name='count').sort_values(by='count', ascending=False).plot.pie(y='count',autopct='%1.2f%%',figsize=(6,6)).legend(loc='upper left')"
   ]
  },
  {
   "cell_type": "raw",
   "id": "f4295eeb",
   "metadata": {},
   "source": [
    "In our dataset 43.58% data is Malignant comment\n",
    "24.07% are rude\n",
    "22.44% are abusive\n",
    "4.54% are highlt malignant\n",
    "4.00% are loathe\n",
    "1.36% are threat"
   ]
  },
  {
   "cell_type": "code",
   "execution_count": 25,
   "id": "5fd1db32",
   "metadata": {},
   "outputs": [
    {
     "data": {
      "text/plain": [
       "143835    Why do you spend so much time on wikipedia, yo...\n",
       "97659     \"But changing \"\"contend\"\" to \"\"say\"\" is cool. ...\n",
       "85076     I'm think it is known by most people that digi...\n",
       "23001                           heres the liknk from before\n",
       "54230     Sorry, NPOV is non-negotiable. And you know th...\n",
       "                                ...                        \n",
       "39355     Thanks for the suggestion. I slept it over and...\n",
       "152222    I also agree that with such closely related ar...\n",
       "93313     Willmcw: Okay, but I don't undersatnd what you...\n",
       "57624     Thank you for striking those comments. It's mu...\n",
       "77421     Indeed. Anonymous editors are replacing images...\n",
       "Name: comment_text, Length: 159571, dtype: object"
      ]
     },
     "execution_count": 25,
     "metadata": {},
     "output_type": "execute_result"
    }
   ],
   "source": [
    "train['comment_text']"
   ]
  },
  {
   "cell_type": "code",
   "execution_count": 26,
   "id": "6d6de8fd",
   "metadata": {},
   "outputs": [],
   "source": [
    "# Length of comment\n",
    "\n",
    "train['length']=train['comment_text'].str.len()"
   ]
  },
  {
   "cell_type": "code",
   "execution_count": 27,
   "id": "852bb294",
   "metadata": {},
   "outputs": [
    {
     "data": {
      "text/html": [
       "<div>\n",
       "<style scoped>\n",
       "    .dataframe tbody tr th:only-of-type {\n",
       "        vertical-align: middle;\n",
       "    }\n",
       "\n",
       "    .dataframe tbody tr th {\n",
       "        vertical-align: top;\n",
       "    }\n",
       "\n",
       "    .dataframe thead th {\n",
       "        text-align: right;\n",
       "    }\n",
       "</style>\n",
       "<table border=\"1\" class=\"dataframe\">\n",
       "  <thead>\n",
       "    <tr style=\"text-align: right;\">\n",
       "      <th></th>\n",
       "      <th>id</th>\n",
       "      <th>comment_text</th>\n",
       "      <th>malignant</th>\n",
       "      <th>highly_malignant</th>\n",
       "      <th>rude</th>\n",
       "      <th>threat</th>\n",
       "      <th>abuse</th>\n",
       "      <th>loathe</th>\n",
       "      <th>length</th>\n",
       "    </tr>\n",
       "  </thead>\n",
       "  <tbody>\n",
       "    <tr>\n",
       "      <th>143835</th>\n",
       "      <td>0358e1462cf6e293</td>\n",
       "      <td>Why do you spend so much time on wikipedia, yo...</td>\n",
       "      <td>0</td>\n",
       "      <td>0</td>\n",
       "      <td>0</td>\n",
       "      <td>0</td>\n",
       "      <td>0</td>\n",
       "      <td>0</td>\n",
       "      <td>130</td>\n",
       "    </tr>\n",
       "    <tr>\n",
       "      <th>97659</th>\n",
       "      <td>0a7527b3c38a99dc</td>\n",
       "      <td>\"But changing \"\"contend\"\" to \"\"say\"\" is cool. ...</td>\n",
       "      <td>0</td>\n",
       "      <td>0</td>\n",
       "      <td>0</td>\n",
       "      <td>0</td>\n",
       "      <td>0</td>\n",
       "      <td>0</td>\n",
       "      <td>119</td>\n",
       "    </tr>\n",
       "    <tr>\n",
       "      <th>85076</th>\n",
       "      <td>e3a388a7721d6d34</td>\n",
       "      <td>I'm think it is known by most people that digi...</td>\n",
       "      <td>0</td>\n",
       "      <td>0</td>\n",
       "      <td>0</td>\n",
       "      <td>0</td>\n",
       "      <td>0</td>\n",
       "      <td>0</td>\n",
       "      <td>223</td>\n",
       "    </tr>\n",
       "    <tr>\n",
       "      <th>23001</th>\n",
       "      <td>3ccd92240f66d07e</td>\n",
       "      <td>heres the liknk from before</td>\n",
       "      <td>0</td>\n",
       "      <td>0</td>\n",
       "      <td>0</td>\n",
       "      <td>0</td>\n",
       "      <td>0</td>\n",
       "      <td>0</td>\n",
       "      <td>27</td>\n",
       "    </tr>\n",
       "    <tr>\n",
       "      <th>54230</th>\n",
       "      <td>90e7aebc5bba949f</td>\n",
       "      <td>Sorry, NPOV is non-negotiable. And you know th...</td>\n",
       "      <td>0</td>\n",
       "      <td>0</td>\n",
       "      <td>0</td>\n",
       "      <td>0</td>\n",
       "      <td>0</td>\n",
       "      <td>0</td>\n",
       "      <td>113</td>\n",
       "    </tr>\n",
       "  </tbody>\n",
       "</table>\n",
       "</div>"
      ],
      "text/plain": [
       "                      id                                       comment_text  \\\n",
       "143835  0358e1462cf6e293  Why do you spend so much time on wikipedia, yo...   \n",
       "97659   0a7527b3c38a99dc  \"But changing \"\"contend\"\" to \"\"say\"\" is cool. ...   \n",
       "85076   e3a388a7721d6d34  I'm think it is known by most people that digi...   \n",
       "23001   3ccd92240f66d07e                        heres the liknk from before   \n",
       "54230   90e7aebc5bba949f  Sorry, NPOV is non-negotiable. And you know th...   \n",
       "\n",
       "        malignant  highly_malignant  rude  threat  abuse  loathe  length  \n",
       "143835          0                 0     0       0      0       0     130  \n",
       "97659           0                 0     0       0      0       0     119  \n",
       "85076           0                 0     0       0      0       0     223  \n",
       "23001           0                 0     0       0      0       0      27  \n",
       "54230           0                 0     0       0      0       0     113  "
      ]
     },
     "execution_count": 27,
     "metadata": {},
     "output_type": "execute_result"
    }
   ],
   "source": [
    "train.head()"
   ]
  },
  {
   "cell_type": "code",
   "execution_count": null,
   "id": "f4f02198",
   "metadata": {},
   "outputs": [],
   "source": [
    "## We will replace all email addresses within text into EMAIL"
   ]
  },
  {
   "cell_type": "code",
   "execution_count": null,
   "id": "6eb00f35",
   "metadata": {},
   "outputs": [],
   "source": []
  },
  {
   "cell_type": "code",
   "execution_count": 52,
   "id": "509c45a5",
   "metadata": {},
   "outputs": [
    {
     "data": {
      "text/plain": [
       "'My name is mohit tomer and my email is EMAIL '"
      ]
     },
     "execution_count": 52,
     "metadata": {},
     "output_type": "execute_result"
    }
   ],
   "source": [
    "test=\"\"\"My name is mohit tomer and my email is mohit.tomar@gmail.com \"\"\"\n",
    "import re\n",
    "t=re.sub('([a-zA-Z0-9+._-]+@[a-zA-Z0-9._-]+\\.[a-zA-Z0-9_-]+)','EMAIL',test)\n",
    "t"
   ]
  },
  {
   "cell_type": "code",
   "execution_count": 57,
   "id": "f481c914",
   "metadata": {},
   "outputs": [
    {
     "data": {
      "text/plain": [
       "(159571, 159571)"
      ]
     },
     "execution_count": 57,
     "metadata": {},
     "output_type": "execute_result"
    }
   ],
   "source": [
    "# ID feature all are unique values which will not help for any prediction. Drop it\n",
    "\n",
    "train['id'].nunique() , train['id'].count()"
   ]
  },
  {
   "cell_type": "code",
   "execution_count": 61,
   "id": "f9940f6b",
   "metadata": {},
   "outputs": [
    {
     "data": {
      "text/html": [
       "<div>\n",
       "<style scoped>\n",
       "    .dataframe tbody tr th:only-of-type {\n",
       "        vertical-align: middle;\n",
       "    }\n",
       "\n",
       "    .dataframe tbody tr th {\n",
       "        vertical-align: top;\n",
       "    }\n",
       "\n",
       "    .dataframe thead th {\n",
       "        text-align: right;\n",
       "    }\n",
       "</style>\n",
       "<table border=\"1\" class=\"dataframe\">\n",
       "  <thead>\n",
       "    <tr style=\"text-align: right;\">\n",
       "      <th></th>\n",
       "      <th>malignant</th>\n",
       "      <th>highly_malignant</th>\n",
       "      <th>rude</th>\n",
       "      <th>threat</th>\n",
       "      <th>abuse</th>\n",
       "      <th>loathe</th>\n",
       "    </tr>\n",
       "  </thead>\n",
       "  <tbody>\n",
       "    <tr>\n",
       "      <th>143835</th>\n",
       "      <td>0</td>\n",
       "      <td>0</td>\n",
       "      <td>0</td>\n",
       "      <td>0</td>\n",
       "      <td>0</td>\n",
       "      <td>0</td>\n",
       "    </tr>\n",
       "    <tr>\n",
       "      <th>97659</th>\n",
       "      <td>0</td>\n",
       "      <td>0</td>\n",
       "      <td>0</td>\n",
       "      <td>0</td>\n",
       "      <td>0</td>\n",
       "      <td>0</td>\n",
       "    </tr>\n",
       "  </tbody>\n",
       "</table>\n",
       "</div>"
      ],
      "text/plain": [
       "        malignant  highly_malignant  rude  threat  abuse  loathe\n",
       "143835          0                 0     0       0      0       0\n",
       "97659           0                 0     0       0      0       0"
      ]
     },
     "execution_count": 61,
     "metadata": {},
     "output_type": "execute_result"
    }
   ],
   "source": [
    "column=['malignant','highly_malignant','rude','threat','abuse','loathe']\n",
    "\n",
    "target_data=train[column]\n",
    "target_data.head(2)"
   ]
  },
  {
   "cell_type": "code",
   "execution_count": 62,
   "id": "6b176c0d",
   "metadata": {},
   "outputs": [
    {
     "data": {
      "text/plain": [
       "143835    0\n",
       "97659     0\n",
       "85076     0\n",
       "23001     0\n",
       "54230     0\n",
       "         ..\n",
       "39355     0\n",
       "152222    0\n",
       "93313     0\n",
       "57624     0\n",
       "77421     0\n",
       "Length: 159571, dtype: int64"
      ]
     },
     "execution_count": 62,
     "metadata": {},
     "output_type": "execute_result"
    }
   ],
   "source": [
    "train[column].sum(axis=1)"
   ]
  },
  {
   "cell_type": "code",
   "execution_count": 63,
   "id": "16057a58",
   "metadata": {},
   "outputs": [],
   "source": [
    "train['target']=train[column].sum(axis=1)"
   ]
  },
  {
   "cell_type": "code",
   "execution_count": 64,
   "id": "9b6d6326",
   "metadata": {},
   "outputs": [
    {
     "data": {
      "text/html": [
       "<div>\n",
       "<style scoped>\n",
       "    .dataframe tbody tr th:only-of-type {\n",
       "        vertical-align: middle;\n",
       "    }\n",
       "\n",
       "    .dataframe tbody tr th {\n",
       "        vertical-align: top;\n",
       "    }\n",
       "\n",
       "    .dataframe thead th {\n",
       "        text-align: right;\n",
       "    }\n",
       "</style>\n",
       "<table border=\"1\" class=\"dataframe\">\n",
       "  <thead>\n",
       "    <tr style=\"text-align: right;\">\n",
       "      <th></th>\n",
       "      <th>id</th>\n",
       "      <th>comment_text</th>\n",
       "      <th>malignant</th>\n",
       "      <th>highly_malignant</th>\n",
       "      <th>rude</th>\n",
       "      <th>threat</th>\n",
       "      <th>abuse</th>\n",
       "      <th>loathe</th>\n",
       "      <th>length</th>\n",
       "      <th>target</th>\n",
       "    </tr>\n",
       "  </thead>\n",
       "  <tbody>\n",
       "    <tr>\n",
       "      <th>143835</th>\n",
       "      <td>0358e1462cf6e293</td>\n",
       "      <td>Why do you spend so much time on wikipedia, yo...</td>\n",
       "      <td>0</td>\n",
       "      <td>0</td>\n",
       "      <td>0</td>\n",
       "      <td>0</td>\n",
       "      <td>0</td>\n",
       "      <td>0</td>\n",
       "      <td>130</td>\n",
       "      <td>0</td>\n",
       "    </tr>\n",
       "    <tr>\n",
       "      <th>97659</th>\n",
       "      <td>0a7527b3c38a99dc</td>\n",
       "      <td>\"But changing \"\"contend\"\" to \"\"say\"\" is cool. ...</td>\n",
       "      <td>0</td>\n",
       "      <td>0</td>\n",
       "      <td>0</td>\n",
       "      <td>0</td>\n",
       "      <td>0</td>\n",
       "      <td>0</td>\n",
       "      <td>119</td>\n",
       "      <td>0</td>\n",
       "    </tr>\n",
       "    <tr>\n",
       "      <th>85076</th>\n",
       "      <td>e3a388a7721d6d34</td>\n",
       "      <td>I'm think it is known by most people that digi...</td>\n",
       "      <td>0</td>\n",
       "      <td>0</td>\n",
       "      <td>0</td>\n",
       "      <td>0</td>\n",
       "      <td>0</td>\n",
       "      <td>0</td>\n",
       "      <td>223</td>\n",
       "      <td>0</td>\n",
       "    </tr>\n",
       "    <tr>\n",
       "      <th>23001</th>\n",
       "      <td>3ccd92240f66d07e</td>\n",
       "      <td>heres the liknk from before</td>\n",
       "      <td>0</td>\n",
       "      <td>0</td>\n",
       "      <td>0</td>\n",
       "      <td>0</td>\n",
       "      <td>0</td>\n",
       "      <td>0</td>\n",
       "      <td>27</td>\n",
       "      <td>0</td>\n",
       "    </tr>\n",
       "    <tr>\n",
       "      <th>54230</th>\n",
       "      <td>90e7aebc5bba949f</td>\n",
       "      <td>Sorry, NPOV is non-negotiable. And you know th...</td>\n",
       "      <td>0</td>\n",
       "      <td>0</td>\n",
       "      <td>0</td>\n",
       "      <td>0</td>\n",
       "      <td>0</td>\n",
       "      <td>0</td>\n",
       "      <td>113</td>\n",
       "      <td>0</td>\n",
       "    </tr>\n",
       "  </tbody>\n",
       "</table>\n",
       "</div>"
      ],
      "text/plain": [
       "                      id                                       comment_text  \\\n",
       "143835  0358e1462cf6e293  Why do you spend so much time on wikipedia, yo...   \n",
       "97659   0a7527b3c38a99dc  \"But changing \"\"contend\"\" to \"\"say\"\" is cool. ...   \n",
       "85076   e3a388a7721d6d34  I'm think it is known by most people that digi...   \n",
       "23001   3ccd92240f66d07e                        heres the liknk from before   \n",
       "54230   90e7aebc5bba949f  Sorry, NPOV is non-negotiable. And you know th...   \n",
       "\n",
       "        malignant  highly_malignant  rude  threat  abuse  loathe  length  \\\n",
       "143835          0                 0     0       0      0       0     130   \n",
       "97659           0                 0     0       0      0       0     119   \n",
       "85076           0                 0     0       0      0       0     223   \n",
       "23001           0                 0     0       0      0       0      27   \n",
       "54230           0                 0     0       0      0       0     113   \n",
       "\n",
       "        target  \n",
       "143835       0  \n",
       "97659        0  \n",
       "85076        0  \n",
       "23001        0  \n",
       "54230        0  "
      ]
     },
     "execution_count": 64,
     "metadata": {},
     "output_type": "execute_result"
    }
   ],
   "source": [
    "train.head()"
   ]
  },
  {
   "cell_type": "code",
   "execution_count": 65,
   "id": "e9c8a91b",
   "metadata": {},
   "outputs": [
    {
     "data": {
      "text/plain": [
       "0    143346\n",
       "1      6360\n",
       "3      4209\n",
       "2      3480\n",
       "4      1760\n",
       "5       385\n",
       "6        31\n",
       "Name: target, dtype: int64"
      ]
     },
     "execution_count": 65,
     "metadata": {},
     "output_type": "execute_result"
    }
   ],
   "source": [
    "train['target'].value_counts()"
   ]
  },
  {
   "cell_type": "code",
   "execution_count": 72,
   "id": "f0428e71",
   "metadata": {},
   "outputs": [
    {
     "data": {
      "text/plain": [
       "array([0, 1, 3, 2, 4, 5, 6], dtype=int64)"
      ]
     },
     "execution_count": 72,
     "metadata": {},
     "output_type": "execute_result"
    }
   ],
   "source": [
    "train['target'].unique()"
   ]
  },
  {
   "cell_type": "code",
   "execution_count": 74,
   "id": "56a709d1",
   "metadata": {},
   "outputs": [
    {
     "data": {
      "text/plain": [
       "dtype('bool')"
      ]
     },
     "execution_count": 74,
     "metadata": {},
     "output_type": "execute_result"
    }
   ],
   "source": [
    "train['target'].dtype"
   ]
  },
  {
   "cell_type": "code",
   "execution_count": 76,
   "id": "720ef078",
   "metadata": {},
   "outputs": [],
   "source": [
    "train['target']=train['target']>0   # It saved boolean values into target feature\n",
    "train['target']=train['target'].astype(int)"
   ]
  },
  {
   "cell_type": "code",
   "execution_count": 77,
   "id": "e631b41f",
   "metadata": {},
   "outputs": [
    {
     "data": {
      "text/html": [
       "<div>\n",
       "<style scoped>\n",
       "    .dataframe tbody tr th:only-of-type {\n",
       "        vertical-align: middle;\n",
       "    }\n",
       "\n",
       "    .dataframe tbody tr th {\n",
       "        vertical-align: top;\n",
       "    }\n",
       "\n",
       "    .dataframe thead th {\n",
       "        text-align: right;\n",
       "    }\n",
       "</style>\n",
       "<table border=\"1\" class=\"dataframe\">\n",
       "  <thead>\n",
       "    <tr style=\"text-align: right;\">\n",
       "      <th></th>\n",
       "      <th>id</th>\n",
       "      <th>comment_text</th>\n",
       "      <th>malignant</th>\n",
       "      <th>highly_malignant</th>\n",
       "      <th>rude</th>\n",
       "      <th>threat</th>\n",
       "      <th>abuse</th>\n",
       "      <th>loathe</th>\n",
       "      <th>length</th>\n",
       "      <th>target</th>\n",
       "    </tr>\n",
       "  </thead>\n",
       "  <tbody>\n",
       "    <tr>\n",
       "      <th>143835</th>\n",
       "      <td>0358e1462cf6e293</td>\n",
       "      <td>Why do you spend so much time on wikipedia, yo...</td>\n",
       "      <td>0</td>\n",
       "      <td>0</td>\n",
       "      <td>0</td>\n",
       "      <td>0</td>\n",
       "      <td>0</td>\n",
       "      <td>0</td>\n",
       "      <td>130</td>\n",
       "      <td>0</td>\n",
       "    </tr>\n",
       "    <tr>\n",
       "      <th>97659</th>\n",
       "      <td>0a7527b3c38a99dc</td>\n",
       "      <td>\"But changing \"\"contend\"\" to \"\"say\"\" is cool. ...</td>\n",
       "      <td>0</td>\n",
       "      <td>0</td>\n",
       "      <td>0</td>\n",
       "      <td>0</td>\n",
       "      <td>0</td>\n",
       "      <td>0</td>\n",
       "      <td>119</td>\n",
       "      <td>0</td>\n",
       "    </tr>\n",
       "  </tbody>\n",
       "</table>\n",
       "</div>"
      ],
      "text/plain": [
       "                      id                                       comment_text  \\\n",
       "143835  0358e1462cf6e293  Why do you spend so much time on wikipedia, yo...   \n",
       "97659   0a7527b3c38a99dc  \"But changing \"\"contend\"\" to \"\"say\"\" is cool. ...   \n",
       "\n",
       "        malignant  highly_malignant  rude  threat  abuse  loathe  length  \\\n",
       "143835          0                 0     0       0      0       0     130   \n",
       "97659           0                 0     0       0      0       0     119   \n",
       "\n",
       "        target  \n",
       "143835       0  \n",
       "97659        0  "
      ]
     },
     "execution_count": 77,
     "metadata": {},
     "output_type": "execute_result"
    }
   ],
   "source": [
    "train.head(2)"
   ]
  },
  {
   "cell_type": "code",
   "execution_count": 78,
   "id": "efb4b807",
   "metadata": {},
   "outputs": [
    {
     "data": {
      "text/plain": [
       "0    143346\n",
       "1     16225\n",
       "Name: target, dtype: int64"
      ]
     },
     "execution_count": 78,
     "metadata": {},
     "output_type": "execute_result"
    }
   ],
   "source": [
    "train['target'].value_counts()"
   ]
  },
  {
   "cell_type": "markdown",
   "id": "a4c7d25a",
   "metadata": {},
   "source": [
    "### Target Feature id the comment is Magligant or not"
   ]
  },
  {
   "cell_type": "code",
   "execution_count": 80,
   "id": "42b2c46a",
   "metadata": {},
   "outputs": [
    {
     "data": {
      "text/plain": [
       "<AxesSubplot:xlabel='target', ylabel='count'>"
      ]
     },
     "execution_count": 80,
     "metadata": {},
     "output_type": "execute_result"
    },
    {
     "data": {
      "image/png": "[encoded data removed]",
      "text/plain": [
       "<Figure size 432x288 with 1 Axes>"
      ]
     },
     "metadata": {
      "needs_background": "light"
     },
     "output_type": "display_data"
    }
   ],
   "source": [
    "sns.countplot('target', data=train)"
   ]
  },
  {
   "cell_type": "markdown",
   "id": "a6624201",
   "metadata": {},
   "source": [
    "### Data Preprocessing of comment_text"
   ]
  },
  {
   "cell_type": "code",
   "execution_count": 81,
   "id": "f3bc401b",
   "metadata": {},
   "outputs": [
    {
     "name": "stderr",
     "output_type": "stream",
     "text": [
      "[nltk_data] Downloading package stopwords to C:\\Users\\Bank of\n",
      "[nltk_data]     America\\AppData\\Roaming\\nltk_data...\n",
      "[nltk_data]   Package stopwords is already up-to-date!\n"
     ]
    },
    {
     "data": {
      "text/plain": [
       "True"
      ]
     },
     "execution_count": 81,
     "metadata": {},
     "output_type": "execute_result"
    }
   ],
   "source": [
    "import re\n",
    "import nltk\n",
    "nltk.download('stopwords')"
   ]
  },
  {
   "cell_type": "code",
   "execution_count": 83,
   "id": "075b33ec",
   "metadata": {},
   "outputs": [],
   "source": [
    "# replace emailids to EMAIL, remove stop words and lemmatize\n",
    "\n",
    "from nltk.corpus import stopwords\n",
    "from nltk.stem.porter import PorterStemmer\n",
    "from nltk.stem import WordNetLemmatizer\n",
    "\n",
    "stemmer=PorterStemmer()\n",
    "lemmit= WordNetLemmatizer()"
   ]
  },
  {
   "cell_type": "code",
   "execution_count": 86,
   "id": "cb068112",
   "metadata": {},
   "outputs": [],
   "source": [
    "corpus=[]\n",
    "\n",
    "for i in range(len(train)):\n",
    "    review=re.sub('([a-zA-Z0-9+._-]+@[a-zA-Z0-9._-]+\\.[a-zA-Z0-9_-]+)','EMAIL',train['comment_text'][i])\n",
    "    review=re.sub('[^a-zA-Z0-9]',' ',train['comment_text'][i])\n",
    "    review=review.lower()\n",
    "    review=review.split()\n",
    "    \n",
    "    review=[lemmit.lemmatize(word) for word in review if word not in set(stopwords.words('english'))]\n",
    "    review=\" \".join(review)\n",
    "    corpus.append(review)\n",
    "    "
   ]
  },
  {
   "cell_type": "code",
   "execution_count": 88,
   "id": "091a245b",
   "metadata": {},
   "outputs": [
    {
     "data": {
      "text/plain": [
       "'explanation edits made username hardcore metallica fan reverted vandalism closure gas voted new york doll fac please remove template talk page since retired 89 205 38 27'"
      ]
     },
     "execution_count": 88,
     "metadata": {},
     "output_type": "execute_result"
    }
   ],
   "source": [
    "corpus[0]"
   ]
  },
  {
   "cell_type": "code",
   "execution_count": 90,
   "id": "c0dae4ac",
   "metadata": {},
   "outputs": [
    {
     "data": {
      "text/plain": [
       "'hey man really trying edit war guy constantly removing relevant information talking edits instead talk page seems care formatting actual info'"
      ]
     },
     "execution_count": 90,
     "metadata": {},
     "output_type": "execute_result"
    }
   ],
   "source": [
    "corpus[2]"
   ]
  },
  {
   "cell_type": "markdown",
   "id": "3e6c8dd6",
   "metadata": {},
   "source": [
    "### Test- Preprocessing"
   ]
  },
  {
   "cell_type": "code",
   "execution_count": null,
   "id": "4269fda2",
   "metadata": {},
   "outputs": [],
   "source": [
    "test_data=[]\n",
    "\n",
    "for i in range(len(test)):\n",
    "    review=re.sub('([a-zA-Z0-9+._-]+@[a-zA-Z0-9._-]+\\.[a-zA-Z0-9_-]+)','EMAIL',train['comment_text'][i])\n",
    "    review=re.sub('[^a-zA-Z0-9]',' ',train['comment_text'][i])\n",
    "    review=review.lower()\n",
    "    review=review.split()\n",
    "    \n",
    "    review=[lemmit.lemmatize(word) for word in review if word not in set(stopwords.words('english'))]\n",
    "    review=\" \".join(review)\n",
    "    corpus.append(review)\n",
    "    "
   ]
  },
  {
   "cell_type": "code",
   "execution_count": 93,
   "id": "c08edd29",
   "metadata": {},
   "outputs": [
    {
     "data": {
      "text/plain": [
       "['explanation edits made username hardcore metallica fan reverted vandalism closure gas voted new york doll fac please remove template talk page since retired 89 205 38 27',\n",
       " 'aww match background colour seemingly stuck thanks talk 21 51 january 11 2016 utc',\n",
       " 'hey man really trying edit war guy constantly removing relevant information talking edits instead talk page seems care formatting actual info',\n",
       " 'make real suggestion improvement wondered section statistic later subsection type accident think reference may need tidying exact format ie date format etc later one else first preference formatting style reference want please let know appears backlog article review guess may delay reviewer turn listed relevant form eg wikipedia good article nomination transport',\n",
       " 'sir hero chance remember page',\n",
       " 'congratulation well use tool well talk',\n",
       " 'cocksucker piss around work',\n",
       " 'vandalism matt shirvington article reverted please banned',\n",
       " 'sorry word nonsense offensive anyway intending write anything article wow would jump vandalism merely requesting encyclopedic one use school reference selective breeding page almost stub point animal breeding short messy article give info must someone around expertise eugenics 93 161 107 169',\n",
       " 'alignment subject contrary dulithgow',\n",
       " 'fair use rationale image wonju jpg thanks uploading image wonju jpg notice image page specifies image used fair use explanation rationale use wikipedia article constitutes fair use addition boilerplate fair use template must also write image description page specific explanation rationale using image article consistent fair use please go image description page edit include fair use rationale uploaded fair use medium consider checking specified fair use rationale page find list image page edited clicking contribution link located top wikipedia page logged selecting image dropdown box note fair use image uploaded 4 may 2006 lacking explanation deleted one week uploaded described criterion speedy deletion question please ask medium copyright question page thank talk contribs unspecified source image wonju jpg thanks uploading image wonju jpg noticed file description page currently specify created content copyright status unclear create file need specify owner copyright obtained website link website taken together restatement website term use content usually sufficient information however copyright holder different website publisher copyright also acknowledged well adding source please add proper copyright licensing tag file one already created took picture audio video tag used release gfdl believe medium meet criterion wikipedia fair use use tag one tag listed wikipedia image copyright tag fair use see wikipedia image copyright tag full list copyright tag use uploaded file consider checking specified source tagged find list file uploaded following link unsourced untagged image may deleted one week tagged described criterion speedy deletion image copyrighted non free license per wikipedia fair use image deleted 48 hour question please ask medium copyright question page thank talk contribs',\n",
       " 'bbq man let discus maybe phone',\n",
       " 'hey talk exclusive group wp taliban good destroying self appointed purist gang one asks question abt anti social destructive non contribution wp ask sityush clean behavior issue nonsensical warning',\n",
       " 'start throwing accusation warning let review edit making ad hominem attack going strengthen argument merely make look like abusing power admin edit relevant probably single talked event int news late absence notable since living ex president attend certainly notable dedicating aircracft carrier intend revert edit hope attracting attention admin willing look issue throw accusation around quite liberally perhaps achieve level civility rational discussion topic resolve matter peacefully',\n",
       " 'oh girl started argument stuck nose belong believe argument yvesnimmo like said situation settled apologized thanks',\n",
       " 'juelz santanas age 2002 juelz santana 18 year old came february 18th make juelz turn 19 making song diplomat third neff signed cam label roc fella 2003 20 year old coming single santana town yes born 1983 really could older lloyd bank could 22 birthday passed homie neff 23 year old 1983 2006 juelz death god forbid thinking equal 23 go caculator stop changing year birth god',\n",
       " 'bye look come think comming back tosser',\n",
       " 'redirect talk voydan pop georgiev chernodrinski',\n",
       " 'mitsurugi point made sense argue include hindi ryo sakazaki page include information',\n",
       " 'mean bother see writing something regarding removing anything posted oh well acctually discus even better like ask take closer look premature wrestling death catagory men listed surely men belong together catagory anything think catagory besides delting',\n",
       " 'regarding recent edits please read wp filmplot editing film article edits simply good entirely many unnecessary detail bad writing please stop damage 45',\n",
       " 'good know yeah studying deepu',\n",
       " 'snowflake always symmetrical geometry stated snowflake always six symmetric arm assertion simply true according kenneth libbrecht rather unattractive irregular crystal far common variety http www caltech edu atomic snowcrystals myth myth htm perfection someone really need take look site get fact still see decent number falsity page forgive im new dont want edit anything',\n",
       " 'signpost 24 september 2012 read signpost full single page unsubscribe',\n",
       " 'considering 1st paragraph edit understand reason recent edit article sure data necessarily wrong rather persuaded strategy introducing academic honor first paragraph unhelpful approach specific subject note article sitting justice similarly enhanced also believe change improvement support view edit reverted would invite anyone visit article written following pair jurist a1 benjamin cardozo a2 learned hand b1 john marshall harlan b2 john marshall harlan ii question becomes would current version wikipedia article one either pair improved academic credential introductory paragraph think perhaps help repeat wry argument kathleen sullivan stanford law make suggests harvard law faculty wonder antonin scalia avoided learning others managed grasp process judging would hope anecdote gently illustrates point le humorous even stronger argument one clarence thomas make mention wanting return law degree yale minimum questioning edit deserves reconsidered',\n",
       " 'radial symmetry several extinct lineage included echinodermata bilateral homostelea even asymmetrical cothurnocystis stylophora',\n",
       " 'need apologize wikipedia article made reconciling knowledge subject different source done history study archaeology study guess could scan page e mail could ask someone translate page',\n",
       " 'yes mother child case michael jackson studied motif reasoning judged upon character harshly wacko jacko tell ignore incriminate going continue refuting bullshit jayjg keep throwing 18 01 16 jun 2005 utc',\n",
       " 'ok take bit work quite picture example base duck',\n",
       " 'barnstar real life barnstar let u star',\n",
       " 'could post block expires funny thing think uncivil',\n",
       " 'sure heading fight freedom contain',\n",
       " 'praise looked article 6 month ago much improved',\n",
       " 'able post list quickly already text file hard drive meaning get around updating sound list time far generating interest spent four year trying drum interest freely licensed full length classical music unfortunately attempt failed still effectively one classical music wikiproject interested wikipedia talk wikiproject classical music archive 5 need help 21wikipedia talk wikiproject music archive 3 could use helpwikipedia talk wikiproject music archive 2 raulbot 2c music list really given trying interest others sound list featured digg back http digg com music wikipedia free classical music downloads got 1600 diggs imo impressive',\n",
       " 'well process thing subpages rfa listed noseptember page find look september 2004 think difference el c sure surprised see block left note c',\n",
       " 'making straw man argument never claimed donohue position rather practitioner researcher field ignored dsm position exactly quote say also something donohue agrees combating notion absurd part claim pedophilia sexual orientation since many researcher hold position would unfair call absurd disorder part divided field argue disorder end day value judgment cantor pointed earlier thread scientific judgement choose make value judgment article stated clearly pretend scientific basis',\n",
       " 'mainland asia includes lower basin china yangtze river well korea specific fine found citation comprehensive dna study hammer rather generarizations speculation far citation yayoi culture brought japan migrant korea turn trace root southeast asia south china 2005 dna study hammer describes yayoi migration korea based sry 465 gene gene close lineage haplogroups m122 m95 reiterates entire haplogroup proposed southeast asian origin definition southeast asia includes southern china hypothesizes dispersal neolithic farmer southeast asia also brought haplogroup lineage korea eventually japan concluding paragraph state propose yayoi chromosome descend prehistoric farmer origin southeastern asia perhaps going back origin agriculture region hammer dna study based global sample consisted 2 500 male 39 asian population including six population sampled across japanese archipelago',\n",
       " 'pretty much everyone warren county surrounding region born glen fall hospital included however sure qualifies anyone glen fall native rachel ray believe actually town lake luzerne preceding unsigned comment added 70 100 229 154 04 28 57 august 19 2007 utc',\n",
       " 'hi explicit block fenian edit warring giant causeway wp made several edits described terrorism',\n",
       " 'notability rurika kasuga tag placed rurika kasuga requesting speedily deleted wikipedia done article seems person group people band club company web content indicate subject notable article subject included wikipedia criterion speedy deletion article assert notability may deleted time please see guideline generally accepted notable indicate subject article notable may contest tagging add top page existing db tag leave note article talk page explaining position please remove speedy deletion tag hesitate add information article would confirm subject notability guideline guideline specific type article may want check criterion biography web site band company feel free leave note talk page question',\n",
       " 'sure lead must briefly summarize armenia history simply added found necessary anyone think sentence redundant lead welcome remove make edits talk',\n",
       " 'tfd think eced think responded without seeing others response added something response know saw mine c wp chicago wp four',\n",
       " 'gay antisemmitian archangel white tiger meow greetingshhh uh two way erased comment ww2 holocaust brutally slaying jew gay gypsy slav anyone 1 anti semitian shave head bald go skinhead meeting 2 doubt word bible homosexuality deadly sin make pentagram tatoo forehead go satanistic mass gay pal 3 first last warning fucking gay appreciate nazi shwain would write page wish talk anymore beware dark side',\n",
       " 'fuck filthy mother as dry',\n",
       " 'sorry sorry screwed around someone talk page bad know template talk page help assert dominance know bow almighty administrator going go play outside mom 76 122 79 82',\n",
       " 'believe lisak criticism present conforms npv rule lisak neutral point view begin offer polygraph even concerned review polygraph result shock complainant thinking lie uncovered recantation still perfectly valid know telling truth argue machine investigator also part kanin research followup recanted story possible verify false recantation followup recanted version event matched accused said happened arguing lisak respected phd baseless kanin respected phd agree edit neutral possible though apologize still something must done',\n",
       " 'point ammended appropriate encyclopedic notability significance',\n",
       " 'word lazy actually point anything change approach tag go',\n",
       " 'claim stalking absolute rubbish serf aggravate situation assumed good faith good intention part never suggested seen reason suggest might ulterior motive mass adding link one specific company web page matter ever made suggestion administrative matter even mentioned role clearly party disagreement would rate would conflict interest would ask thus extend good faith toward rather making spurious unfounded accusation chatspy',\n",
       " 'jmabel regard predominant scholary consensus allegedly claim despite third way rhetoric fascism power functioned rather consistently right wing force far aware owning numerous book subject scholary consensus consensus developed respected scholar fascism write manner bias interest group roger griffin hamish mcdonald roger eatwell zeev sternhell recongise fascism third way reference show dissenter aware seem think fascism absoutely leftist connection merely radical right system street level socialist want put much distance movement possible course come educated people position write book example even foremost scholary expert fascism former member communist party socialist party italy renzo de felice try cover socialistic origin third way status man wrote definitive seven volume piece mussolini',\n",
       " 'bi said wanted talk bottom lead section written promoter speculated 1994 skyhook concept could cost competitive realistically thought achievable using space elevator skyhook competitive rotating tether concept addition rotating skyhook fact deemed engineeringly feasible using presently available material regarding addition rotating skyhook fact deemed engineeringly feasible using presently available material statement appears come ref 3 page 10 full quote mass tether alone started exceed 200 time mass payload indication particular scenario considered engineeringly feasible using presently available material although application might become feasible near future better material become available higher tensile strength higher operational temperature go say shall see presently available commercial material suffice make hastol tether needed primary message want leave reader need magic material like buckminster fuller carbon nanotube make space tether facility hastol system existing material would appear misread reference tether mass 200 time mass payload mass upper limit problem system tether mass le 200 time payload mass built presently available commercial material reinforce conclusion report state fundamental conclusion phase hastol study effort concept technically feasible evaluated number alternate system configuration allow hypersonic air breathing vehicle technology combined orbiting spinning space tether technology provide method moving payload surface earth earth orbit one hastol architecture concept developed design solution using existing near term technology expect number hastol architecture concept prove similarly technically feasible subjected detailed design study system completely reusable potential drastically reducing cost earth orbit space access regarding skyhook competitive rotating tether concept 2000 boeing report possibillity combining skyhook hypersonic plane concluded general non spinning tether hyperskyhook concept look competitive spinning tether concept full quote hyperskyhook 1995 zubrin proposed hypersonic skyhook solution mismatch attainable atmospheric speed hypersonic airplane orbital speed space tether since orbital speed space tether decrease increasing altitu',\n",
       " 'get fucked get fuckeeed got drink cant put get fuck get fucked fucked right',\n",
       " 'threatening disputing neutrality know country quite common bully way discussion push outcome want russia',\n",
       " 'thanks undeletion hoped researching status texas government including local government copyright status slow going apparently work florida government usually public domain similar article texas guess research old fashioned non lazy actually reliable way ask copyright help desk like suggested meantime using fair use rationale since valid image used article thanks',\n",
       " 'awesome simply disregard notice thanks',\n",
       " 'stupid peace shit stop deleting stuff asshole go die fall hole go hell',\n",
       " 'tony sidaway obviously fistfuckee love arm as',\n",
       " 'ga review ii sorry say fail article gan several major problem brought article previous ga assessment issued said article wp lead longer history medium attention academic student government demographic trivia additional information section deficient citiations also triva additional information integrated rest article please look wp wiaga fix problem renominate ga class however assessed article b class meet b class criterion regard',\n",
       " 'band page deletion thought gone deleting comment posted talk page delete feeling hasty decision delete page sir still cock sucking douche fuck sit back second think life become done take long nope certainly aware life shitstorm sitting front computer masturbating fictional creature attempt get rid mediocre best constantly sucking dick failure want personal attack huh well bad fuckcock mcdickerson got one go ahead delete profile wikipedia make another one come right back syrthiss talk page insult dick could shatter dream innocent eighteen year old college freshman trying make name band make happy fucking people overweight single old man dead end job spot perhaps someone else going follow dream trying hold back somebody else could suffer like yes make empty threat saying anything along line hurt eat child within sister womb say asshole son bitch mother fucking cock sucker go eat food drown sorrow premature ejaculating bald headed fuck something nice maybe go grab couple horny goat weed local convenience store jack little longer three minute tonight sincerely asshole better every way',\n",
       " 'believe fat artie see recent appearence tonight show jay leno look absolutely awful put money say artie lange miss candidate 2007 dead pool kindly keep malicious finger comment everytime remove repost',\n",
       " 'locking page would also violate wp newbie whether like conservative wikipedians',\n",
       " 'bisexual like homosexual heterosexual defined sexual activity much like 15 year old boy attracted girl sexually never sex still straight person actually sexually attracted aroused sex well opposite sex bisexual',\n",
       " 'redirect talk frank herbert mason',\n",
       " 'christian arab hi could please stop enforcing category christian arab non arabic christian living middle east wrong middle eastern christian though arab gone arabization need stop arab ethnicity forced called christian arab christian european born middle east called christian arab reason alone please understand syriac christian e assyrian ancestry speak aramaic though lot forgetting someone speaks aramaic respect fact appease muslim want call everyone arab middle east closely related arab saudiarabia ethnicity please stop forcing upon u alien arab ethnicity oppression talk 12 17 26 jun 2007 utc',\n",
       " 'dh dude abc officially say name episode know already episode name abc say everybody say',\n",
       " 'edits good cunt like revert good edits stupid understand write well revert edits decided bear playground grudge problem maybe one day realise damage noble project 201 215 187 159',\n",
       " 'neiln bang harassed edit disruptively get reverted talk',\n",
       " 'went around time certainly case time later stopped taking child young age',\n",
       " 'must chemical imbalance brain ok gibberish guy writing really make feel sorry ever go law school would legal profession bad',\n",
       " 'parzival418 trying scare thatso say comment thatso insulting thatso trying suggest original research wikipedia right',\n",
       " 'oppose article stand properly reference wp reference guideline issue resolved issue moved mainspace',\n",
       " 'would appreciate apology see unlikely please waste time longer attempt trying justify either plasma physic transgression toward bother longer issue shall leave alone seek others deserve considerate attention',\n",
       " 'original research pointed episode',\n",
       " 'ambiguous mabuska irish mean one thing qoute thanks preceding unsigned comment added 109 77 58 139 course word irish invented establishment irish free state talk quote want depends context term used whether applicable note said citizenship ethnicity never mentioned nationality real key meaning nationality meaning term predominantly used form wikipedia nationality term refers republic ireland already know sure talk nationality term refers republic ireland country nationality term refers ireland preceding unsigned comment added 109 76 191 188 oh wow ireland ireland state whose official description republic ireland whats point inane conversation talk ireland whose official name ireland preceding unsigned comment added 109 76 191 188 http www constitution ie report constitutionofireland pdf reading also see http www constitution ie report mbunreachtnaheireann pdf speak preceding unsigned comment added 109 78 224 50',\n",
       " 'magazine masthead say time corporate name time inc easily look hand abn amro always corporate name look well',\n",
       " 'take belated piffling prevarication elsewhere late',\n",
       " 'looking look like around dick talk page though nothing bad though look like inability express properly thank concern also cheer',\n",
       " 'direction really necessary name u state recognize give number state american encyclopedia universal one see every single u state recognize named ix',\n",
       " '20 december 2006 utc must play metal gear solid 2 often gw arsenal gear went haywire solid snake uploaded emma virus 19 32',\n",
       " 'hi back last warning stop undoing edits die',\n",
       " 'minimization textile effluent proposed deletion template added article minimization textile effluent suggesting deleted according proposed deletion process contribution appreciated article may satisfy wikipedia criterion inclusion deletion notice explain see also wikipedia wikipedia deletion policy may prevent proposed deletion removing notice please explain disagree proposed deletion edit summary talk page also please consider improving article address issue raised even though removing deletion notice prevent deletion proposed deletion process article may still deleted match speedy deletion criterion sent article deletion may deleted consensus delete reached agree deletion article person made substantial edits page please add top minimization textile effluent',\n",
       " 'scientific attribute event cause b cause b deliberate designed sort intelligent intent answer question beyond well problem answering beyond example completely rigged several major fundamental problem first completely fail mention fact intelligence behind id quite literally earth natural science might look honeycomb see built bee find odd looking fossilized honeycomb theorize made odd looking bee fundamentally different saying made something earth id core notion something outside system observe cause science sense word mythology paul bunyan wrestling match babe blue ox kicked much dirt created great lake evidence paul ox remain mean really second natural science take approach knowledge nothing known scientific law unless irrefutable theory must heavy supporting empirical data back id turn head end run around knowledge play game probability one say flagellum bacteria could formed naturally hell id proponent come sort mathematically accurate probability flagellum naturally forming bacteria understand statistic id jump right hurdle take anything complete detailed natural explanation jam statistic say well improbable happen someone must designed perversion science assign probability something understand id making number finally example b b deliberate design well good rigged example except respect life earth b unknown b example might qualify forensic science dead body b bullet heart see bunch dead body bullet heart next time see body bullet heart probably figure killed life earth one scenario case observe test sense b scientific never actually observed b btw b teh intelligent designer never observed sense science',\n",
       " 'screwjob hey noticed comment montreal screwjob discussion page decided since nobody except someone account objected said would atleast change page little make fair wanted tell thought would like know changed word top first paragraph added something second one bothered thats fine thought since fighting nothing even said might aswell tell',\n",
       " 'april 2006 thank experimenting page andy griffith wikipedia test worked reverted removed please use sandbox test want take look welcome page would like learn contributing encyclopedia',\n",
       " 'christ iq selected therefore every population iq never cease amaze',\n",
       " 'prove better knowledge english language would obvious',\n",
       " 'would shut run wikipedia especially stupid kid',\n",
       " 'oh vandalising xd see greeting',\n",
       " 'website hey thinking getting website display picture cheapest thing could find know others fir diliff guy website think legit could provide better alternative help guild member also appreciated thanks talk',\n",
       " 'thanks reading',\n",
       " 'personal attack fruit brute vfd apology critical feel many comment made fruit brute vfd debate far reasonable diplomatic way disagree assertion initial sentence lie make look even juvenile learn face goofed go long way life attack age certainly border personal attack bart133 forty sixty eighty would included comment juvenile expect apologise anyone want make clear consider comment vfd debate inappropriate think many member community would agree talk 06 46 2005 feb 7 utc',\n",
       " 'transliteration russian place name writing moscow metro malayalam wikipedia finding difficult correctly transliterate russian place name example pronounce park kultury paark kalttari paark kalchchari perhaps something completely different somebody please help transliterating list given http ml wikipedia org wiki putting list want clutter page thanks',\n",
       " 'almost got look see real talk',\n",
       " 'one defame someone think fort hood shooting justified god law',\n",
       " 'lack balance article seriously balance would benefit greatly introduction additional information negative aspect 34 record sort balance problem uncommon dependence work particular author example testing evaluation 34 u army ordnance dept exposed serious problem tank type information included article bring back balance',\n",
       " 'thanks see violating clearly stated wikipedia policy problem people reviewed elsewhere finishing one wiki project todsy spending rest day important personal blog entry go find discussion james petras fascinating discussion use term jewish lobby put back deleted dissident voice article right away per talk jewish lobby wp v comparing jewish virtual library dissident voice carol moore talk',\n",
       " 'hi thanks kind word see around talk',\n",
       " 'collusion poker regarded heinous form cheating poker perhaps mention example warranted',\n",
       " 'thanks much however resolved today write anything edit summary camera put ad edit summary box 1equalvoice1 talk',\n",
       " 'right get username able impact saying seem familiar everything probably username get one take 10 second talk contribs',\n",
       " 'however moonlite edit noted golden daph optus wake wikkis funny',\n",
       " 'check following website http www iranchamber com personality farabi farabi php http www islam org br c2 a0al farabi htm http www superbeyin com sohbet sohbet htm',\n",
       " 'believe one already put page dilbert desktop game',\n",
       " 'well asked provide diffs within one hour next edit made edit talk page provide diffs requested within one hour edit sanctioned failing provide requested diffs timely manner week still done consequently request lift sanction denied',\n",
       " 'page shoudld important character reoccur void black doom mephiles etc',\n",
       " 'pair jew hating weiner nazi schmuck',\n",
       " 'tend think list longer rest article problem either history characteristic expanded list culled personally like consensus reached tripel article others included decided country origin highlighted example trappist abbey foreign foreign includes non belgium example way article article encyclopedia list people find list anywhere article reference also style statistic bad say style statistic sound like prescription description encyclopedia follow latter former used citation follow find valid one style country origin',\n",
       " 'religiously politically motivated push issue please refrain talking page interested otherwise feel free talk relevant edits science deleet talk would prefer following user never post maunus aunus snun w weijibaikebianji guy published psychology researcher right perhaps know access library best source point often come across mind bendingly condescending also suspect editor racist see wiki 121 134 219 36',\n",
       " 'vandalizing fun man sense humor think vandalizing stuff lemonparty org site',\n",
       " 'welcome wikipedia bla discover ekopedia practical encyclopedia alternative life technique bla discover ekopedia practical encyclopedia alternative life technique',\n",
       " 'including appropriate mention solomon article without level support',\n",
       " 'comment could verify claim talk',\n",
       " 'czech republic central europe state article part reason people making confusion especially ridiculous would replace mention north caucasus favor north slope caucasus mountain isnt even geographical area denoting mountain region country located within continent yet reason refuse allow article denoted continent single factor alone would made massive difference reader tired arguing people essentially wiki squatter refusing nudge given article 24 90 230 216',\n",
       " 'thanks josette enjoyed meeting shocked decision begin reflect consensus one grand poobah make alone serf right stealing time pressing real world duty indulge fun hobby learned lesson waste time like stick fixing little thing run across read article information',\n",
       " 'paleontologist agree organic remains must buried quickly preserved long enough come fossilized however term fossilized precise term several factor metamorphic mineral process occur organic remains result typically called fossil one major factor concern kind organism fossilized vertebrate invertebrate radiolarian sponge plant pollen foot print etc multiple process may include permineralization recrystalization carbonization replacement dissolving diagenesis etc talking fossilization complex issue however quick burial questioned major question long take process work organic reamins environment found experimental taphonomy resulted assortment remains becoming fossilized various process lab course implies given right condition vast age issue metamorphic process ongoing equilibrium met chemical enviroument burial site mineral organic remains flood catastrophic geologist expect organic remains buried flood completely fossilized within one year period flood rather 4000 year process working much work need done taphonomy organic remains yet one interprets even result depend upon world view choose believe',\n",
       " 'also think vegetable basket need wikipedia page',\n",
       " 'bigfoot reference magazine better known engineering mining journal may difficult time finding depending live ran across article year ago researching something else made copy clearly derived press account treat incident joke whole point citing show incident whatever entirely created 40 year fact leave email scan page email pdf',\n",
       " 'also see cant trust murkoth ramunni http book google com book id hhev0u1gfpec pg pa51 dq thiyya matrilineal hl en sa x ei tlppud2ah8mwiqlgvidgba ved 0cdyq6aewaq v onepage q thiyya 20matrilineal f false',\n",
       " 'chart performance single lady put ring please take advice split paragraph section fa generally short paragraph hard boring ingest much information splitting paragraph improve flow talk',\n",
       " 'hahahaha good one removed',\n",
       " 'said temporarily removed request based cyde advice pending request consensus asked talk page urge anyone reading vote know community want',\n",
       " 'conformity healthy may missed article seem address conformity healthy behaviour way conform grammar understood conform law recognise need orderly society 194 126 85 214',\n",
       " 'hi new wikipedia read pandemic today impressed quality information knowledge easily available elsewhere easily accessible format thank creating content making accessible',\n",
       " 'say something view educationalist socialist political commentator link http www langandlit ualberta ca fall2004 steigelbainbridge html mention bit stood election candidate respect',\n",
       " 'sandbox take template sandbox say remove reason 11 36 10 jan 2005 utc',\n",
       " 'heh bit copy wikipedia wikiproject professional wrestling thought look bit tidy better way',\n",
       " 'ahh hello witzeman 203 92 84 161 symbol character greek cyrillic ipa famous article witze happiness wikipedia witzeman great honour passed generation many family regardless race age character knowledge outside world know little elusive character honour witzeman ever witzeman said great honour although quality needed job never disclosed person may witzeman many year called former witzemans via dream associate witzeman known certain babe cool much lesser known witzewoman present witzeman 11 year old boy namely benjamin wood said become witzeman felt awesome radiance top right bumcheek told great number people testimony promised year come history present world come enlightned knowledge witzeman present year former witzemen public honour abide formality conservativism time term witzeman compound word adjective witze man witze 11th century term person extreme humour radiant intelligence unfortuneatly witze also sometimes associated bad wind unspeakable reason proper history early 14th century witzemen considered outcast young child encouraged poke stick led 1st witzeman rebellion 1555 current witzeman follower attempted coup take local council chess team rebellion disgraced witzeman follower embarassingly pronounced gaga government meeting year period early 1900s dark time witzemans history however good time come witzeman many normal people took part mass demonstration protest witzeman 1980s building great moment history great rebellion 1988 several witzeman sprinted round visitor gallery house common wearing clown mask otherwise completely naked thought act circambulation however many people witnessed shocking behaviour mentally spiritually emotionallly scarred life group people included many young child forced go asylum state mental instability suffering trauma time government finally took positive action witzeman 1990 bill right witzeman signed stating witzemen allowed pleased although formal agreement many journalist viewed letter submission government witzeman behaviour witzeman follower became twisted',\n",
       " 'ok finished planned cleanup todo page entry removed copied investigated entry page record looked talk',\n",
       " 'dec 14 2006 nist scientist said collapse tower magnitude seismically significant see dr wood scientific method applied thermite hypothesis paper tripod site mp3 link',\n",
       " 'statement drawn watchtower literature honestly clandescently hypocrisy drawn watchtower literature via ray franz argument literature imposed wikipedia article much coincidence le follower ray franz going come reference wa literature exactly connection ray franz make without first seen connection made ray franz literature natural nature',\n",
       " 'sorry checked come dulas bay somehow missed dulas disambiguation page completely apology even getting particularly late night onset swine flu perhaps',\n",
       " 'tcm find evidence acupressure tcm rather derived tcm one object place citation note article',\n",
       " 'well still need expansion area citation others image going get pic stanley cup banner tonight hitman game forgot camera thorough review copy edit someone better flair word work progress lute',\n",
       " 'redirect somewhere hurt though still think candidate ideal pass notability threshold day basic material still work',\n",
       " 'meivazhi go restarting meivazhi article style standard wikipedia article someone would probably deleted pretty quickly stayed form posted grateful could help talk meivazhi accuracy unfortunately remove link conflict interest guideline advise editor linking site also wikipedia attribution policy wp att requires information come third party published source rather personal website know good newspaper book account meivazhi p salaimanimudi indlist com site personal site member',\n",
       " 'though certainly small article inconsequential warrant subsuming within flame tree article discography article stand alone 22 may 2005',\n",
       " 'yeah let merge content sure devil canyon type codename',\n",
       " 'image yourtransitad jpg think may able get better photo ad able okay use replace current one want check first anything',\n",
       " 'cookie cookie',\n",
       " 'lmao n00b go listen manele',\n",
       " '06 29 december 2007 utc yep lol reformist party serbia reformist party another go 20th last parliamentary election winning le vote notable actually mentioned way something little people figured new constitution serbia brought enable kosovo secession 1990 constitution barred possibility kumanovo military technical agreement signed nato fry sr broke coalition sps government collapsed causing new election unconstitutional act highest treason enough tried maximum sentence radical demanded death trial serbia tried treason among reason constitution release authority weight go prison recognize form loss sovereignty kosovo 15',\n",
       " 'new wikiproject novel initiative begun new initiative wikiproject novel improvement drive member listed notified please see wikipedia talk wikiproject novel 5 5 5 improvement drive wikipedia wikiproject novel collaboration detail also would like remind keep eye project talk page wikipedia talk wikiproject novel thanks',\n",
       " 'reply facetious would relayed message jza mrsc word stern there would like evidence claim made talk glad provide also failed provide diffs message regard word claiming offesive perhaps wp assume good faith two user constantly harass follow article making disruptive edits violation numerous wikipedia guideline wp harass one example removal third party reference article suit pov without entering edit summary considered wikipedia guideline bad faith violation wp blank violation wp neo adding derogatory neologism article organisation personally agree despite made aware policy despite reference said organisation described said neologislm despite community majority constantly removing derogatory term tag team practise shown used numerous editor edit article british culture trad county would like evidence ask would seem however looking message talkpage especially lovely intertude uk mediation section jza messaged somebody seems familiar violation wp canvas specifically section wikipedia canvas campaigning may interest going admin may suggest please make familiar policy guideline referenced message rather accusing user cyberstalked personal attack systematic bias acceptable make sure policy upheld chip sake friend thanks',\n",
       " 'p polite talk people behind back please remove comment mrph talk page vaughan right went check previous edit found page marvel site spelled vaughn finding many spell correctly thanks edits',\n",
       " 'block hi wondering confirmed darren jolly contestant block thanks',\n",
       " 'opinion please pt ii srq continues make personal remark said may assume help wp rfc u also believe violated 3rr rule today edit warring one accurate word ridiculous edit warring general let make stop may also ask wrong honest statement made talk page mean hasty refactoring appreciate assistance welcome question btw pivotal accurate well referenced entry become peacock understanding refers unneceessary editorializing precise vital info sequence event thanks',\n",
       " 'azari azerbaijani azari iranian azerbaijani turkic nation',\n",
       " 'userbox hello userbox using template user queerrights moved user space per wp gu new link leave question may still talk page thank',\n",
       " 'actually take time little bit research bloodofox instead jumping perceive avenue pursue vendetta realised would colleague kiyoweap probability kelpie water horse uisge different term used different place entity challenged kiyoweap produce something decent uisge guarantee unable corbett',\n",
       " 'seen editor eric elephant room issue baiting poking bear whatever hell want call passive aggressive baiting one want touch one even though uncivil hell appears tactic choice whenever someone want get rid someone get way part saddens darkness',\n",
       " 'socialistm two important feature smith concept invisible hand first smith advocating social policy people act self interest rather describing observed economic reality people act interest second smith claiming self interest beneficial effect community argue self interest always good merely argued view self interest necessarily bad worth noting upon death smith left much personal wealth charity good let make sure put forth idea adam smith socialist wikipedia way',\n",
       " 'sorry puck one ever said dick number one clearly listed second batman master detective martial artist trained mentioned combat discplines need mention skill ability battle lost thats encylopia supposed also problem going low end showing high end showing proven match meta like slade pinned shiva one earliest appearences',\n",
       " 'alpha version multiplayer beta version',\n",
       " 'pd seen apart article coat arm sahrawi arab democratic republic also different article named coat arm western sahara show clearly user politically driven intention bad faith although claim neutral neutral logically would work coat arm western sahara article intead trying merge two article messing',\n",
       " 'treating forum question arose appropriately answered end story',\n",
       " 'military history wikiproject newsletter issue ii april 2006 issue project newsletter may read issue change format future issue delivered following link thanks',\n",
       " 'unblock submission response le 3 minute prof administrator pay enough attention case',\n",
       " 'request unblocked granted following reason allowing username change gianluigipalermo please put request wikipedia changing username soon possible avoid blocking request handled unblocking administrator please check active autoblocks user accepting unblock request',\n",
       " 'responded milemoney reasoning edit gave reasoning edit yes absolutely relevant page place discussion income inequality progressive tax article',\n",
       " 'unblock get lawyer blocking constitutional right free speech',\n",
       " 'attributing classifying personality invitation input culture lithuania welcomed problem defining personality attributing certain well known ideological system may raise propose quite liberal variant definition may connected one certain word necessity however follow certain classifying remains initial idea branch one concerning period lithuanian national renaissance period artist writer cultural worker period often described modernist definition false concrete thing added specific lithuania distinguish leading idea nat renaissance later modernism known u cultural aspiration later nat ren may defined modernism cultural context lithuania accented also expression lithuanian cultural heritage expression may seen something simply typically lithuanian mean author iurlionis seen modernist lithuanian context also even representative lithuanian culture european world wide context parallel example may taken literature india poet tagore well known nobel price winner known u representative culture india making india understandable closer western people concerned main input western culture country seen modernist changing traditional cultural form especially stagnated one way also lithuanian cultural leader n ren could seen modernist broadening cultural form changing stagnated one lithuanian context also seen modernist wider context acquainting western people lithuanian culture direct input western culture iurlionis best example way later lithuanian modernist depended mostly later generation approximately 4th decade 20th century concerned part western modernistic movement main purpose looking generally introduce western european idea lithuanian cultural life see table see two different movement two different world outlook problem movement collaborated especially political wing interchange idea well seen many researcher pay attention difference especially soviet period national idea officially forbidden mixture description movement allowed e g philosopher ram na bytautas clearly depends first generation often described liberal may understood sense second generation idea liberalism period generation artist writer philosopher etc context lithuania european context national renaissance period younger generation approx 1905 1930 painter composer iurlionis painter kazys imonis poet philosopher vilius storastas vyd na dramatist sofija kymantait iurlionien poet adomas jak ta motiejus gustaitis liudas gira composer stasys imkus philosopher ram na bytautas reformer innovator lithuanian culture representative lithuanian culture almost unknown period wwi wwii post war year poet v mykolaitis putinas kazys binkis writer ignas einius jurk na artist ar group philosopher juozas girnius modernist introducing new western idea lithuanian cultural life central european modernism note list personality complete made precisely prominence 07 51 2004 jul 16 utc',\n",
       " 'actually direct quote quotation mark attributed generally known plagiarism copyright infringement nyt material issue well know material jewish action taskforce problem',\n",
       " 'katelyn faber could weigh bottom talk page katelyn faber regarding inclusion image template user totalbox thanks reverting esperanza newsletter issue 1 style border spacing 8px margin 0px 8px width 100 class mainpagebg style width 55 border 1px solid cef2e0 background color f5fffa vertical align top color 000 reach outreach program aimed allowing user bring issue wikipedia listening sympathetic caring audience one know feel say cannot expect get understanding ask one dispute sometimes life issue much one person fair say sometimes wikipedia problem fall heading place bring bruise sometimes got project attention stress alertsthe stress alert program aim identifying user stressed alerting community thier stress work tandem stressbusters trying identify cause stress eliminating note editorwelcome new format esperanza newsletter came last advisory council meeting hope like major change month right council meeting sent include two featured program sum meeting also signed advisory council member esperanzial end march everyone class mainpagebg style width 45 border 1px solid cedff2 background color f5faff vertical align top width 100 cellpadding 2 cellspacing 5 style vertical align top background color f5faff last ac meeting full log style color 000 future meeting held monthly fortnightly ban access level change apart autovoice irc channel reported new log irc channel going one bot time charter requires member 150 edits 2 week editing case clarified new code conduct drafted proposed esperanza community npa reform idea dropped officially charter ammendments discussed future voted advisory council going proposed expanded advisory council others want propose listen',\n",
       " 'fradulent claim certainly sockpuppet thechief please retract fradulent claim',\n",
       " 'quick limit discussion changing title considering previous discussion month valid reason move',\n",
       " '123 18 38 july 18 2005 utc p feel free leave message talk page need help anything simply wish say hello',\n",
       " 'course peiser social anthropologist one whose recent research focused primarily social aspect climate change thus least qualified comment state consensus historian regarding study published peer reviewed journal result appeared many reliable source effect treated differently peiser scientist verbally relayed conclusion directly reporter literally ten thousand wiki article contain reference direct quote scientist appear source medium reputable reporter',\n",
       " 'hi hi good day deepest apology made change made change day day line straightest one straight line biggest brightest highest star sky head clock strike 12 exactly noon day date provided beautiful thing ever see know many thing need prove know saw day okay black white prove needed sincere apology trouble cause south east asia asia came traditional chinese family pleasant day',\n",
       " 'fired moronic wimp lazy research make sick people like exist world',\n",
       " 'look like violating wp npa pretty minor point two content conflict try mediation cabal way generally easier sign typing stop irc channel want advice way talk',\n",
       " 'pat head kc one dedicated wikipedians know madly love give barnstar end chew bury instead let offer metaphorical pat head pup see around tropic',\n",
       " 'note sandbox right place experment thanks',\n",
       " 'friesers opinion simple guess kursk turning point german retreat think he correct russian personnel improved skill glantz combination forced german retreat loss problem battle kursk tank infantry strenghts favor german week kursk german tank strenghters higher kursk zetterling',\n",
       " 'oh know thanks',\n",
       " 'lois roisman piece lois roisman omitted much background everything death updated please review anything want add 67 101 255 166',\n",
       " 'know sex foetus',\n",
       " 'think fagget get oife burn hell hate sorry cant sex running conndoms',\n",
       " '86 29 244 57 86 29 244 57 04 21 14 may 2007',\n",
       " 'sorry link gave dead formatted harvnb plz help matter',\n",
       " 'reply loser un defines vietnam part southeast asia far know vietnam part asean used part french indochina lao shit country anyway culture always influenced sea han chinese proper yangtze han chinese fringe indigenous tribe guangzhou guangxi admit vietnamese bunch wannabe crap people east asian people spoken think vietnam integral part sea think backward dirty speak horrible swearing language matter crap spout wikipedia change way people real world think',\n",
       " '29 august 2006 wow understand sentance added crucial really change content community gotten smaller caused automobile sourced statement asked fact information help inform people forester fall large seemingly peice information article bridge span time 1870 present usfullness edit criterion used determine reverted noted simply added information removed removal frivilous unwarranted problem insist absence statement unjustifiable negligible adding information factual b sourced c informative assume since reason remove first place wiki nazi relax concerned useless edits please see edit fom 26th know carried great infallable mindmatrix imho first useless change',\n",
       " 'stupid fuck mother cunt stink',\n",
       " 'eta john haynes house sarekofvulcan talk',\n",
       " 'new userbox tabtab id tabtab id c white tabtab info user faggot tabtab info c lightblue tabtab border c black tabtab usercategory lgbt wikipedians tabtab nocat tabtab tabtab tabtab template automatically categorizes user lgbt',\n",
       " '16 december 2005 utc mendel talk change mendel refering conspiracy section used 16 53',\n",
       " 'please vandalize page edit budweiser anheuser busch continue blocked editing echo',\n",
       " 'correct dead dead however leves wound hence emphasis serious pov adjective',\n",
       " 'fixed pic anyone still feel move done voice',\n",
       " 'george w bush approval rating graph http upload wikimedia org wikipedia common 1 10 george w bush approval rating event svg circle september 11th attack look far right think could update data point post 2005 omitted',\n",
       " 'sorry interrupt 1200 edits first 200 likely page asking help much maybe 1000 maybe le still kind count amulet',\n",
       " 'absolutely use word strongly misleading even like structure nothing mastaba burial chamber basicly mastaba definition entran ceinner space structure one solid pile rock inner space entrance ment wall fragment',\n",
       " 'noticed neutrality article disputed light ask post invitation discus whether neutrality achieved deleted highly relevant relatively urgent bearing mind rule emergency wikipedia time convergence truth achieved',\n",
       " 'editor care explanation accompanied reliable published source could explain thought dog ate cat would get reception provide source stop edit warring present source talk',\n",
       " 'mitch moved yggdrasill idea',\n",
       " 'sockpuppets impersonator two sockpuppet impersonator account including',\n",
       " 'oh also film named three variation thereof listed disambig page wondering make much sense apologize advance certain individual sensitive hear truth',\n",
       " 'review request hi like request klm ga class review anyone seems many similar stuff ga kenya airway ethiopian airline cheer breaksfixes',\n",
       " 'propose transcribed n article anything brief mention raising trap mouth pre nasal environment would suffice thought american thing raise nasal often hear aussie quite bit well hear english people difference american tendency diphthongize well raising really surprised broad accent wikipedian saying possible right kind thinking aloud',\n",
       " 'homosexual intent legitimizing behavior therefore seize opportunity suggest famous person gay way way life received harmless perfectly normal generation people grow childhood maturity exposed strategy increasingly develop tolerance homosexuality way almost universally accepted diverse alternate behavior way similar religion race nationality lestrade',\n",
       " 'al messier article non notable biography according criterion set wp bio aeropagitica',\n",
       " 'link sacramento placed wikipedia link article word sacramento appears another editor appears stalking reverting everything claim overlinking read policy think understand disagree word sacramento linked anywhere else article made link think link provided good context reader know walnut creek thought maybe knew sacramento anything wrong link would like someone objective give opinion 74 234 45 208',\n",
       " 'blatant pov pushing neither guy made contribution italian history article shove unhistorical unconstructive modern pov face history article history heard reason many people get pissed pedantry idiocy triviality wikipedia j sus get f cking life',\n",
       " 'reliable source indicate otherwise please insert personal analysis article talk',\n",
       " 'research thank much relevance article think may reseacrh wp el amke sure realise fact link deleted willing agree people official site therefore shall delete game site otehrs',\n",
       " 'totallydisputed notice would probably appropriate given depth disagreement exists cannot understand highlighting statement identified dubious would constitute disfiguring article slimvirgin also used wording recently rather think inaccurate irrelevant information disfigurement template notice answer second question side brought forward proposal side yet responded sadly consistent recent pattern delay make comment whether deliberate strategy',\n",
       " 'abused nothing threat extremely disrespectful rule wikipedia ever done tried improve quality wikipedia article maintain standard quality treated like vandal registered muck article account blocked administrator',\n",
       " 'give permanat block raseac remember muslim dont worry image trying hurt u cant look image fake nothing islam prophet even article lame wikipedia authentic source encyclopedia kid authenticity anyone edit write whatever think like raeasc see know islam talk forget wiki lame authenticity recommend add pissed christ jessus article',\n",
       " 'invite hi still time write article fundamental romani culture society would permitted normal presentation beyond stereotype hope near future manage last discussion managed organize better category romani people country category romani people occupation create article romani person',\n",
       " 'asked question recall maybe would make le troubled account',\n",
       " 'say consensus ever reached reverted edits',\n",
       " 'find difficult control emotion still feel mr logy wogy bad',\n",
       " 'fuck block faggot pussy',\n",
       " 'attacking another editor trying make point easy edit wikipedia piece george orwell page proved point common place wikipedians help make better lot lesser bias edits trying mind please could remove warning',\n",
       " 'please see ref 1 4 5 6 article mentioned wikipedia youngest patent holder india moreover mentioned news latest book real life hero providing notable reliable reference feel dna group reliable notable reference page exists wikipedia really believe ever ever provide information article bad intention word sock meatpuppets asked suggested anything edit write free man send information free person analyse wikipedia ref 1 4 5 6 article mentioned wikipedia youngest patent holder india subject speak bad word word verbatim book review repeat india youngest patent holder youngest disabled patent holder world claim bhati supporter pushing fails reliable source discourage people sending information relevant reliable notable122 161 30 232',\n",
       " 'randroide answer next step guy see taking step wikipedia request mediation job always connect filtered institutional net access following step could result new undesired controversial truncation word software want happenning could please follow instruction link provided thank randroide answer new reference burgas00 last agree something course new section good idea false suicidal terrorist prisa also included come oooooon boy start writing section want kudos new proposed article effort made remember npov source source like citing el pa section doubt genuineness 13th bomb cheer indeed good point remark cope moral certitude mariano rajoy published el mundo agree 100 larean randroide omits mention section 13th bomb added balancing reference insisted original version created entirely pov much rest proposed article also source added el pais available subscriber npov right southofwatford randroide omits section subscription el pa sorry problem institutional access also advantage like paid access el pa many many publication book one reason exclusive use filtered internet access much easier work due easy availability source see truncation word offsett think better source btw write randroide answer section invading space mind really risking new truncation message avoid please write outside randroide answer section think proposed article pov work make npov article mine take risk truncating reply put short issue whether subscribe el pa whether people read article english wikipedia subscribe source used accessible reader article putting source reader able see claim article npov mind completely unreasonable source used accessible reader article funny southofwatford going follow joke please propose also deletion book source know always someone without book delete reference tv radio station user brazil tv radio home delete reference spanish know user know spanish pleasure read kind funny joke really good laugh user southofwatford strange find funny source providing enable user find information sourced deliberately choose source require user pay see information funny simply bizarre equally english wikipedia would argue choosing spanish foreign language source equally valid source exists english make sense except perhaps busy laughing cynicism evident response 08 3',\n",
       " 'hence removed content nature suitable wikipedia proscribed wp perhaps one sister project wikia',\n",
       " 'pirating incident removed statenment really relate episode much plus kinda topic',\n",
       " 'check http www cla purdue edu blackmon 102cs2001 critical html bio',\n",
       " 'kill nigger hard others said included racist sometimes say',\n",
       " 'new user hello gogo dodo new user wikipedia wanted ask new page could removed deletion list new page kaburst still lot want think reason considered start like wiktionary yeah give time make better thanks',\n",
       " 'regarding edits made december 11 2006 utc jos mourinho thank experimenting wikipedia test worked reverted removed please use sandbox test may want take look welcome page learn contributing encyclopedia ip address shared multiple user ignore warning make unconstructive edits',\n",
       " 'december 2011 hello welcome although everyone welcome contribute least one recent edits one made smoke bomb edit appear constructive reverted removed thank 1992',\n",
       " 'wrong although blocked occasion never blocked sockpuppetry vandalism dispute multiple topic various sock user hkelkar user vandalpetrol permabanned never used account permitted edit get account deleted say indeffed blast',\n",
       " 'deleted personal attack',\n",
       " 'please please continue tell really think',\n",
       " 'important message block live mess made parker v district columbia wikipedia rise level sophisticated blog controversy section belong first place fact non expert issuing warning indicates wikipedia become sandbox idiot sorry polite long short',\n",
       " 'moving talk page',\n",
       " 'well see consensus formed show indeed pov bad judgement part thanks comment anyway coldplay exp rt let talk',\n",
       " 'http www user bigpond com montdale page8 html heritage village macedonian source claim village pure slavic',\n",
       " 'organization sub topic culture thrown way towards end economy tourism inappropriate information section unnecessarily loaded history detailed geography make uninteresting also repetitive information interspersed sub section without regard whether fit eg geography section start fact 5th largest state strictly geography belongs introduction climate belongs towards latter part page perhaps toursim region city interesting combination case city uttar pradesh interesting topic several interesting city region speciality like copperware moradabad ceramic khurja carpet bhadohi fact remember used information article',\n",
       " 'know answer legally possible private citizen violate another private citizen civil right know section nelson charged federal case anyone could explain would appreciate argue whether outcome state murder trial justified really concern since dead letter concerned whether subsequent civil right prosecution legal state murder acquittal miscarriage justice first time look issei sagawa part mature understanding sort thing realize criminal justice system perfect inevitable innocent people convicted guilty people acquited time time price pay legal system end someone make decision sometimes may necessarily get right think going limb say sagawa case completely beyond reasonable belief',\n",
       " 'burn deck guy burn deck like think blrude awakening leviathan motherfucker',\n",
       " 'decesed group member seen article band member name sollowed deceased whats wrong witht little extra information people already know surely main reason article exist first place even whole wikipedia site exists bad adding word people name longer u factual non opinionative slate anyway',\n",
       " 'fatima bint asad noticed added large chunk article recently could post source webpage book etc would really helpful thanks 23 56 july 29 2005 utc',\n",
       " 'added information mayor de blasio announced decision charter school someone removed factual information said referenced factual referenced tired add information reference successful correctly added race sexuality chirlane mccray someone person removed factual information provided charter school incredibly rude stated vandalism reported description considered negative decides reverted chirlane mccray wikipedia site word black prefer african american mentioned six time sexuality mentioned assertion referenced approved wikipedia site chirlane mccray important writing problem',\n",
       " 'please stop adding nonsense wikipedia considered vandalism would like experiment use sandbox thank 2000',\n",
       " 'well use user page tell meyour gonna remove piss drive nut also making personal ttack jimmy wale saying bit greedy dont think got 6 million dollar already asking',\n",
       " 'thought would offer advise aswell 1 wikipedia edit warring 2 arguing wikipedia administrator 3 may also remind three revert rule',\n",
       " 'u r tw fuck u gay boy u r smelly fuck ur mum poopie',\n",
       " 'also expressly guideline sneak disallowed link discussion section froman done youtube propaganda link evidenced throughout page rule seem applied froman go whole hog add feith main page plenty unencyclopedic source admin seems problem link anonymous left wing blog whatever care use seems fair game froman 71 100 167 23',\n",
       " 'deletion account ok blueboy editing l31 g0ng l41 disabled blueboy96 following reason came back 31 hour block picked right back judging history likely get call attention topic resolved matter addressed moderator deleting wikipedia history item moderator borgqueen edit cuisine hawaii simply provocation nothing reknowned chef pacific rim cuisine cuisine hawaii cuisine hawaii local plate lunch like saying cuisine mexico frozen burrito cuisine canada starbucks pastry cuisine america mcdonald slanderous vicious spiteful main point admin question delete history resolved problem addressed tried discussing user directly account locked user open discussion ddebate admin suffers god complex lovcked even editing page hence reason wait unbanned post leving back become corrupt admin fodder back aon topic page thius matter resolved borgqueen subjegate discrimination hazing personal vendetta likely get eh buddy listen delete user page account wiki grommet going lock keep name content profile facade wikipedia good delete grommet',\n",
       " 'listas sabina bavaria',\n",
       " 'bad redirect please remove redirect x 24c page aircraft distinctly different design builder mission etc restore aircraft unique content page 75 67 80 68',\n",
       " 'info thanks entering article error corrected would nice simply cut pasted text clear lake article',\n",
       " 'name troy tedford troy telford looking orginal discharge paper right also orginal purple heart 2 olc man war hero biggest world war ever historian history degree recieved dec 04 atu',\n",
       " 'interesting note aircraft landed airfield hawaii',\n",
       " 'thanks fixing exquisite picture',\n",
       " 'would like clamp',\n",
       " 'man also created new word even modern language already established',\n",
       " 'history conveniently contribs thank explanation big deal upset second post waving sneer growing thicker skin finger waggle profanity treating insensate piece internet polemic rather fellow human attempting give honest account account mackensen promptly removed say well understand trying contribute workshop bad idea first place running full tilt tony sidaway managing avoid irc whole month immeasureable improvement quality life anyway always seen somebody stand underdog remember praising addition edit harassment guideline sad see mutuality respect talk',\n",
       " 'type soap box',\n",
       " 'yes indeed replaced second one summary woman right talk',\n",
       " 'anyone text search 2 3 see article rely mainly one source publisher fact grand total two citation referencing publisher pure fact issue number item 149 000 part library',\n",
       " 'gore response anybody find gore response bush malaprop gore inventor darn thing club silly one',\n",
       " 'pls give reply yes',\n",
       " 'neither two added cite support assertion misconception hyphen dash glyph remains unsourced near tell one person making claim despite claim consensus unsourced material get removed wiki policy given month find source reword entry reflects source actually say restoring citation needed tag source day entry removed',\n",
       " 'short summary referencing essential faq organization noticed also disclosed association frank151 userpage thanks make working knowing coming lot easier question review article feel free leave message send email cheer sonia',\n",
       " 'information already reported fair minded talk refusal allow relevant information factual posted obviously biased party inappropriate representative wikipedia',\n",
       " 'file seankilpatrick2014 jpg file connorbarwincincy png',\n",
       " 'r pat',\n",
       " 'thanks copy edit omg read professional appreciate lot yeah knew would problem okay back story danny body paint robot sketch party theme black light one everybody could see danny still paint washed something sure jack black light switch apartment liz came turned resulted liz paint see whatever said make sense read paint still danny black light attack yeah thought maybe people saw ga note leave message though work user left message regarding article reviewed work future make better still gotten chance see see need know happened stuff well got news lost started watching dvd telling never see wrestling move cry sad night raw lost cried whatever think cool shawn mind really still see face like quality think play randy like triple h know good crowd still heel ish maybe cause new people heel need face know speaking randy today birthday turned 30 well remember first punted victim shawn nice see cody storyline nici welcome danielson miz guess hit',\n",
       " 'width 100 style background transparent width 100 style background color style width 50 border 1px solid background color vertical align top hello lceliku welcome wikipedia please remember sign name talk page clicking using four tilde automatically produce username date also please best always fill edit summary field useful link facilitate involvement happy editing width 100 style background color style width 50 border 0 background color vertical align top getting started introduction five pillar wikipedia edit page intuitive guide wikipedia finding way around table content department directory editing article develop article manual style style width 50 border 0 background color vertical align top width 100 cellpadding 2 style vertical align top background color getting help style color 000 frequently asked question cheatsheet ask question help page new contributor help page article wizard wizard help create article',\n",
       " '14 07 09 know got big supporter x file like seen almost every episode mention mulder father scull baby watched carefully william mulder son frequently referenced final episode top head guard thinking mulder son mother scully son mulder gave son afraid could never forgive mention meaningful look mulder scully give officiator hearing asks agent scully true mulder lover got pregnant love child',\n",
       " 'citation r f saumur v city quebec 1953 2 c r 299 endorsement rosemary decaires',\n",
       " 'education please keep list college pittsburgh list college pittsburgh familar area edit list greensburg washington mccandless california pittsburgh please offended enforce also pittsburgh mailing address mean school pittsburgh address extends far place 20 minute ride away thanks',\n",
       " 'find way put 25 cite page back throught',\n",
       " 'descendant otman baba trough mehmed ali karako sunni muslim alevis',\n",
       " 'could clarify want start rfc see one listed page history talk rasmussen report',\n",
       " 'atheism full bias shit',\n",
       " 'beat wanted say good work beating revert ned kelly article always enjoy know someone else hunt vandal happy hunting cheer pro',\n",
       " 'removed link reference used health study say reduced use mmr vaccine waldorf kid fewer allergy section immunization wtf would data whole california count private public waldorf school california personal belief exemption rate 12 88 kindergarten class regardless official position assert would article official position lie order waldorf education appear like complete cult waldorf student grossly vaccinated fact article',\n",
       " 'thanks take deep breath go intro tomorrow identified source phrase london border showed boundary contested footnote clarified diaspora section justify statement reference victoria history article west ham east ham hopefully struggle justification without substantially changing outcome previous discussion move onto standardising reference probably section section',\n",
       " 'german article day dear jimbo german wikipedia proud present article day http de wikipedia org wiki wikipedia hauptseite really thrilling really amazing worth glimpse http de wikipedia org wiki fremdk c3 b6rper anus und rektum might improve german reading lot learn sincerly',\n",
       " 'agree like aready stated peripheral main article nevertheless important merely underlienes mythomania propagated side interest historical reality dab actually analyze situation rather offerring usual smart alec remark lontech arguements shot piece summarily everytime happens engages tangential irrational behaviour commonsense tell long lasting state kingdom dardania roman time allow intro paragraph read like kla recruiting web site',\n",
       " 'found one sort anyhow web site jewsforlife org loading article catholic source going remove erroneous sentence hindsight would great minor content issue could resolved reference first place',\n",
       " 'provided plenty reference material yet provided none writing chamar section come source verifiable yet provided none one eccentric idiology still provided verifiable source show ramdasia chamar different chamars took weaving known ramdasia simple google search ramdasia chamar provide countless link bal537',\n",
       " 'block evading ip blocked guy',\n",
       " 'see number citation pubmed',\n",
       " 'hey spreading misconception trying spread false information people even know battle lost cheapest person earth bloody ignorant fool check source spreading rumor',\n",
       " 'add admin considering blocked 24 hour user sarek vulcan week ago background thats relevant learned lesson pax talk',\n",
       " 'change username usurpation request request still progress mb mmitra hi requested change username using usurpation mb mmitra almost 8 day date request still show progress would like know much time take complete request long would take complete please reply soon possible thank link mb mmitra',\n",
       " '2005 utc 15 59 17 december',\n",
       " 'otherwise pov look flemish linguistics case',\n",
       " 'yes mainspring used clock well please feel free bold help improve article',\n",
       " 'getting normal term used german politician way got',\n",
       " 'keep original title xbox although additional like like xbox x box redirect article',\n",
       " 'let know crawled arses dick laurent dead',\n",
       " 'problem people keep trying state bsas policy policy say homosexual scout cannot member state otherwise lie contraversy page allow state lie add list thing misinterpretation rule thing like try say scouting scouting need sure scouting actually say even misinterpretation rule need source editor might misinterprete rule mean anyone mainstream find source somewhere homosexual youth removed program openly homosexual youth insert unless actual policy bsa say openly homosexual youth member added',\n",
       " 'level 1 message hello thank experimenting wikipedia test worked reverted removed please use sandbox test may wish encourage also take look welcome page learn contributing encyclopedia thank interest wikipedia',\n",
       " 'focussing science moment leading revolution',\n",
       " 'another question style information stripping occur whenever shape edited le intrusive edits moving shape around even highlighting selecting shape inkscape make unusable even messing inkscape',\n",
       " 'article ed morrissey hi moved article ed morrissey captain quarter ed morrissey started bringing date would able take look please fix defect spot thanks cwc',\n",
       " 'see running around several talk page accusing several others edit war please go prove else first one blocked moreover cannot prove pov defeated going around making accusation good way communist',\n",
       " 'yes received confirmation e mail 2012 09 11 username e mail address password uuuh 09 11',\n",
       " 'currently blocked editing unable add tag however take picture',\n",
       " 'user worthless goddamn faggot fuck faggot',\n",
       " 'unsourced aesthetic opinion therefore violates wp wp npov',\n",
       " 'image popclassic jpg tagged image popclassic jpg provide fair use rationale believe image acceptable fair use according wikipedia policy please provide rationale explaining much accordance fair use rationale guideline image description page please also consider using one tag listed wikipedia image copyright tag fair use thank man',\n",
       " 'fuck administrator authority tell',\n",
       " 'adorably disingenuous',\n",
       " 'well ridiculous fact suspect calton please block dont care',\n",
       " 'orangemike time move collateral target suggest user fisherqueen girl protected',\n",
       " 'window phone upgradeability hi gregory reverted change window phone article neither microsoft partner made official statement whether device running window phone 7 5 upgradeable window phone 8 reference given another user blog relying hearsay',\n",
       " 'btw whatever decision adminstration wish take remember block harsh given first violation since joined wikipedia',\n",
       " 'tried objective possible treat author head someone first tongue english think davy borderline notable article spent hour googling davy earlier today found nothing except translated lot stuff well done lot stuff life even borderline notable small field nothing warrant article especially one precisley nothing link like one frankly hope author make notable respond gentlemanly politesse help',\n",
       " 'shiny thing brilliant idea barnstar actively seeking every possible way help user especially honestly think would work hereby award c',\n",
       " 'make change engineering article',\n",
       " 'thanks apologize comment like know understand position 16 33 7 nov 2004 utc',\n",
       " 'appearance historical fiction young richard steele appears character william makepeace thackeray novel henry esmond appropriate mention article reckon',\n",
       " 'cu scibaby wasting time cuing scibaby account wp duck indef blocking sight cu request make reference politics know talk',\n",
       " 'per wp ae blocked indefinitely persistent disruption project including vandalism disruptive editing sock puppetry per wikipedia request arbitration macedonia discretionary sanction believe block unjustified please request one normal manner talk',\n",
       " 'sure worked article arcayne fine two seem problem seek edit xenotalk',\n",
       " 'fuck fuck award go fuck',\n",
       " 'sorry edit conflict glad able salvage edits question structuring yes think think way divide article section subsection also intro may need fleshing confronting reader technical term like dendrite axon look smithfarm 08 24 14 apr 2005 utc cool happy hear still article also research extend talk contr 08 27 apr 14 2005 utc',\n",
       " 'february 2014 utc comment proposal change something someone added requested move banner section clearly one 70 50 148 248 17 50 7',\n",
       " 'best clan runescape 1 gladiatorz best clan r 6 year 2 clan 3 british elite 4 damage inc average clan',\n",
       " 'even know begin replying talk',\n",
       " 'please vandalize page edit hyperopia continue blocked editing fisto',\n",
       " 'keep eye one care ok people put want clean want one care god freakin stupid omnigan',\n",
       " 'episode list keep episode list reference',\n",
       " 'next 30 hour',\n",
       " '66 185 85 80 rant presently witnessing open war croatian dinaric culture croatian left often portrays culture primitive rural even fashist service conservative hdz party croatian writer predrag raos instance performed gusle instrument zagreb several occasion year 2004 one intention ridicule instrument rich poetic tradition another apostle croatian left miljenko jergovi refers political opponent right gusle player even claim serbian origin croatian dinaric culture following line traditional greater serbian propagabda tokavian people culture serbian however croatian dinaric folklore rich gusle heritage primarly croatian dalmatian costal region historically associated culture example first written document popular folk hero traditional gusle music marko kraljevi associated dalmatian island hvar petar hektorovi book ribanje ribarsko prigovaranje 1568 also first historical document mentioned gusle player instrument originated dubrovnik 1547 even contemporary croatian writer born dubrovnik stijepo mijovi ko tell u story uncle also dubrovnik area could memorize numerous gusle song stijepo mijovi ko gusle glasnik may 25 1992 p 42 dubrovnik also home anica begin born kalafatovi 1816 daughter famous gusle player ante although illiterate able recite heart immense number gusle song recorded antology croatian folk poetry far dubrovnik another coastal city makarska also bastion croatian gusle music actually region could considered capital croatian gusle player mediterranean area also gave birth andrija ka mio 18th century catholic priest viewed father gusle player croatia beyond honour ka work ivan trovi famous croatian sculptor built sculpture america showing ka priestly clothes playing gusle instrument addition ka makarska littoral produced great many follower croatian gusle music according dr fra karlo juri quote work croatian folklorist stipan banovi zaostrog alone produced great number gusle player starting stipan kosovi kudri 1771 1818 culminating known mate banovi trli 1844 1915 dalmatian woman play gusle considered male activity yet actively involved spreading gusle music imitating sound olinko delorko researcher dalmatian folk poetry 1960s state book ljuba ivanova 1969 dalmatian folk poetry collection obtained woman especially one island hvar zadar littoral also witnessed strong gusle tradition english writer maude holbach travelling zadar region first decade 20th century state book dalmatia land east meet west gusle national instrument region dinaric dance took place market certain festival picturesque interesting worth going long way see survival ancient custom probably unique europe p 54 admiration dinaric folk music particularly gusle seen dalmatian litteral hinterland matija murko researcher literary music form reported trip dalmatia 1930s saw child barely three year old playing gusle eduard osrede ki hrvatske narodne juna ke pjesme eljezno p 9 let take look name dalmatian sport club organization hajduk junak gusar alkar uskok sinjska alka etc common course name refer heroic gusle tradition region mind one wonder proud croatian heritage become almost extinct gusle player today result unavoidable urbanization modern croatian society peasant culture considered inferior global rock n roll culture tamburitza music northern croatia gained wide acceptance croatian establishment dinaric counterpart gusle music looked upon suspicion open hatre',\n",
       " 'total population 10 million match e sum referenced populationsbelow infoboximages infobox',\n",
       " 'convicted felon',\n",
       " 'matt hardy fucky italic text medium example ogg matt hardy fucky',\n",
       " 'lol censorship really disappointed npov core policy talk contribs',\n",
       " 'mfd nomination wikipedia try best wikipedia try best page substantially contributed nominated deletion opinion matter welcome please participate discussion adding comment wikipedia miscellany deletion wikipedia try best please sure sign comment four tilde free edit content wikipedia try best discussion remove miscellany deletion template top page removal end deletion discussion thank contribution talk',\n",
       " 'redirect talk list south carolina stingray season',\n",
       " 'care blocked myspace pulse music board would concerned',\n",
       " 'http www theatlantic com entertainment archive 2012 02 linsanity internet made jeremy lin star le week 252755 source explaining star 198 151 130 68',\n",
       " 'god dead mean startle anyone god dead worry anymore thought would let everyone know well goodbye good luck newfound crisis faith 24 77 205 229',\n",
       " 'hello back bongwarrior user page attacked 1 minute',\n",
       " 'always request page protection detect missing errant template see administrator correct',\n",
       " 'unsure stage clear wording actually discussed',\n",
       " 'marvin kitman make laugh appear exist citation much early history laugh track appears exist publication channel communication exist three journal database searched',\n",
       " 'seen reference claim moron source pov time reduce pashtun nationalist povs wiki give order uncle cousin execution pashtun entire northern afghanistan gardez jalalabad lashkargah logar paghman laghman kunduz herat farah whereever immigrant descandants violent kuchis settled took non pashtun land away traditional tajik country 84 59 190 210',\n",
       " 'rfa question simply curious question intended submit talk',\n",
       " 'say irrigiation structure exactly mean live irrigated block us overhead sprinkers far nearest channel thye look throughout sunraysia got little spare time grab shot though think get far dareton got request talk',\n",
       " 'wiil last use acount please delete',\n",
       " '3rr violation patrickflaherty user user patrickflaherty reverting sourced post also violating 3rr raila odinga',\n",
       " 'wasnt really attacking regarding lisa williams article hmpzzz know lisa see dead people psychic power know see future send lisa williams finland locked jail scam artist',\n",
       " 'yes definite value documenting scientific instrument module believe belongs service module sector subsection really payload actually part spacecraft service interrupt flow plan move apollo program mission type section think really belongs edit sector subsection improve wording flow bit',\n",
       " 'thank hei william hope fan guess back new ip ready vandalize everything regarding william hope sh stop maybe delay stopping let salute william hope lunacy shoving p ni mouth',\n",
       " 'yes quite persistent create article new user going get lost discussion c',\n",
       " 'fuck user bohemian shinobis yeah right bitch piece shit',\n",
       " 'yes look much better top page say article need additional citation verification may britannica encyclopedia could help adding citation dunno cheer',\n",
       " 'okay give another whirl via email worst come worst e get reply soon always use new account ignored way keep stalking tied busy chasing around rather trying delete content take care',\n",
       " 'north eastern region jharkhand wiki say north eastern region jharkhand angika region however official language thesis district jharkhand angika hindi santali confusing need clarification come district jharkhand official language hindi santali could angika region district would angika region official language angika',\n",
       " 'vote campbell case primary reason russian treaty baldwin careful emphasise treaty substance objection standfordham wrote king 7 october saw mr baldwin reply question want turn government said yes campbell issue russian treaty country generally condemns see alternative dissolution always expected wished though opposed hastening government fall true house common baldwin stricture based campbell case newcastle 2 october congratulated macdonald agreement achieved conference london dawes plan reparation spent rest speech alternately pouring scorn labour party subservience extremist tearing piece russian agreement final debate 8 october mean parliamentary occasion two day meeting something suave qui puet cabinet decided take vote confidence preferring go campbell case defeat russian treaty might give left wing much prominence middlemas barnes p 273',\n",
       " 'jayjg stop spin public relation tactic',\n",
       " 'quoted bryant talk popular secondary creator literally paragraph talk',\n",
       " 'future perfect sunrise 14 59 16',\n",
       " 'general outside sourcing exceed inside sourcing entire section without reference enough lede refers dire need would generally seen top look apo article idea speak group',\n",
       " 'rather feeble premise argue showing excessive number photo prominently showing 24 different woman vagina compared one human male penis 3 4 way page equivalent article male genitalia demonstrates overwhelming male bias editorial content wikipedia 86 13 182 103',\n",
       " 'okay tried delete offensive sentence beginning mr irving socalled holocaust denier say acknowledges many jew killed war however go along 6 million jew killed figure reckons number lower really come david right question anything relating history ww2 speciality actually make living questioning critically examining source also decided delete account loosing court case 2000 david launched several libel case 1996 45000 libel damage english sunday newspaper fact time lost something figure head cv many people also find extraordinary judge deside person belief hold',\n",
       " 'made bold thats better lemmey talk',\n",
       " 'father started taken melfalan nearly 1 half year health condition good consulting doctor',\n",
       " 'pretty sure incident already included know handle riot 8',\n",
       " 'afraid broken link',\n",
       " 'ok maybe want comment talk page interestig know',\n",
       " 'oppose find hard believe requires rfc wikiworld',\n",
       " 'history someone provide information regarding contracting ac service area ac transit used serve city 680 corridor city basically kicked ac transit run service part reason ac transit serving suburb spending money underutilized service urban area history reflected article talk',\n",
       " 'please create elephant nonsense page talk',\n",
       " 'preceding undated comment added talk contribs care wikinews even considers dr rafizadeh expert interviewed hin http en wikinews org wiki wikinews interview scott lucas eyal zisser majid rafizadeh risk u military intervention syria simply care care even publishes cnn nyt quoted cnn new york time like http www cnn com 2013 06 16 opinion iran rouhani syria rafizadeh index html http globalpublicsquare blog cnn com 2012 08 07 job key middle east revolutionary wave http edition cnn com 2013 05 08 world meast syria shiite matter even bbc world service made bio http www bbc co uk programme p01gsjfk do matter cnn france international wrote family member killed http www france24 com en 20120831 syria majid rafizadeh kidnap family targetted civil war shabiha opposition bashar assad talk contribs never change opinion talk always right also dont care published almost national international outlet including scholarly academic work like http scholar google com scholar hl en q majid rafizadeh btng sdt 1 2c29 sdtp talk right jewish right never change opinion whatever evidence show',\n",
       " 'ok dear notice absent wikipedia day uncharacteristic hope ill please accept good wish wanted see fine regard',\n",
       " 'congratulation third may 1808 reaching fa still april thanks input',\n",
       " 'paula white joel osteen marbled cat others image correctly retrived information given image necessary even gave full permission use wikipedia mcelite',\n",
       " 'success phenomenon go back least 100 year day sousa johann strauss however look article milestone section see survived fewer four deletion discussion require credible source fancruft removed sight andemu',\n",
       " 'hate topic hate hate person mean like person hate turn love',\n",
       " 'page tried create actual page lol banned nothing',\n",
       " 'report thank making report wikipedia administrator intervention vandalism reporting removing vandalism vital functioning wikipedia user encouraged revert warn report vandalism however administrator generally able block user received recent final warning one mention user may blocked recently vandalized warning given reported user yet blocked appears occurred yet user continues vandalize even final warning please report aiv noticeboard thank talk',\n",
       " 'npov please stop adding related moroccan issue sahrawi article trying look neutral revert edition clear pov pushing',\n",
       " 'upgraded human language family wikicolors png human language family wikicolors file',\n",
       " 'kitten good person',\n",
       " 'ok peer viewed 12 month published academic archive line diva permanent uri urn nbn se kau diva 2790 wallin h 2008 129 p investigation friction graph ranking ability regarding galling phenomenon dry sofs contact adhesive material transfer friction free pdf document available www diva portal org found www uppsok libris kb se use search word galling harald wallin direct libris link',\n",
       " 'pov pushing faustian inserted article upa cooperation jew extensive enough according former head office counter soviet disinformation usia soviet propaganda work complained zionist membership upa seems complete pov muddy water picture upa organisation friendly jew instead organisation collaborated german exterminating jewish people',\n",
       " 'redirect talk voice within album',\n",
       " 'wp blp violation removed another reverts placed defamatory uncited material cherokee freedman controversy wp coi may apply since seem edit african american related article freedman controversy dishonest edit summary top',\n",
       " 'anderthals anderthals discription quran anybody thought',\n",
       " 'discussion first outdoor tree electric light strange 1956 kidding obscure town nc think make much sense especially since sentence immediately preceding establish city electrically lighted outdoor christmas tree early year 20th century article cited north carolina town read carefully really state tradition outdoor lighted tree specific town began 1956 town claim first place tree old enough around 1956 though small boy tell neighbor southern california lighted outdoor tree prior 1956 one thought remarkable unusual history questionable say least',\n",
       " 'come next feel like gotten past dispute stage would say someone post request page unprotection move new version might also mention admin merge naked short selling workshop keep page history later tonight really matter talk',\n",
       " 'redirect talk best apocalypse',\n",
       " 'dropping thought leave little feedback featured picture always put main page noted wp potd example semi nude michele merkin used found cheesy wikipedia picture day unused note several picture used depict much gore scatological nature featured picture rating essentially indicating community feel image high quality high encyclopedic value side note potd seems thanks taking trace pink oboe',\n",
       " 'source listed ny mag cbs news fox news interview leighton speaking subject directly teen vogue u weekly tv guide interview article san francisco gate newspaper town leighton grew naples daily news consider reliable source problem want find 20 source valid reliable newspaper magazine everything valid sourced removed story life wikipedia encyclopedia fact posted fact',\n",
       " 'reason presence template based inconclusiveness user page presence template contested',\n",
       " 'ho ho ho merry christmas shoulda known piccirilli brother actiually executed ward pediment sculpture stock exchange happy christmas carptrash',\n",
       " 'saw reference added note see note 10 name republic',\n",
       " 'hey jim good see around right consensus tending towards delete clear delete two time india source one source time india visible search engine would like list afd might prefer message',\n",
       " 'mere fellow editor problem since seems let power admin go head issue please read remains talk page need example moderator popular internet discussion board would never ignore valid question user',\n",
       " 'gonna help u logged want talk talk page',\n",
       " 'look great 02 08 mar 13 2004 utc',\n",
       " 'april 2006 utc wikipedia colour much thanks fixing improving table code reason maybe add info found value common cs style embedded highly repetitively know way around mediawiki asking everywhere cs guru clean redundancy main page wikicode like dont enough already eh many project minion 10 52 11',\n",
       " 'dear mokele right tell people die fire ip address used vandilism mean talk people like fact bigger loser person block',\n",
       " 'new message last change notice result user arkyan user avraham targeting website result editorial dispute whether include theodore roosevelt view u political corruption unholy alliance page e unholy alliance phrase used platform progressive party united state 1912 written unholy alliance concept elaborated upon autobiography recent edits may reviewed special contribution arkyan special contribution avraham reverted appropriate',\n",
       " 'peter roman one place remove argentinian chap prophecy part replace information place coat arm question e mail tarcisio pietro evasio bertone incharge vatican 28 february 13 march 2013 thus prophesy st malachi fulfilled',\n",
       " 'rfc pretty much blew respect tried demand give adminship position simple afds invalid filed fixed mistake',\n",
       " 'delete material complies wp policy according pov interpretation wiki badass woo 2u',\n",
       " 'revert edits',\n",
       " 'canonicity general involved long discussion talk stargate device whether stargate movie thing stargate series centrx arguing discussing stargate one article deceitful think argument valid course looking stuff web discovered fan movie apparently consider sg 1 series somehow illegitimate non canon familiar stargate fan community show feel comfortable adding discussion directly article anyone know detail widespread apparent schism 06 52 9 jul 2004 utc',\n",
       " 'capitalization please stop changing lower case common noun upper case company company wp moscaps note wikipedia avoids unnecessary capitalization proper noun first word sentence capitalized much yack',\n",
       " 'see claim three http onlinelibrary wiley com doi 10 1111 mepo 12003 full ss2 reliable source',\n",
       " 'community manager first conflict interest editing second power say explicitly site release date otherwise despite may position incompatible wikipedia policy swatjester son defender',\n",
       " 'please vandalize page edit boiling point elevation continue blocked editing',\n",
       " 'rant policy hi think reformat user shanes tag evil vandalism protection tag least idea sort proposal reformat multiple distracting protection tag le distracting corner icon example redirecting well probably move later former case corner icon work beautifully much le distracting clicking follow page explaining lock fully agree large box text distracting unnecessary especially true non user wikipedia user read article probably constitutes majority wikipedia reader probably care edit article would concern may confuse tag article content thanks',\n",
       " 'hi collectonian obviously appropriate agree warning given vicenarian',\n",
       " 'request future please sign tag photography workshop page bot currently e preceding unsigned comment added',\n",
       " 'revised translation spanish going back earlier edit subsequent edits spanish language wikipedia seem intended mainly insert link primarily succeeded deleting chunk original text rendering result ungrammatical somewhat insensible taken translation incorporated previously omitted text gone whole make idiomatic english quite yet hopefully serviceable',\n",
       " 'sorry like answer accept wording indeed word article reflect reflected source would patient happy almost successful operation care even le yugoslav medium yugoslav politics may want hear either repeat way world yugoslav troop operating independent command offensive laughable even way substantiate said journalist may write want ask military officer tell inconceivable size op comms',\n",
       " 'capital gain tax',\n",
       " 'included criticism summary section since section content far remotely truthful summary criticism point view fork article clearly suggests reader basically criticism apple related product management way apple inc admitted fact use child labour clearly far far serious type criticism everything currently mentioned main article criticism summary section explicit word child labor mentioned article 78 34 240 197',\n",
       " 'merge article merged operibus anteire',\n",
       " 'everywhere though might start going thru secure server time similar issue popups userinfo grabber xenotalk',\n",
       " 'agree need keep unclear concept wording better alternative exists also ask revert using source reason source actually book authorship wp coi wp sps come mind txt',\n",
       " 'hi route japan often mi read first argument jal flew tokyo jalways would like challenge route jetstar take said jetstar flew kansai brisbane true must connect sydney although would stay aeroplane flight number bne kix change sydney meaning direct flight eg flight 001 syd kix flight 002 kix syd via bne work sure please check qantas schedualing wont edit page fear banned',\n",
       " 'support sikh wikipedians wikipedia support singh correct completely agree sikh historian busy moment need get harrybabar permanently blocked happen vandalism unacceptable',\n",
       " 'thank racist experimenting page katherine heigl wikipedia test worked reverted removed please use sandbox test may want take look welcome page learn contributing encyclopedia go fuck racist canuck asshole1 u nothing better censor truth u goddamn kkkkanuck piece trash dickhead moron motherfucker111lol canuck r real retards1 fuk dickweed edit another 1 eidts expel wiki jimbo sob dickhead11 watch mofo piece garbage racist mofo asshole im tryinbg nice take say compliment yamla',\n",
       " 'bulgars omg admin protect people vandalise bulgars article attacker pan slavic ultra nationalist dont want see word beginning turk help remove reliable source old bulgars changing slav hand great',\n",
       " 'must logged upload file word sign add 3 thing 1 entry hell place rot care 75 8 35 177',\n",
       " 'mckinsey company think best route would drop note wp business c wp four wp chicago wp waward',\n",
       " 'message long time talk pottering around wiki suddenly thought anyway ya going hope get along anyway issue wikipedia user stalking asking innapprpriate question idea could know user also australia could police thing cheer 122 106 27 175',\n",
       " 'thanks point view difference parallel two concept one parallel concept intending territory homogeneous population difference concept racial hygiene intending homogeneous population regarding criterium race whatever race might concept ethnically homogeneous state intending homogeneous population regarding criterium ethnicity second difference concept racial hygiene led extreme form method political practice history example holocaust expulsion also extinction million people industrially organised process user nov 17th 2006',\n",
       " 'well see futperf getting quite angry insulting editor also goal make point first bulgarian empire second bulgarian empire bulgarian least related help long term strategy invention macedonian nation state think bulgarian tsar samuel etc existed antiquity middle age tropcho correctly pointed direct political continuity completely unimportant info box country care info box neither spain germany ireland poland etc important show bulgaria formed thru age',\n",
       " 'salutation j p welcome wikipedia perhaps might find wp hockey interest',\n",
       " 'careful call moron',\n",
       " 'leadbeater biography smackbot problem rich regarding c w leadbeater biography article http en wikipedia org wiki charles webster leadbeater 12 dec philosophus improperly reverted extensive revision dec 9 removed smear slander article yet accuses npov problem editor right revert good faith contribution another editor undo improper revert made minor edit two since edits probably lost also please communicate specifically fault find text maybe work compromise wording knowledgeable subject knowledgeable business editing article',\n",
       " 'quoting hoppe first detailing kinsella important point diff put democracy section hoppe earlier comment first followed kinsella said e stephan kinsella writes hoppe critic accused hoppe homophobia bigotry like based passage kinsella wrote hoppe discussion physically removing homosexual group applied private covenant based community centered around traditional value shared letter hope wrote saying gay couple street mind business would expelled openly hostile basic heterosexual private property basis society said edit summary choose totally take comment context attack mean wikipedia used purpose talkie talkie',\n",
       " 'fact matter toei bandai using gorenger exclusively refer first super sentai series since least 2006 every subsequent series ending ranger see sort thing print material released lately gorenger others turboranger zyuranger dairanger kakuranger ohranger carranger megaranger timeranger gaoranger abaranger dekaranger magiranger gekiranger believe gorenger also plastered across vehicle ryulong',\n",
       " 'mark nutley suggested instead people edit warring really ought use newest source three five million number died ukraine heavily ukrainian populated northern kuban among richest grain producing area europe norman naimark stalin genocide princeton university press 27 august 2010 p 70 http book google com book id f3uwf1eqb0ac lpg pp1 pg pa70 v onepage q f false',\n",
       " 'see help saw blocked reason victorious feel like keep telling administrator please use talk page go administrator noticeboard initial complaint posted add yet another post concerning advice need familiarize apply right back especially regarding wp con please understand consensus product prior discussion piece wikipedia text stayed unedited',\n",
       " 'gay existence cdvf proof sad twat also ugly willy face',\n",
       " 'unfortunately judging previous warning people rather unusual view personal attack pointing individual accusing using sockpuppets incorrect fact two main people making accusation harassing month used sockpuppets meat puppet getting around edit conflict stack vote request admin proceding pointed several editor time certainly cannot considered personal attack pointing admins actual policy basis make block personal attack fact confirmed overruling block frankly looking personal attack try agf violating attack action based upon limited information actually misleading information given individual david gerard claiming trolling defending false accusation others clear number people need realize thing accusing trying justify block exactly behind pretense trying solve thing want start blocking incivility might suggest removing david gerard action elonka falsely claiming using sockpuppets harassing sysop whose talk page say going go around blocking people question asked fact caught restoring placing illegal information pirate software article talk page rule apply everyone number people getting away pretty flagrant violation trying rationalize away labeling alleged problem editor taking sort responsibility action',\n",
       " 'look good think nice pic midtown across east river would best possible addition montage one currently available wiki common',\n",
       " 'perhaps question philosophy mathematics regular wikiproject math philosopher mathematics c',\n",
       " 'except fact information table confirmation number episode put 50 clutter vandalism 220 245 146 235',\n",
       " 'right may 26 1863 star bar',\n",
       " 'perhaps goodday could provide diff thought unaware btw hope move going went ok',\n",
       " 'also unfair respond allegation talk',\n",
       " 'never fucking made mother fucking article fucking edited fucking long time ago fucking asshole pissing',\n",
       " 'anyone ever considered including tag team edit warring 3rr violation two people act tandem unintentionally intentionally make revert four time may technically violate 3rr rule certainly spirit problem side edit war canada page precisely wanted avoid dominion page would easier warn editor rather shut page week time done canada case sure would cure escalation problem without blocking access page comment',\n",
       " 'fucked wrong muchacho 21 19 july 23 2005 utc',\n",
       " 'thanks unblock would compromise live margin creating article various subject see deleted form performance art many get deleted medieval philosophy still history logic name one people know like like 86 184 133 167',\n",
       " 'yes hope get ga status future wp mostv state fictional character storyline come first information creation characterization make sense read storyline character involved going production style used article book film television show episode 16',\n",
       " 'hi im fucking bitch 50 180 208 181',\n",
       " 'please educate article copyright infringement source established could explain best rectify situation thank',\n",
       " 'men ranking figure nice look miss key time 2010 olympics 2010 world championship title iihf list 2010 post olympics ranking 2010 ranking presumably post wc exclude period incorrect time canada ranked 1st overall russia 2nd issue happen year ranking change twice olympics wc 70 73 141 146',\n",
       " 'many broken nostril pancreas',\n",
       " 'last line new version better ypov new version complicates issue make article le simple read tell must boston mentioned cultural business hub seems heart bias appears want viewer get reading boston somehow nerve center city new england revolves around look must illusion page',\n",
       " 'utc sound wrong first read present tense ee read used past tense reworded whole thing past tense discussing already published work opposed work published yet published arnfj r bjarmason 10 21 2004 sep 12',\n",
       " 'took time answer',\n",
       " 'yobot incorrect defaultsort hi yobot incorrect defaultsort puzzling recognize article person among clue included birth death date top well yobot substituted additionally include correct defaultsort xa ab',\n",
       " 'biased unreliable emotionally written armenin wiki editor pls stop using wikipedia dirty propaganda lobbying purpose genocide amyth advanced armenian church armenian fundamentalist fascist nation subject egnocide several hero see statue yerevan irevan jew resolution act sold congressman want appease armenian lobby reliable valid neutral content kjust piece dirty lie fact presented written christian missionary working kill turk kurd 1910s claim subject genocide much want thing never happen armenian fundamentalist fascist killing kurd turk azerbaijani killed great son turkic nation proud go propogate lie much achieve nothing raman',\n",
       " 'add mobile porn additional wp also link',\n",
       " 'smer sd slovak party smer sd non inscrits regular socialist used pe settled pretty long ago liberal nationalist',\n",
       " '2007 utc anyone considered matter stuff made actually interact time time travel travel back time would frozen isolated spacetime whilst everything else around travel backwards time also physically biologically travel back time get younger younger disappear yet created thus defeating grandfather paradox although possible signal information travel backwards forward time possibility automatically extend matter know ie particle giving rise electron proton neutron ultimately biological being 02 30 30 july',\n",
       " 'want offer tremendous thank suggestion believe paramount successful inclusion rantmedia vastly improved article since afd nomination well since yesterday afternoon clear necessary done article truly first really answer question going take bottom heart thank c',\n",
       " 'laugh watching supposedly british national news guy barely ankle snow implying ragnarok upon u yet day tree blown main road blocked snow scotland seem noteworthy scotland routinely get ignored national news even people north england complaining fuss made southern oriented news tourist appear amazed thing falling apart something like mother good giggle reporter live trafalgar square couple inch snow beside main road barely ankle deep 194 106 220 19 lance tyrell',\n",
       " 'friendly advice refer kindly use cult free cult',\n",
       " 'great link imo american people whole good decent called leader fully controlled elite bent domination control whistelblower say talk',\n",
       " 'queen university stated previously quite pertrubed quite honest frustrated would remove section pertaining university tradition personal vendetta institution dislike whatever reason removed compliation material regarding jacket tradition find odd considering similar tradition allowed remain university wikipedia page mindlessly deleting material without group consent constitutes vandalism sure intention malicious short sighted move part please allow u discus greater detail',\n",
       " '20 january 2013 utc argument wp natural seems rely showing name common need prove name common number might help bit also told gohatto rather name film japan turned false incidentally ryuhei matsuda seems look like mother father think also authentic portrayal shinsengumi film historical insight 15 12',\n",
       " 'unspecified source image metropolitan moscow makariy nevskiy jpg thanks uploading image metropolitan moscow makariy nevskiy jpg noticed file description page currently specify created content copyright status unclear create file need specify owner copyright obtained website link website taken together restatement website term use content usually sufficient information however copyright holder different website publisher copyright also acknowledged well adding source please add proper copyright licensing tag file one already created took picture audio video tag used release gfdl believe medium meet criterion wikipedia fair use use tag one tag listed wikipedia image copyright tag fair use see wikipedia image copyright tag full list copyright tag use uploaded file consider checking specified source tagged find list file uploaded following link unsourced untagged image may deleted one week tagged described criterion speedy deletion image copyrighted non free license per wikipedia fair use image deleted 48 hour question please ask medium copyright question page thank want opt receiving notice hi',\n",
       " '40 percent korean eat dog meat korean tried regular korean food diet genearalize finger point korean eat dogmeat true',\n",
       " 'support let protect save page user balagonj786 page full error invalid reference',\n",
       " 'apparently thought tom offline filed edit warring report yellowmonkey picked tom mentioned page protection see stick',\n",
       " 'newsletter draft ready hi dank prepared initial draft drive wrap newsletter wikipedia wikiproject guild copy editor newsletter april 2012 could find time check go would super thanks',\n",
       " 'omitted entirely',\n",
       " 'true description booger prove',\n",
       " 'stay talk page stalker 12 39 2 83',\n",
       " 'anthony de mello hi need page written anthony de mello currently redirects priest suggestion dab title cricketer',\n",
       " 'thanks happy new year let talk',\n",
       " 'mature way central posted 6',\n",
       " 'stop vandalizing userpage know someone',\n",
       " 'oppose think merge good idea',\n",
       " 'maybe lead conclusion taip aircraft remained africa return back ferrying soldier article colaco net also shed light',\n",
       " 'thanks thanks thanks leave watchlist found archive full vandalism back given slashdotted suspect see bit might get someone else fully protect continues coi would also like thank keeping open mind changing vote encouraging sign good faith regard',\n",
       " 'hello interested could really use help',\n",
       " 'f k ride world fun hate ride world fun sh tty boring ride operator wof fired sued hanged burn wof coaster arrest wof park operator assassinate wof customer heard boy died timberwolf august 2014 stupid world fun nown better built sh ride world fun care money prophet moar customer burn sh park f k ride world fun dangerouser grround zero area 51 world fun burn hell',\n",
       " 'job sure thing soon find time also notifyed novanova asking start editing http en wikipedia org wiki croatisation guy know lot croat history',\n",
       " 'oh ok wanted see people thought anyway csd hey like talk page hope mind talk er',\n",
       " 'wrong capital podgorica always since july 13 1946 seat government parliament president podgorica cetinje seat kingdom montenegro exile besides capital city embassy podgorica see cetinje besides one montenegro world say cetinje capital montenenegro instead say podgorica also consitution adopted 1992 outdated new one due next year',\n",
       " 'mark ii subsec removed mark iix subsection made bulleted list reason eye subsec one line information',\n",
       " 'concise listing listing invention profoundly vague group 4 different category together even mention thing chinese received purely outside source much complete well managed list chinese development yet find along transmitted globally whether place like europe got purely chinese really need attention people remote expertise guess somewhat needham work profoundly rare private collection cited like arrogant bigoted as cry chinese nationalism yet went onto say invented noodle besides thing like cannon porcelain listed invention developed independently',\n",
       " 'history could consensus view mainstream view theology mainstream consensus view since theology depends upon church membership theologian historical scholarship aim universality objectivity theology make claim true million believe jedp birthed hell would believe knew jedp mean principle view notable enns said fringe view academe even among scholar actually disagree jedp source used build wikipedia academic source therefore jedp 20 21st century offspring given default weight inside academia view fundamentalist treated according wp undue mean wikipedia could say fundamentalist theologically wrong wikipedia theology entitled say inside historical scholarship fringe view course exclude serious scholarship done religious faculty since ehrman said one bestseller u mainline protestant catholic theological seminary divinity school teach mandatory historical criticism class sense scholar faculty thoroughly acquainted historical criticism built career upon assumption fundamentalist seminary divinity school choose default historical criticism free cut claim mainstream historian',\n",
       " 'well sorry attacking edits exactly wow seriously snotty people wikipedia yes need separate featured single 100 definitly',\n",
       " 'tfd nomination template silentredirect template silentredirect nominated deletion invited comment discussion wikipedia template deletion template silentredirect thank talk watermark shall remove obvious one le obvious one stay allowed watermark image anything whatsoever wish even contradiction wish use wp bandwidth uploading effect anything evening get deleted shall reupload without respect talk email could grace reply said deal evening one watermark visible page talk email planning upload le obtrusive watermark image bliss parody jpg talk email vandalism used external link per instruction incidentally bound follow certainly verge requesting mediation disrupting life never mind wp make point tell one time image better none wish get pix concerned image damn welcome try gfdl therefore ground removal talk email p shall add external link image remove shall make formal complaint wikimedia foundation information commissioner london talk email conduct little matter discussing issue user let keep civil please thanks talk disagree rob far little image watermarked way appropriate wikipedia encyclop dia pet image project thedoctor10 happy play ball go elsewhere talk proposing change image use policy forbid watermarked image please voice opinion wikipedia talk image use policy user created image thanks talk edit united kingdom 1990 computer misuse act editing information online illegal without permission button top every page say edit page among thing constitutes permission policy guideline form condition since condition image legal right q e talk email true therefore addition fails logic also wikimedia server right delete 13id 540053 apology ed invading talk page load rubbish wikipedia legal obligation whatsoever host image regardless whether meet policy idea flawed logic presume fact edit wikipedia mean edits must legally accepted computer misuse act state editing information online illegal without permission implies editing permission legal nothing furthermore logic legal right edit wikipedia remove image fail see earth intend tell lawyer imagine wikimedia board concerned talk ignoring gibberish',\n",
       " 'artpop 2012 album hello thank contribution make message good faith please make hidden comment like stating editor blocked remove redirect position asking saying could turnaway new contributor aware rule feeling bitten case think kind user talk page message would appropriate effective also edit reverted reverted back version also removed block warning appropriate admin block user removed redirect specially hidden message warning feel free correct wrong write good faith cheer huntley',\n",
       " 'crown prince prince elect denmark elective monarchy time',\n",
       " 'hamish macdonald disambiguation hello let know two entry one name one similar name tagged deletion using template db disambig question please let know best wish',\n",
       " '2 cent someone close korean american community pretty standard practice give american korean name first know sure case surprised probably explained book',\n",
       " 'died 2014 think better settle matter instead going back forth ip user claim whole thing hoax died europe year ago hawaii obit first forevermissed user submitted website 24 206 199 151 know family personally know somebody know family like get elaborate explainantion behind claim dead year ago see supposed obituary pretty detailed rest biographical information accurate though picture',\n",
       " 'august 2007 utc dear 24 hour block placed account yesterday personal attack expired must say happy block harbor hard feeling towards check previous contribution see productive editor wikipedia like let know guilty personal attack goaded two individual order avoid future block promise engage anymore personal attack goaded troll two individual simply ignore repeatedly reverting comment made concerning statement made hugo chavez article found biased issue concern nastiness uncivility far possessive article created becomes angry edits made article multiple revision legitimate edits made article told leave alone proceeded foul discussion page unwanted unsolicited comment objected goaded calling profanity respect role wikipedia administrator like respectfully request future exercise better discretion blocking user based one sided information thank understanding 19 53 15',\n",
       " 'link result mess link anywhere except actual book',\n",
       " 'added glebe park link though might wikified never actually afraid much help moment though meaning go look',\n",
       " 'go away revert edit blowdart user talk page surely thats privelege user like give wikipedia bad name stop busybody 134 226 1 194',\n",
       " 'head ways 76 pound feel like play dow dont tuch fall',\n",
       " 'sarek vulcan unfortunately cannot ban fact sarek vulcan unfortunately cannot ban fact fact lawrencenkhoo told wikipedia company keep retained profit bank fact absolutely untrue fact sarek vulcan ban stating fact sarek vulcan ban cannot ban fact',\n",
       " 'keep chin darwinism accepted night appears sense aat origin sort cut hypothesis ancestor went swinging tree prairie eon later take sedentary life style could edit wikipedia face book etc day one watch little kid beach first time wave throw bottom elbow may well cry time wait get water home sea edge environment hard wired gene unfortunately rise sea level since time mean evidence coastal community may never found keep plugging away old hypothesis fade away',\n",
       " 'nazi filth impolite 04 27 20 jan 2004 utc',\n",
       " 'interesting checked case number kunzang lhamo cited used wiki since original research going step find case number san bernadino open access either civil criminal record',\n",
       " 'transcluded part ga review seem update main talk page article correctly may click go subpage get date version sorry looong skim content related stuff guess',\n",
       " 'protecting cause 1948 palestinian exodus hi explain talk page protected article edit warring going heavy standard article also participant mediation case concern actually use one source page irrelevant present edit warring therefore wondering motivation regard',\n",
       " 'hello check personal page often please leave message discussion page tks marvio',\n",
       " 'thanks note dressed everything nice editor like work way deleting messy post talk page well mess mess thanks stephen please take gratuitous ingratiating imacowboy',\n",
       " 'care say believe one sentence anymore',\n",
       " 'anytime want nightcap tell',\n",
       " '2010 meet local vietnam tv series factual documentary 60mins 2010 meet local spain tv series factual documentary 60mins 2009 meet local tasmania tv series factual documentary 60mins 2009 meet local ireland tv series factual documentary 60mins 2008 way camino de santiago feature factual documentary 75mins 2008 african story online factual documentary 20mins overlander multimedia abc 2006 outback boxing troupe online factual documentary 30mins overlander multimedia abc australia production company 2004 returning home story ararat online factual documentary 20mins overlander multimedia abc 2001 meet local east coast australia tv series factual documentary 60mins 2001 meet local outback australia tv series factual documentary 60mins',\n",
       " 'globalization ivytrash ivy anything home born raised 6 block harvard square greatest place country interested globalization look square see smoking ruin home happens hope globalization comfort enough',\n",
       " 'self confessed approved observation see e g history soviet partisan btw first object',\n",
       " 'btw speaking armenian genocide follow wikipedia convention common name agree assyrian common name also proven many time change name current article assyrian genocide seyfo',\n",
       " 'quote wikipedia article link page someone concerned article contains inaccurate statement statement followed following warning dubious discus accuracy statement may cause concern contains unlikely information without providing reference contains information particularly difficult verify please remove dubious reference edits would guideline',\n",
       " 'belarus developed country hahaha nothing say 82 209 225 33',\n",
       " 'censorship islamist terrorism try censor monger properly cited information deleted',\n",
       " 'would like write article bill father including rise ceo commonwealth edison feel free article bill writing chatty book lenth biography stating fact biographical article wikipedia detail father career irrelevant although eventual stature ceo yet another issue already resolved',\n",
       " 'thanks really cool tool purpose like userpage best tally ho',\n",
       " 'funny would say exactly thing astarti34 anonymous user ip greece user williamthweatt accusing people without reason allowed wikipedia per wikipedia rule free ask investigation fact kindly ask vandalism persists seek arbitration kindly ask moderator see reverts confident conclude mal intentioned clear nationalistic agenda 3 guy something common greek 3',\n",
       " 'watched entire series agree entire article several suzumiya haruhi article somebody know haruhi personally sort view im going fix',\n",
       " 'agreed take stab also need major formatting cleanup wikifying sound much like fan conversation reference either youtube link personal communication trying least pare best musician ever statement could use help discography section',\n",
       " 'vandalism e g type edit somebody said stig leaving reverted basically reverted source suggest leaving know vandalism want carry editing wiki love place amazing please make leave explained please please unblock thanks 123',\n",
       " 'baer didnt invent video game jewish propaganda supported wiki troll named goldberg go figure hey goldberg try educating http www youtube com watch v efbwz sik8s',\n",
       " 'tell argument newseventsguy retroactive reversion simple edit trying include secondary independent verification sedimentary nanodiamonds younger dryas sediment bement madden et al without discussion reference notice yet included reference list still time admit ignorant peer review literature controversy attempt simple reference list edits page stomped le five admittedly biased ignorant editor honorable thing would recuse editing page seen happening good luck already made complete fool',\n",
       " 'hello get somebody fix shit around',\n",
       " 'dictionary dare call contribution spam kurd made lsit kurdish dictionary bloody turkish nationalist atoricity commiting bone breaking nazi watch folk slimy turk trying censor internet undemocratic turkey prison cell wikipedia stupid turk bugger want membership eec',\n",
       " 'apparently editor agree edits made justified group meat puppet working team revert article pov caused block issue advert tag justified placed article one editor replaced replaced another editor replaced three editor far indicated tag belongs sure forth editor going weigh side article riddled brochure language please note removing brochure language right lock article still lot need come advert tag removed additionally believe broke 3rr rule requires fourth reversion',\n",
       " 'agree indus valley civilisation correct name civilisation passage quoted neccecarily factual term saying second proof mighty sarasvati rigveda fact dry river identification open doubt apart fact proof indicate saraswati exist dry river including geological fact dried evidence also point fact tributary indus refuting point 3 passage quoted fact drew water sutlej yamuna river system though large number site found along river system none scale harrapa mohenjodaro leaving indus valley tag correct one saraswati exist today timing disputed existence wheter vedic indic v harrapan non vedic disputed today existence',\n",
       " 'december 2015 utc thanks started working pranagnihotra upanishad unable get full text deussen sixty upanishad page 646 648 appear book google url suggest url give full text meanwhile completed short article sharabha upanishad may like see add edit nvvchar 01 52 3',\n",
       " 'insulted people en wiki criterion provoke filter set simply abusing power people handed',\n",
       " 'excellent would great comment found peer review also helpful time actually act upon suggestion cheer hello',\n",
       " 'know dead plane crashed jeezz quit busting nut folk',\n",
       " 'afican union site vandalism dear bracketbot wrote note inform editor performing act vandalism website african union http en wikipedia org wiki african union please would appreciate could tell report action board index name http en wikipedia org wiki user knisfo',\n",
       " 'know jimbo get life instead sitting front computer day high priestess knowledge indeed',\n",
       " 'statement need referenced leaving article unreferenced every section open door original research introduction factually inaccurate information point one thing bring consolidated appropriation act 2012 first number tag creation article need tagged reason number 1 remove flag second reference link provided article one information various subpages appears entirety article found deeper link possible came well tell also note style summary taken never meant encyclopedic article riddled grammatical error mostly incomplete sentence creation opening read consolidated appropriation act 2012 h r 2055 bill passed 112th united state congress never heard usage rather assume incorrect another editor changed lead also missing important determiner case take look vesey',\n",
       " 'ok ask experience think portal',\n",
       " 'sitush anyone assume good faith writing much yadavs page evident discussion conveniently selecting source negative conveniently rejecting source positive person spamming article vandalizing yes contribute article wiki let first correct thing yadav much wrong going got ikonoblast banned got banned get anyone banned differs biased stand yadavs going give follow wp policy ensure get thing corrected yadav dont let fowler personal view dominate page peace',\n",
       " '30 december 2009 utc worry told back continue defend ya yup got proof work first saw like reliable source cause remember reverted source one time looked article saw ref 63 like oh shit reverted glad went going back glad two word gone save question would like expand lead s member hit 21 31',\n",
       " 'november 2014 utc agree clearly santilak using usual bag trick santilak please discus article courteously professionally 2 177 207 221 08 38 28',\n",
       " 'ok like pyx lax track much indeed could point towards greek trad music would great greawt irish non visto provvedi',\n",
       " 'pitchfork already 17 09 16 jun 2005 utc',\n",
       " 'reinstated sentence 7 nobel first paragraph reason stated others disagree defining characteristic bx science indicated right front summary paragraph discus rather playing edit game removing text without either edit summary discussion talk page',\n",
       " 'disappointed successful run',\n",
       " 'elvis cry chapel feudalist',\n",
       " 'please refrain adding nonsense wikipedia fisting considered vandalism would like experiment use sandbox tlka',\n",
       " 'elizabeth hi lil romeo one biggest fan really like always dream night would like come dallas tx ignacio zaragoza give concert elementary school 6th grade 15 year old want come help homework see later write soon',\n",
       " 'hi fracophonie thanks taking time write long message appreciate term said age mean cause offense thought read somewhere 18 make decision think getting confused check user privilege already read policy read rest later today troll need time get used acronym policy etc started writing article favourite website turned massive thing expecting really time argue debate usrs since clear want deleted despite said example one user wrote another site called amirite net amirite com precisely keep responding afc delete page term rest agree course apologise unblocked apologise side note actually french jewish shame gay part though',\n",
       " 'welcome hello soundchu welcome wikipedia thank contribution hope like place decide stay page might find helpful five pillar wikipedia tutorial edit page develop article create first article using article wizard wish manual style hope enjoy editing wikipedian please sign message discussion page using four tilde automatically insert username date need help check wikipedia question ask talk page ask question page place help question welcome wikhead',\n",
       " 'removed content tagged uncited mattisse every commonly known fact need cite editor en passent want nominate farc appears problem much suspect mattisse motif frankly tired bothered explore perhaps one probabtionary mentor interested would care deal',\n",
       " 'jeff garcia gay',\n",
       " 'sufficient need explicit permission use text copyrighted someone else licence suitable wikipedia please read guide requesting formalizing permission use copyrighted work wikipedia note addition copyright requirement article must still comply notability guideline advertising prohibition avoid conflict interest talk',\n",
       " 'section useful info stay clearly wrong',\n",
       " 'comment stuck week 200 broken link since acknowledge move mistake uncontroversial please revert anyone want dispute opera primary topic proper requested move discussion done first place willing able today ask another administrator',\n",
       " 'need included context 1993 well try dig source user talk review',\n",
       " 'tim firstly appreciate taking time discus issue offline willingness debate length despite majority view favour yes certainly agree friend important describe jurisidictions firm present clearly massive diffence say office french japanese jurisdiction chinese u jurisdiction since legal regulatory system different well commercial characteristic market beyond however remains firm view big difference law firm office say paris toulouse even though jurisdiction appreciate situation u slightly complex since federal state jurisdiction even within state big difference legal market different city though give example san jose market lot smaller overall los angeles market also quite different profile whole lot specialist niche focused high tech give another example uk law firm could never regarded truly top tier office london even office every big city fact top tier uk firm dla piper yet regarded one despite size one uk office london although office overseas saying dla 69 office across united state egypt south africa kenya thailand china would view still mean loss valuable information reader could fall back using description like major financial centre major commercial centre combination major financial centre major commercial centre introducing view unnecesssary element vagueness imprecision even original research accept dla 69 office right borderline many office make practical list article however also feel important general point principal information office location law firm valuable information aid reader article understanding subject included much possible',\n",
       " 'problem think problem someone siting mistress prof point far site actual encyclopedia forum encyclopedia big difference even piss page thank god single chick bitching would another attorney fee handing sue whoever owns site done bitching mistress thing whole page error first line last line joke first line last line wrong',\n",
       " 'sprecher brewery took tour christmas visiting sister charged extra 1 glass website may updated current pricing',\n",
       " 'ipad talk page remove ip edit talk page spam',\n",
       " 'speedy deletion andrew takao tag placed andrew takao requesting speedily deleted wikipedia done section a7 criterion speedy deletion article appears person group people indicate subject notable article subject included encyclopedia criterion speedy deletion article indicate subject importance significance may deleted time please see guideline generally accepted notable well subject specific notability guideline biography think notice placed error may contest deletion adding top page existing speedy deletion db tag coupled adding note talk page explaining position aware tagged speedy deletion article meet criterion may deleted without delay please remove speedy deletion tag hesitate add information article would would render conformance wikipedia policy guideline',\n",
       " 'image image deletion warning image metroid prime hunter title screen top display jpg listed wikipedia image medium deletion feel image deleted please go voice opinion 16 31 august 31 2005 utc',\n",
       " 'real personal attack repeated undoing edits everyone else',\n",
       " 'nope read guide appealing time user question engaged harassment long enough know prove immediately placed threatening notice blocking permanently user page reverted article midst editing second pas even preview change changed mind real wiki sin since onus proving doris day available pd archive org usual span pre bern expired long ago decided real sin original research oh no continued revert based add clutter sure user question really concerned quality article extraneous detail even notice two paragraph already comprising 1 3 entire article dealt norman schwarzkopf unrelated book unrelated ice cream store name tell user engaged good faith goodwill editing normal back forth lead better article involved blocking input article personal preserve existing content article including false claim extraneous material even concerned ther subject hand speculate guess sort power trip wiki bullying really time made fair number good edits year usually refrained saying anything directly related content improving article could pretend user wasting time really stake pretense stake improving article either dog race see improved made informative long term wikipedia user editor see problem jumping fixing something almost expect sort pushback completely minor edits good target minor stub like article problem people user question get away sort behavior getting away wikipedia becomes much poorer place playground filled bully rather library learn share also recal ever called bot think put word mouth perhaps inadvertently behavior malicious probably malware normal human collection problem think user warned trying gatekeeper quite qualified point anyway chilling effect across wikipedia egnage battle wikipedia rule acronym continue write english read article wikipedia english think way improve english fully aware term vandlism used misused rest wikijargon nothing new sun read edits made carefully note time reverts history action user see mark know going know expect motivation interesting respond anything say',\n",
       " 'communist state three call socialist state communist word westerner use name changed',\n",
       " 'boze hadleigh journalist interviewer writer primarily gossip homosexual hollywood',\n",
       " 'imdb content user submitted often subject incorrect speculation rumor use imdb wikipedia referencing considered unacceptable strongly discouraged wikipedia wikiproject film resource self published medium largely acceptable includes website whose content largely user generated including internet movie database imdb wp userg said long standing consensus disagree encourage take wikipedia reliable source noticeboard',\n",
       " 'new mean communicating sure expressing right form however reviewing recent 2000 2008 nomination expected go web next couple month process developed database corrected lat long decimal degree based google earth photo assessor map nomination file would like share way alternatively find way easily check correct existing coordinate mass wiki list would useful anyone',\n",
       " 'y2kgtp actually reverted vandalism',\n",
       " 'yes read ask provide back story matter least one religion bad better proof claim chatnoir',\n",
       " 'think error gram kilogram 1 5 kg editing article til better result wrong please change back 23 10 31 dec 2004 utc',\n",
       " 'vince fyi yellowfrogs longdendale councillor sean parker perry frequent purveyor greenwash four square behind destruction swallow wood via support bypass vigourously editing wikpedia page longdendale bypass roy oldham page order boost fake green credential obfuscate neutrality article get nasty get pissed threatens spurious legal action fortunately legally illiterate put',\n",
       " 'summary situation user shimshem taken dislike article tried numerous method either get deleted name changed 1 completely invalid speedy deletion request 2 invalid drv request 3 nominated deletion via afd despite fact passed afd year fact afd withdrawn 6 0 keep current afd stand 9 0 keep despite shimshem wikilawyered way became clear going kept decided name change would better 4 changed name band article told take talk brief non discussion talk moved article anyway reverted originally unsure motif editor completely desperate delete move article noted interested tamil subject one artist guessed believed two could confused subsequent creation article redirect artist proved far concerned whether band actually called mia differs band us heading website us combination elsewhere since case source likely laziness much r e regularly referred rem since article existed backlinks go version let disruptive user get way article stay',\n",
       " 'unnecessairy source matter many soldier killed matter safavids deposed besides mentioning information without making remark brutality afghan force example complete massacre safavid family including woman child well massacre civilian population isfahan bam village khorasan considered pov besides shown source claim 30000 100000 soldier killed edits matter believe matter wikipedia rule posted message without editting anything abusing article history message board use real message board instead',\n",
       " 'whoever wrote plot feel terrible whoever watch movie detail write plot line ever took time write plot section must traumatized life however missing part milo son laying belly unconscious bed milo anally rape several masked men watch also use knife sword scene truly one sick film artistic message film basicly middle finger sick minded film maker cast must tricked participating disgusting film artistic gore classic film begotten listen watch film matter much tempted',\n",
       " 'asked admins comment refrain however remove personal attack anyone wish discus action please email window',\n",
       " 'compromise think budget salmon least netherlands fish affordable dutch called salmon trout far good marshall fortunately one yet discovered used run drug cartel danced nightclub la henry lafarge shot dark ssshh telling oh ask rfa proper use citation template later',\n",
       " 'sorry sure take care quite history actually legal case involving dayton daily news wikipedia risk edits page affiliated company actual sockpuppet 65 31 33 93 puppet hdayejr',\n",
       " 'agree disagree relative merit fish character red seabream part family sparidae anyway usage outside north america right',\n",
       " 'large ship typically launched water hull completed mean construction work finished usually still significant amount work done including finishing interior ship building superstructure etc take look image sm seydliz construction jpg example see ship already water significant amount work done superstructure also read ship naming launching information launching hope help',\n",
       " 'point predictably ignored stonewalled seems wikipedia staff official response direct questioning justin berry issue one might think hired scott mcclellan handle pr clearly aware untenability position really hoping go away sorry guy',\n",
       " 'need prove notability using reliable source festivity large organized part country make notable also need change username one probably blocked soon violating username policy name web site business talk',\n",
       " '4meter4 sigh concern mr 4meter4 reverted contribution mine given article far single chance develop article called falsetto falsetto may arrogance know huge contrary regarding definition falsetto many sign entirely different falsetto compare info mr 4meter4 anxiously protects england italy spain 16th century described entirely different type falsetto top mr 4meter4 perhaps never heard pavarotti singing falsetto falsetto ian gillan singing king diamond based falsetto michael kiske falsetto mariah carey whitney houston sing falsetto falsetto sound breathy published note maybe 4meter4 look would fit article would admit source vennard probably chair something else falsetto drunk 4meter4 quickly opened two three book thing swallowed world whole physiology falsetto based encyclopedia well perhaps enough wikipedia much regarding physiology much much allow idiot like 4meter4 develop wikipedia people reader wikipedia read shit prof research regarding female falsetto 60ies mr know everything feel free block desire write',\n",
       " 'also forgotten premier league still written english',\n",
       " 'please replace wikipedia page blank content blank page harmful wikipedia tendency confuse reader duplicate article please redirect appropriate existing page page vandalised please revert last legitimate version feel content page inappropriate please edit page replace appropriate content believe hope page please see deletion policy proceed thanks contributing wikipedia talk',\n",
       " 'motherfucking piece crap fuckhead blocking u',\n",
       " '2010 utc made table classed everyone independent unless could confirm party identification according dlp intended run 17 constituency according least 5 candidate able identify two far need identify 03 19 1 december',\n",
       " 'removed pov removed undo criticism secretary boutwell pov wikipedia meant bash person reputation whether alive dead following removed article boutwell little withdraw paper currency circulation shaping financial policy forestall either inflation deflation intellectual critic saw action want guiding principle lack solid theoretical knowledge believed knowledge far convenient justify theory knowledge deception henry adam wrote much quoted analysis 1870 believed common school political science ledger cash book adam smith mill one might believe multiplication table laplace newton natural logic made disbelief higher branch political science basis political practice thus grounding action ignorance carried principle remotest conclusion henry adam session north american review july 1870 p 36 corrupt time spoke well boutwell nobody thought made money cabinet post either friend living within salary lodged boarding house throughout tenure pleasure lay writing lecture playing billiards poker though never money chicago time march 6 1875 inaccessible man uninfluenced fear favor affection hope reward burst brillian exhibition love hatred new england politician wrote brother henry f french benjamin b french march 16 1869 benjamin b french paper library congress boutwell financial policy le dogmatic pragmatic liberal reformer hoped would embrace civil service reform rush country towards resumption specie payment boutwell appointed subordinate basis merit part little rein spoil system outside washington remaining friendly term party boss',\n",
       " 'sir imbecile pervert',\n",
       " 'recaptcha 1 defamatory 2 relates computer system living person recaptcha force user solve captcha access whatever service question forced labor definition slave labor going revert reversion please report vandalism also please send threatening message tia 94 168 204 89',\n",
       " 'question possible citation sorry missed question pay much attention page response question let start repeating boilerplate formulation job wikipedia editor verifiably summarize reliable source using neutral point view yet worked original research wp say integrate otherwise reliable information arrive novel conclusion comparing two list drawing conclusion difference similarity likely original research integrate information long arrive new theory another principle remember vagueness improves accuracy precise harder accurate getting detail predator editor website appears reliable source use source bauer site even somewhat unreliable may used limited fashion primary source bauer familiar enough topic make pronouncement would correct however would say proposed text appears reasonable source sufficient original conclusion made website takedown issue confusing able summarize find reliable source overall opinion le say subject better attack article encouraged must show subject wart enlarge wart ignore better feature balance part npov able summarize find reliable source reliable source said said blog flame war alleged website takdown instigated bauer clear factor forum ip known root cause article player involved via blog see objective bauer sorry get back usenet stuff et al somewhat overloaded work personally think article better first saw thanks lot effort part primary editor article bring best source present way seem like lynch mob good job enough editor either side ensure something resembling nuetral get posted glad help try make article neater mean sound brusque summary field lot cram thanks note appreciate would say karen saying called name fabrication never done thing whether able insult call name wikipedia repeatedly without consequence accused jule carrying water tnh absolutewrite namecalling long stretch really weary attack mob rule avi seems genuine hanging tough insulting tribe threat real escalating hour blaming make point le valid nobody like piled crowd internet equivalent stoning fabrication get awfully tired called troll part mob cult group troll self interested partisan blog comment commando thing could point wanted depress also made theoretical comment nosy fat ugly putting word front make le insult tried polite continue response please notice like abi avi avraham admin abi ml commenter belief kindness counseled piling talk contribs ad hominem name karen yet linked thread teresa caled psycho hear said private asked spoken negatively thread making light obvious two pro tnh absolutewrite self interest backed fact run counseling well avi make decisons sh',\n",
       " 'infobox hurricane season pretty much complete need make documentation possibly tweak thing may pop might want test question suggestion go ahead address',\n",
       " 'show wikipedia say table width 70 wide collectonian answer question',\n",
       " 'article marked fixing hoping would guideline talk page research edits article look okay cursory reading non wiki reader',\n",
       " 'castro lite webluis continues revert watered preferred image castro backed edits fact whined personal attack nonexistent empty statement 04 56 25 mar 2005 utc',\n",
       " 'antonov revert like red link removal add table made also reverted edit added logo antonov said edit summary',\n",
       " 'another crap article parrot promotion website capoeira school say myth origin also persecution thing late 1800s capoeira became word street brawling thus authority prohibit sanction practice capoeira banning capoeira banning outright street brawl mestre bimba presented art luta regional baiana decent carioca would eager sympathise capoeira malandrismo could attempt alter article become mess',\n",
       " 'never edited content comment please correct false accusation',\n",
       " 'redirect talk jos manuel rojas',\n",
       " 'agree clearly medium make spouse household name nothing stop jim rightly point rein notable political spouse prominence businesswoman potential conflict interest trying avoid nick',\n",
       " 'security reason edit war said edit summary term security reason ambiguous properly established source unnecessary crystal ball know said earlier janes perfect reason mg manufacturer alter part interchange u batfe make suddenly glock different yeah guess like glock compensated pistol acting like compensated pistol wonder actually shoot bullet',\n",
       " 'represents immaturity consistence disruptive behaviour talk',\n",
       " 'macedonian slavic bulgarian possibly note 1 republic macedonia recognises language dialect macedonian language 2 greece eg recognises speaker slavophone greek 3 bulgaria belief macedonian dopia slavic macedonian part bulgarian diasystem 4 european bureau lesser used language recognised language macedonian 2006 5 ethnologue comprehensive guide world language http www ethnologue org show country asp name gr go clarification altough know stance various government anyone current source please add hope table clearer still need ngo albania eu etc please add constructive comment',\n",
       " 'feel acting manor inconsistent responsibility post something wikipedia administrator noticeboard incident want make change university wisconsin madison reliable source reference support change post reference change tutorial may help reference question ask',\n",
       " 'part editing encyclopedia reducing extraordinary claim ordinary fact assume meant derogatory fashion 194 81 33 9',\n",
       " 'cfd nomination category wikipedia administrator nominated deletion opinion matter welcome please participate discussion adding comment discussion page thank',\n",
       " 'also sock puppet account suprise sincerely man track internet kill',\n",
       " 'source needed provided need read article guess read prove even reading article every edit backed source came going provide detail merely civillain editor wikipedia staff member info need within pira text edits actual wikipedia staff member want specific happy provide look obviously anti ira hack making thing support bias neither pro anti ira bias merely report fact checking page daily continue submit pira entry far accurate factually supported several time day wish accept fact mine superior version deal edit regular basis agree incorporate fatcxs mine one article three area number loyalist killed 1974 1998 number ira victim broken janes intelligence online cfr ira russianmafia connection documented multiple book newspaper source three thing verifiable remain',\n",
       " 'fucker mother fucker nothing block university computer go suck cock',\n",
       " 'one many book various band thought cult rocker checked supertramp seek source quote',\n",
       " 'hello disgrace humanity stop wasting valuable internet resource killing fucking planet throw pc p like 3am fark kinda life wikipedia 24 7 sad lonely one lol life short find something better',\n",
       " 'explained reasoning block user talk gwen gale user professional assassin',\n",
       " 'article created album disambiguation page created',\n",
       " 'would pretty odd declassified document mention movie created event movie document related declassified document synthesized movie unless want prove conspiracy synthesis odd perfectly valid use document relate historical event verify happened use primary source ideal wikipedia since ideal left talk page someone want research find ideal reference',\n",
       " 'retarded bot bot entirely automated wrong leave unattented script running site like idiotic suppose scripting ability perfect ever make proper edits banning help anything dipshit since many ip want',\n",
       " 'two reversion hezbollah could explain talk page reverted edit twice',\n",
       " 'dislike racism see problem people speaks spanish antisemite',\n",
       " 'name yuen lou look variation yuen lo name jackie used sifu opera school',\n",
       " '2010 user talk wikireader41 archive4 archive 5 mar 15',\n",
       " 'realize article quite say thought said anyone find citation stating exists proper subfield isomorphic would interested seeing could reinclude clause citation',\n",
       " 'cherry pick anything official fact essentially every cnn program double digit 9pmet home pier morgan tonight 7pmet home erin burnett outfront worst performance demo 20 year http www mediabistro com tvnewser may 2012 rating cnn hit 20 year low b130250',\n",
       " 'direct indirect relation correct say technically 45 degree shot elevation reach longest distance 30 degree 45 15 reach distance 60 degree 45 15 shot could lower 45 shot considered direct fire higher 45 shot considered indirect fire think great explanation one way viewing thing',\n",
       " 'title section revert hi office earlier noticed warning restoring title section sorry course revert clarify opened new section indeed alert contributor behaving way line example ownership behaviour described return title section twisted something unrelated one message erased first time see people editing signed contribution talk page look crazy',\n",
       " 'noel expert please convince whig history fan lazy mind bonnie prince charlie want dissolve union united kingdom began stuart opposed hanoverian tell whig rewrote history blame everything stuart credited ultimate failure positive contribution foundation great britain stewart tudor blood sovereign realm else kingdom british might well living republic least parliamentarian way even hanoverian heir recognise stuart founded uk please debate thanks',\n",
       " 'warning earth like leave access talk page perhaps six month convince u try inclined making hard continue abusive comment revoke talk page access',\n",
       " 'jaeger regardless people decided erens name jaeger like calling light death note raito least anime people dubbing take care correctly pronounce foreing name ie except mikasa jaeger mean hunter german word guess eren series',\n",
       " 'thank experimenting wikipedia test worked reverted removed please use sandbox test may want take look welcome page learn contributing encyclopedia link edit reverted found link believe edit reverted please contact talk',\n",
       " 'please discus factual accurate biographical information courtney ford vandalism look forward hearing evidence',\n",
       " 'think entire article tagged politicized part future trend speculative point scientist learner increasingly using know teacher yes probably make educated guess better anyone else still educated guess also notice totally spewing unnecessary carbon statement think article superbly miss point pollution waste type stupid way go thing better way known making guinea pig planet specie point',\n",
       " 'used car expert page image thank note image used car expert magazine copyright owner gave permission picture email 213 123 123 110',\n",
       " 'however still error assert work equation handicapped',\n",
       " 'first widely established use exile quotation presented legitimate second mark ames autheticated numerous admins user wikipedia personally met third cite paragraph spy magazine primary example pov creative fact precisely creative fact paragraph exile admired spy magazine spy magazine employed team lawyer defend spurious lawsuit spy magazine went bankrupt claim paragraph verifiably true',\n",
       " 'pretty humorous comment someone promotes far leftist blog daily ko user page',\n",
       " 'seems',\n",
       " 'evasive shall repeat many people argued deletion lock page get way',\n",
       " 'edit request 29 october 2013 arctic monkey played walk wild side honour lou reed echo arena liverpool day musician death http www rollingstone com music video arctic monkey cover lou reed walk wild side 20131029',\n",
       " 'welcome hello welcome wikipedia thank contribution hope like place decide stay page might find helpful five pillar wikipedia edit page help page tutorial write great article manual style hope enjoy editing wikipedian please sign name talk page using four tilde automatically produce name date need help check wikipedia question ask talk page ask question place helpme question talk page welcome talk',\n",
       " 'gurch interesting fellow take comment heart take advice board 1 talk',\n",
       " 'wasnt vandalism dickhead',\n",
       " 'need understand help wikipedia political mission attack brazilian press crazy see crazy people day brazil',\n",
       " 'season 5 issue sure removed edits season 5 futurama issue think merit total lack season 5 info confusing sure season 5 info replaced movie information could informed least removed discussion comment',\n",
       " 'philosopher rfc philosopher wiktionary person devoted studying producing result philosophy going make case must call stefan molyneux philosopher without qualifier lead done endorsement statement level achievement acceptance philosophy career note source use article present point first convince rfc respondent philosopher accurate widely accepted make sure reliable one place definition obviously source going use slightly different phrasing call explicitly philosopher view philosophy think consider phrase given equivalent using one word philosopher lead sentence cover political ethical theistic specialization one word elaborate later article philosophical conversation philosophy show used describe freedomain radio series libertarian libertarian thinker libertarianism classification political philosophy anarcho capitalist anarcho capitalism political philosophy voluntaryist voluntaryism sometimes voluntarism libertarian philosophy athiest argument atheism range philosophical social historical approach ethic ethic sometimes known philosophical ethic ethical theory moral theory moral philosophy branch philosophy secular ethic secular ethic branch moral philosophy primary source stefan molyneux living person give great weight say focus work stated profession unless reliable evidence contradict obviously want host sort fringe claim dispute say though absolutely must strong basis open wikipedia discredit liability blps held strong standard first place think case strong ample evidence calling philosopher justified correct modern philosopher explores via modern online medium obviously new phenomenon understandable different old school philosopher used freedomain radio page master thesis analyzing political implication philosophy fascinated philosophy particularly moral theory since mid teen left career software entrepreneur executive pursue philosophy full time work freedomain radio written number novel well many free book philosophy freedomain radio show molyneux host tagline largest popular philosophical conversation world molyneux book show endeavoring produce tangible written result field philosophy particularly universally preferable behaviour upb rational proof secular ethic god concise guide atheism agnosticism two deep dive fundamental philosophy strong atheism case evacuating middle ground article philosopher video response question childhood motivation pursuing philosophy introduction philosophy 18 part video course produced molyneux describing basic philosophical concept reality knowledge truth god religion ethic politics 8 unsolvable philosophical question solved video tackle 8 great philosophical question considered unanswerable proof god destroyed philosophical atheist video 2011 philosophical review discus major philosophical political economic social development 2011 video http www youtube com watch v udlsgjbw4hs 38 philosophy questio',\n",
       " 'wp film december 2010 newsletter december 2010 issue wikiproject film newsletter published may read newsletter change format future issue delivered unsubscribe notification following link idea improving newsletter please leave message talk page happy editing talk contrib',\n",
       " '40 25 january 2008 utc uncivil try uuser lbrun12415 called user waste sperm moron etc block one truly uncivil rikara recommend cool yelling arguing going get anything take breather come back feeling calmer otherwise find talk page protected forced take breather seen nothing sort user since renamed least current situation blah v v 23',\n",
       " 'suck undelete page barry dejay',\n",
       " 'see internet explorer market share history overview year version ie7 u time come like others using problem fine worried specific workplace come howl',\n",
       " 'like example given following post http theautomaticearth blogspot com 2011 07 july 28 2011 real black real swan html 167 30 73 70',\n",
       " 'curse wikipedia respect god wikipedia full lie dangerously evil half truth wikipedia respect religion following user wikipedia namely redtigerxyz priyanath emperor genius raj2004 wikidas wikiveer dagizza committed blasphemy sacrilage curse upon perish curse following user wikipedia namely redtigerxyz priyanath emperor genius raj2004 wikidas wikiveer dagizza perish curse wikipedia entirely perish beg forgiveness supreme god lord vishnu choosing blasphemous wikipedia website write truth true devote supreme lord vishnu hurt curse never go vain never edit read go evil wikipedia website forever delete user id edits evil wikipedians mr dagizza male chauvinist pig misogynist core call administrator ridiculous mr dagizza curse existance man like cannot respect woman worthless existance wikipedians useless people burden civilized world even worth hatred wikipedians must ignored curse',\n",
       " 'hahaha dont actually believe bullshit telling right talking access country representative government kim jong un two totally different thing although could understand stupidity since north korean think kim jong un governement im saying go troll somewhere else kid',\n",
       " 'blocking mardyks guess loser know cockblocker hahahaha 71 39 183 86',\n",
       " 'want use understand fayssalf insists naccount could wrote using account maybe would kept instead naccount',\n",
       " 'deletion minority post nice try trying silence slave stay know attempted block yet come wikipedia every day something life see failed attempting silence refusing answer qusetion purposely hunt post african american delete refuse access sporting good store person contacted attempt block named rebelguy racial agenda made hard copy failed racially motivated attempt punish turned naacp',\n",
       " 'thank wanted say',\n",
       " 'well never answered question specific intention talk mystery science theater 3000 episode experiment v movie assume posting title intention create individual mst3k episode article record believing could useful prepared time significant work stretched way thin right talk',\n",
       " 'nigel per wiki standard use external link 1 proper context article useful tasteful informative factual etc 2 functional link likely continue functional link 3 link considered merit using following guideline number external link article grows longer assessment become stricter doubt appropriateness adding new link make suggestion article talkpage discus editor generally avoid external link except take directly home page aircraft question link take directly nasm page particular p 61 make external link appropiate agree page need reference',\n",
       " 'edit request maksudfsa10 9 march 2011 minor edit added azerbaijani list describes turk first paragraph second largest turkic ethnic group turk turkic people residing northern central western asia mongolia southern siberia northwestern china part eastern europe speak language belonging turkic language family turkic people encyclop dia britannica online academic edition 2010 share varying degree certain cultural trait historical background term turkic represents broad ethno linguistic group people including existing society azerbaijani chuvash kazakh tatar kyrgyzs turkish turkmen uyghur uzbek bashkirs qashqai gagauzs yakut crimean karaites krymchaks karakalpak karachays nogais well past civilization kumans kipchaks avars turgeshs seljuk khazars ottoman mamluks timurids possibly xiongnu hun timur columbia encyclopedia sixth edition 2001 05 columbia university press encyclopaedia britannica article consolidation expansion indo timurids online edition 2007',\n",
       " 'nobody care seriously self referential trivia guy',\n",
       " 'understand see see scholarship see stealing grasping greed animalistic try 2 2 4 culture switch math wil like levantian math amanbir 117 226 28 239',\n",
       " 'guess u know greek cuz took u forever translate second u read carefully say anything u',\n",
       " 'never met photographed keith wigdor whoever asking interfere article keith wigdor resource connection unless somehow deceptive really sort expert artist 20 04 17 dec 2004 utc',\n",
       " 'holocaust denial actual proof jeff rense advocate holocaust denial category holocaust denier removed',\n",
       " 'wikipedia administrator defending mass murdering psychopath',\n",
       " 'censorship understanding supposed warn someone asking administrator block consider warning delete comment',\n",
       " 'april 2010 attitude comment appreciated please remain civil',\n",
       " 'request help request help hi cat perviously noticed strong anti greek bias several article related macedonia issue furper beam seem admins heavily favour fyrom officially complained notice board threat block edit behavior unusually close relationship obvious fyrom pov member wikipedia specifically balkanfever http en wikipedia org wiki wikipedia administrator 27 noticeboard anon 28apparently user crossthets 29 2c apparent pov pusher 2c evidence said verbatim politis talk page difficult battle far alone moment newbie said one admins notice board feel like someone reporting bad cop policeman ball however still plan follow soon precise listing perceive non npov behavior admins noticed researching issue also problem would possible list problem talk page add report show alone furthermore since around longer probably know greek around would possible also contact ask also problem two add incident list perhaps get contact others one person could bullied threat blocking concern many taken much seriously check back couple day courage regard 209 161 238 86',\n",
       " 'certain injury sickness regardless occurred',\n",
       " 'told comment want',\n",
       " 'wikipedia article deletion cheongye kwan post afd new martial art bother version time based post posted read article quite honest feel satisfy wikipedia guideline reliably sourced since believe notability article satisfied 11 independent source refute argument posed wayne determined phillip rhee source martial art localised please consider concern post raise simple matter like reference notability noobie basic afds routine moderately experienced user bread butter admin fact cursory check show almost everything stated word unreal close eleven independent source stated established notability non localization time three reference 2004 coates robinson shaw certainly topic even existed related passing piece news founder team completely different sport event two reference 1st half 2005 davy white almost certainly identical identically irrelevant topic notability promoter personal page local town website almost certainly self published official village website 2008 casual interview non notable possibly non reliable university magazine apparently promoter travel see expert different sport tangential tiny 1 sentence mention discussed new sport lau philip la interview 3 entry marked reference support written reference chris cook rhee obviously request founder friend colleague write letter support never published anyway cited read even possibly valid evidence short writeup local information kind award first 4 black belt school local paper brief 11 5 sport existed even remotely topic much le sourced material substantial coverage precisely zero coverage 3 claim personal think great guy letter support evidently solicited written request zero evidence verifiable existence certainly way reliably sourced independent 1 self written 1 briefest non mention non reliable source pretty much discussed topic college magazine interview 1 local press coverage course even news day evidence anything beyond course name taught twice weekly local village hall assessment afd reliably sourced style border c0c0c0 solid 1px width 90 barely one reliable source 11 sport even exists first place local newspaper mention meet village hall tuesday friday awarded first 4 black belt probably via self promotional input zero reliable sourcing rest cited page evidence notability style border c0c0c0 solid 1px width 90 mention even date time topic existed online version provided earth could reliably evidence 11 source independent style border c0c0c0 solid 1px width 90 3 claim please support letter exist even stated personal reference unpublished uncited 1 clearly self written web page local village web host cite show non localized style border c0c0c0 solid 1px width 90 page list link checked cite yet say citation prof reference openly stated cambridge university bristol taekwando big indication actual source link provided request turn',\n",
       " 'hebrew name lydia appologies til eulenspiegel thought one idiot user page indicates actually well struggling genesis 10 tab13 mizraim begot ludim anamim lehabim naphtuhim see ludim mitzraim confused lud son shem far east best wish keep good work 81 103 121 144',\n",
       " 'considered irrationally laid waste six month life dedicated project',\n",
       " 'scout source prior prod eh dr blofeld',\n",
       " 'wasted time take advice pull head as real spend rest life sucking as nice life goodbye mailbox',\n",
       " 'class wikitable style border 1px solid 8888aa background f8f8f8 padding 0 font size 90 parliamentary bloc alliance leader seat percentage source national alliance state law coalition national iraqi alliance ibrahim al jaafari 159 48 92 al iraqiya al iraqiyya hassan al jibburi 91 28 kurdistan bloc coalition kurdistani list kurdistan islamic union islamic group kurdistan fuad masum 49 15 08 center current al tawafuq unity alliance iraq unknown 10 3 08 gorran bloc gorran movement shorsh hajial iraqiya brengt oppositie en talabani dichterbij elkaar azady nl 8 2 46 national rafidain list assyrian democratic movement yonadam kanna 3 0 92 csapc chaldean syriac assyrianpopular council sarkis aghajan 2 0 65 independent 3',\n",
       " 'also told count using admin tool deciding content misrepresentation policy norm sanctioned past',\n",
       " 'welcome hello welcome wikipedia thank contribution one made nogeoldae hope like place decide stay page might like see five pillar wikipedia help page tutorial edit page develop article create first article using article wizard wish manual style welcome continue editing without logging many editor recommend create account free requires personal information provides several benefit ability create article full outline explanation benefit come creating account please see page edit without username ip address 137 237 184 162 used identify instead case hope enjoy editing wikipedian please sign comment talk page using four tilde automatically produce ip address username logged date need help check wikipedia question ask help teahouse ask talk page ask question place helpme question page welcome',\n",
       " 'stradbroke galleon portuguese hallo moondyne admit signed onto wikipedia aware concensus community knowledge nazi aware make appropriate adjustment obviously mistaken impression wikipedia venue sharing fact knowledge information notion stradbroke galleon story pet theory mine total rubbish written discussed investigated 100 year historian historical group royal historical society queensland maritime archaeology association queensland many numerous include exists various library book community large body written oral history concerning galleon story attempted fairly accurately place wp domain fact story accepted mainstream academic valid reason deletion either contribution occured classic example manipulation information resource vested interest group e hesperian friend representative mainstream view hesperian complain medium coverage recieved never appeared wp contribution made hesperian mention medium coverage demonstrates core reason hesperian antagonistic attitude simple old fashioned professional jealousy thus valid historical data deliberately surpressed hesperian personal reason example portuguese walking stick handle found aboriginal midden identified spanish musuem offical story told uq archaeology phd student relevant theory portuguese discovery australia kind knowledge suppression wiki guess care appear part happy little click sucked hesperian little band mate pity history full suppression information vested interest group expect wiki different still dissapointing happy trail',\n",
       " 'agf requires think reverting user preferred version might look better allow another admin make edit',\n",
       " 'accent although cartoon established mario luigi brooklyn fact commonly accepted fan despite never mentioned game toad seemed speak thicker brooklyn accent accent mentioned game tv show presumably licensed product nintendo decided go italian accent fan assumed tv show later movie accent official standing nintendo product included digitized recorded speech anyone realize nintendo intended italian italian american principle updated canon star trek star war licensed product run',\n",
       " 'delete way consider trophy',\n",
       " 'actually bzfoster unable edit article semi protected well pc2 log try',\n",
       " 'believe obeyed community rule understand rule personal attack appeares applied unjustly instance provided countless hour academic research input wikipedia please assume good faith part blocking admin intelligent adult naturally assume good faith party demonstrate seems one side affair',\n",
       " 'please add unsourced negative controversial biographical material page edit stuart tyson smith continue blocked editing 13',\n",
       " 'preceding unsigned comment added talk contribs',\n",
       " 'french walloon surprise article french people clearly label walloon distinct ethnic group perhaps best make comparison screwing time done rewrite part article mainly word sentence left right make distinction relation dutch flemish clearer article switched constantly part dutch part dutch flemish together clearer major thing left adjust graph number dutch since still al include flemish',\n",
       " 'need sign rsn post',\n",
       " 'thing get straight firstly like look like smug little prick secondly like ethnicity one little bit like explain count thirdly dog bit bender 94 1 96 85',\n",
       " 'procedure ask award michelle obama already million view year anthony davis basketball million 2012 c wp four wp chicago wp waward',\n",
       " 'adding link add thank link entire page also marked spam reason one familiar one hundred year old industry still explain link page http en wikipedia org wiki natural building relevant mine',\n",
       " 'please accuse member vandalism mind change word unique prominent remove story dream etc vandalised page made statement biased saying dr qadri sent referendum reverted whole edit also reciently vandalised page removing name yemeni scholar recieved dr qadri ijaza including picture clear form vandalism accusing member vandalism vandalise page clearly vandalism reverted edit change made brought page back previous form would first kindly read rule wikipedia find definition vandalism accusing experienced user still new wikipedia afraid need learn work different rule wikipedia making edits',\n",
       " 'know pronounced turkish question whether specific pronunciation dominant english best include english transcription pronunciation audio file',\n",
       " 'oh sorry actually found page forgot anyway actually note going rewrite text suppose slipped mind',\n",
       " 'june 2008 please vandalize page edit bugatti veyron continue blocked editing talk',\n",
       " 'terri schiavo rorschach test perhaps see utility terri schiavo rorschach test dangle pretty slender alive aware young face front power player left right see respond respond inappropriately make note rat laboratory make wikiepda powerful true npov notable fair',\n",
       " 'ok stop lame seriously go watch pokemon',\n",
       " 'past master v rarity creating chart use includes u album since many difference early album u fan faced issue whether u album u k album ipod post chart talk page others judge whether worthy including realize problem including lack canadian album purpose simply record first album appearance u k u song notice number u k song listed past master actually first appeared rarity 1978 beatles album know reason purpose list first appearance album someone explain changed rarity',\n",
       " 'simpson movie poster create simpson movie poster image source somewhere else',\n",
       " 'help hey help something uploaded image wikipedia http en wikipedia org wiki file stikky cemetary san jose 1987 jpg contacted photographer gave permission use wikipedia wondering proper licensing would thanks advance',\n",
       " 'look good would nice see county lot better current one good job',\n",
       " 'debunkers pretending objective sceptic besides proving lack knowledge lack integrity various astrology page also personally attacking talk page dare try defend block wikipedia much honest dialogue win argument fairly resort dirty trick',\n",
       " 'reviewing block said also like ask future sake fairness due process decline unblock request user block unless request pure nonsense abusive ethical review block meant carried 3rd party thought pretty clear case given editor user page gnaa etc etc etc unblock request pure nonsense also impression unblock request would still visible reviewed admins careful future',\n",
       " 'regarding edits made december 31 2006 utc kanpur please add inappropriate external link wikipedia wikipedia mere directory link used advertising promotion inappropriate link include limited link personal web site link web site affiliated link exist attract visitor web site promote product see external link guideline spam policy explanation link considered appropriate feel link added article please discus article talk page rather adding see welcome page learn wikipedia thank talk',\n",
       " 'come really necessary understand coming sound like whiney bitch website anyone edit sort stuff come territory really expect anyone 4 5 people troll wp pw read comment talk royal rumble 2008 talk page matter confident active member wp pw added wrestlemania xxiv watch list something liking added removed simple putting people reading talk page quit endless dan',\n",
       " 'see anti semitism guy give lecture new york synagogue knock country every single minute using every opportunity influential newspaper new york post one state interest personal find intellectual person among neoconservative new york post michelle malkin andrea peyser deborah orin may rest peace although know rotting hell essayist one make great company amir taheri guy mind agree iran regime wrong regime shah amir taheri longing owned keyhan regime better islamic revolution justified look intriduce amir taheri article new york post based europe memeber benador associate europe small small town say based world journalist may breakfast london christian amanpour james rubin eating lunch jerusalem lecture dinner anti irani jew forest hill new york emailing full hatred article new york post stupid saysomebody based europe asia africa',\n",
       " 'confusion controversy real world preclude writing good wikipedia topic ackoz suggests real world yet hashed truth expulsion therefore impossible u know truth thus impossible u write reject stance think difficult quite possible write quality wikipedia article topic murky controversial many wikipedia editor get wrong believe wikipedia job report truth wrong wikipedia job report truth precisely difficult determine truth attempt original research instead truth wikipedia aim verifiability put different way wikipedia committed recording state human knowledge opinion opinion reliable source truth clear uncontroversial easy u report truth murky controversial challenging possible u report different reliable source assert think topic even reliable source conflict wikipedia editor get trouble start siding one side controversy asserting side selected represents truth one perspective pov topic hand trying hit npov sweet spot difficult midst running polemical debate two side obviously user jadger wikiferdi want discus fact want u agree pov discussion npov edits quit discussion form article talk',\n",
       " 'intend disruptive genuineley upset word constantly tried make look like april fool joke explanation made look like uptight weirdo',\n",
       " 'regarding loyalmoonie lgbt category looked editor seems pushing anti lgbt agenda done similar stuff sailor moon made official looking warning editor quote bizarre quite telling insert category would ultimately give people may even support lgbt movement reading article assumption every person enjoy sailor moon homosexual support ssm personally watch read sailor moon know much confident enough add category reasoning removal flawed regardless sourced part article female homosexuality talk',\n",
       " 'matt mattsanchez info go live monday among thing see invitation interviewed time nowhere hide let see victim coward',\n",
       " 'okay found document demonstrates scimd listing site trouble including text',\n",
       " 'valerie poxleitner valeri poxleitner k light',\n",
       " 'shamash sun agree merge sammash shamash since shamash likely correct tracking root word clearly assyrian origin addition common vocabulary morph substitute sh thus nowadays spelled sham modern arabic',\n",
       " 'feel like idea maybe user come thing address concern talk contribs',\n",
       " 'october 2010 utc original nominator trying restore article others saying found merged stand original nominator deletion working keep article admitting mistaken nominating article noteworthy character restore someone want make legitimate nomination deletion fine 09 43 21',\n",
       " 'chart looking see anything portraying timing user talk spinningspark spark',\n",
       " 'agreed although mean bloating alternative title yet another word concentrating polish attitude clearly provides starting point article hand obviously article written supra national perspective least czech experience need included czechoslovakia functioning democracy region 1930s closer tie west poland betrayed much obvious tangible way poland west politically accepted country territorial mutilation case poland said sure inclusion country finland baltic yugoslavia even ukraine never independent first place good idea west could arguably done assist society war think article focus poland czechoslovakia order dilute whole issue dissident germany soviet union harbouring grudge towards western politician appeasement policy 19 06 17 oct 2004 utc',\n",
       " 'hello setanta ask think proposal first put forward matt lewis july template talk country data northern ireland confess expert n ireland believe could solve problem n ireland flag represent wiki made comment article cheer',\n",
       " 'american psychologist additional resource see listed reference citation american psychologist article january 2003 discus subject',\n",
       " 'regarding verifiability mediation appreciate due recent event user talk newbyguesses february 2012 jn pickle know go forward become belief need care take account position accounting difference u see stand highest degree individual really individual individually way real people different definitely individual like every body else belief despite evidence contrary comment content contributor dream either way whatever scare horse wake kiddy comfortably snoozing know make sense cause say irrefutably talk',\n",
       " 'authority threatning block saying information company work even know anything airliner bello basically said hard comprehend',\n",
       " 'real problem sneering contemptuous attitude reveal first sentence last post originally followed others similar vein deleted yes cut paste quotation also select appropriate one case one would well consider return time probably weekend',\n",
       " 'appear bit fantasist fair carved nice little career fool mug buy book believe say like many people contributing page come background whenever name mentioned response always dave one ever heard book started coming',\n",
       " 'dar ok bear penelopism religion new religion religion penelopism extrememly important penelopists want word u people fond belief want way show mean harm spaghetti monster church even real religion penelopism please tell spaghetti monster done penelopism penelopism wikipedia trouble understanding apologize dar dar dar however much fun done whatsit',\n",
       " 'intended go page',\n",
       " 'dxraw come come ever odd dxraw go away follwing article extradry appears editing list aussie aussie aussie oi oi oi free hug campaign newington college australian army cadet john cena really cheer loving free hugging newington teacher cadet master hots john cena shirt time came dxraw',\n",
       " 'accusation uncalled reverted one edit second edit add reference revert',\n",
       " 'help jew schnider final warning',\n",
       " 'kudos destroying article copyright superstar really deserve nobel prize copyright',\n",
       " 'welcome hello welcome wikipedia appreciate encyclopedic contribution recent contribution seem advertising promotional purpose wikipedia allow advertising information see policy neutral point view guideline spam guideline external link guideline conflict interest still question new contributor help page write helpme message along question someone along answer shortly may also find following page useful general introduction wikipedia five pillar wikipedia edit page help page tutorial write great article manual style hope enjoy editing wikipedia please sign name talk page using four tilde automatically produce name date feel free write note bottom want get touch welcome',\n",
       " 'spelling tacarimba la tumba del fuego santa maliga sacategas lo onto del sol cruz one stated lyric vocal score side side sondheim available rental version song however misspells llanfair pg presumably approximate pronunciation lyric today last spreading rather spending would seem therefore source cannot considered canonical rendering place name accord millicent martin recording side side sondheim cast album however published version song contained hansen treasury stephen sondheim song charles hansen music book 1977 lyric printed tacarembo la tumbe del fuego santa malipas zacatecas la junta del sol cruz printed source opposed handwritten vocal score presumably considered definitive linda lavin pronunciation original cast recording mad show song written follows spelling would suggest printed version correct fictional place name however discussion correct spelling pronunciation academic one best',\n",
       " 'peddle crap please hate see another article get disputed neutrality due',\n",
       " 'howd homeonttherange typical problem literal term personal union special limited constitutional term refers two state e country recognise monarch head state however union parliament example union kalmar 1397 member kingdom denmark norway sweden gave rise termunited scandinavia 1562 believe sweden left union resulting left union denmark norway dissolved 1814 allied napolean tunrned badly',\n",
       " 'think one dayz mod one dayz video game dayz disambiguation page',\n",
       " 'pushing anti mrm pov',\n",
       " 'really rebel guy rebelguys time get oral prostitute',\n",
       " 'fine smarty pant wait finally announce see right know everything',\n",
       " 'amber taylor forever amber taylor forever',\n",
       " 'kosovo template hi please take look template albanian language mentioned first since 90 population albanian changed serb nationalist keep reverting edit hope disturbing one consider quiet neutral',\n",
       " 'course true dub say depaaarted likely f gone',\n",
       " 'think little disingenuous zet claim division lost fighting troop far destroyed fighting capacity close nil',\n",
       " 'muslim men harassment mm page amazing three muslim men jumped page right added number thing 30 minute three men muslim cleaned woman working human right pakistan really get skin badly wow sweetie bloody busy get busy stop harassing woman threatened',\n",
       " 'width 100 style background transparent width 100 style background color style width 50 border 1px solid background color vertical align top hello madstar890 welcome wikipedia please remember sign name talk page clicking using four tilde automatically produce username date also please best always fill edit summary field useful link facilitate involvement happy editing discussion width 100 style background color style width 50 border 0 background color vertical align top getting started introduction five pillar wikipedia edit page finding way around table content department directory editing article develop article manual style style width 50 border 0 background color vertical align top width 100 cellpadding 2 style vertical align top background color getting help style color 000 frequently asked question cheatsheet ask question help page new contributor help page',\n",
       " '3 august 2006 utc hey look like rehab program take socafan community banned approach worked real well talk 15 04',\n",
       " 'pkk fighter past decade entering living syria fight turkish territory match guerilla war specialized turkish regime rebel army far behind ability training match pkk fighter',\n",
       " 'omd thl h17 depeche mode abc new romantic never self identify romantic fan consider romantic yet 1 individual insists keeping listing page fan band keep removing simply wrong stick visage blitz band article perpetual edit war 82 132 136 211',\n",
       " 'tried productive look contribution hit head wall spoiled greek child probably pay greek government purposely keep vandalizing albania related page keep iritating albanian editor explode get banned historian blush find quoted reliable information wikipedia page quality editor source time move french page lot reader still 5 language go till next time wikipedia suck',\n",
       " 'ricky gardiner woody man thanks quick action addition article stub created yonks ago get rid red link bowie pop article draw people like u defence rock think nick member military music project well riff lust life came bowie interpretation armed force radio theme cheer',\n",
       " 'triple crown cleared ok got broom dusted stuff cheer talk contribs',\n",
       " 'agree master bigode rule 500 x 400 image back side image erased without consensus never discussed back image erased blue went user homepage wolftengu said picture homepage big within guideline removed placed somewhere else also removed another image would agree someone homepage would outraged however wolftengu seem playing unfair cop notifiying 2over0 discussion wrong point dx 1 involvement disallow 500 x 400 500 x 400 image even image dx 1 smaller form',\n",
       " 'rollbacker particularly problematic aware editor edit war may lose privilege regardless mean used edit war',\n",
       " 'non american school mosque synagogue etc etc wikipedia america centric',\n",
       " 'thanks fixing',\n",
       " 'really may ask mention fat fire source cremation million reconsidered though along item fat cremation wiki fact citable www hdot emory u le lipstadt doubtful science applied holocaust say tinfoilers flat earthers denier would overjoyed careful get nutty fringe tinfoil label end get permit bring shovel 159 105 80 141',\n",
       " 'celebrity talk fave celebs even crush',\n",
       " 'know thinking nobody really attacked revealed age announced 14 subject constant storm harassment abuse thing go sandbox 11 people knew age care told age hated amusing idiot soapboxers think teenager responsible decline soapbox like ever good begin funny adult dumbest people mauricio chuppah redneckgirl pinky scooby gg foreverlosttinkerbell greenrabbit starrocketsinflight bree robinson enigma 72 cocainenightmares tokyodome chad ocho cinco steve lake adult teenage poster typically smartest one let see g dawg head banging brunette classicage metropolis even though bipolar weirdo chrisscript name ever see adult posting rate poo 1 ballz smell funny whoz hawter ur mom like rape little girl hey guyz look im attention whore 11 1 adult poster immature moronic savage bully mental capacity retarded 4 year old whereas teenager thoughtful intelligent mature often profound subject constant schoolyard bullying idiot adult poster think somehow superior born dropped head earlier soapbox logic never fails amuse',\n",
       " 'tm astute remember civility key verbal licking gave really failed break skin maybe maybe get along',\n",
       " 'sofia added sofia bulgaria city also joined initative included',\n",
       " 'would mind focusing content rather contributer',\n",
       " 'decline bit close comfort one try avoid company name altogether get bit edgy account appear represent organisation',\n",
       " 'weatherman better writing lot change made recently weatherman page notably awkward apparent reason particularly concerned change adjective surrounding organization event characterized time rearranged sentence read quite poorly plus seem get really carried away wikilinking reader really need link know bomb',\n",
       " 'non lead title page supporting minor instead non lead',\n",
       " 'agree leontes though began attempting compromise last night considering one else backing interest building consensus however note political descriptor absence reliable third party source inappropriate article also note commenters appear confusing electoral vote website electoral vote author wikipedia article website author article',\n",
       " 'dispatch review added comment think wonderful dispatch clear needed something like long time',\n",
       " 'vote christ pantocrator though could nice wider crop',\n",
       " 'idea go fuck cumshitter',\n",
       " 'assistance please record show deleted file hmcs fennel k194 jpg entry left deletion log said listed wp pui 14 day strongly suspect free image crown copyright canada protects image first 50 year ww2 ended 65 year ago crown copyright image would free image like request userification information template information associated image review possible clarification whatever problem got listed wp pui first place could please userify',\n",
       " 'listas manos family',\n",
       " 'despite equivocation still wrong people remove vile vicious hate speech whilst remaining right side policy made clear statement wikipedia policy proved wrong denied unblock request result misinformation know expecting apology wikipedia administrator waste time future stay away okay prefer deal admins know rule',\n",
       " 'speedy deletion phi rho eta tag placed phi rho eta requesting speedily deleted wikipedia done section g12 criterion speedy deletion article appears blatant copyright infringement legal reason cannot accept copyrighted text image borrowed web site printed material consequence addition likely deleted may use external website source information source sentence part crucial say word external website belongs want allow wikipedia use text mean allowing people modify must include external site statement name author article article name release content term gnu free documentation license version 1 2 later might want look wikipedia policy guideline detail ask question think notice placed error may contest deletion adding top article existing speedy deletion db tag coupled adding note article talk page explaining position aware tagged speedy deletion article meet criterion may deleted without delay please remove speedy deletion tag hesitate add information article would would render conformance wikipedia policy guideline',\n",
       " 'motherfucking safety guaranteed fucking hope bringing fuckin weapon pay get back motherfucker oh yeah got joke family husband wife son daughter dog walk agent office tell got great vaudeville routine say hire kiddy act say really good agent say fine let see got suck throwing family get ready daughter hit cd player circus music begin playing father jump kick son head stoms face ground bloody pulp proceeds jerk cum shattered skull meanwhile mother begin violently finger fucking daughter dog fuck mother as hole point father take leftover brain matter son head shove mother pussy begin fucking pussy simultaneously sticking finger daughter throat vomit dog bite mother hand finger fucking daughter leaving hand daughter pussy blood squirt place father take blood ground smear mother chest bend begin shitting open wound hand used dog bit take dog shove microwave heating explodes take dog remains mix father shit son head wound father cum shove daughter mouth father rip son dick fuck daughter mother locate son testicle break open drink sperm come family line say ta da silence agent finally say love call family say call aristocrat',\n",
       " 'requested move canada national football team disambiguation recently moved american football team used carry moniker canada national football team canada national american football team consider move request successful vindication move b b',\n",
       " 'think clockback suggested reference ainsworth involvement img long something along line brief flirtation would better think img reference need short somewhere early career section posted article expanded little otherwise article might appear weighty think last point important seemed consensus reached number wikipedia editor much wrangling gnashing teeth bedside brief dalliance marxism overall consideration political career pale insignificance compared controversially thrust third choice candidate position defence secretary time crisis british army term number casualty sustained lack resource simply reflected ainsworth article tried reflecting follows appointment formed part chaotic cabinet reshuffle prime minister considered least three candidate appointing ainsworth dismissed speculative opinion off2riorob even though point view easily significant event ainsworth biography perhaps reach consensus better reference found suspect difficult included want stress meant ad hominem slight ainsworth merely drawing attention fact appointment equivalent throwing someone deep end indeed difficult time since appointment actually reflects worse brown farcical reshuffle',\n",
       " 'greek love looking way extricate honorably mess leaving note closed afd made commitment instructed closing statement two editor long sought delete eviscerate article one used series user name unacknowledged current user page available first glance may appear talk page two editor suppress camp complain coordination editor including simply longer changed position validity article accused various talk page never appropriate notice board edit warring ownership disruption even pedophilia implication trying carry community decided done need limit time wikipedia present wish time spent pleasantly productively made commitment though grief keep asking anything explaining keep word given afd wow mess certainly hard feeling end clear endeavored good faith improve article found knowing walk away essential skill real world sometimes presence despite best intention harmful rather helpful sometimes dispute worth anymore best luck future endeavor mailchimp bothered think mailchimp speedy deletion mistake cite one important email marketing program stating importance something supposed original problem criterion specifies credible claim significance wordpress page reliable source however would certainly object restored redirect several momnths today talkback talk hunch call intuition guessing username direct challenge patrolling admin guy block based username contribution speaks volume nonsense louder hunch returning editor username 2 cent cheer 1185 plenty legitimate reason returning editor username blatant violation policy evidence socking file wp spi recreation article shay carl would like request article shay carl recreated see deleted talk shay carl reason note talk shay carl delete a1 notibility well',\n",
       " '24 defendant figure coming nuremberg vietnam american tragedy telford taylor u chief counsel nuremberg mention 200',\n",
       " 'oh hey response cool personally feel fortitude call ttn obvious flaw warrant dozen barnstars see coming insist keeping block would like formally request reason account blocking changed reflect real reason instead noted common vandal maybe reason along line pain as like one guy nakon talk page stated subject maybe blocked use cuss word technically worse anything ever said',\n",
       " 'right express opinion consider hasbara crap right identify hasbara crap',\n",
       " 'ga review review transcluded talk battle rowton heath ga1 edit link section used add comment review reviewer yes take look next day start make comment yes',\n",
       " 'evidence please make sure make familiar note suspect editing evidence page',\n",
       " 'afd please see wikipedia article deletion revelation guideline notability outlined generally wp n specifically song wp nsong thank',\n",
       " 'organization class start importance low maindykdate need infobox yes need image yes attention wikiproject',\n",
       " 'action la la land real world consequence 190 67 223 50',\n",
       " 'dean wormer work racist jena la continue update posting jena la reflect fact thier famous person note segregationist democrat fact historically accurate description',\n",
       " 'woopsies oh thank soooo much know promise never ever ok',\n",
       " 'everyone info particularly admins believe latest sock puppet igor head',\n",
       " 'giving warning someone mark vandalism want least read vandalism understand new wikipedia trying figure please mark vandalism anything wrong need answer somebody please help',\n",
       " 'gift card downloads december 28 2007 possible use gift card purchase mp3s even though gift card faq claim yes amazon com gift card used buy amazon mp3 unbox downloads strictly speaking false statement able pay order gift card time one person already removed line reverted good way go providing verification',\n",
       " 'thinking deleting war terror operation enduring freedom horn africa operation enduring freedom phillipines redundant like people vote',\n",
       " 'useful information topic good idea 1 screenshot allowed per game 2 really relay something',\n",
       " 'experience came talk page understood wikipedia post anything article related personal experience like 2nd day almost two month ago reference verifiable nothing article law suit put jail engaging pro se litigation put experience judge edward nottingham article either although judge went way search reference expressing various side issue instance wrote aba asked input fact asked work article also posted issue involved mediation settlement pro s citing reference lawyer point view reference deleted someone remember know point reference posted soft blog quoting transcript quoting former federal judge know sure valid transcript guy run blog 3rd year law student business selling data service exclusively lawyer even stuff deleted pro se frustration reference read wikipedia discussion source blog used context believe original research search internet reference article really know unbundled attorney service amount pro se litigation started working article already thinking form based filing started thinking anyway experience ecf date back 2004 also younger worked system analyst get info law liberty year ago wikipedia already article probably would come anyway u n covenantcan really hide add b together prove point least consciously like today reviewing appellate procedure seemed 5th circuit pro se friendly tone think judge learned hand fifth circuit reason know one time went every federal circuit searched word pro se 40 trying see history putting pro s jail pro se found 40 circuit denied pro se appeal without even saying judge learned hand seemed pro se friendly believe posting thing pro se litigant getting unfair advantage soap boxing understand wanting win thru competition though law business entrepreneur know federal judicial center started working article book appellate procedure found looking reference article manual complex litigation found looking reference article arguing help clarify issue one thing started thinking lot past week slavery affected history pro se litigation ordered book slave nation library got yet look pro se law different state think free state slave state border state also issue related indian western state labor union movement lot think history workman comp course related union',\n",
       " 'try passing illegaly border usa mexico end prison communist',\n",
       " 'unsourced personal commentary new account added look like unsourced personal commentary',\n",
       " 'comment indented response mine one removed discussion',\n",
       " 'looked cato edit simply removal reference addition another donor change language without edit summary explain change unjustified clarification certainly help thanks also adding reference summer frankly look source removed added main concern unexplained edits summary important saw message concern back message reminder importantly incorrect think rule add unsourced material one core content policy wp v wp r allows u carry policy happy editing',\n",
       " 'know everyone watch update there reason listed complaint',\n",
       " 'though article simply untrue men consistently referred jew womabn child many passage refer generally jew clearly meaning men woman child one sentence corresponds criticism screening population however resulted 13 jew 27 jewish woman 11 jewish child 13 jew 19 jewish woman shot co operation security service particular sentence rewritten sentence grammatically confusing whoever wrote may wish check understood correctly',\n",
       " 'hello long time shart',\n",
       " 'bush article referenced george w bush none following article mentioned george w bush perhaps bush brain karl rove made george w bush presidential domestic policy george w bush administration early life george w bush economic policy george w bush administration electoral history george w bush fictionalized portrayal george w bush foreign policy george w bush administration george w bush iraq war george w bush governor texas george w bush cabinet george w bush presidential campaign george w bush presidential campaign 2000 george w bush presidential library george w bush pretzel incident george w bush substance abuse controversy george w bush supreme court candidate george w bush first term president united state george w bush second term president united state list book film george w bush list george w bush legislation program list nickname used george w bush list people pardoned george w bush mahmoud ahmadinejad letter george w bush movement impeach george w bush presidency george w bush professional life george w bush public perception george w bush religious faith george w bush lie george w bush mastering politics deception',\n",
       " 'third term significant simply rare electorate party often behalf former disillusioned party leader time thus kick read margaret thatcher',\n",
       " 'baklava gift hope reconsider indefinete block traditional food middle east made best afghanistan metalman59',\n",
       " 'referring catherine told uncertain term could refer anyone living dead 1st name wp female title referred throughout article ie lady amy lady dudley amy robsart even though lady amy wrong married daughter knight title wrong northumberland attainted child lost style offspring earl duke become lady dudley elizabeth knighted robert dudley near end amy life lady amy dudley legally longer wife son earl duke thought simpler refer amy throughout rather explain change occurred name style told wp rule though pointed link noblewoman usually called 1st name round far see even surname something mary boleyn called mary lady carey lady stafford catherine neville called catherine duchess norfolk etc royal male told referred title ie leicester last name ie dudley banging head keyboard going one say king time refers plantagenet keep changing title ie henry bolingbroke going earl derby duke hereford duke lancaster king england kate get consistently referred catherine throughout article without title appended month would appreciate someone could actually explain main interest british history quite confused',\n",
       " 'mevins31 say changing elegant profile shot bruce better picture soon upload appreciate ordinary jay bruce fan jay biggest fan thanks attention think jay would agree picture wikipedia little furthering career nice try',\n",
       " 'cunt worth editing article concerning serious issue side consist either people employed edit people strong opinion never ever change advocate stance something interesting instead using encyclopedia book knowledge contributing sure know soon centralization net larger larger site independent information general extinguished wikipedia project started nerd professional within set field become altar knowledge depth true insight sacrificed becoming sound magnifier yellow press popular science new tool intended auto translate article one wikipedia extinguish national wikipedias niche provide multilingual capacity ability cross check fact perspective small independent site left free university page left real knowledge privilege know use academic search engine money pay 78 68 210 173',\n",
       " 'said say like thugstep bizness think quite range refenreces web page stay non notable welcome tell admin deleted 82 209 225 33',\n",
       " 'although extend modern era might want look ancient higher learning institution see relates chinese higher learning institution',\n",
       " 'harass editor basis posted baseless warning threat user page post thing page otherwise complain administrator even jim wale',\n",
       " 'comma correct title first series yes minister without comma believe yes prime minister ever comma unless objection moving page',\n",
       " 'excellent please damage book account sure interesting question camera fair question jump conclusion impossible ludicrous typical moonbats picture useful another reason show similar relative position lem antenna apollo 14 flight web page argues object apollo 12 case antenna 45 degree angle away lem near photo distant photo website consistent despite website claim contrary moonbats isolate specific item evidence one see broader picture phony argument get shown',\n",
       " 'content subsumed maneesh page entry different spelling redirect',\n",
       " 'ditto congrats best',\n",
       " '13 07 part video show say lot small village prostitution karaoke joint one single orangutan say common everywhere though',\n",
       " 'fuck smith please notified die want dance grave',\n",
       " 'seen post replaced pop punk reference rock day',\n",
       " 'please avoid using abusive edit summary per wikipedia civility wikipedia personal attack thanks happy editing please make personal attack people minneapolis minnesota wikipedia policy personal attack case user engage personal attack may blocked editing admins banned arbitration committee comment content contributor people please resolve dispute appropriately thank',\n",
       " 'dect really new technology newer standard tdm tdma fdma digital telephone used lot longer life dect dect successor ct2 japan ph similar course gsm amp others extensively used across world decade half suggest special health issue dect would definitely placing undue weight subject dect considerably lower power analog system replaces transmission inherently even use td nature system mean system transmitting continuously believe said nothing wrong properly researched article health effect low power radio technology link see also section article article course look nothing like section yanked nothing dect however merit special section dect danger especially new technology otherwise serious level concern expressed anyone authoritative issue',\n",
       " 'shit face fuck',\n",
       " 'retarded',\n",
       " 'user using sockpuppets discussion note user nightscream soliciting sockpuppets toure neblett join discussion http en wikipedia org wiki user talk halaqah hi halaqah surprising considering nightscream slimy debating tactic ad hominem smear look like reality one two actual people opposed teh inclusion last name rest sockpuppets though guess demonstrates nightscream one toure sockpuppets fyi using user name simply make clear sockpuppet',\n",
       " 'thanks stephan interpretation mr nice guy removed content discussing talk page concerned content reliability thought read editor supposed bring discussion first reach consensus instead deleting sourced material',\n",
       " 'made fixing stem article',\n",
       " 'alex albrecht removed addition alex albrecht page totally relevant',\n",
       " 'tank bioelectrical impedance analysis etc fail see either two picture recently added improve article way',\n",
       " 'image missing wikipedia 6 hour hit rollback among thing restored patrick stewart removed see made valid edits also linked harold wilson prime minister prime minister united kingdom deletion done 15 36 gmt time server register could bypass invalid message cheer talk',\n",
       " 'amazing thank much',\n",
       " 'groin sad fuck going restore edit going leave else wil knee groin prick 91 108 208 101',\n",
       " 'may 2015 behavior talkpage honor harrington par know take defeat grace start behaving childishly let warn next childish edit likely result mention wp ani user review',\n",
       " 'video game pete sake see false video game article one time throw cat window whoever stop funny clever making moron bet person changed test card date',\n",
       " 'palmisano playing iowa state 1970s free pas think pretty sure division far list coach go sure articleworthy list level competition opposed folded general malone college athletics article file afd compromise anyway seeing digging uncovering notability folk want full week',\n",
       " 'history kallikids created karen bach march 2012',\n",
       " 'massacre note kent state massacre redirects page similar massacre history wherein government force murdered civilian protesting government policy termed massacre legitimate reason aside sensitivity extremist viewpoint united state continue calling article kent state shooting changed kent state massacre cheap acknowledgement lead paragraph insufficient would appreciate discussion move initiate move soon enough',\n",
       " '31 july 2007 please stop continue vandalize wikipedia blocked editing',\n",
       " 'notice objection proposed deletion accordance rule hereby notify objection proposed deletion subject article office court administrator v floro jr 58 69 139 6',\n",
       " 'barnes au 1 1 8',\n",
       " '16 7 may 2007 utc timysmidge 21',\n",
       " 'two thing make difference validity edits editor anon going around reverting person edits en masse like one yield time consuming problem 94 192 38 247',\n",
       " 'hi nice everyone listen well ive 9years afew problem two worst mamogram 2years ago dec2012said call doctor emediatly needed view presedgures incounculsive possable fir cause like xray havent able go way get plus high blood pressure thets running last time around 204over 173 thats high hospital xray tech seceritary said didnt get doc get referral soon possible time would late thing late want long left 3daughters one opelousas la one hawiyei one walker la would like see fore die partner want spend much left love kid partnermore life self im looking help get doctor dont money income speak zero partner seperated right helping father cancer also lawsute getting hurt bought truck brouther alot fixing also help dad let neffews daughter drive hour ago cause hot license wrecked comepletly dont vihicile help u everyone say god dont give u anything cant handle understand need help one may could help anything thought id try ask never asked much pride im running time please one help email apriljohnson6868 gmail com site please need help anyone god blesss everyone time need hope someone may able help thank lissen age also 43sept 21 1971',\n",
       " 'like itin as muhamad ali kelly giant penis also fucked columbus',\n",
       " 'diffs edits report talk',\n",
       " '06 15 19 aug 2004 utc',\n",
       " 'shut stay shut edit anymore',\n",
       " 'oh get life prick 81 144 199 2',\n",
       " 'else specifically want know',\n",
       " 'rajput rajasthanis right p prof hancock study mention romani people closely related punjabi rajput pretty sure rajasthanis call proto romani rajputic distinction important partly descended rajput never really confined one part india would explain linguistic variation within indic word romani example use instead aa end masculine noun adjective romani certainly characteristic gujarati sindhi characteristic rajasthani language anyway wrong making last change made happy revert oh course',\n",
       " 'would care discus specifically bias incorrectly cited irrelevant page hear say seeing search term ndaa brings reader page continue include present information reguarding budget bill last time repeat abusing power yield ground',\n",
       " 'word encouragement user damemk case dispute user engaged bulgarian nationalistic propaganda damemk come conclusion bulgarian 19th century nationalistic propaganda english wikipedia user laveol one prominent editor wikipedia contributing false information article republic macedonia macedonian nation history language culture sport else spending lot time working cause pushing bulgarian nature article domain republic macedonia far gone pushing propaganda see wikipedia wikiproject romacedonia listed member word concern macedonian article english wikipedia great damage done user laveol user bulgarian anti macedonian propaganda hopefully internet access becoming affordable people republic macedonia thing go right direction removing bulgarian propaganda macedonian article cleaning false fabricated information giving fact world view macedonian science source much time hopefully able find coming period open collaboration effort goal expecting user laveol continue bulgarian nationalistic propaganda polluting domain domain republic macedonia simply able find way continue work agenda try remove false claim contribute fact macedonia macedonian nation history lanugage culture sport damemk hope write something least show user talk damemk user talk ejanev user insight user name ejanev user using contribute wikipedia ejanev composed first letter name emil last name janev user damemk separate user probably user name comming dame macedonian first name mk code republic macedonia happen canada born republic macedonia lived moved usa first canada 3 year yes false information bulgarian nationalistic propaganda originating 19th century 21st century used negate macedonian nation attribute user laveol reason editing action wikipedia user editor republic macedonia macedonian origin view bulgarian nationalistic propaganda already infiltrated macedonian article watch contribution special contribution laveol see 50 action engagement negating macedonian nation attribute',\n",
       " 'bookfinder com found probabilistic reasoning intelligent system network plausible inference softcover isbn 1558604790 publisher morgan kaufmann pub 1988 bookfinder',\n",
       " 'clarify referring particular neutral state aerith incorrect talk',\n",
       " 'thank experimenting wikipedia test worked reverted removed please use sandbox test may want take look welcome page learn contributing encyclopedia talk contrb',\n",
       " 'article sebastien larroud speedily deleted wikipedia done article seemed person group people band club company web content indicate subject notable article subject included wikipedia criterion speedy deletion article assert notability may deleted time indicate subject really notable free create article making sure cite verifiable source please see guideline generally accepted notable specific type article may want check criterion biography web site band company feel free leave note talk page question talk',\n",
       " 'gba found game boy advance version released mention article know current acclaim right series information may scarce',\n",
       " 'proposed move asheville civic center talk page hosting discussion u cellular center asheville north carolina u cellular center u cellular center cedar rapid iowa facility name talk contribution',\n",
       " 'need follow policy taivo instead following far important policy wp npov remain neutral international dispute country name fyrom used many organization worldwide wikipedia abandon usage since extensively used describe state skopje especially article directly related country use fyrom name refer',\n",
       " 'two big thing would citation verify serialized weekly one reliable site english say shonen jump since one start serialization used note started serialization mention continuation one shot story find r japanese english online confirms horii reason adding mini medal info anime based mentioned really needed main article could really help anime article jinnai',\n",
       " 'redirect talk colt lightning revolver',\n",
       " 'nothing like wanted clean clutter lot bot comment welcome message old username could archived suppose think anything particularly worth saving age',\n",
       " 'article got jumped hi sorry jump contribution moment put trouble simply sort thing wikipedia link one template notice put one place reason article nominated deletion wikipedia dictionary article neologism need strong evidence term widely used wikipedia thing made one day advice contribtuing link welcome paragraph list bad article idea worth looking regard',\n",
       " 'therefore reverting vandalism exception three edit rule mentioned edit warring page',\n",
       " 'user attacking user baki66 keep reverting edits without consensus giving reason also performed ethnic mudslinging direction please help',\n",
       " 'thracian pretty simple 2 000 year away',\n",
       " 'im flattered truly couple week consider established user please talk behind back like little school child',\n",
       " 'chicadee think article name moved chickadee',\n",
       " 'p b tard',\n",
       " 'ohhh sorry hurt little feeling let shed couple tear together lol joke bet feel pretty important pathetic little wikipedia volunteer fun living mother basement drawing comic book lowlife',\n",
       " 'new image problem uploaded several image dubious copyright claim said hindu newspaper licensed gfdl made think hindu publishes image gfdl simply invented license order way upload image please say quickly delete expect provide proof within next 7 day showing newspaper placed image license neither blocked',\n",
       " 'bunchofgrapes request please cease revert warring bunchofgrapes respectfully ask please stop instant reverts edits problem edits knowledge explaining wrong sourced material edits rather making blind statement designed allow revert reason please cite source seem able cite anything would back instant reverts accusatory tone telling others reverting made several instant reverts explaination edit added source please cease cite source edit material according jimbo wale npov make sure source verifiable reverts thanks',\n",
       " 'problem neo',\n",
       " 'wow big man take little criticism upset failure become admin look closest person run admin wikipedia well played dietlimecola hey blocked le time far better reason oh god girl looking wikipedia paper see teacher tattle took matter hand also help notice sad quickly noticed update sit computer waiting update please tell watchlist page everything summed simple saying',\n",
       " 'glen cool glen cool bloke love nice guy',\n",
       " 'parody intentionally surely',\n",
       " 'pandur name derives pandur sumerian term long necked lute source knowledge instrument since ancient greek mantineia marble 4th century bc exhibited national archaeological museum athens depicting mythical contest apollo marsyas greek pandouris played muse seated rock national archaeological museum athens e book latsis foundation p 346 lute present ancient greece pandura first appearance greece also present mesopotamia since akkadian era third millennium bce',\n",
       " 'accept comment spirit offered terminology matter hard find correct word another editor sought distinguish civilised behaviour indian point even one accepts distinction non indian committed absurdly large atrocity addition could pointed mystic massacre completely point example butchery shocked native population none le tribal mongol tribal american indian civilization reasonable definition',\n",
       " 'dont agree info saying since hurry edit page dont fix info sourced broken link',\n",
       " 'thought personal attack welcome long revert thought restoring mentioning ground indef block could junior miss admin missinformed arrived time',\n",
       " 'replacement please edit note whole supra section disappear able post article talk page includes shell blocked would able place answer disappear tomorrow put shell falsely blocked cannot save reply certain article talk page hence save entire page minus archived section pov concern im surprised article called anti semetic trace islamic perspective know opposed piece zionist propaganda passed fair balanced entire article full baseless jewish propaganda well documented banu qurayza executed treason merited death penalty commited treason quarash tribe muslim fought outright enemy persecuting start qurayza signed peace treaty broke aiding enemy article contains soo much jewish propaganda think executed reason doubt aim great example look citation according stillman muhammad chose sa ibn mua dh pronounce judgment precedent set banu qaynuqa banu nadir sa took hint condemned adult male death hapless woman child slavery furthermore stillman infers abu lubaba gesture muhammad decided fate qurayza even surrender author norman stillman zionist jew biased used quote islamic article baseless conjecture allowed used fact article criticism islam jew others write whatever want hand editing islamic article looked jewish article noticed dont allow dissent cant put muslim perspective evil act commited jew without disappearing instantly standard must applied islamic article islamic article must written islamic point view jew write response appropriate criticism islam article personally edit jewish article fill conjecture history find non jewish admin arbitrate islamic article good day please read talk page specifically place treason traitor mentioned still believe need mention treason provide reliable source discus easy article neutral mention povs require people like participate work academic source personal conjecture change devotus issue dear devotus still issue change bat yeor ramadan appreciate try shift balance removing book side agree removal bat yeor academic scholar though book controversial beyond pale currently serve reference article controversy would noted ramadan issue well remove literature section would remove article serf reference due insistence user bless sin certainly like removal cannot remove literature section retaining article first version needlessly verbose noted new one endorses view paret watt article say bq killed religious reason fact since good case whole conflict caused religious difference also want repeat thing already said coverage siege demise e g claim attacking rear also please abide one resolved conflict fought hard long word like massacre execution neither appear unless unavoidable common practice thing unacceptable',\n",
       " 'ok steve honest really like present form issue present one',\n",
       " 'hello january 30 2008 keep vandalizing article adding misleading edit summary please stop help build encyclopedia waste people time since repeatedly selectively remove message talk page know many warning already received thus consider third warning report next time vandalize article thank understanding talk',\n",
       " 'think depends circumstance someone gold medal competition gibraltar anthem would appropriate rather god save queen',\n",
       " 'seems insistent adding pointless rambling talk page forum make cut http en wikipedia org w index php title talk 3axm8 rifle diff 193022803 oldid 192967373 keep reverting removal',\n",
       " 'guess explanation wp csd t1 still zero failed explain page weas deleted wp csd t1 threatened inquirer block poor form extremely poor form',\n",
       " 'proton reach fusion distance',\n",
       " 'beauty pageant interest beauty pageant contestant mean notable please go trying delete stuff ignorant topic dealing happen think ton article meet wikipedia standard individual merit particularly comic etc wise enough know truly understand significance leave alone much prudent avenue would bring issue appropriate wikiproject wikiproject beauty pageant address yoru concern first instance one example continual use term model describe used one editor incorrect somewhat demeaning',\n",
       " 'mohammed al bayati qualification regard edits past day think mohammed al bayati qualification tangentially relevant purpose text placed right prove mohammed al bayati qualified review autopsy report think violates npov qualification included come criticism controversy section quoted whoever accused mohammed al bayati qualified review autopsy report cited nobody made accusation original synthesis removed',\n",
       " 'reason split absolutely reason alamo bowl broadcaster split alamo bowl list stub 4kb long main article 13kb long much table list well within limit wp size single article 17kb long permitted reason article split talk',\n",
       " 'please sign comment thanks',\n",
       " 'alyssa flash time writing sarita tna impact debut coming wrestling one alyssa flash note might spelling alyssa wrong see nowhere list 24 226 21 207',\n",
       " 'rom people hungary 8 10 appalling social economic situation rom account 8 10 percent hungary 10 million people mean 800 000 1 000 000',\n",
       " 'fuck murdering scum',\n",
       " 'addition asking please stop accusing thing havent done sock puppeting think taking matter personally abusing power',\n",
       " 'adding rational remove tag',\n",
       " 'wow guess one guy god forbid one love',\n",
       " 'phil plait claimed radio program joe rogan shuttle astronaut ever gone space van allen belt 6 min http www youtube com watch v tvic1qdsnic thats misleading propaganda dunno website removed source 31 209 16 177',\n",
       " 'lamia joreige hi lea first like tell contribution invaluable presenting often overlooked subject kudos see started aforementioned article watchlist yet know mistake must take notice rule wp check wp notability know better protect material add meta deletionists cheer',\n",
       " 'receive massage',\n",
       " 'take offense take great offense pompous sanctimonious twit think one allowed express appreciation woman like gibson girl fine featured achingly beautiful creature know kind totalitarian feminazi dystopian agenda trying foist people encyclopedia based free speech free exchange information bogus political correctness schoolmarmish thought policing take gibson girl anyday',\n",
       " 'padua user tag someone design padua college user tag much like following one maroon state origin 14 28 2 july 2007 utc',\n",
       " 'ion g nemes talk 04 08 21 june 2011',\n",
       " 'gay motherfucker know live going sand face going beat pulp chicken shagger',\n",
       " 'ok dennis brown thanks telling taking bit way serious ill careful time stupid bot',\n",
       " 'way might even know article talking',\n",
       " 'problem sfc record credible sci challenge new section absurdly u centered cannot possibly stand global record talking need credible scientific paper picture station far know sfcstations stuff merely documented problem station sitings maintenance etc even beginning attempt quantifying influence plus minus might record interested paper effect switching north wall screen stevenson screen thatched hut africa etc etc',\n",
       " 'could please comment talk thought identification john norseen lockheed martin beside trying update information believe relevent look like several user hang ani fringe working together remove well sourced valid topic material show state military research thought identification outside comment would greatly appreciated thanks',\n",
       " 'mediation hello atyndall volunteered take mediation case discussion remain neutral side argument endeavor solve dispute look discussion found quizzicalbee adding sentence according chesler u embassy repeatedly refused help leave country longer recognized u citizen hurmata reverting back report u embassy repeatedly refused help leave country hurmata object quizzicalbee sentence think source incorrect guard would allowed chesler embassy first hand account chesler qualify reliable source qb object saying maybe 1960s u citizenship could revoked u afgan government time perhaps past guard may denied entry claim presumed true proven false hurmata countered citation threat qb referring one cited qb state evidence disproving claim valid could involved user please place verify statement correct suggest correct thankyou talk',\n",
       " 'well arthur printed paper condition fact ultra power say correction seems paper incorrect rather correct pointless already identified worst problem third condition requires incontinuity f integer value however problem disappears consider special case e let want function f satisfying f 1 e f n 1 exp f n defined widely possible observe n 0 n 1 present problem f 0 1 f 1 0 extend f positive real number clearly sufficient define f interval length 1 0 1 want f continuously differentiable paper requires f continuously differentiable 0 1 equivalently 1 0 obviously whacky worry e next obvious explained reason require f monotone interval 0 1 functional equation f x ln f x 1 get f x f x 1 f x 1 hence f 1 f 0 f 0 f 0 f must constant 0 1 surprisingly function get way patched together smaller piece relatively unnatural way f x exp x exp x x thus learned paper correct solution problem probably minimum derivative 1 0',\n",
       " 'ranger fc name newco ranger wikipedia page called ranger fc everywhere sfl sfa spl bbc etc website league table tv must registered use ranger fc differentiate ranger fc still spl membership',\n",
       " 'wikipedia category discussion log 2010 april 27 wikipedia book following horribly chaos april 7 resubmitted thing discussion talk contribs physic book',\n",
       " 'flexpay tax law comment interested seeing expansion artcile regarding tax surrounding flexpay account',\n",
       " 'problem talk',\n",
       " 'win get evil people government private force well perhaps nuclear blast across u europe btw mongo really h wikipedia',\n",
       " 'seen',\n",
       " 'najib effendi al yasin suggest use paragraph indentation article najib effendi al yasin recently created reach normal looking page happy editting',\n",
       " 'lol know meant whichever president came hafez new president assad considerable foreground support support would freaked coup would claimed instability would arise assad supporter trying use defense trying say although bashar assad good economic international policy syria fear non baathist potentially elected syria economic international policy change iran would still major factor syrian life considering buisness deal stake cultural exchange would change social freedom better also every country revolution still alive today muslim brotherhood syria weak even weaker islamist prescence libya rebel libya 80 90 support see yet could hardly take control without nato chance syrian muslim brotherhood none anything nonviolent protest weaken resolve muslim brotherhood making le influence everyday life syrian know pro syria armenia pro assad unlike armenia people like sargsyan kopcharyan democratically elected assad one ran allowed',\n",
       " 'cfr perfectly accurate source council foreign relation cfr org recognized legitimate think tank study international terrorisim united staes govt claim credible idiotic legitimate online newspaper source studied northern ireland compliled list uda uvf killed ira inla vice versa fact good included article',\n",
       " 'lead summary summary supposed substantially shorter text summarize case salvatore giunta simply copy whole sentances body text editor ass article currently stand hypothetical future stance article grows lead adjusted accordingly case lead section favored indeed summarize important part moh case read wp lead lead biography necessarily supposed summarize life story subject assert thier claim notability two sentances favored without overly repetitive wordsdeeds',\n",
       " 'unblock make renewed effort give personal attack course question unwarranted blockage might well imagine 1 ip editor tend get raw end deal admins tend lean towards side someone editing account someone editing without one especially area label personal attack harassment given ip editor much named editor thing 2 exampleand yep maybe guessed question 2 supposedly okay according someone name like say escape orbit dish personal attack give one back lowly ip editor specifically supposedly okay give personal attack putting false stuff keyboard making ludicrous claim reason wanting old style ebay logo go next current one ebay lead wanted even though total lie supposedly okay call kind slander stupid 3 another one supposedly okay smiley girl falsely accuse edits vandalism differed guy preferred say reversion vandalism get trouble personal attack ip editor 4 ready one fine named editor give one u ip editor warning template iper thing named editor like partially smiley girl get dinged oh cause personal attack oh bad harassment 5 oh yeah one remember rule edit warring general meaning even breaking 3rr say right edit warring defense well apply meeting called consensus since thing case concrete correctness based whether match called consensus wanted thing say well named friend smiley edit warring put thing back exclusive partial consensus want say since editing already established vandalism even though disagrees ignore mentioned edit warring rule give pas anyway ip editor exclusive consensus thing edit warring even though thing smiley remember right matching consensus defense rule 75 162 211 81',\n",
       " 'serbia recognise abkhazia south ossetia surprised georgia recognises kosovo retaliation',\n",
       " 'subtle question possibly could',\n",
       " 'trying measure number cafe one place frustrated wikipedia ban original research article absurdly low least six cafe ave alley know number come consider cafe seems well within reasonable definition scene includes solstice cafe zoe original allegro alley parallel ave arguably second location college inn also count ugly mug half block cafe corner 42nd used rom recall new name sureshot continental caffe apassionato wow bubble tea shinka tea company yunnie bubble tea pochi tea gingko tea house tully starbucks wannabee one block still life ave grand illusion technically entrance around corner clearly effectively ave even count hangout mainly bar restaurant takeout food joint count thing like u bookstore bulldog news busy espresso operation count ice cream stand sure missing something offhand talk',\n",
       " 'actually undue weight also result zero weight whole issue insinuation extrapolation given event article outright say edward father father listed quite clear intent editor familiar consider fnc fanboy appolgist regarding conservative republican objection clearly partisan point view said violation several wp policy',\n",
       " 'found chronological list pc engine game thought release date page japan since seperate list turbografx 16 game change made ok though since see ign listed way',\n",
       " 'agree fundamentally whether take pill patch ring key hormonal main article point oral contraceptive either redirect hormononal contraception unles sufficient material justify existence',\n",
       " 'desterbing project school explain wasnt bill gate 20 year ago',\n",
       " 'source local guide book source',\n",
       " 'chill inty mate',\n",
       " 'tale tub main page hey geogre check know tale tub featured main page sunday talk 23 20 12 nov 2004 utc',\n",
       " 'added c class would like add b class question raised talk page',\n",
       " 'problem thanks letting know talk',\n",
       " 'batman batman spiderman win',\n",
       " 'geometry love good day search source article geometry love probably article contain interesting fact dyk',\n",
       " 'exactly removed section noticed posting chen7754',\n",
       " 'please unblock delete page request unblock talk page immediately permanently delete content free permanently block contributing wikipedia intention case would like reason block prove violated rule need preserve talk page another deliberate intentionally provocative violation rule old school personal insult loathsome sanctimonious hypocritical ignorant twit state uncontrolled combustion would take trouble extinguish flame urinating hope satisfactory',\n",
       " 'true first edit however second one honest mistake',\n",
       " 'problem facing article well love see get featured article status keep running fact really whole lot good verifiable info easily available easy come picture usable though suspect one two known image would fall fair use couple website basically regurgitate section mcgregor book certain irony fact guy labored anonymous solitude life project loved dearly died destitute making several people rather wealthy',\n",
       " 'funney man',\n",
       " 'furthermore threat made block individual adding editing well researched information would directly negate sole intention wikipedia',\n",
       " 'wikipedia full fool take money make people work free wikipedia might well ban fool taking long wiki stupid place jimbo cult',\n",
       " 'seem reliable enough topic anyways like many major news source going covering thing site cover 63 164 47 227',\n",
       " 'response feedback yoa see wikipedia changing username',\n",
       " 'opinion proof anti newsom whether support gay porn day violated state law issuing gay marriage license contradiction state law fact slander fiction',\n",
       " 'admission begs question better punish adolescent boy going engage bullying behaviour extend welcome talk',\n",
       " 'french speaker paris anybody explain french speaker concentrate heavily cultural life paris mean 21 09 sep 28 2004 utc',\n",
       " 'changing somali people wiki seriously page biased one clan added diverse representation somali people stupid criminal',\n",
       " 'davkal agree would suggest discus gloat know likely come back start harassing agagin apparently hour left someone bit head talk page comment left article',\n",
       " 'thanks thanks tip buddy walkie talkie ky highway page currently cleaning page please edit thanks let go mets stats first barnstar style border 1px solid gray background color fdffe7 rowspan 2 valign middle rowspan 2 style font size x large padding 0 vertical align middle height 1 1em tireless contributor barnstar style vertical align middle border top 1px solid gray hereby award bigrtex tireless contributor barnstar due outstanding amount high quality edits hikaru',\n",
       " 'transistor transistor page principle operation section physicist know want share b know work thinking came fairly decent concept work put wiki think guy got jealous discussing pretty much nothing p language pathetic naughty naughty boy eat',\n",
       " 'like see print since listed day without url',\n",
       " 'proposed deletion process following concern wikipedia used place guide walk contribution appreciated article may satisfy wikipedia criterion inclusion deletion notice explain see also wikipedia wikipedia deletion policy may prevent proposed deletion removing notice please explain disagree proposed deletion edit summary talk page please consider improving article address issue raised even though removing deletion notice prevent deletion proposed deletion process article may still deleted match speedy deletion criterion sent article deletion may deleted consensus delete reached',\n",
       " 'hmmm way see remember code gabsadds',\n",
       " 'article already exists see liger pro',\n",
       " 'feather citation quill looked past therefore opinion',\n",
       " 'bakan abbie bakan even mentioned article based worthless rag cited source article nothing shill lenin rest commie gang rag show egregious pro communist bias even bother check fact much le look cause kronstadt rebellion even cite reliable historical source subject also discredit absurd accusation white conspiracy overthrow soviet government even rebellion motivated anti semitic racism among sailor furthermore claim made rag based case begging question since lenin communist regime good major premise kronstadt rebellion harmed said regime minor premise suppressing rebellion justified last least mere fact aforementioned rag first published self admitted socialist party definition mean source meet either wp npov wp r source continue used wikipedia article whole project soon turn commiepedia 67 169 177 176',\n",
       " 'message talk page afd placing message user talk page hope gaining support unacceptable practice agin hinders afd process',\n",
       " 'trivia advise look word good dictionary jay mr townsley marriage important business dynasty obviously noteworthy noted prominently article linked cheer',\n",
       " 'might remind english language wikipedia greater precedence perhaps think going edit ja wikipedia taking aggressive attitude especially since problem example name easily fixed clearly incapable appreciating improvement made english perhaps best person judge 81 178 252 102',\n",
       " 'speedy deletion david fork tag placed david fork requesting speedily deleted wikipedia done section a1 criterion speedy deletion short article providing little context reader please see wikipedia stub minimum information standard short article also please note article must notable subject provide reference reliable source verify content think notice placed error may contest deletion adding top page existing speedy deletion db tag coupled adding note talk page explaining position aware tagged speedy deletion article meet criterion may deleted without delay please remove speedy deletion tag hesitate add information article would would render conformance wikipedia policy guideline u want',\n",
       " 'suggestion editing article completely workable working per wikipedia guideline jayjg slimvirgin started deleting large relevant chunk article reverting punitive gesture agree concentrate making article better instead punishing reason article locked agree start extremely innocuous definition preamble statement agree however definition anyone good unless conveys sort information one word could agree associated terrorism would better definition intimidate instance',\n",
       " 'speaking without knowing talking ok bout original comment made everlast entry constantly vandalized eminem fan written month ago dumb as got involved site feud started dilated people track believed verse everlast contributed still jab taken back forth deserve synopsis idiotic little comment album sale excessive unnecessary belongs fact everyone know artist agrees ever got everlast would knock living shit outta eminem came eminem fan site',\n",
       " 'talk archive 1 2 3 4 5 6 7',\n",
       " 'speedy deletion spunga tag placed spunga requesting speedily deleted wikipedia done section g4 criterion speedy deletion article appears repost material previously deleted following deletion debate article deletion specified criterion article substantially identical content article deleted debate change content address reason material previously deleted may deleted time think notice placed error may contest deletion adding top page existing speedy deletion db tag coupled adding note article talk page explaining position aware tagged speedy deletion article meet criterion may deleted without delay please remove speedy deletion tag hesitate add information article would would render conformance wikipedia policy guideline talk',\n",
       " 'plus natural born citizen going assume care anyway',\n",
       " 'unblocked last time ok fuck mean best possible way good luck good night',\n",
       " 'understand position think point perfectly valid however deem ia chi u creation wikipedia even lack historical source effect english language think tomorrow thank explaining position accurate detail best regard nd',\n",
       " 'studid cock sucker u stop callin ok frank garrett eatin worm crawl outa mom pussy fucking retardo hit retardo',\n",
       " 'thanks user talk biggity constructive edits indef block perhaps mahalo',\n",
       " 'anyone interested accurate deliberately misleading information ten string guitar e garbage doubt soon presented see www myspace com tenstringguitar tthough temporary site hidden removed google search listing shady dealing truth prevail',\n",
       " 'said determined page regress delete anything inappropriate jeopardizes good progess made completely inappropriate post middle sensitive discussion threatens problem sole arbiter talk page post innocuous violate condition arbitration decision affect flow discussion page fact appropriate response would ignore removing encourage reaction accuse wikilawyering absurd guideline help u however violate guideline also several policy kind heavy handed action encourages people persist problem edits long standing convention remove user post three year never seen done vandalism unless give much better reason going reinstate deleted text',\n",
       " 'glourious people republic china carried survey great wall surprise chinese invention wall exist day one day great wall stretch way around world anyway let add detail dear government survey',\n",
       " 'fisherqueen would kindly stop following every move deleting thing user page havent got anything better piss people wikipedia',\n",
       " 'jim burton child molesting faggot see still u yet another day making total buffoon usual know sadder extreme hypocritical arrogance show lecturing world ethical principle claimed right abuse child ethical principle save life exactly roman poet said harlot doth always rebuke chaste ever drop dead might breathe little easier kid sake truly disgust every word write',\n",
       " 'read beback already changed structure separate someone view separate section suggest restructuring welcome detail per section later',\n",
       " 'nevermind assimilated puppy sorry bother cheese wine',\n",
       " 'fixed link took 3 second leave report administrator',\n",
       " 'told deliberate personal attack belief message interpreted wrongly although asumed good faith posting mentioned',\n",
       " 'please remove content page without explanation edit vole continue blocked editing royal court',\n",
       " 'deleted american criminal category incredible fact article might lead misguided soul think american criminal category lively discussion category talk page category even expansive reading category countenance',\n",
       " 'millinos hunjan looking hunjan template hunjan fight back concept art bull shit 86 166 250 11 tharkarn waste man',\n",
       " 'add kansa bear said made elementry mistake calling treaty fact congrass left usual post regarded three deligations pressent treaty aras papal meditiation treaty aras private treaty deligations burgundy france made military alliance 1439 debatting burgundian recognition stop changing subject clearly giving fallactious statement feel post utterly questionable happend remeber month ago agreed congrass treaty aras different corrected statement regarded three deligations bieng pressent treaty aras p stop childish personal attack aqsked give source regarding burgundy didnt recognize henry king france give ref regarding treaty aras mixing post cant handle fact burgundy recognised henry king france already reverted dual monarchy article ashamed fallactious remark nd utterly questionable unsourced fact',\n",
       " 'er 1 using two usernames vote poll idea talking used usernames never voted poll 2 vandal vandalised anything may added content someone else agree vandalism correct reponse discussion debate achieve conscensus 3 sockpuppet puppetmaster fully open person wikipedia defintion sockpuppet puppermaster may wnat use different defintion opinion mudslinging hardly appropriate administrator',\n",
       " 'raffaele request lawyer interrogated nov 5 refused request allowed call father page 138 amanda denied food water bathroom break nap night interrogation nov 5 6 page 151 wikid actually looking murder italy see ton additional information amanda raffaele interrogation could included work listing detail tomorrow',\n",
       " 'yes like suggestion also look pretty good leading next sentence bering strait crossing conforms rest article since later get detail prehistoric migrator edit yee suggestion',\n",
       " 'seriously alex article edge deleted one deletion discussion arguing kept want hope keeping article online instead spending time editing talk page click link go deletion discussion make argument',\n",
       " 'fu ck ing trollreasons',\n",
       " 'day going remember laugh ha ha ha ha ha never forget incredible power powerful possibly imagine let close conversation bidding fond farewell',\n",
       " 'probably noticed table faction approach could keep eye game central information game faction update table would great basing similar table class age empire iii show sort information go without falling gameguide trap',\n",
       " 'sr cl u bud bin way like long time like time outa mind long gooood shit mo latah dat soon az ah gitz back heah sum de brotherz n sistahs sez hance dead alive send zion ranger check condition ah sez whoa led gib holler dis hollerin bro de zion rangerz dem dat de walkin tru wallz de wall walkin dude gonna r bro harm jes checkin ee ben gentle remindah kum fuhst u readin id leedle postin dis n dat go good doan fohget cut sum zzzz aftah tad postin sleep good n doan fergit ta dream sumptin might kum jes ta bdh wrapt roun wid delta wave n kupla otha carrierz diz cuss latah chow bro',\n",
       " 'call neither maybe missed lifetime chance see u talk',\n",
       " 'henry david thoreau page considered vandalism would like experiment use sandbox thank',\n",
       " 'rather crude ancestor vaccine source biography louis xvi louis xvi le roi bienfaisant jean de viguerie various often contradictory influence french government prior revolution section devoted innoculation royal family make note intendant franche comte financed physician province later used washington continental army truth actually died december 31 even say book fact george washington 1 george washington owned 33 000 acre land 2 washington lived new york phildelphia preidency preceding unsigned comment added 71 230 187 220 ga zh wikipedia please add link ga zh interwiki section thanks',\n",
       " 'objectionable textbook material ad refer controversy wheaton school early 1990s surrounding series textbook called impression also contained writing parent believed featured theme occult witchcraft violence disrespect parental authority discussion one offending piece yarn called wart snake fig tree kind pardody twelve day christmas creepy crawlies spider snake stuff wart snake fig tree wonder roskam stance harry potter holloween',\n",
       " 'mean point biographical article though would good mean answer right discussion page town born school go also regarding top disagree think article could quite bit expansion could article individual mentioned greatest living magician admit never heard name judging say max maven better david copperfield award industry press personal opinion technique',\n",
       " 'okay truly needed sort criticism praise quote etc thank talk',\n",
       " 'haha fine mean allowed selfish guess really appreciate kindness though really respect asked signature borrowed one let know gave credit feel badly since asked feel really badly haha help figure nice one pick fun color great day happy wikying',\n",
       " 'leave alone told already leave alone fuck fucking thing find hounding amusing id u mothafuckin asshole ban',\n",
       " 'bloc voting country large population non national may televote influenced considerably cited reason apparent bloc voting balkan country former yugoslavia 91 full blown crazy non national mean country similar culture speak language star croatia popular serbia vice versa people national country largest proportion country refugee country really explain croatia would always give highest pt serbia macedonia serbia conflict speak example bosnian serb voting croatian serbian song unusual bosnian non national passport bih family never lived serbia history really mutual intelligibility scandinavian bloc vote time language sensibility',\n",
       " 'peta self published source please explain peta website self published',\n",
       " 'please vandalize page edit morrissey continue blocked editing impala 2009',\n",
       " '24 august 2007 utc wp r affirm veracity di doubtful claim either wp r either way therefore verifiable fact picard 103 original signer consented agreed di published interpretation political position vi vi pb subsequent political purpose regarding taught school verifiable record 103 original signer called skeptical examination evidence scientific theory di unverifiable claim fraudulently spin consensual agreement support interpretation political agenda fact rule wikipedia rest di propaganda utter hogwash fraudulently perpetrated di without verifiably demonstrated consent original 103 individual view wp blp harm clause unverified claim di must promoted fact content effect must immediately expunged per wp blp 16 11',\n",
       " 'email thanks email message received guyovski received similar though openly threatening email guyovski well',\n",
       " 'fabrication intent defame point belongs dan savage article',\n",
       " 'perhaps overlooked discussion steve moore credential another aspect newsweek article saying knox supporter hurt expressing opinion nadeau effectively stated decision italian court influenced anger anti american sentiment rather evidence alone know nadeau experience italy qualifies make assessment taking r make statement would great insult italian jurisprudence anything knox supporter said wholly concur pablo opinion piece place article',\n",
       " 'attraction water place animal place',\n",
       " 'fear jossi may correct watt btw died 1973 said rawat probably meant praise e emphasis would sacred judging knowledge watt oeuvre rather anti intellectual 466',\n",
       " 'ooooh well fix look mess right think certified switzerland yet new zealand australia',\n",
       " 'omg love dch love pac sun',\n",
       " 'removed contributes nothing article',\n",
       " 'hi writingrights welcome wikipedia hope like place sure want stay getting depth may want read five pillar wikipedia simplified ruleset need help title new article check naming convention help formatting page visit manual style need help look wikipedia help faq plus find answer check village pump wikipedia related question reference desk general question still help tutorial policy library plus forget visit community portal question feel free post user talk page place helpme talk page someone help shortly tab additional tip tabtab extra tip help get around pedia want play around new wiki skill sandbox tab sign name using three tilde use four add datestamp five get datestamp may want add new user log tab ever think page image deleted please list vote deletion page also vote undeletion page want retrieve something think deleted still entirely confused would like get better grasp wikipedia skill irc client mind getting one check bootcamp sound like fun help editing skill bored want find something try random page button sidebar check open task message community portal happy wiki ing talk contribs click respond message',\n",
       " 'common knowledge karaims karaite jew boast descent khazars realize believe oq whence came mixing carian mercenary caphtor kolhkis khazar ancestor fact remnant lost ten tribe israel formed priesthood precisely reason karaite jewish scholar like jacob ben reuben byzanteum yefet ben ali jeshua ben judah call u bastard writing following editor',\n",
       " '12 april 2006 utc rewrite expand article much rather full article bad article full template william edits going vote content matter time never looked article sent link equipped choose one version another vote purely layout aesthetic including template maybe later spent time unfamiliar article make statement content 16 06',\n",
       " 'trying inject humour evidenced winky face ridiculous overblown unnecessarily dramatic situation took time familiarize situation would see person insulted attacking cited factual contribution actively censoring explanation retaliated insulting thought conduct insult worthy time would sane individual familiar wikipedia insult rule however since realized wrong site allow harsh word use even used ordeal wikipedia place edit constructive brought greater knowledge subject topic fact insulted another user edit summary regrettable know seriously think edit linked constitutes better insult',\n",
       " 'title redirect altona hamburg w change moment many link bother',\n",
       " ...]"
      ]
     },
     "execution_count": 93,
     "metadata": {},
     "output_type": "execute_result"
    }
   ],
   "source": [
    "corpus"
   ]
  },
  {
   "cell_type": "code",
   "execution_count": null,
   "id": "13153a53",
   "metadata": {},
   "outputs": [],
   "source": []
  },
  {
   "cell_type": "code",
   "execution_count": null,
   "id": "bfcc3fba",
   "metadata": {},
   "outputs": [],
   "source": []
  },
  {
   "cell_type": "code",
   "execution_count": null,
   "id": "1052c17d",
   "metadata": {},
   "outputs": [],
   "source": []
  },
  {
   "cell_type": "code",
   "execution_count": null,
   "id": "69753634",
   "metadata": {},
   "outputs": [],
   "source": []
  },
  {
   "cell_type": "markdown",
   "id": "be0d8c60",
   "metadata": {},
   "source": [
    "# LETS CONVERT WORDS INTO VECTORS"
   ]
  },
  {
   "cell_type": "markdown",
   "id": "66a27994",
   "metadata": {},
   "source": [
    "### TF-IDF"
   ]
  },
  {
   "cell_type": "code",
   "execution_count": 94,
   "id": "ef43be48",
   "metadata": {},
   "outputs": [],
   "source": [
    "from sklearn.feature_extraction.text import TfidfVectorizer\n",
    "tf=TfidfVectorizer(max_features=10000)\n",
    "X= tf.fit_transform(corpus).toarray()"
   ]
  },
  {
   "cell_type": "code",
   "execution_count": 95,
   "id": "54906eb0",
   "metadata": {},
   "outputs": [
    {
     "data": {
      "text/plain": [
       "array([[0., 0., 0., ..., 0., 0., 0.],\n",
       "       [0., 0., 0., ..., 0., 0., 0.],\n",
       "       [0., 0., 0., ..., 0., 0., 0.],\n",
       "       ...,\n",
       "       [0., 0., 0., ..., 0., 0., 0.],\n",
       "       [0., 0., 0., ..., 0., 0., 0.],\n",
       "       [0., 0., 0., ..., 0., 0., 0.]])"
      ]
     },
     "execution_count": 95,
     "metadata": {},
     "output_type": "execute_result"
    }
   ],
   "source": [
    "X"
   ]
  },
  {
   "cell_type": "code",
   "execution_count": 100,
   "id": "e9507f45",
   "metadata": {},
   "outputs": [
    {
     "data": {
      "text/plain": [
       "143835    0\n",
       "97659     0\n",
       "85076     0\n",
       "23001     0\n",
       "54230     0\n",
       "         ..\n",
       "39355     0\n",
       "152222    0\n",
       "93313     0\n",
       "57624     0\n",
       "77421     0\n",
       "Name: target, Length: 159571, dtype: int32"
      ]
     },
     "execution_count": 100,
     "metadata": {},
     "output_type": "execute_result"
    }
   ],
   "source": [
    "y=train['target']\n",
    "y"
   ]
  },
  {
   "cell_type": "code",
   "execution_count": 101,
   "id": "c81f57f3",
   "metadata": {},
   "outputs": [
    {
     "ename": "MemoryError",
     "evalue": "Unable to allocate 9.51 GiB for an array with shape (127656, 10000) and data type float64",
     "output_type": "error",
     "traceback": [
      "\u001b[1;31m---------------------------------------------------------------------------\u001b[0m",
      "\u001b[1;31mMemoryError\u001b[0m                               Traceback (most recent call last)",
      "Input \u001b[1;32mIn [101]\u001b[0m, in \u001b[0;36m<cell line: 4>\u001b[1;34m()\u001b[0m\n\u001b[0;32m      1\u001b[0m \u001b[38;5;66;03m# Train and Test split\u001b[39;00m\n\u001b[0;32m      3\u001b[0m \u001b[38;5;28;01mfrom\u001b[39;00m \u001b[38;5;21;01msklearn\u001b[39;00m\u001b[38;5;21;01m.\u001b[39;00m\u001b[38;5;21;01mmodel_selection\u001b[39;00m \u001b[38;5;28;01mimport\u001b[39;00m train_test_split\n\u001b[1;32m----> 4\u001b[0m x_train,x_test,y_train,y_test\u001b[38;5;241m=\u001b[39m\u001b[43mtrain_test_split\u001b[49m\u001b[43m(\u001b[49m\u001b[43mX\u001b[49m\u001b[43m,\u001b[49m\u001b[43my\u001b[49m\u001b[43m,\u001b[49m\u001b[43mtest_size\u001b[49m\u001b[38;5;241;43m=\u001b[39;49m\u001b[38;5;241;43m.2\u001b[39;49m\u001b[43m,\u001b[49m\u001b[43mrandom_state\u001b[49m\u001b[38;5;241;43m=\u001b[39;49m\u001b[38;5;241;43m42\u001b[39;49m\u001b[43m)\u001b[49m\n",
      "File \u001b[1;32m~\\AppData\\Roaming\\Python\\Python39\\site-packages\\sklearn\\model_selection\\_split.py:2443\u001b[0m, in \u001b[0;36mtrain_test_split\u001b[1;34m(test_size, train_size, random_state, shuffle, stratify, *arrays)\u001b[0m\n\u001b[0;32m   2439\u001b[0m     cv \u001b[38;5;241m=\u001b[39m CVClass(test_size\u001b[38;5;241m=\u001b[39mn_test, train_size\u001b[38;5;241m=\u001b[39mn_train, random_state\u001b[38;5;241m=\u001b[39mrandom_state)\n\u001b[0;32m   2441\u001b[0m     train, test \u001b[38;5;241m=\u001b[39m \u001b[38;5;28mnext\u001b[39m(cv\u001b[38;5;241m.\u001b[39msplit(X\u001b[38;5;241m=\u001b[39marrays[\u001b[38;5;241m0\u001b[39m], y\u001b[38;5;241m=\u001b[39mstratify))\n\u001b[1;32m-> 2443\u001b[0m \u001b[38;5;28;01mreturn\u001b[39;00m \u001b[38;5;28;43mlist\u001b[39;49m\u001b[43m(\u001b[49m\n\u001b[0;32m   2444\u001b[0m \u001b[43m    \u001b[49m\u001b[43mchain\u001b[49m\u001b[38;5;241;43m.\u001b[39;49m\u001b[43mfrom_iterable\u001b[49m\u001b[43m(\u001b[49m\n\u001b[0;32m   2445\u001b[0m \u001b[43m        \u001b[49m\u001b[43m(\u001b[49m\u001b[43m_safe_indexing\u001b[49m\u001b[43m(\u001b[49m\u001b[43ma\u001b[49m\u001b[43m,\u001b[49m\u001b[43m \u001b[49m\u001b[43mtrain\u001b[49m\u001b[43m)\u001b[49m\u001b[43m,\u001b[49m\u001b[43m \u001b[49m\u001b[43m_safe_indexing\u001b[49m\u001b[43m(\u001b[49m\u001b[43ma\u001b[49m\u001b[43m,\u001b[49m\u001b[43m \u001b[49m\u001b[43mtest\u001b[49m\u001b[43m)\u001b[49m\u001b[43m)\u001b[49m\u001b[43m \u001b[49m\u001b[38;5;28;43;01mfor\u001b[39;49;00m\u001b[43m \u001b[49m\u001b[43ma\u001b[49m\u001b[43m \u001b[49m\u001b[38;5;129;43;01min\u001b[39;49;00m\u001b[43m \u001b[49m\u001b[43marrays\u001b[49m\n\u001b[0;32m   2446\u001b[0m \u001b[43m    \u001b[49m\u001b[43m)\u001b[49m\n\u001b[0;32m   2447\u001b[0m \u001b[43m\u001b[49m\u001b[43m)\u001b[49m\n",
      "File \u001b[1;32m~\\AppData\\Roaming\\Python\\Python39\\site-packages\\sklearn\\model_selection\\_split.py:2445\u001b[0m, in \u001b[0;36m<genexpr>\u001b[1;34m(.0)\u001b[0m\n\u001b[0;32m   2439\u001b[0m     cv \u001b[38;5;241m=\u001b[39m CVClass(test_size\u001b[38;5;241m=\u001b[39mn_test, train_size\u001b[38;5;241m=\u001b[39mn_train, random_state\u001b[38;5;241m=\u001b[39mrandom_state)\n\u001b[0;32m   2441\u001b[0m     train, test \u001b[38;5;241m=\u001b[39m \u001b[38;5;28mnext\u001b[39m(cv\u001b[38;5;241m.\u001b[39msplit(X\u001b[38;5;241m=\u001b[39marrays[\u001b[38;5;241m0\u001b[39m], y\u001b[38;5;241m=\u001b[39mstratify))\n\u001b[0;32m   2443\u001b[0m \u001b[38;5;28;01mreturn\u001b[39;00m \u001b[38;5;28mlist\u001b[39m(\n\u001b[0;32m   2444\u001b[0m     chain\u001b[38;5;241m.\u001b[39mfrom_iterable(\n\u001b[1;32m-> 2445\u001b[0m         (\u001b[43m_safe_indexing\u001b[49m\u001b[43m(\u001b[49m\u001b[43ma\u001b[49m\u001b[43m,\u001b[49m\u001b[43m \u001b[49m\u001b[43mtrain\u001b[49m\u001b[43m)\u001b[49m, _safe_indexing(a, test)) \u001b[38;5;28;01mfor\u001b[39;00m a \u001b[38;5;129;01min\u001b[39;00m arrays\n\u001b[0;32m   2446\u001b[0m     )\n\u001b[0;32m   2447\u001b[0m )\n",
      "File \u001b[1;32m~\\AppData\\Roaming\\Python\\Python39\\site-packages\\sklearn\\utils\\__init__.py:378\u001b[0m, in \u001b[0;36m_safe_indexing\u001b[1;34m(X, indices, axis)\u001b[0m\n\u001b[0;32m    376\u001b[0m     \u001b[38;5;28;01mreturn\u001b[39;00m _pandas_indexing(X, indices, indices_dtype, axis\u001b[38;5;241m=\u001b[39maxis)\n\u001b[0;32m    377\u001b[0m \u001b[38;5;28;01melif\u001b[39;00m \u001b[38;5;28mhasattr\u001b[39m(X, \u001b[38;5;124m\"\u001b[39m\u001b[38;5;124mshape\u001b[39m\u001b[38;5;124m\"\u001b[39m):\n\u001b[1;32m--> 378\u001b[0m     \u001b[38;5;28;01mreturn\u001b[39;00m \u001b[43m_array_indexing\u001b[49m\u001b[43m(\u001b[49m\u001b[43mX\u001b[49m\u001b[43m,\u001b[49m\u001b[43m \u001b[49m\u001b[43mindices\u001b[49m\u001b[43m,\u001b[49m\u001b[43m \u001b[49m\u001b[43mindices_dtype\u001b[49m\u001b[43m,\u001b[49m\u001b[43m \u001b[49m\u001b[43maxis\u001b[49m\u001b[38;5;241;43m=\u001b[39;49m\u001b[43maxis\u001b[49m\u001b[43m)\u001b[49m\n\u001b[0;32m    379\u001b[0m \u001b[38;5;28;01melse\u001b[39;00m:\n\u001b[0;32m    380\u001b[0m     \u001b[38;5;28;01mreturn\u001b[39;00m _list_indexing(X, indices, indices_dtype)\n",
      "File \u001b[1;32m~\\AppData\\Roaming\\Python\\Python39\\site-packages\\sklearn\\utils\\__init__.py:202\u001b[0m, in \u001b[0;36m_array_indexing\u001b[1;34m(array, key, key_dtype, axis)\u001b[0m\n\u001b[0;32m    200\u001b[0m \u001b[38;5;28;01mif\u001b[39;00m \u001b[38;5;28misinstance\u001b[39m(key, \u001b[38;5;28mtuple\u001b[39m):\n\u001b[0;32m    201\u001b[0m     key \u001b[38;5;241m=\u001b[39m \u001b[38;5;28mlist\u001b[39m(key)\n\u001b[1;32m--> 202\u001b[0m \u001b[38;5;28;01mreturn\u001b[39;00m \u001b[43marray\u001b[49m\u001b[43m[\u001b[49m\u001b[43mkey\u001b[49m\u001b[43m]\u001b[49m \u001b[38;5;28;01mif\u001b[39;00m axis \u001b[38;5;241m==\u001b[39m \u001b[38;5;241m0\u001b[39m \u001b[38;5;28;01melse\u001b[39;00m array[:, key]\n",
      "\u001b[1;31mMemoryError\u001b[0m: Unable to allocate 9.51 GiB for an array with shape (127656, 10000) and data type float64"
     ]
    }
   ],
   "source": [
    "# Train and Test split\n",
    "\n",
    "from sklearn.model_selection import train_test_split\n",
    "x_train,x_test,y_train,y_test=train_test_split(X,y,test_size=.2,random_state=42)"
   ]
  },
  {
   "cell_type": "code",
   "execution_count": null,
   "id": "06f1d516",
   "metadata": {},
   "outputs": [],
   "source": []
  }
 ],
 "metadata": {
  "kernelspec": {
   "display_name": "Python 3 (ipykernel)",
   "language": "python",
   "name": "python3"
  },
  "language_info": {
   "codemirror_mode": {
    "name": "ipython",
    "version": 3
   },
   "file_extension": ".py",
   "mimetype": "text/x-python",
   "name": "python",
   "nbconvert_exporter": "python",
   "pygments_lexer": "ipython3",
   "version": "3.9.12"
  }
 },
 "nbformat": 4,
 "nbformat_minor": 5
}
